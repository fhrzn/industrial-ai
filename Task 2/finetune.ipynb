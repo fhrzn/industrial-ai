{
 "cells": [
  {
   "cell_type": "code",
   "execution_count": 1,
   "metadata": {},
   "outputs": [],
   "source": [
    "import pandas as pd\n",
    "from core.dataset import IMDBDataset\n",
    "from core import models, training\n",
    "from sklearn.model_selection import train_test_split\n",
    "from torch.utils.data import DataLoader\n",
    "import matplotlib.pyplot as plt\n",
    "import torch\n",
    "from omegaconf import OmegaConf"
   ]
  },
  {
   "cell_type": "code",
   "execution_count": 2,
   "metadata": {},
   "outputs": [],
   "source": [
    "device = torch.device('cuda' if torch.cuda.is_available() else 'cpu')\n",
    "config = OmegaConf.load('./config/config.yaml')"
   ]
  },
  {
   "cell_type": "code",
   "execution_count": 3,
   "metadata": {},
   "outputs": [
    {
     "name": "stdout",
     "output_type": "stream",
     "text": [
      "7119 2373 3164\n"
     ]
    }
   ],
   "source": [
    "df = pd.read_csv('./datasets/ml-industry/task2/processed.csv')\n",
    "\n",
    "# make train test split\n",
    "train, test = train_test_split(df, test_size=0.25, random_state=42, stratify=df.genre)\n",
    "# make validation split\n",
    "train, val = train_test_split(train, test_size=0.25, random_state=42, stratify=train.genre)\n",
    "print(len(train), len(val), len(test))"
   ]
  },
  {
   "cell_type": "code",
   "execution_count": 4,
   "metadata": {},
   "outputs": [
    {
     "data": {
      "text/plain": [
       "{'title': 'Tale of the Nine Tailed',\n",
       " 'simple_desc': 'An urban dark fantasy drama about a gumiho who settles into the city and a producer who is after it.',\n",
       " 'genre': 'Fantasy',\n",
       " 'img_local_path': './datasets/ml-industry/task2/images/Fantasy/Tale of the Nine Tailed.jpg'}"
      ]
     },
     "execution_count": 4,
     "metadata": {},
     "output_type": "execute_result"
    }
   ],
   "source": [
    "train = train.to_dict(orient='records')\n",
    "test = test.to_dict(orient='records')\n",
    "val = val.to_dict(orient='records')\n",
    "\n",
    "train[0]"
   ]
  },
  {
   "cell_type": "code",
   "execution_count": 5,
   "metadata": {},
   "outputs": [],
   "source": [
    "# title dataset\n",
    "title_trainset = IMDBDataset(train, type='title')\n",
    "title_validset = IMDBDataset(val, type='title')\n",
    "title_testset = IMDBDataset(test, type='title')\n",
    "\n",
    "# description dataset\n",
    "desc_trainset = IMDBDataset(train, type='description')\n",
    "desc_validset = IMDBDataset(val, type='description')\n",
    "desc_testset = IMDBDataset(test, type='description')\n",
    "\n",
    "# image dataset\n",
    "img_trainset = IMDBDataset(train, type='image')\n",
    "img_validset = IMDBDataset(val, type='image')\n",
    "img_testset = IMDBDataset(test, type='image')"
   ]
  },
  {
   "cell_type": "code",
   "execution_count": 6,
   "metadata": {},
   "outputs": [],
   "source": [
    "# get label dictionary\n",
    "label2id = title_trainset.label2id\n",
    "id2label = title_trainset.id2label"
   ]
  },
  {
   "cell_type": "markdown",
   "metadata": {},
   "source": [
    "## Multimodal with Late Fusion\n"
   ]
  },
  {
   "cell_type": "markdown",
   "metadata": {},
   "source": [
    "#### Text Model (Title)"
   ]
  },
  {
   "cell_type": "code",
   "execution_count": 7,
   "metadata": {},
   "outputs": [
    {
     "name": "stderr",
     "output_type": "stream",
     "text": [
      "Some weights of the model checkpoint at bert-base-uncased were not used when initializing BertForSequenceClassification: ['cls.predictions.transform.LayerNorm.weight', 'cls.predictions.decoder.weight', 'cls.seq_relationship.bias', 'cls.seq_relationship.weight', 'cls.predictions.transform.LayerNorm.bias', 'cls.predictions.transform.dense.weight', 'cls.predictions.transform.dense.bias', 'cls.predictions.bias']\n",
      "- This IS expected if you are initializing BertForSequenceClassification from the checkpoint of a model trained on another task or with another architecture (e.g. initializing a BertForSequenceClassification model from a BertForPreTraining model).\n",
      "- This IS NOT expected if you are initializing BertForSequenceClassification from the checkpoint of a model that you expect to be exactly identical (initializing a BertForSequenceClassification model from a BertForSequenceClassification model).\n",
      "Some weights of BertForSequenceClassification were not initialized from the model checkpoint at bert-base-uncased and are newly initialized: ['classifier.bias', 'classifier.weight']\n",
      "You should probably TRAIN this model on a down-stream task to be able to use it for predictions and inference.\n"
     ]
    }
   ],
   "source": [
    "title_bert_tokenizer, title_bert_model = models.get_bert_model(config['text_model_ckpt'], label2id=label2id, id2label=id2label)\n",
    "title_bert_model = title_bert_model.to(device)"
   ]
  },
  {
   "cell_type": "code",
   "execution_count": 7,
   "metadata": {},
   "outputs": [],
   "source": [
    "# set tokenizer\n",
    "title_trainset.set_tokenizer(title_bert_tokenizer)\n",
    "title_validset.set_tokenizer(title_bert_tokenizer)\n",
    "title_testset.set_tokenizer(title_bert_tokenizer)"
   ]
  },
  {
   "cell_type": "code",
   "execution_count": 8,
   "metadata": {},
   "outputs": [],
   "source": [
    "# dataloader\n",
    "title_train_loader = DataLoader(title_trainset, batch_size=config['batch_size'])\n",
    "title_valid_loader = DataLoader(title_validset, batch_size=config['batch_size'])\n",
    "title_test_loader = DataLoader(title_testset, batch_size=config['batch_size'])"
   ]
  },
  {
   "cell_type": "markdown",
   "metadata": {},
   "source": [
    "##### Modelling"
   ]
  },
  {
   "cell_type": "code",
   "execution_count": null,
   "metadata": {},
   "outputs": [],
   "source": [
    "model_name = 'title_bert'\n",
    "model, history = training.train(title_bert_model, model_name, title_train_loader,\n",
    "                                title_valid_loader, config=config, device=device)"
   ]
  },
  {
   "cell_type": "markdown",
   "metadata": {},
   "source": [
    "#### Text Model (Description)"
   ]
  },
  {
   "cell_type": "code",
   "execution_count": null,
   "metadata": {},
   "outputs": [],
   "source": [
    "desc_bert_tokenizer, desc_bert_model = models.get_bert_model(config['text_model_ckpt'])\n",
    "desc_bert_model = desc_bert_model.to(device)"
   ]
  },
  {
   "cell_type": "code",
   "execution_count": null,
   "metadata": {},
   "outputs": [],
   "source": [
    "# set tokenizer\n",
    "desc_trainset.set_tokenizer(desc_bert_tokenizer)\n",
    "desc_validset.set_tokenizer(desc_bert_tokenizer)\n",
    "desc_testset.set_tokenizer(desc_bert_tokenizer)"
   ]
  },
  {
   "cell_type": "code",
   "execution_count": null,
   "metadata": {},
   "outputs": [],
   "source": [
    "# dataloader\n",
    "desc_train_loader = DataLoader(desc_trainset, batch_size=config['batch_size'])\n",
    "desc_valid_loader = DataLoader(desc_validset, batch_size=config['batch_size'])\n",
    "desc_test_loader = DataLoader(desc_testset, batch_size=config['batch_size'])"
   ]
  },
  {
   "cell_type": "markdown",
   "metadata": {},
   "source": [
    "##### Modelling"
   ]
  },
  {
   "cell_type": "code",
   "execution_count": null,
   "metadata": {},
   "outputs": [],
   "source": [
    "model_name = 'desc_bert'\n",
    "model, history = training.train(desc_bert_model, model_name, desc_train_loader,\n",
    "                                desc_valid_loader, config=config, device=device)"
   ]
  }
 ],
 "metadata": {
  "kernelspec": {
   "display_name": "Python 3.8.8 64-bit",
   "language": "python",
   "name": "python3"
  },
  "language_info": {
   "codemirror_mode": {
    "name": "ipython",
    "version": 3
   },
   "file_extension": ".py",
   "mimetype": "text/x-python",
   "name": "python",
   "nbconvert_exporter": "python",
   "pygments_lexer": "ipython3",
   "version": "3.8.8"
  },
  "orig_nbformat": 4,
  "vscode": {
   "interpreter": {
    "hash": "d8564a27cb82d73423f8ef7649afe412fe88be26d8d7a10840ebe1fcfca8dcfa"
   }
  }
 },
 "nbformat": 4,
 "nbformat_minor": 2
}
