{
  "nbformat": 4,
  "nbformat_minor": 0,
  "metadata": {
    "colab": {
      "provenance": []
    },
    "kernelspec": {
      "name": "python3",
      "display_name": "Python 3"
    },
    "language_info": {
      "name": "python"
    },
    "accelerator": "GPU",
    "gpuClass": "standard",
    "widgets": {
      "application/vnd.jupyter.widget-state+json": {
        "08e8e7331f0f4d099abc5cc404687780": {
          "model_module": "@jupyter-widgets/controls",
          "model_name": "HBoxModel",
          "model_module_version": "1.5.0",
          "state": {
            "_dom_classes": [],
            "_model_module": "@jupyter-widgets/controls",
            "_model_module_version": "1.5.0",
            "_model_name": "HBoxModel",
            "_view_count": null,
            "_view_module": "@jupyter-widgets/controls",
            "_view_module_version": "1.5.0",
            "_view_name": "HBoxView",
            "box_style": "",
            "children": [
              "IPY_MODEL_1ba67907cf6348e19c05d8aa641d1047",
              "IPY_MODEL_6a146aaf4b324a7791a6a68877f8cc85",
              "IPY_MODEL_384654f4df5e408bb6a3df0719837ee4"
            ],
            "layout": "IPY_MODEL_e228a34b08c84f0e93b57d0998a94110"
          }
        },
        "1ba67907cf6348e19c05d8aa641d1047": {
          "model_module": "@jupyter-widgets/controls",
          "model_name": "HTMLModel",
          "model_module_version": "1.5.0",
          "state": {
            "_dom_classes": [],
            "_model_module": "@jupyter-widgets/controls",
            "_model_module_version": "1.5.0",
            "_model_name": "HTMLModel",
            "_view_count": null,
            "_view_module": "@jupyter-widgets/controls",
            "_view_module_version": "1.5.0",
            "_view_name": "HTMLView",
            "description": "",
            "description_tooltip": null,
            "layout": "IPY_MODEL_30a809d54a974108b96d25c624af3091",
            "placeholder": "​",
            "style": "IPY_MODEL_16ed89e65c0d43f5a4750b8dab3874ed",
            "value": "Downloading builder script: 100%"
          }
        },
        "6a146aaf4b324a7791a6a68877f8cc85": {
          "model_module": "@jupyter-widgets/controls",
          "model_name": "FloatProgressModel",
          "model_module_version": "1.5.0",
          "state": {
            "_dom_classes": [],
            "_model_module": "@jupyter-widgets/controls",
            "_model_module_version": "1.5.0",
            "_model_name": "FloatProgressModel",
            "_view_count": null,
            "_view_module": "@jupyter-widgets/controls",
            "_view_module_version": "1.5.0",
            "_view_name": "ProgressView",
            "bar_style": "success",
            "description": "",
            "description_tooltip": null,
            "layout": "IPY_MODEL_29e7b840d2974e76a38be1ffe02d25e0",
            "max": 4203,
            "min": 0,
            "orientation": "horizontal",
            "style": "IPY_MODEL_acbf58003afb425bac3fa73e3a65893f",
            "value": 4203
          }
        },
        "384654f4df5e408bb6a3df0719837ee4": {
          "model_module": "@jupyter-widgets/controls",
          "model_name": "HTMLModel",
          "model_module_version": "1.5.0",
          "state": {
            "_dom_classes": [],
            "_model_module": "@jupyter-widgets/controls",
            "_model_module_version": "1.5.0",
            "_model_name": "HTMLModel",
            "_view_count": null,
            "_view_module": "@jupyter-widgets/controls",
            "_view_module_version": "1.5.0",
            "_view_name": "HTMLView",
            "description": "",
            "description_tooltip": null,
            "layout": "IPY_MODEL_973b3f1fac5e46f0ac52d8bcdc3462b0",
            "placeholder": "​",
            "style": "IPY_MODEL_eafe054eeea4416b9aaa0524fd99f3dd",
            "value": " 4.20k/4.20k [00:00&lt;00:00, 79.5kB/s]"
          }
        },
        "e228a34b08c84f0e93b57d0998a94110": {
          "model_module": "@jupyter-widgets/base",
          "model_name": "LayoutModel",
          "model_module_version": "1.2.0",
          "state": {
            "_model_module": "@jupyter-widgets/base",
            "_model_module_version": "1.2.0",
            "_model_name": "LayoutModel",
            "_view_count": null,
            "_view_module": "@jupyter-widgets/base",
            "_view_module_version": "1.2.0",
            "_view_name": "LayoutView",
            "align_content": null,
            "align_items": null,
            "align_self": null,
            "border": null,
            "bottom": null,
            "display": null,
            "flex": null,
            "flex_flow": null,
            "grid_area": null,
            "grid_auto_columns": null,
            "grid_auto_flow": null,
            "grid_auto_rows": null,
            "grid_column": null,
            "grid_gap": null,
            "grid_row": null,
            "grid_template_areas": null,
            "grid_template_columns": null,
            "grid_template_rows": null,
            "height": null,
            "justify_content": null,
            "justify_items": null,
            "left": null,
            "margin": null,
            "max_height": null,
            "max_width": null,
            "min_height": null,
            "min_width": null,
            "object_fit": null,
            "object_position": null,
            "order": null,
            "overflow": null,
            "overflow_x": null,
            "overflow_y": null,
            "padding": null,
            "right": null,
            "top": null,
            "visibility": null,
            "width": null
          }
        },
        "30a809d54a974108b96d25c624af3091": {
          "model_module": "@jupyter-widgets/base",
          "model_name": "LayoutModel",
          "model_module_version": "1.2.0",
          "state": {
            "_model_module": "@jupyter-widgets/base",
            "_model_module_version": "1.2.0",
            "_model_name": "LayoutModel",
            "_view_count": null,
            "_view_module": "@jupyter-widgets/base",
            "_view_module_version": "1.2.0",
            "_view_name": "LayoutView",
            "align_content": null,
            "align_items": null,
            "align_self": null,
            "border": null,
            "bottom": null,
            "display": null,
            "flex": null,
            "flex_flow": null,
            "grid_area": null,
            "grid_auto_columns": null,
            "grid_auto_flow": null,
            "grid_auto_rows": null,
            "grid_column": null,
            "grid_gap": null,
            "grid_row": null,
            "grid_template_areas": null,
            "grid_template_columns": null,
            "grid_template_rows": null,
            "height": null,
            "justify_content": null,
            "justify_items": null,
            "left": null,
            "margin": null,
            "max_height": null,
            "max_width": null,
            "min_height": null,
            "min_width": null,
            "object_fit": null,
            "object_position": null,
            "order": null,
            "overflow": null,
            "overflow_x": null,
            "overflow_y": null,
            "padding": null,
            "right": null,
            "top": null,
            "visibility": null,
            "width": null
          }
        },
        "16ed89e65c0d43f5a4750b8dab3874ed": {
          "model_module": "@jupyter-widgets/controls",
          "model_name": "DescriptionStyleModel",
          "model_module_version": "1.5.0",
          "state": {
            "_model_module": "@jupyter-widgets/controls",
            "_model_module_version": "1.5.0",
            "_model_name": "DescriptionStyleModel",
            "_view_count": null,
            "_view_module": "@jupyter-widgets/base",
            "_view_module_version": "1.2.0",
            "_view_name": "StyleView",
            "description_width": ""
          }
        },
        "29e7b840d2974e76a38be1ffe02d25e0": {
          "model_module": "@jupyter-widgets/base",
          "model_name": "LayoutModel",
          "model_module_version": "1.2.0",
          "state": {
            "_model_module": "@jupyter-widgets/base",
            "_model_module_version": "1.2.0",
            "_model_name": "LayoutModel",
            "_view_count": null,
            "_view_module": "@jupyter-widgets/base",
            "_view_module_version": "1.2.0",
            "_view_name": "LayoutView",
            "align_content": null,
            "align_items": null,
            "align_self": null,
            "border": null,
            "bottom": null,
            "display": null,
            "flex": null,
            "flex_flow": null,
            "grid_area": null,
            "grid_auto_columns": null,
            "grid_auto_flow": null,
            "grid_auto_rows": null,
            "grid_column": null,
            "grid_gap": null,
            "grid_row": null,
            "grid_template_areas": null,
            "grid_template_columns": null,
            "grid_template_rows": null,
            "height": null,
            "justify_content": null,
            "justify_items": null,
            "left": null,
            "margin": null,
            "max_height": null,
            "max_width": null,
            "min_height": null,
            "min_width": null,
            "object_fit": null,
            "object_position": null,
            "order": null,
            "overflow": null,
            "overflow_x": null,
            "overflow_y": null,
            "padding": null,
            "right": null,
            "top": null,
            "visibility": null,
            "width": null
          }
        },
        "acbf58003afb425bac3fa73e3a65893f": {
          "model_module": "@jupyter-widgets/controls",
          "model_name": "ProgressStyleModel",
          "model_module_version": "1.5.0",
          "state": {
            "_model_module": "@jupyter-widgets/controls",
            "_model_module_version": "1.5.0",
            "_model_name": "ProgressStyleModel",
            "_view_count": null,
            "_view_module": "@jupyter-widgets/base",
            "_view_module_version": "1.2.0",
            "_view_name": "StyleView",
            "bar_color": null,
            "description_width": ""
          }
        },
        "973b3f1fac5e46f0ac52d8bcdc3462b0": {
          "model_module": "@jupyter-widgets/base",
          "model_name": "LayoutModel",
          "model_module_version": "1.2.0",
          "state": {
            "_model_module": "@jupyter-widgets/base",
            "_model_module_version": "1.2.0",
            "_model_name": "LayoutModel",
            "_view_count": null,
            "_view_module": "@jupyter-widgets/base",
            "_view_module_version": "1.2.0",
            "_view_name": "LayoutView",
            "align_content": null,
            "align_items": null,
            "align_self": null,
            "border": null,
            "bottom": null,
            "display": null,
            "flex": null,
            "flex_flow": null,
            "grid_area": null,
            "grid_auto_columns": null,
            "grid_auto_flow": null,
            "grid_auto_rows": null,
            "grid_column": null,
            "grid_gap": null,
            "grid_row": null,
            "grid_template_areas": null,
            "grid_template_columns": null,
            "grid_template_rows": null,
            "height": null,
            "justify_content": null,
            "justify_items": null,
            "left": null,
            "margin": null,
            "max_height": null,
            "max_width": null,
            "min_height": null,
            "min_width": null,
            "object_fit": null,
            "object_position": null,
            "order": null,
            "overflow": null,
            "overflow_x": null,
            "overflow_y": null,
            "padding": null,
            "right": null,
            "top": null,
            "visibility": null,
            "width": null
          }
        },
        "eafe054eeea4416b9aaa0524fd99f3dd": {
          "model_module": "@jupyter-widgets/controls",
          "model_name": "DescriptionStyleModel",
          "model_module_version": "1.5.0",
          "state": {
            "_model_module": "@jupyter-widgets/controls",
            "_model_module_version": "1.5.0",
            "_model_name": "DescriptionStyleModel",
            "_view_count": null,
            "_view_module": "@jupyter-widgets/base",
            "_view_module_version": "1.2.0",
            "_view_name": "StyleView",
            "description_width": ""
          }
        },
        "38d55dbe41e94f0c980cbe2d899d993c": {
          "model_module": "@jupyter-widgets/controls",
          "model_name": "HBoxModel",
          "model_module_version": "1.5.0",
          "state": {
            "_dom_classes": [],
            "_model_module": "@jupyter-widgets/controls",
            "_model_module_version": "1.5.0",
            "_model_name": "HBoxModel",
            "_view_count": null,
            "_view_module": "@jupyter-widgets/controls",
            "_view_module_version": "1.5.0",
            "_view_name": "HBoxView",
            "box_style": "",
            "children": [
              "IPY_MODEL_9c93c7dcb97e47d09e1544356023dcbd",
              "IPY_MODEL_c87d94f6be3445c191bfc9c99ef770cb",
              "IPY_MODEL_130b4938c951425aa35f815e6f1bf2e8"
            ],
            "layout": "IPY_MODEL_cf06005a3014483082d7d904da320404"
          }
        },
        "9c93c7dcb97e47d09e1544356023dcbd": {
          "model_module": "@jupyter-widgets/controls",
          "model_name": "HTMLModel",
          "model_module_version": "1.5.0",
          "state": {
            "_dom_classes": [],
            "_model_module": "@jupyter-widgets/controls",
            "_model_module_version": "1.5.0",
            "_model_name": "HTMLModel",
            "_view_count": null,
            "_view_module": "@jupyter-widgets/controls",
            "_view_module_version": "1.5.0",
            "_view_name": "HTMLView",
            "description": "",
            "description_tooltip": null,
            "layout": "IPY_MODEL_5f3167f3f1dd4a99bd2e5330aa1763cd",
            "placeholder": "​",
            "style": "IPY_MODEL_d6d8a7876dd74568a4f002025a69f987",
            "value": "100%"
          }
        },
        "c87d94f6be3445c191bfc9c99ef770cb": {
          "model_module": "@jupyter-widgets/controls",
          "model_name": "FloatProgressModel",
          "model_module_version": "1.5.0",
          "state": {
            "_dom_classes": [],
            "_model_module": "@jupyter-widgets/controls",
            "_model_module_version": "1.5.0",
            "_model_name": "FloatProgressModel",
            "_view_count": null,
            "_view_module": "@jupyter-widgets/controls",
            "_view_module_version": "1.5.0",
            "_view_name": "ProgressView",
            "bar_style": "success",
            "description": "",
            "description_tooltip": null,
            "layout": "IPY_MODEL_14dd3ff0f78648369f7bd9cfb6fd471c",
            "max": 168,
            "min": 0,
            "orientation": "horizontal",
            "style": "IPY_MODEL_460cbe676c0e4cdfa49f00d830909e61",
            "value": 168
          }
        },
        "130b4938c951425aa35f815e6f1bf2e8": {
          "model_module": "@jupyter-widgets/controls",
          "model_name": "HTMLModel",
          "model_module_version": "1.5.0",
          "state": {
            "_dom_classes": [],
            "_model_module": "@jupyter-widgets/controls",
            "_model_module_version": "1.5.0",
            "_model_name": "HTMLModel",
            "_view_count": null,
            "_view_module": "@jupyter-widgets/controls",
            "_view_module_version": "1.5.0",
            "_view_name": "HTMLView",
            "description": "",
            "description_tooltip": null,
            "layout": "IPY_MODEL_554319c72c914d3f9f0db3cb69e776f6",
            "placeholder": "​",
            "style": "IPY_MODEL_bd8fc6e0d4a84fa0bc132a22778e570e",
            "value": " 168/168 [23:20&lt;00:00,  1.11s/it]"
          }
        },
        "cf06005a3014483082d7d904da320404": {
          "model_module": "@jupyter-widgets/base",
          "model_name": "LayoutModel",
          "model_module_version": "1.2.0",
          "state": {
            "_model_module": "@jupyter-widgets/base",
            "_model_module_version": "1.2.0",
            "_model_name": "LayoutModel",
            "_view_count": null,
            "_view_module": "@jupyter-widgets/base",
            "_view_module_version": "1.2.0",
            "_view_name": "LayoutView",
            "align_content": null,
            "align_items": null,
            "align_self": null,
            "border": null,
            "bottom": null,
            "display": null,
            "flex": null,
            "flex_flow": null,
            "grid_area": null,
            "grid_auto_columns": null,
            "grid_auto_flow": null,
            "grid_auto_rows": null,
            "grid_column": null,
            "grid_gap": null,
            "grid_row": null,
            "grid_template_areas": null,
            "grid_template_columns": null,
            "grid_template_rows": null,
            "height": null,
            "justify_content": null,
            "justify_items": null,
            "left": null,
            "margin": null,
            "max_height": null,
            "max_width": null,
            "min_height": null,
            "min_width": null,
            "object_fit": null,
            "object_position": null,
            "order": null,
            "overflow": null,
            "overflow_x": null,
            "overflow_y": null,
            "padding": null,
            "right": null,
            "top": null,
            "visibility": null,
            "width": null
          }
        },
        "5f3167f3f1dd4a99bd2e5330aa1763cd": {
          "model_module": "@jupyter-widgets/base",
          "model_name": "LayoutModel",
          "model_module_version": "1.2.0",
          "state": {
            "_model_module": "@jupyter-widgets/base",
            "_model_module_version": "1.2.0",
            "_model_name": "LayoutModel",
            "_view_count": null,
            "_view_module": "@jupyter-widgets/base",
            "_view_module_version": "1.2.0",
            "_view_name": "LayoutView",
            "align_content": null,
            "align_items": null,
            "align_self": null,
            "border": null,
            "bottom": null,
            "display": null,
            "flex": null,
            "flex_flow": null,
            "grid_area": null,
            "grid_auto_columns": null,
            "grid_auto_flow": null,
            "grid_auto_rows": null,
            "grid_column": null,
            "grid_gap": null,
            "grid_row": null,
            "grid_template_areas": null,
            "grid_template_columns": null,
            "grid_template_rows": null,
            "height": null,
            "justify_content": null,
            "justify_items": null,
            "left": null,
            "margin": null,
            "max_height": null,
            "max_width": null,
            "min_height": null,
            "min_width": null,
            "object_fit": null,
            "object_position": null,
            "order": null,
            "overflow": null,
            "overflow_x": null,
            "overflow_y": null,
            "padding": null,
            "right": null,
            "top": null,
            "visibility": null,
            "width": null
          }
        },
        "d6d8a7876dd74568a4f002025a69f987": {
          "model_module": "@jupyter-widgets/controls",
          "model_name": "DescriptionStyleModel",
          "model_module_version": "1.5.0",
          "state": {
            "_model_module": "@jupyter-widgets/controls",
            "_model_module_version": "1.5.0",
            "_model_name": "DescriptionStyleModel",
            "_view_count": null,
            "_view_module": "@jupyter-widgets/base",
            "_view_module_version": "1.2.0",
            "_view_name": "StyleView",
            "description_width": ""
          }
        },
        "14dd3ff0f78648369f7bd9cfb6fd471c": {
          "model_module": "@jupyter-widgets/base",
          "model_name": "LayoutModel",
          "model_module_version": "1.2.0",
          "state": {
            "_model_module": "@jupyter-widgets/base",
            "_model_module_version": "1.2.0",
            "_model_name": "LayoutModel",
            "_view_count": null,
            "_view_module": "@jupyter-widgets/base",
            "_view_module_version": "1.2.0",
            "_view_name": "LayoutView",
            "align_content": null,
            "align_items": null,
            "align_self": null,
            "border": null,
            "bottom": null,
            "display": null,
            "flex": null,
            "flex_flow": null,
            "grid_area": null,
            "grid_auto_columns": null,
            "grid_auto_flow": null,
            "grid_auto_rows": null,
            "grid_column": null,
            "grid_gap": null,
            "grid_row": null,
            "grid_template_areas": null,
            "grid_template_columns": null,
            "grid_template_rows": null,
            "height": null,
            "justify_content": null,
            "justify_items": null,
            "left": null,
            "margin": null,
            "max_height": null,
            "max_width": null,
            "min_height": null,
            "min_width": null,
            "object_fit": null,
            "object_position": null,
            "order": null,
            "overflow": null,
            "overflow_x": null,
            "overflow_y": null,
            "padding": null,
            "right": null,
            "top": null,
            "visibility": null,
            "width": null
          }
        },
        "460cbe676c0e4cdfa49f00d830909e61": {
          "model_module": "@jupyter-widgets/controls",
          "model_name": "ProgressStyleModel",
          "model_module_version": "1.5.0",
          "state": {
            "_model_module": "@jupyter-widgets/controls",
            "_model_module_version": "1.5.0",
            "_model_name": "ProgressStyleModel",
            "_view_count": null,
            "_view_module": "@jupyter-widgets/base",
            "_view_module_version": "1.2.0",
            "_view_name": "StyleView",
            "bar_color": null,
            "description_width": ""
          }
        },
        "554319c72c914d3f9f0db3cb69e776f6": {
          "model_module": "@jupyter-widgets/base",
          "model_name": "LayoutModel",
          "model_module_version": "1.2.0",
          "state": {
            "_model_module": "@jupyter-widgets/base",
            "_model_module_version": "1.2.0",
            "_model_name": "LayoutModel",
            "_view_count": null,
            "_view_module": "@jupyter-widgets/base",
            "_view_module_version": "1.2.0",
            "_view_name": "LayoutView",
            "align_content": null,
            "align_items": null,
            "align_self": null,
            "border": null,
            "bottom": null,
            "display": null,
            "flex": null,
            "flex_flow": null,
            "grid_area": null,
            "grid_auto_columns": null,
            "grid_auto_flow": null,
            "grid_auto_rows": null,
            "grid_column": null,
            "grid_gap": null,
            "grid_row": null,
            "grid_template_areas": null,
            "grid_template_columns": null,
            "grid_template_rows": null,
            "height": null,
            "justify_content": null,
            "justify_items": null,
            "left": null,
            "margin": null,
            "max_height": null,
            "max_width": null,
            "min_height": null,
            "min_width": null,
            "object_fit": null,
            "object_position": null,
            "order": null,
            "overflow": null,
            "overflow_x": null,
            "overflow_y": null,
            "padding": null,
            "right": null,
            "top": null,
            "visibility": null,
            "width": null
          }
        },
        "bd8fc6e0d4a84fa0bc132a22778e570e": {
          "model_module": "@jupyter-widgets/controls",
          "model_name": "DescriptionStyleModel",
          "model_module_version": "1.5.0",
          "state": {
            "_model_module": "@jupyter-widgets/controls",
            "_model_module_version": "1.5.0",
            "_model_name": "DescriptionStyleModel",
            "_view_count": null,
            "_view_module": "@jupyter-widgets/base",
            "_view_module_version": "1.2.0",
            "_view_name": "StyleView",
            "description_width": ""
          }
        }
      }
    }
  },
  "cells": [
    {
      "cell_type": "code",
      "source": [
        "from google.colab import drive\n",
        "drive.mount('/content/drive')"
      ],
      "metadata": {
        "colab": {
          "base_uri": "https://localhost:8080/"
        },
        "id": "HPJulkaBW2GE",
        "outputId": "317f1cd5-7d62-41db-99e5-db3907dfb1b1"
      },
      "execution_count": null,
      "outputs": [
        {
          "output_type": "stream",
          "name": "stdout",
          "text": [
            "Drive already mounted at /content/drive; to attempt to forcibly remount, call drive.mount(\"/content/drive\", force_remount=True).\n"
          ]
        }
      ]
    },
    {
      "cell_type": "code",
      "execution_count": null,
      "metadata": {
        "id": "okOB2EjPD1Q-",
        "colab": {
          "base_uri": "https://localhost:8080/"
        },
        "outputId": "9adb376f-c9da-4200-cbc6-1daa76cb1b09"
      },
      "outputs": [
        {
          "output_type": "stream",
          "name": "stdout",
          "text": [
            "fatal: destination path 'industrial-ai' already exists and is not an empty directory.\n"
          ]
        }
      ],
      "source": [
        "!git clone https://github.com/fhrzn/industrial-ai"
      ]
    },
    {
      "cell_type": "code",
      "source": [
        "!cd industrial-ai && git pull"
      ],
      "metadata": {
        "colab": {
          "base_uri": "https://localhost:8080/"
        },
        "id": "uBILJQ9qWeb7",
        "outputId": "8658eae8-64d9-4c45-b138-9986ceafdf5e"
      },
      "execution_count": null,
      "outputs": [
        {
          "output_type": "stream",
          "name": "stdout",
          "text": [
            "Already up to date.\n"
          ]
        }
      ]
    },
    {
      "cell_type": "code",
      "source": [
        "!cd industrial-ai/Task\\ 2/ && pip install -q -r requirement.txt"
      ],
      "metadata": {
        "id": "xlzwsR1jVe5T"
      },
      "execution_count": null,
      "outputs": []
    },
    {
      "cell_type": "code",
      "source": [
        "import sys\n",
        "sys.path.append('industrial-ai/Task 2')"
      ],
      "metadata": {
        "id": "NdIPAoGpWI75"
      },
      "execution_count": null,
      "outputs": []
    },
    {
      "cell_type": "code",
      "source": [
        "import pandas as pd\n",
        "import numpy as np\n",
        "from core.dataset import IMDBDataset\n",
        "from core import models, training\n",
        "from sklearn.model_selection import train_test_split\n",
        "from torch.utils.data import DataLoader\n",
        "import matplotlib.pyplot as plt\n",
        "from tqdm.auto import tqdm\n",
        "import torch\n",
        "from omegaconf import OmegaConf\n",
        "from torch import optim\n",
        "from transformers import get_scheduler"
      ],
      "metadata": {
        "id": "JCDQOXniVuIq"
      },
      "execution_count": null,
      "outputs": []
    },
    {
      "cell_type": "code",
      "source": [
        "device = torch.device('cuda' if torch.cuda.is_available() else 'cpu')\n",
        "config = OmegaConf.load('./industrial-ai/Task 2/config/config.yaml')\n",
        "config['batch_size'] = 128"
      ],
      "metadata": {
        "id": "r1OMth0hV3MZ"
      },
      "execution_count": null,
      "outputs": []
    },
    {
      "cell_type": "code",
      "source": [
        "BASE_PATH_DRIVE = './drive/MyDrive/ITMO Master/'\n",
        "config['dataset_path'] = config['dataset_path'].replace('./', BASE_PATH_DRIVE)"
      ],
      "metadata": {
        "id": "WTxiKlLsXLgD"
      },
      "execution_count": null,
      "outputs": []
    },
    {
      "cell_type": "code",
      "source": [
        "df = pd.read_csv(config['dataset_path'])\n",
        "# make path adjustment because we running from colab\n",
        "df['img_local_path'] = df['img_local_path'].apply(lambda x: x.replace('./', BASE_PATH_DRIVE))\n",
        "\n",
        "# make train test split\n",
        "train, test = train_test_split(df, test_size=0.25, random_state=42, stratify=df.genre)\n",
        "# make validation split\n",
        "train, val = train_test_split(train, test_size=0.25, random_state=42, stratify=train.genre)\n",
        "print(len(train), len(val), len(test))"
      ],
      "metadata": {
        "colab": {
          "base_uri": "https://localhost:8080/"
        },
        "id": "Bl9wGjtyWwk6",
        "outputId": "8d5c126d-a880-4487-81b4-27d4a371bda4"
      },
      "execution_count": null,
      "outputs": [
        {
          "output_type": "stream",
          "name": "stdout",
          "text": [
            "7119 2373 3164\n"
          ]
        }
      ]
    },
    {
      "cell_type": "code",
      "source": [
        "train = train.to_dict(orient='records')\n",
        "test = test.to_dict(orient='records')\n",
        "val = val.to_dict(orient='records')\n",
        "\n",
        "train[0]"
      ],
      "metadata": {
        "colab": {
          "base_uri": "https://localhost:8080/"
        },
        "id": "vCB5xsiPXFMh",
        "outputId": "770d1aff-3bca-4d61-c133-4d23c399bd44"
      },
      "execution_count": null,
      "outputs": [
        {
          "output_type": "execute_result",
          "data": {
            "text/plain": [
              "{'title': 'Tale of the Nine Tailed',\n",
              " 'simple_desc': 'An urban dark fantasy drama about a gumiho who settles into the city and a producer who is after it.',\n",
              " 'genre': 'Fantasy',\n",
              " 'img_local_path': './drive/MyDrive/ITMO Master/datasets/ml-industry/task2/images/Fantasy/Tale of the Nine Tailed.jpg'}"
            ]
          },
          "metadata": {},
          "execution_count": 10
        }
      ]
    },
    {
      "cell_type": "code",
      "source": [
        "# title dataset\n",
        "title_trainset = IMDBDataset(train, type='title')\n",
        "title_validset = IMDBDataset(val, type='title')\n",
        "title_testset = IMDBDataset(test, type='title')\n",
        "\n",
        "# description dataset\n",
        "desc_trainset = IMDBDataset(train, type='description')\n",
        "desc_validset = IMDBDataset(val, type='description')\n",
        "desc_testset = IMDBDataset(test, type='description')\n",
        "\n",
        "# image dataset\n",
        "img_trainset = IMDBDataset(train, type='image')\n",
        "img_validset = IMDBDataset(val, type='image')\n",
        "img_testset = IMDBDataset(test, type='image')"
      ],
      "metadata": {
        "id": "Oah8wzgYXm11"
      },
      "execution_count": null,
      "outputs": []
    },
    {
      "cell_type": "markdown",
      "source": [
        "## Multimodal with Late Fusion"
      ],
      "metadata": {
        "id": "CmLOYN_AXv1b"
      }
    },
    {
      "cell_type": "markdown",
      "source": [
        "### Text Model (Title)"
      ],
      "metadata": {
        "id": "rjOvvvzDX0Kl"
      }
    },
    {
      "cell_type": "code",
      "source": [
        "title_bert_tokenizer, title_bert_model = models.get_bert_model(config['text_model_ckpt'])\n",
        "title_bert_model = title_bert_model.to(device)"
      ],
      "metadata": {
        "colab": {
          "base_uri": "https://localhost:8080/"
        },
        "id": "OOjGS8fFXyfa",
        "outputId": "d7b89250-66e6-4393-c3cd-c8c8b8044c57"
      },
      "execution_count": null,
      "outputs": [
        {
          "output_type": "stream",
          "name": "stderr",
          "text": [
            "Some weights of the model checkpoint at bert-base-uncased were not used when initializing BertForSequenceClassification: ['cls.predictions.transform.LayerNorm.weight', 'cls.seq_relationship.bias', 'cls.predictions.transform.LayerNorm.bias', 'cls.predictions.bias', 'cls.seq_relationship.weight', 'cls.predictions.transform.dense.weight', 'cls.predictions.transform.dense.bias', 'cls.predictions.decoder.weight']\n",
            "- This IS expected if you are initializing BertForSequenceClassification from the checkpoint of a model trained on another task or with another architecture (e.g. initializing a BertForSequenceClassification model from a BertForPreTraining model).\n",
            "- This IS NOT expected if you are initializing BertForSequenceClassification from the checkpoint of a model that you expect to be exactly identical (initializing a BertForSequenceClassification model from a BertForSequenceClassification model).\n",
            "Some weights of BertForSequenceClassification were not initialized from the model checkpoint at bert-base-uncased and are newly initialized: ['classifier.bias', 'classifier.weight']\n",
            "You should probably TRAIN this model on a down-stream task to be able to use it for predictions and inference.\n"
          ]
        }
      ]
    },
    {
      "cell_type": "code",
      "source": [
        "# set tokenizer\n",
        "title_trainset.set_tokenizer(title_bert_tokenizer)\n",
        "title_validset.set_tokenizer(title_bert_tokenizer)\n",
        "title_testset.set_tokenizer(title_bert_tokenizer)"
      ],
      "metadata": {
        "id": "IILuzbPcXumP"
      },
      "execution_count": null,
      "outputs": []
    },
    {
      "cell_type": "code",
      "source": [
        "# dataloader\n",
        "title_train_loader = DataLoader(title_trainset, batch_size=config['batch_size'])\n",
        "title_valid_loader = DataLoader(title_validset, batch_size=config['batch_size'])\n",
        "title_test_loader = DataLoader(title_testset, batch_size=config['batch_size'])"
      ],
      "metadata": {
        "id": "6myWu5B7X4zr"
      },
      "execution_count": null,
      "outputs": []
    },
    {
      "cell_type": "markdown",
      "source": [
        "#### Modelling"
      ],
      "metadata": {
        "id": "K6puPZjRX7o3"
      }
    },
    {
      "cell_type": "code",
      "source": [
        "model_name = 'title_bert'\n",
        "model, history = training.train(title_bert_model, model_name, title_train_loader,\n",
        "                                title_valid_loader, config=config, device=device)"
      ],
      "metadata": {
        "colab": {
          "base_uri": "https://localhost:8080/",
          "height": 136,
          "referenced_widgets": [
            "08e8e7331f0f4d099abc5cc404687780",
            "1ba67907cf6348e19c05d8aa641d1047",
            "6a146aaf4b324a7791a6a68877f8cc85",
            "384654f4df5e408bb6a3df0719837ee4",
            "e228a34b08c84f0e93b57d0998a94110",
            "30a809d54a974108b96d25c624af3091",
            "16ed89e65c0d43f5a4750b8dab3874ed",
            "29e7b840d2974e76a38be1ffe02d25e0",
            "acbf58003afb425bac3fa73e3a65893f",
            "973b3f1fac5e46f0ac52d8bcdc3462b0",
            "eafe054eeea4416b9aaa0524fd99f3dd",
            "38d55dbe41e94f0c980cbe2d899d993c",
            "9c93c7dcb97e47d09e1544356023dcbd",
            "c87d94f6be3445c191bfc9c99ef770cb",
            "130b4938c951425aa35f815e6f1bf2e8",
            "cf06005a3014483082d7d904da320404",
            "5f3167f3f1dd4a99bd2e5330aa1763cd",
            "d6d8a7876dd74568a4f002025a69f987",
            "14dd3ff0f78648369f7bd9cfb6fd471c",
            "460cbe676c0e4cdfa49f00d830909e61",
            "554319c72c914d3f9f0db3cb69e776f6",
            "bd8fc6e0d4a84fa0bc132a22778e570e"
          ]
        },
        "id": "7N4slIB2X52q",
        "outputId": "560ee2c4-2d38-418d-8dd4-729c8d4e7fd8"
      },
      "execution_count": null,
      "outputs": [
        {
          "output_type": "display_data",
          "data": {
            "text/plain": [
              "Downloading builder script:   0%|          | 0.00/4.20k [00:00<?, ?B/s]"
            ],
            "application/vnd.jupyter.widget-view+json": {
              "version_major": 2,
              "version_minor": 0,
              "model_id": "08e8e7331f0f4d099abc5cc404687780"
            }
          },
          "metadata": {}
        },
        {
          "output_type": "display_data",
          "data": {
            "text/plain": [
              "  0%|          | 0/168 [00:00<?, ?it/s]"
            ],
            "application/vnd.jupyter.widget-view+json": {
              "version_major": 2,
              "version_minor": 0,
              "model_id": "38d55dbe41e94f0c980cbe2d899d993c"
            }
          },
          "metadata": {}
        },
        {
          "output_type": "stream",
          "name": "stdout",
          "text": [
            "TLoss: 3.196 | TAcc: 0.045 | VLoss: 3.174 | VAcc: 0.014\n",
            "TLoss: 3.168 | TAcc: 0.054 | VLoss: 3.161 | VAcc: 0.020\n",
            "TLoss: 3.157 | TAcc: 0.060 | VLoss: 3.154 | VAcc: 0.024\n"
          ]
        }
      ]
    },
    {
      "cell_type": "code",
      "source": [
        "config"
      ],
      "metadata": {
        "colab": {
          "base_uri": "https://localhost:8080/"
        },
        "id": "yWA9x1AvgX8x",
        "outputId": "618df446-790b-4034-8d80-8c2c02e4acc0"
      },
      "execution_count": null,
      "outputs": [
        {
          "output_type": "execute_result",
          "data": {
            "text/plain": [
              "{'dataset_path': './drive/MyDrive/ITMO Master/datasets/ml-industry/task2/processed.csv', 'text_model_ckpt': 'bert-base-uncased', 'image_model_ckpt': 'google/vit-base-patch16-224-in21k', 'image_model_ckpt_2': 'microsoft/resnet-152', 'batch_size': 128, 'num_epoch': 3, 'early_stop': 5, 'save_strategy': 'epoch', 'text_model_learning_rate': 1e-05, 'image_model_learning_rate': 1e-05, 'log_every': 1}"
            ]
          },
          "metadata": {},
          "execution_count": 17
        }
      ]
    },
    {
      "cell_type": "code",
      "source": [
        "from transformers import TrainingArguments, Trainer\n",
        "\n",
        "training_args = TrainingArguments(output_dir='./content',\n",
        "                                  num_train_epochs=5,\n",
        "                                  learning_rate=1e-3,\n",
        "                                  per_device_train_batch_size=config['batch_size'],\n",
        "                                  per_device_eval_batch_size=config['batch_size'],\n",
        "                                  weight_decay=0.01,\n",
        "                                  evaluation_strategy='epoch',\n",
        "                                  save_strategy='epoch',\n",
        "                                  disable_tqdm=False,\n",
        "                                  logging_steps=config['batch_size'] // 5,\n",
        "                                  )"
      ],
      "metadata": {
        "id": "5QhU3RTaX-1y"
      },
      "execution_count": null,
      "outputs": []
    },
    {
      "cell_type": "code",
      "source": [
        "from sklearn.metrics import accuracy_score\n",
        "\n",
        "def compute_metrics(pred):\n",
        "    labels = pred.label_ids\n",
        "    preds = pred.predictions.argmax(-1)\n",
        "    acc = accuracy_score(labels, preds)\n",
        "    return {'accuracy': acc}"
      ],
      "metadata": {
        "id": "hVPaCpkkhF-y"
      },
      "execution_count": null,
      "outputs": []
    },
    {
      "cell_type": "code",
      "source": [
        "model(**next(iter(title_train_loader)).to(device))"
      ],
      "metadata": {
        "colab": {
          "base_uri": "https://localhost:8080/"
        },
        "id": "TNSF1eFPjmW1",
        "outputId": "3f16b377-3cc5-4fea-8261-95ff67768973"
      },
      "execution_count": null,
      "outputs": [
        {
          "output_type": "execute_result",
          "data": {
            "text/plain": [
              "SequenceClassifierOutput(loss=tensor(3.0988, device='cuda:0', grad_fn=<NllLossBackward0>), logits=tensor([[ 0.0505, -0.3824, -0.4711,  ...,  0.3142,  0.6722,  0.8860],\n",
              "        [ 0.4047,  1.0001,  0.9609,  ..., -0.4933, -0.5287, -0.9323],\n",
              "        [ 0.0966,  0.0229,  0.4293,  ...,  0.2549, -0.9046, -0.5038],\n",
              "        ...,\n",
              "        [-0.1490, -0.4990, -0.6038,  ...,  0.6131,  0.4280,  1.0121],\n",
              "        [ 0.0107, -0.6798, -0.4360,  ...,  0.6404,  0.5896,  0.8996],\n",
              "        [-0.2443,  0.2599,  0.2968,  ..., -0.6214,  0.2111, -0.1794]],\n",
              "       device='cuda:0', grad_fn=<AddmmBackward0>), hidden_states=None, attentions=None)"
            ]
          },
          "metadata": {},
          "execution_count": 31
        }
      ]
    },
    {
      "cell_type": "code",
      "source": [
        "trainer = Trainer(model=title_bert_model, args=training_args,\n",
        "                  compute_metrics=compute_metrics,\n",
        "                  train_dataset=title_trainset,\n",
        "                  eval_dataset=title_validset,\n",
        "                  tokenizer=title_bert_tokenizer)\n",
        "\n",
        "trainer.train()"
      ],
      "metadata": {
        "colab": {
          "base_uri": "https://localhost:8080/",
          "height": 1000
        },
        "id": "1D3LvlN7g6aa",
        "outputId": "5e1566ad-c1a7-49f3-c2b8-747c33cd0827"
      },
      "execution_count": null,
      "outputs": [
        {
          "output_type": "stream",
          "name": "stderr",
          "text": [
            "/usr/local/lib/python3.7/dist-packages/transformers/optimization.py:310: FutureWarning: This implementation of AdamW is deprecated and will be removed in a future version. Use the PyTorch implementation torch.optim.AdamW instead, or set `no_deprecation_warning=True` to disable this warning\n",
            "  FutureWarning,\n",
            "***** Running training *****\n",
            "  Num examples = 7119\n",
            "  Num Epochs = 5\n",
            "  Instantaneous batch size per device = 128\n",
            "  Total train batch size (w. parallel, distributed & accumulation) = 128\n",
            "  Gradient Accumulation steps = 1\n",
            "  Total optimization steps = 280\n",
            "  Number of trainable parameters = 109500696\n"
          ]
        },
        {
          "output_type": "display_data",
          "data": {
            "text/plain": [
              "<IPython.core.display.HTML object>"
            ],
            "text/html": [
              "\n",
              "    <div>\n",
              "      \n",
              "      <progress value='280' max='280' style='width:300px; height:20px; vertical-align: middle;'></progress>\n",
              "      [280/280 06:55, Epoch 5/5]\n",
              "    </div>\n",
              "    <table border=\"1\" class=\"dataframe\">\n",
              "  <thead>\n",
              " <tr style=\"text-align: left;\">\n",
              "      <th>Epoch</th>\n",
              "      <th>Training Loss</th>\n",
              "      <th>Validation Loss</th>\n",
              "      <th>Accuracy</th>\n",
              "    </tr>\n",
              "  </thead>\n",
              "  <tbody>\n",
              "    <tr>\n",
              "      <td>1</td>\n",
              "      <td>3.209200</td>\n",
              "      <td>3.195771</td>\n",
              "      <td>0.039612</td>\n",
              "    </tr>\n",
              "    <tr>\n",
              "      <td>2</td>\n",
              "      <td>3.195500</td>\n",
              "      <td>3.189003</td>\n",
              "      <td>0.042984</td>\n",
              "    </tr>\n",
              "    <tr>\n",
              "      <td>3</td>\n",
              "      <td>3.189500</td>\n",
              "      <td>3.183756</td>\n",
              "      <td>0.041298</td>\n",
              "    </tr>\n",
              "    <tr>\n",
              "      <td>4</td>\n",
              "      <td>3.186200</td>\n",
              "      <td>3.180531</td>\n",
              "      <td>0.042984</td>\n",
              "    </tr>\n",
              "    <tr>\n",
              "      <td>5</td>\n",
              "      <td>3.179900</td>\n",
              "      <td>3.177661</td>\n",
              "      <td>0.042984</td>\n",
              "    </tr>\n",
              "  </tbody>\n",
              "</table><p>"
            ]
          },
          "metadata": {}
        },
        {
          "output_type": "stream",
          "name": "stderr",
          "text": [
            "***** Running Evaluation *****\n",
            "  Num examples = 2373\n",
            "  Batch size = 128\n",
            "Saving model checkpoint to ./content/checkpoint-56\n",
            "Configuration saved in ./content/checkpoint-56/config.json\n",
            "Model weights saved in ./content/checkpoint-56/pytorch_model.bin\n",
            "tokenizer config file saved in ./content/checkpoint-56/tokenizer_config.json\n",
            "Special tokens file saved in ./content/checkpoint-56/special_tokens_map.json\n",
            "***** Running Evaluation *****\n",
            "  Num examples = 2373\n",
            "  Batch size = 128\n",
            "Saving model checkpoint to ./content/checkpoint-112\n",
            "Configuration saved in ./content/checkpoint-112/config.json\n",
            "Model weights saved in ./content/checkpoint-112/pytorch_model.bin\n",
            "tokenizer config file saved in ./content/checkpoint-112/tokenizer_config.json\n",
            "Special tokens file saved in ./content/checkpoint-112/special_tokens_map.json\n",
            "***** Running Evaluation *****\n",
            "  Num examples = 2373\n",
            "  Batch size = 128\n",
            "Saving model checkpoint to ./content/checkpoint-168\n",
            "Configuration saved in ./content/checkpoint-168/config.json\n",
            "Model weights saved in ./content/checkpoint-168/pytorch_model.bin\n",
            "tokenizer config file saved in ./content/checkpoint-168/tokenizer_config.json\n",
            "Special tokens file saved in ./content/checkpoint-168/special_tokens_map.json\n",
            "***** Running Evaluation *****\n",
            "  Num examples = 2373\n",
            "  Batch size = 128\n",
            "Saving model checkpoint to ./content/checkpoint-224\n",
            "Configuration saved in ./content/checkpoint-224/config.json\n",
            "Model weights saved in ./content/checkpoint-224/pytorch_model.bin\n",
            "tokenizer config file saved in ./content/checkpoint-224/tokenizer_config.json\n",
            "Special tokens file saved in ./content/checkpoint-224/special_tokens_map.json\n",
            "***** Running Evaluation *****\n",
            "  Num examples = 2373\n",
            "  Batch size = 128\n",
            "Saving model checkpoint to ./content/checkpoint-280\n",
            "Configuration saved in ./content/checkpoint-280/config.json\n",
            "Model weights saved in ./content/checkpoint-280/pytorch_model.bin\n",
            "tokenizer config file saved in ./content/checkpoint-280/tokenizer_config.json\n",
            "Special tokens file saved in ./content/checkpoint-280/special_tokens_map.json\n",
            "\n",
            "\n",
            "Training completed. Do not forget to share your model on huggingface.co/models =)\n",
            "\n",
            "\n"
          ]
        },
        {
          "output_type": "execute_result",
          "data": {
            "text/plain": [
              "TrainOutput(global_step=280, training_loss=3.1956513677324567, metrics={'train_runtime': 417.0848, 'train_samples_per_second': 85.342, 'train_steps_per_second': 0.671, 'total_flos': 1170910995287040.0, 'train_loss': 3.1956513677324567, 'epoch': 5.0})"
            ]
          },
          "metadata": {},
          "execution_count": 22
        }
      ]
    }
  ]
}