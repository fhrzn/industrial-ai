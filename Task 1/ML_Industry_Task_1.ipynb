{
  "nbformat": 4,
  "nbformat_minor": 0,
  "metadata": {
    "colab": {
      "provenance": [],
      "collapsed_sections": []
    },
    "kernelspec": {
      "name": "python3",
      "display_name": "Python 3"
    },
    "language_info": {
      "name": "python"
    },
    "accelerator": "GPU",
    "gpuClass": "standard"
  },
  "cells": [
    {
      "cell_type": "code",
      "source": [
        "!pip install -q pmdarima holidays catboost optuna"
      ],
      "metadata": {
        "colab": {
          "base_uri": "https://localhost:8080/"
        },
        "id": "qcRbWZRtSojw",
        "outputId": "88806657-e3f7-489a-f017-f3451a896b21"
      },
      "execution_count": 2,
      "outputs": [
        {
          "output_type": "stream",
          "name": "stdout",
          "text": [
            "\u001b[K     |████████████████████████████████| 1.8 MB 40.0 MB/s \n",
            "\u001b[K     |████████████████████████████████| 76.6 MB 1.3 MB/s \n",
            "\u001b[K     |████████████████████████████████| 348 kB 70.2 MB/s \n",
            "\u001b[K     |████████████████████████████████| 9.9 MB 19.0 MB/s \n",
            "\u001b[K     |████████████████████████████████| 209 kB 73.1 MB/s \n",
            "\u001b[K     |████████████████████████████████| 81 kB 10.4 MB/s \n",
            "\u001b[K     |████████████████████████████████| 78 kB 7.9 MB/s \n",
            "\u001b[K     |████████████████████████████████| 50 kB 7.0 MB/s \n",
            "\u001b[K     |████████████████████████████████| 112 kB 73.5 MB/s \n",
            "\u001b[K     |████████████████████████████████| 147 kB 69.0 MB/s \n",
            "\u001b[?25h  Building wheel for pyperclip (setup.py) ... \u001b[?25l\u001b[?25hdone\n"
          ]
        }
      ]
    },
    {
      "cell_type": "code",
      "execution_count": 3,
      "metadata": {
        "id": "tUqJJHaIOTjO"
      },
      "outputs": [],
      "source": [
        "# import libraries\n",
        "import pandas as pd\n",
        "import numpy as np\n",
        "import matplotlib.pyplot as plt\n",
        "import seaborn as sns\n",
        "import plotly.express as px\n",
        "from datetime import datetime\n",
        "import gc\n",
        "from tqdm import tqdm\n",
        "from scipy import stats\n",
        "import statsmodels.api as sm\n",
        "from statsmodels.api import tsa\n",
        "import pmdarima\n",
        "import holidays\n",
        "from xgboost import XGBRegressor\n",
        "from catboost import CatBoostRegressor\n",
        "from sklearn.preprocessing import LabelEncoder\n",
        "import optuna"
      ]
    },
    {
      "cell_type": "code",
      "source": [
        "from google.colab import drive\n",
        "drive.mount('/content/drive')"
      ],
      "metadata": {
        "colab": {
          "base_uri": "https://localhost:8080/"
        },
        "id": "MtLx-hfvVg0r",
        "outputId": "d2045d2b-cf4b-4ca2-c9f2-5c5eb7f7584d"
      },
      "execution_count": 4,
      "outputs": [
        {
          "output_type": "stream",
          "name": "stdout",
          "text": [
            "Mounted at /content/drive\n"
          ]
        }
      ]
    },
    {
      "cell_type": "code",
      "source": [
        "# read data\n",
        "train = pd.read_csv('/content/drive/MyDrive/train_data.csv')\n",
        "valid = pd.read_csv('/content/drive/MyDrive/valid.csv')\n",
        "test = pd.read_csv('/content/drive/MyDrive/test.csv')\n",
        "\n",
        "train.head()"
      ],
      "metadata": {
        "colab": {
          "base_uri": "https://localhost:8080/",
          "height": 270
        },
        "id": "LAozlpWSVkIP",
        "outputId": "7bef9ff2-ccad-48a4-ceb6-02a8099a402d"
      },
      "execution_count": 5,
      "outputs": [
        {
          "output_type": "execute_result",
          "data": {
            "text/plain": [
              "    timestamp        lon        lat  likescount  commentscount  symbols_cnt  \\\n",
              "0  1565607600  30.329370  59.940488          63              4           52   \n",
              "1  1565568000  30.342845  59.869542          44              0           40   \n",
              "2  1565568000  30.322632  60.039332          30              0           77   \n",
              "3  1565568000  30.322632  59.938238          13              0          634   \n",
              "4  1565568000  30.309158  59.932612           8              0            0   \n",
              "\n",
              "   words_cnt  hashtags_cnt  mentions_cnt  links_cnt  emoji_cnt  \\\n",
              "0          6             0             0          0          0   \n",
              "1          0             4             0          0          0   \n",
              "2          7             0             0          0          1   \n",
              "3         17            32             0          0          7   \n",
              "4          0             0             0          0          0   \n",
              "\n",
              "                                               point  \n",
              "0  0101000020E6100000DBC1F19351543E4006FC5DE561F8...  \n",
              "1  0101000020E6100000544263A8C4573E40C27FCF284DEF...  \n",
              "2  0101000020E61000009E01B90998523E40888919D70805...  \n",
              "3  0101000020E61000009E01B90998523E40CEB8CE2B18F8...  \n",
              "4  0101000020E6100000268147F5244F3E40494A4ED65FF7...  "
            ],
            "text/html": [
              "\n",
              "  <div id=\"df-12caaa59-ea07-4a44-b088-53347462014c\">\n",
              "    <div class=\"colab-df-container\">\n",
              "      <div>\n",
              "<style scoped>\n",
              "    .dataframe tbody tr th:only-of-type {\n",
              "        vertical-align: middle;\n",
              "    }\n",
              "\n",
              "    .dataframe tbody tr th {\n",
              "        vertical-align: top;\n",
              "    }\n",
              "\n",
              "    .dataframe thead th {\n",
              "        text-align: right;\n",
              "    }\n",
              "</style>\n",
              "<table border=\"1\" class=\"dataframe\">\n",
              "  <thead>\n",
              "    <tr style=\"text-align: right;\">\n",
              "      <th></th>\n",
              "      <th>timestamp</th>\n",
              "      <th>lon</th>\n",
              "      <th>lat</th>\n",
              "      <th>likescount</th>\n",
              "      <th>commentscount</th>\n",
              "      <th>symbols_cnt</th>\n",
              "      <th>words_cnt</th>\n",
              "      <th>hashtags_cnt</th>\n",
              "      <th>mentions_cnt</th>\n",
              "      <th>links_cnt</th>\n",
              "      <th>emoji_cnt</th>\n",
              "      <th>point</th>\n",
              "    </tr>\n",
              "  </thead>\n",
              "  <tbody>\n",
              "    <tr>\n",
              "      <th>0</th>\n",
              "      <td>1565607600</td>\n",
              "      <td>30.329370</td>\n",
              "      <td>59.940488</td>\n",
              "      <td>63</td>\n",
              "      <td>4</td>\n",
              "      <td>52</td>\n",
              "      <td>6</td>\n",
              "      <td>0</td>\n",
              "      <td>0</td>\n",
              "      <td>0</td>\n",
              "      <td>0</td>\n",
              "      <td>0101000020E6100000DBC1F19351543E4006FC5DE561F8...</td>\n",
              "    </tr>\n",
              "    <tr>\n",
              "      <th>1</th>\n",
              "      <td>1565568000</td>\n",
              "      <td>30.342845</td>\n",
              "      <td>59.869542</td>\n",
              "      <td>44</td>\n",
              "      <td>0</td>\n",
              "      <td>40</td>\n",
              "      <td>0</td>\n",
              "      <td>4</td>\n",
              "      <td>0</td>\n",
              "      <td>0</td>\n",
              "      <td>0</td>\n",
              "      <td>0101000020E6100000544263A8C4573E40C27FCF284DEF...</td>\n",
              "    </tr>\n",
              "    <tr>\n",
              "      <th>2</th>\n",
              "      <td>1565568000</td>\n",
              "      <td>30.322632</td>\n",
              "      <td>60.039332</td>\n",
              "      <td>30</td>\n",
              "      <td>0</td>\n",
              "      <td>77</td>\n",
              "      <td>7</td>\n",
              "      <td>0</td>\n",
              "      <td>0</td>\n",
              "      <td>0</td>\n",
              "      <td>1</td>\n",
              "      <td>0101000020E61000009E01B90998523E40888919D70805...</td>\n",
              "    </tr>\n",
              "    <tr>\n",
              "      <th>3</th>\n",
              "      <td>1565568000</td>\n",
              "      <td>30.322632</td>\n",
              "      <td>59.938238</td>\n",
              "      <td>13</td>\n",
              "      <td>0</td>\n",
              "      <td>634</td>\n",
              "      <td>17</td>\n",
              "      <td>32</td>\n",
              "      <td>0</td>\n",
              "      <td>0</td>\n",
              "      <td>7</td>\n",
              "      <td>0101000020E61000009E01B90998523E40CEB8CE2B18F8...</td>\n",
              "    </tr>\n",
              "    <tr>\n",
              "      <th>4</th>\n",
              "      <td>1565568000</td>\n",
              "      <td>30.309158</td>\n",
              "      <td>59.932612</td>\n",
              "      <td>8</td>\n",
              "      <td>0</td>\n",
              "      <td>0</td>\n",
              "      <td>0</td>\n",
              "      <td>0</td>\n",
              "      <td>0</td>\n",
              "      <td>0</td>\n",
              "      <td>0</td>\n",
              "      <td>0101000020E6100000268147F5244F3E40494A4ED65FF7...</td>\n",
              "    </tr>\n",
              "  </tbody>\n",
              "</table>\n",
              "</div>\n",
              "      <button class=\"colab-df-convert\" onclick=\"convertToInteractive('df-12caaa59-ea07-4a44-b088-53347462014c')\"\n",
              "              title=\"Convert this dataframe to an interactive table.\"\n",
              "              style=\"display:none;\">\n",
              "        \n",
              "  <svg xmlns=\"http://www.w3.org/2000/svg\" height=\"24px\"viewBox=\"0 0 24 24\"\n",
              "       width=\"24px\">\n",
              "    <path d=\"M0 0h24v24H0V0z\" fill=\"none\"/>\n",
              "    <path d=\"M18.56 5.44l.94 2.06.94-2.06 2.06-.94-2.06-.94-.94-2.06-.94 2.06-2.06.94zm-11 1L8.5 8.5l.94-2.06 2.06-.94-2.06-.94L8.5 2.5l-.94 2.06-2.06.94zm10 10l.94 2.06.94-2.06 2.06-.94-2.06-.94-.94-2.06-.94 2.06-2.06.94z\"/><path d=\"M17.41 7.96l-1.37-1.37c-.4-.4-.92-.59-1.43-.59-.52 0-1.04.2-1.43.59L10.3 9.45l-7.72 7.72c-.78.78-.78 2.05 0 2.83L4 21.41c.39.39.9.59 1.41.59.51 0 1.02-.2 1.41-.59l7.78-7.78 2.81-2.81c.8-.78.8-2.07 0-2.86zM5.41 20L4 18.59l7.72-7.72 1.47 1.35L5.41 20z\"/>\n",
              "  </svg>\n",
              "      </button>\n",
              "      \n",
              "  <style>\n",
              "    .colab-df-container {\n",
              "      display:flex;\n",
              "      flex-wrap:wrap;\n",
              "      gap: 12px;\n",
              "    }\n",
              "\n",
              "    .colab-df-convert {\n",
              "      background-color: #E8F0FE;\n",
              "      border: none;\n",
              "      border-radius: 50%;\n",
              "      cursor: pointer;\n",
              "      display: none;\n",
              "      fill: #1967D2;\n",
              "      height: 32px;\n",
              "      padding: 0 0 0 0;\n",
              "      width: 32px;\n",
              "    }\n",
              "\n",
              "    .colab-df-convert:hover {\n",
              "      background-color: #E2EBFA;\n",
              "      box-shadow: 0px 1px 2px rgba(60, 64, 67, 0.3), 0px 1px 3px 1px rgba(60, 64, 67, 0.15);\n",
              "      fill: #174EA6;\n",
              "    }\n",
              "\n",
              "    [theme=dark] .colab-df-convert {\n",
              "      background-color: #3B4455;\n",
              "      fill: #D2E3FC;\n",
              "    }\n",
              "\n",
              "    [theme=dark] .colab-df-convert:hover {\n",
              "      background-color: #434B5C;\n",
              "      box-shadow: 0px 1px 3px 1px rgba(0, 0, 0, 0.15);\n",
              "      filter: drop-shadow(0px 1px 2px rgba(0, 0, 0, 0.3));\n",
              "      fill: #FFFFFF;\n",
              "    }\n",
              "  </style>\n",
              "\n",
              "      <script>\n",
              "        const buttonEl =\n",
              "          document.querySelector('#df-12caaa59-ea07-4a44-b088-53347462014c button.colab-df-convert');\n",
              "        buttonEl.style.display =\n",
              "          google.colab.kernel.accessAllowed ? 'block' : 'none';\n",
              "\n",
              "        async function convertToInteractive(key) {\n",
              "          const element = document.querySelector('#df-12caaa59-ea07-4a44-b088-53347462014c');\n",
              "          const dataTable =\n",
              "            await google.colab.kernel.invokeFunction('convertToInteractive',\n",
              "                                                     [key], {});\n",
              "          if (!dataTable) return;\n",
              "\n",
              "          const docLinkHtml = 'Like what you see? Visit the ' +\n",
              "            '<a target=\"_blank\" href=https://colab.research.google.com/notebooks/data_table.ipynb>data table notebook</a>'\n",
              "            + ' to learn more about interactive tables.';\n",
              "          element.innerHTML = '';\n",
              "          dataTable['output_type'] = 'display_data';\n",
              "          await google.colab.output.renderOutput(dataTable, element);\n",
              "          const docLink = document.createElement('div');\n",
              "          docLink.innerHTML = docLinkHtml;\n",
              "          element.appendChild(docLink);\n",
              "        }\n",
              "      </script>\n",
              "    </div>\n",
              "  </div>\n",
              "  "
            ]
          },
          "metadata": {},
          "execution_count": 5
        }
      ]
    },
    {
      "cell_type": "code",
      "source": [
        "valid.rename(columns={'hour':'timestamp'}, inplace=True)\n",
        "valid.head()"
      ],
      "metadata": {
        "colab": {
          "base_uri": "https://localhost:8080/",
          "height": 206
        },
        "id": "MpKi3PEQ9O6Z",
        "outputId": "99990dd2-ec3e-4116-b723-ce978c8ba3d0"
      },
      "execution_count": 6,
      "outputs": [
        {
          "output_type": "execute_result",
          "data": {
            "text/plain": [
              "    timestamp        lat        lon  \\\n",
              "0  1582448400  59.926986  30.318141   \n",
              "1  1582225200  59.924735  30.241784   \n",
              "2  1581260400  60.002300  30.295683   \n",
              "3  1581958800  59.935988  30.324878   \n",
              "4  1582779600  59.933737  30.306912   \n",
              "\n",
              "                                               point  sum     error  \n",
              "0  0101000020E6100000202C93AD71513E4070B5CC78A7F6...    5  0.421402  \n",
              "1  0101000020E6100000C5FE0F8FE53D3E4033438EB75DF6...   14  0.310291  \n",
              "2  0101000020E6100000AB00D6E0B14B3E40CB88A75E4B00...    5  3.754735  \n",
              "3  0101000020E61000005DECCB372B533E40E4A1F770CEF7...    7  0.504735  \n",
              "4  0101000020E6100000669634C7914E3E407AB3D8B484F7...   14  1.554735  "
            ],
            "text/html": [
              "\n",
              "  <div id=\"df-c3ff9bbd-400d-40e9-8ecd-847e89fdf774\">\n",
              "    <div class=\"colab-df-container\">\n",
              "      <div>\n",
              "<style scoped>\n",
              "    .dataframe tbody tr th:only-of-type {\n",
              "        vertical-align: middle;\n",
              "    }\n",
              "\n",
              "    .dataframe tbody tr th {\n",
              "        vertical-align: top;\n",
              "    }\n",
              "\n",
              "    .dataframe thead th {\n",
              "        text-align: right;\n",
              "    }\n",
              "</style>\n",
              "<table border=\"1\" class=\"dataframe\">\n",
              "  <thead>\n",
              "    <tr style=\"text-align: right;\">\n",
              "      <th></th>\n",
              "      <th>timestamp</th>\n",
              "      <th>lat</th>\n",
              "      <th>lon</th>\n",
              "      <th>point</th>\n",
              "      <th>sum</th>\n",
              "      <th>error</th>\n",
              "    </tr>\n",
              "  </thead>\n",
              "  <tbody>\n",
              "    <tr>\n",
              "      <th>0</th>\n",
              "      <td>1582448400</td>\n",
              "      <td>59.926986</td>\n",
              "      <td>30.318141</td>\n",
              "      <td>0101000020E6100000202C93AD71513E4070B5CC78A7F6...</td>\n",
              "      <td>5</td>\n",
              "      <td>0.421402</td>\n",
              "    </tr>\n",
              "    <tr>\n",
              "      <th>1</th>\n",
              "      <td>1582225200</td>\n",
              "      <td>59.924735</td>\n",
              "      <td>30.241784</td>\n",
              "      <td>0101000020E6100000C5FE0F8FE53D3E4033438EB75DF6...</td>\n",
              "      <td>14</td>\n",
              "      <td>0.310291</td>\n",
              "    </tr>\n",
              "    <tr>\n",
              "      <th>2</th>\n",
              "      <td>1581260400</td>\n",
              "      <td>60.002300</td>\n",
              "      <td>30.295683</td>\n",
              "      <td>0101000020E6100000AB00D6E0B14B3E40CB88A75E4B00...</td>\n",
              "      <td>5</td>\n",
              "      <td>3.754735</td>\n",
              "    </tr>\n",
              "    <tr>\n",
              "      <th>3</th>\n",
              "      <td>1581958800</td>\n",
              "      <td>59.935988</td>\n",
              "      <td>30.324878</td>\n",
              "      <td>0101000020E61000005DECCB372B533E40E4A1F770CEF7...</td>\n",
              "      <td>7</td>\n",
              "      <td>0.504735</td>\n",
              "    </tr>\n",
              "    <tr>\n",
              "      <th>4</th>\n",
              "      <td>1582779600</td>\n",
              "      <td>59.933737</td>\n",
              "      <td>30.306912</td>\n",
              "      <td>0101000020E6100000669634C7914E3E407AB3D8B484F7...</td>\n",
              "      <td>14</td>\n",
              "      <td>1.554735</td>\n",
              "    </tr>\n",
              "  </tbody>\n",
              "</table>\n",
              "</div>\n",
              "      <button class=\"colab-df-convert\" onclick=\"convertToInteractive('df-c3ff9bbd-400d-40e9-8ecd-847e89fdf774')\"\n",
              "              title=\"Convert this dataframe to an interactive table.\"\n",
              "              style=\"display:none;\">\n",
              "        \n",
              "  <svg xmlns=\"http://www.w3.org/2000/svg\" height=\"24px\"viewBox=\"0 0 24 24\"\n",
              "       width=\"24px\">\n",
              "    <path d=\"M0 0h24v24H0V0z\" fill=\"none\"/>\n",
              "    <path d=\"M18.56 5.44l.94 2.06.94-2.06 2.06-.94-2.06-.94-.94-2.06-.94 2.06-2.06.94zm-11 1L8.5 8.5l.94-2.06 2.06-.94-2.06-.94L8.5 2.5l-.94 2.06-2.06.94zm10 10l.94 2.06.94-2.06 2.06-.94-2.06-.94-.94-2.06-.94 2.06-2.06.94z\"/><path d=\"M17.41 7.96l-1.37-1.37c-.4-.4-.92-.59-1.43-.59-.52 0-1.04.2-1.43.59L10.3 9.45l-7.72 7.72c-.78.78-.78 2.05 0 2.83L4 21.41c.39.39.9.59 1.41.59.51 0 1.02-.2 1.41-.59l7.78-7.78 2.81-2.81c.8-.78.8-2.07 0-2.86zM5.41 20L4 18.59l7.72-7.72 1.47 1.35L5.41 20z\"/>\n",
              "  </svg>\n",
              "      </button>\n",
              "      \n",
              "  <style>\n",
              "    .colab-df-container {\n",
              "      display:flex;\n",
              "      flex-wrap:wrap;\n",
              "      gap: 12px;\n",
              "    }\n",
              "\n",
              "    .colab-df-convert {\n",
              "      background-color: #E8F0FE;\n",
              "      border: none;\n",
              "      border-radius: 50%;\n",
              "      cursor: pointer;\n",
              "      display: none;\n",
              "      fill: #1967D2;\n",
              "      height: 32px;\n",
              "      padding: 0 0 0 0;\n",
              "      width: 32px;\n",
              "    }\n",
              "\n",
              "    .colab-df-convert:hover {\n",
              "      background-color: #E2EBFA;\n",
              "      box-shadow: 0px 1px 2px rgba(60, 64, 67, 0.3), 0px 1px 3px 1px rgba(60, 64, 67, 0.15);\n",
              "      fill: #174EA6;\n",
              "    }\n",
              "\n",
              "    [theme=dark] .colab-df-convert {\n",
              "      background-color: #3B4455;\n",
              "      fill: #D2E3FC;\n",
              "    }\n",
              "\n",
              "    [theme=dark] .colab-df-convert:hover {\n",
              "      background-color: #434B5C;\n",
              "      box-shadow: 0px 1px 3px 1px rgba(0, 0, 0, 0.15);\n",
              "      filter: drop-shadow(0px 1px 2px rgba(0, 0, 0, 0.3));\n",
              "      fill: #FFFFFF;\n",
              "    }\n",
              "  </style>\n",
              "\n",
              "      <script>\n",
              "        const buttonEl =\n",
              "          document.querySelector('#df-c3ff9bbd-400d-40e9-8ecd-847e89fdf774 button.colab-df-convert');\n",
              "        buttonEl.style.display =\n",
              "          google.colab.kernel.accessAllowed ? 'block' : 'none';\n",
              "\n",
              "        async function convertToInteractive(key) {\n",
              "          const element = document.querySelector('#df-c3ff9bbd-400d-40e9-8ecd-847e89fdf774');\n",
              "          const dataTable =\n",
              "            await google.colab.kernel.invokeFunction('convertToInteractive',\n",
              "                                                     [key], {});\n",
              "          if (!dataTable) return;\n",
              "\n",
              "          const docLinkHtml = 'Like what you see? Visit the ' +\n",
              "            '<a target=\"_blank\" href=https://colab.research.google.com/notebooks/data_table.ipynb>data table notebook</a>'\n",
              "            + ' to learn more about interactive tables.';\n",
              "          element.innerHTML = '';\n",
              "          dataTable['output_type'] = 'display_data';\n",
              "          await google.colab.output.renderOutput(dataTable, element);\n",
              "          const docLink = document.createElement('div');\n",
              "          docLink.innerHTML = docLinkHtml;\n",
              "          element.appendChild(docLink);\n",
              "        }\n",
              "      </script>\n",
              "    </div>\n",
              "  </div>\n",
              "  "
            ]
          },
          "metadata": {},
          "execution_count": 6
        }
      ]
    },
    {
      "cell_type": "code",
      "source": [
        "test.rename(columns={'hour': 'timestamp'}, inplace=True)\n",
        "test.head()"
      ],
      "metadata": {
        "colab": {
          "base_uri": "https://localhost:8080/",
          "height": 206
        },
        "id": "qZgTHum79lJf",
        "outputId": "e1fc14f9-b945-46ba-f48f-7827fc7a6882"
      },
      "execution_count": 7,
      "outputs": [
        {
          "output_type": "execute_result",
          "data": {
            "text/plain": [
              "    timestamp        lat        lon  \\\n",
              "0  1582711200  59.934863  30.331616   \n",
              "1  1581937200  59.940488  30.329370   \n",
              "2  1581523200  59.905597  30.297929   \n",
              "3  1581512400  59.921359  30.356319   \n",
              "4  1581771600  59.939363  30.315895   \n",
              "\n",
              "                                               point  sum     error  \n",
              "0  0101000020E61000009BAC04C2E4543E40DB251193A9F7...    7  0.370265  \n",
              "1  0101000020E6100000DBC1F19351543E4006FC5DE561F8...    6  0.754735  \n",
              "2  0101000020E61000006AEBE80E454C3E407F614299EAF3...    5  3.754735  \n",
              "3  0101000020E6100000CFC2D4BC375B3E401FBF4913EFF5...   16  4.088069  \n",
              "4  0101000020E61000006141807FDE503E40A554BF083DF8...   10  2.088069  "
            ],
            "text/html": [
              "\n",
              "  <div id=\"df-b567eaa6-5361-41ca-872c-d2bc7c053a8e\">\n",
              "    <div class=\"colab-df-container\">\n",
              "      <div>\n",
              "<style scoped>\n",
              "    .dataframe tbody tr th:only-of-type {\n",
              "        vertical-align: middle;\n",
              "    }\n",
              "\n",
              "    .dataframe tbody tr th {\n",
              "        vertical-align: top;\n",
              "    }\n",
              "\n",
              "    .dataframe thead th {\n",
              "        text-align: right;\n",
              "    }\n",
              "</style>\n",
              "<table border=\"1\" class=\"dataframe\">\n",
              "  <thead>\n",
              "    <tr style=\"text-align: right;\">\n",
              "      <th></th>\n",
              "      <th>timestamp</th>\n",
              "      <th>lat</th>\n",
              "      <th>lon</th>\n",
              "      <th>point</th>\n",
              "      <th>sum</th>\n",
              "      <th>error</th>\n",
              "    </tr>\n",
              "  </thead>\n",
              "  <tbody>\n",
              "    <tr>\n",
              "      <th>0</th>\n",
              "      <td>1582711200</td>\n",
              "      <td>59.934863</td>\n",
              "      <td>30.331616</td>\n",
              "      <td>0101000020E61000009BAC04C2E4543E40DB251193A9F7...</td>\n",
              "      <td>7</td>\n",
              "      <td>0.370265</td>\n",
              "    </tr>\n",
              "    <tr>\n",
              "      <th>1</th>\n",
              "      <td>1581937200</td>\n",
              "      <td>59.940488</td>\n",
              "      <td>30.329370</td>\n",
              "      <td>0101000020E6100000DBC1F19351543E4006FC5DE561F8...</td>\n",
              "      <td>6</td>\n",
              "      <td>0.754735</td>\n",
              "    </tr>\n",
              "    <tr>\n",
              "      <th>2</th>\n",
              "      <td>1581523200</td>\n",
              "      <td>59.905597</td>\n",
              "      <td>30.297929</td>\n",
              "      <td>0101000020E61000006AEBE80E454C3E407F614299EAF3...</td>\n",
              "      <td>5</td>\n",
              "      <td>3.754735</td>\n",
              "    </tr>\n",
              "    <tr>\n",
              "      <th>3</th>\n",
              "      <td>1581512400</td>\n",
              "      <td>59.921359</td>\n",
              "      <td>30.356319</td>\n",
              "      <td>0101000020E6100000CFC2D4BC375B3E401FBF4913EFF5...</td>\n",
              "      <td>16</td>\n",
              "      <td>4.088069</td>\n",
              "    </tr>\n",
              "    <tr>\n",
              "      <th>4</th>\n",
              "      <td>1581771600</td>\n",
              "      <td>59.939363</td>\n",
              "      <td>30.315895</td>\n",
              "      <td>0101000020E61000006141807FDE503E40A554BF083DF8...</td>\n",
              "      <td>10</td>\n",
              "      <td>2.088069</td>\n",
              "    </tr>\n",
              "  </tbody>\n",
              "</table>\n",
              "</div>\n",
              "      <button class=\"colab-df-convert\" onclick=\"convertToInteractive('df-b567eaa6-5361-41ca-872c-d2bc7c053a8e')\"\n",
              "              title=\"Convert this dataframe to an interactive table.\"\n",
              "              style=\"display:none;\">\n",
              "        \n",
              "  <svg xmlns=\"http://www.w3.org/2000/svg\" height=\"24px\"viewBox=\"0 0 24 24\"\n",
              "       width=\"24px\">\n",
              "    <path d=\"M0 0h24v24H0V0z\" fill=\"none\"/>\n",
              "    <path d=\"M18.56 5.44l.94 2.06.94-2.06 2.06-.94-2.06-.94-.94-2.06-.94 2.06-2.06.94zm-11 1L8.5 8.5l.94-2.06 2.06-.94-2.06-.94L8.5 2.5l-.94 2.06-2.06.94zm10 10l.94 2.06.94-2.06 2.06-.94-2.06-.94-.94-2.06-.94 2.06-2.06.94z\"/><path d=\"M17.41 7.96l-1.37-1.37c-.4-.4-.92-.59-1.43-.59-.52 0-1.04.2-1.43.59L10.3 9.45l-7.72 7.72c-.78.78-.78 2.05 0 2.83L4 21.41c.39.39.9.59 1.41.59.51 0 1.02-.2 1.41-.59l7.78-7.78 2.81-2.81c.8-.78.8-2.07 0-2.86zM5.41 20L4 18.59l7.72-7.72 1.47 1.35L5.41 20z\"/>\n",
              "  </svg>\n",
              "      </button>\n",
              "      \n",
              "  <style>\n",
              "    .colab-df-container {\n",
              "      display:flex;\n",
              "      flex-wrap:wrap;\n",
              "      gap: 12px;\n",
              "    }\n",
              "\n",
              "    .colab-df-convert {\n",
              "      background-color: #E8F0FE;\n",
              "      border: none;\n",
              "      border-radius: 50%;\n",
              "      cursor: pointer;\n",
              "      display: none;\n",
              "      fill: #1967D2;\n",
              "      height: 32px;\n",
              "      padding: 0 0 0 0;\n",
              "      width: 32px;\n",
              "    }\n",
              "\n",
              "    .colab-df-convert:hover {\n",
              "      background-color: #E2EBFA;\n",
              "      box-shadow: 0px 1px 2px rgba(60, 64, 67, 0.3), 0px 1px 3px 1px rgba(60, 64, 67, 0.15);\n",
              "      fill: #174EA6;\n",
              "    }\n",
              "\n",
              "    [theme=dark] .colab-df-convert {\n",
              "      background-color: #3B4455;\n",
              "      fill: #D2E3FC;\n",
              "    }\n",
              "\n",
              "    [theme=dark] .colab-df-convert:hover {\n",
              "      background-color: #434B5C;\n",
              "      box-shadow: 0px 1px 3px 1px rgba(0, 0, 0, 0.15);\n",
              "      filter: drop-shadow(0px 1px 2px rgba(0, 0, 0, 0.3));\n",
              "      fill: #FFFFFF;\n",
              "    }\n",
              "  </style>\n",
              "\n",
              "      <script>\n",
              "        const buttonEl =\n",
              "          document.querySelector('#df-b567eaa6-5361-41ca-872c-d2bc7c053a8e button.colab-df-convert');\n",
              "        buttonEl.style.display =\n",
              "          google.colab.kernel.accessAllowed ? 'block' : 'none';\n",
              "\n",
              "        async function convertToInteractive(key) {\n",
              "          const element = document.querySelector('#df-b567eaa6-5361-41ca-872c-d2bc7c053a8e');\n",
              "          const dataTable =\n",
              "            await google.colab.kernel.invokeFunction('convertToInteractive',\n",
              "                                                     [key], {});\n",
              "          if (!dataTable) return;\n",
              "\n",
              "          const docLinkHtml = 'Like what you see? Visit the ' +\n",
              "            '<a target=\"_blank\" href=https://colab.research.google.com/notebooks/data_table.ipynb>data table notebook</a>'\n",
              "            + ' to learn more about interactive tables.';\n",
              "          element.innerHTML = '';\n",
              "          dataTable['output_type'] = 'display_data';\n",
              "          await google.colab.output.renderOutput(dataTable, element);\n",
              "          const docLink = document.createElement('div');\n",
              "          docLink.innerHTML = docLinkHtml;\n",
              "          element.appendChild(docLink);\n",
              "        }\n",
              "      </script>\n",
              "    </div>\n",
              "  </div>\n",
              "  "
            ]
          },
          "metadata": {},
          "execution_count": 7
        }
      ]
    },
    {
      "cell_type": "code",
      "source": [
        "len(valid), len(test)"
      ],
      "metadata": {
        "colab": {
          "base_uri": "https://localhost:8080/"
        },
        "id": "nNVL7MVv9Y5m",
        "outputId": "903819a8-17ac-4814-a795-8f2033da902c"
      },
      "execution_count": 8,
      "outputs": [
        {
          "output_type": "execute_result",
          "data": {
            "text/plain": [
              "(709, 700)"
            ]
          },
          "metadata": {},
          "execution_count": 8
        }
      ]
    },
    {
      "cell_type": "code",
      "source": [
        "train['timestamp'].nunique(), train['point'].nunique()"
      ],
      "metadata": {
        "colab": {
          "base_uri": "https://localhost:8080/"
        },
        "id": "m2gne26YyTih",
        "outputId": "283cf037-b20a-417d-f4f7-0d89e4f33205"
      },
      "execution_count": 9,
      "outputs": [
        {
          "output_type": "execute_result",
          "data": {
            "text/plain": [
              "(9504, 7041)"
            ]
          },
          "metadata": {},
          "execution_count": 9
        }
      ]
    },
    {
      "cell_type": "code",
      "source": [
        "toptail_coord = np.array([sorted(train['lon'].unique())[:25], \n",
        "                          sorted(train['lat'].unique())[:25],\n",
        "                          sorted(train['lon'].unique())[-25:],\n",
        "                          sorted(train['lat'].unique())[-25:]]).T\n",
        "pd.DataFrame(toptail_coord, columns=['Head Lon', 'Head Lat', 'Tail Lon', 'Tail Lat'])"
      ],
      "metadata": {
        "colab": {
          "base_uri": "https://localhost:8080/",
          "height": 833
        },
        "id": "PrcL0j8ARVTl",
        "outputId": "4ed58e23-4d60-4e4b-97c6-20bbf4e1dcbf"
      },
      "execution_count": 10,
      "outputs": [
        {
          "output_type": "execute_result",
          "data": {
            "text/plain": [
              "     Head Lon   Head Lat    Tail Lon   Tail Lat\n",
              "0  -48.410211  -1.390007   30.542720  60.025871\n",
              "1    0.000000   0.000000   30.547211  60.026993\n",
              "2   18.846655  35.032142   30.549457  60.028115\n",
              "3   20.486080  41.303760   30.551703  60.029237\n",
              "4   23.690820  42.289870   30.553949  60.030359\n",
              "5   24.000739  42.996900   30.556194  60.031480\n",
              "6   29.406351  43.689392   30.558440  60.032602\n",
              "7   30.089070  52.116679   30.560686  60.033724\n",
              "8   30.091316  54.715007   30.562932  60.034846\n",
              "9   30.093562  54.774637   30.565178  60.035967\n",
              "10  30.095808  55.707975   30.567423  60.037089\n",
              "11  30.098054  55.721891   30.569669  60.038211\n",
              "12  30.100299  55.758554   30.574161  60.039332\n",
              "13  30.102545  56.959033   30.589881  60.040454\n",
              "14  30.104791  57.451661   30.610093  60.041575\n",
              "15  30.107037  59.656930   31.077217  60.042697\n",
              "16  30.109283  59.714740   32.047398  60.049425\n",
              "17  30.111528  59.747569   37.621444  60.052788\n",
              "18  30.113774  59.758881   37.639410  60.055030\n",
              "19  30.116020  59.806352   37.812336  60.059514\n",
              "20  30.120511  59.807482   40.251262  60.060635\n",
              "21  30.122757  59.818774   41.021567  60.072962\n",
              "22  30.125003  59.819903   62.098290  60.116629\n",
              "23  30.127249  59.821032   69.289304  60.179230\n",
              "24  30.129495  59.823290  137.136811  60.374090"
            ],
            "text/html": [
              "\n",
              "  <div id=\"df-3a4b8f95-167f-4985-804b-a9848bc5f592\">\n",
              "    <div class=\"colab-df-container\">\n",
              "      <div>\n",
              "<style scoped>\n",
              "    .dataframe tbody tr th:only-of-type {\n",
              "        vertical-align: middle;\n",
              "    }\n",
              "\n",
              "    .dataframe tbody tr th {\n",
              "        vertical-align: top;\n",
              "    }\n",
              "\n",
              "    .dataframe thead th {\n",
              "        text-align: right;\n",
              "    }\n",
              "</style>\n",
              "<table border=\"1\" class=\"dataframe\">\n",
              "  <thead>\n",
              "    <tr style=\"text-align: right;\">\n",
              "      <th></th>\n",
              "      <th>Head Lon</th>\n",
              "      <th>Head Lat</th>\n",
              "      <th>Tail Lon</th>\n",
              "      <th>Tail Lat</th>\n",
              "    </tr>\n",
              "  </thead>\n",
              "  <tbody>\n",
              "    <tr>\n",
              "      <th>0</th>\n",
              "      <td>-48.410211</td>\n",
              "      <td>-1.390007</td>\n",
              "      <td>30.542720</td>\n",
              "      <td>60.025871</td>\n",
              "    </tr>\n",
              "    <tr>\n",
              "      <th>1</th>\n",
              "      <td>0.000000</td>\n",
              "      <td>0.000000</td>\n",
              "      <td>30.547211</td>\n",
              "      <td>60.026993</td>\n",
              "    </tr>\n",
              "    <tr>\n",
              "      <th>2</th>\n",
              "      <td>18.846655</td>\n",
              "      <td>35.032142</td>\n",
              "      <td>30.549457</td>\n",
              "      <td>60.028115</td>\n",
              "    </tr>\n",
              "    <tr>\n",
              "      <th>3</th>\n",
              "      <td>20.486080</td>\n",
              "      <td>41.303760</td>\n",
              "      <td>30.551703</td>\n",
              "      <td>60.029237</td>\n",
              "    </tr>\n",
              "    <tr>\n",
              "      <th>4</th>\n",
              "      <td>23.690820</td>\n",
              "      <td>42.289870</td>\n",
              "      <td>30.553949</td>\n",
              "      <td>60.030359</td>\n",
              "    </tr>\n",
              "    <tr>\n",
              "      <th>5</th>\n",
              "      <td>24.000739</td>\n",
              "      <td>42.996900</td>\n",
              "      <td>30.556194</td>\n",
              "      <td>60.031480</td>\n",
              "    </tr>\n",
              "    <tr>\n",
              "      <th>6</th>\n",
              "      <td>29.406351</td>\n",
              "      <td>43.689392</td>\n",
              "      <td>30.558440</td>\n",
              "      <td>60.032602</td>\n",
              "    </tr>\n",
              "    <tr>\n",
              "      <th>7</th>\n",
              "      <td>30.089070</td>\n",
              "      <td>52.116679</td>\n",
              "      <td>30.560686</td>\n",
              "      <td>60.033724</td>\n",
              "    </tr>\n",
              "    <tr>\n",
              "      <th>8</th>\n",
              "      <td>30.091316</td>\n",
              "      <td>54.715007</td>\n",
              "      <td>30.562932</td>\n",
              "      <td>60.034846</td>\n",
              "    </tr>\n",
              "    <tr>\n",
              "      <th>9</th>\n",
              "      <td>30.093562</td>\n",
              "      <td>54.774637</td>\n",
              "      <td>30.565178</td>\n",
              "      <td>60.035967</td>\n",
              "    </tr>\n",
              "    <tr>\n",
              "      <th>10</th>\n",
              "      <td>30.095808</td>\n",
              "      <td>55.707975</td>\n",
              "      <td>30.567423</td>\n",
              "      <td>60.037089</td>\n",
              "    </tr>\n",
              "    <tr>\n",
              "      <th>11</th>\n",
              "      <td>30.098054</td>\n",
              "      <td>55.721891</td>\n",
              "      <td>30.569669</td>\n",
              "      <td>60.038211</td>\n",
              "    </tr>\n",
              "    <tr>\n",
              "      <th>12</th>\n",
              "      <td>30.100299</td>\n",
              "      <td>55.758554</td>\n",
              "      <td>30.574161</td>\n",
              "      <td>60.039332</td>\n",
              "    </tr>\n",
              "    <tr>\n",
              "      <th>13</th>\n",
              "      <td>30.102545</td>\n",
              "      <td>56.959033</td>\n",
              "      <td>30.589881</td>\n",
              "      <td>60.040454</td>\n",
              "    </tr>\n",
              "    <tr>\n",
              "      <th>14</th>\n",
              "      <td>30.104791</td>\n",
              "      <td>57.451661</td>\n",
              "      <td>30.610093</td>\n",
              "      <td>60.041575</td>\n",
              "    </tr>\n",
              "    <tr>\n",
              "      <th>15</th>\n",
              "      <td>30.107037</td>\n",
              "      <td>59.656930</td>\n",
              "      <td>31.077217</td>\n",
              "      <td>60.042697</td>\n",
              "    </tr>\n",
              "    <tr>\n",
              "      <th>16</th>\n",
              "      <td>30.109283</td>\n",
              "      <td>59.714740</td>\n",
              "      <td>32.047398</td>\n",
              "      <td>60.049425</td>\n",
              "    </tr>\n",
              "    <tr>\n",
              "      <th>17</th>\n",
              "      <td>30.111528</td>\n",
              "      <td>59.747569</td>\n",
              "      <td>37.621444</td>\n",
              "      <td>60.052788</td>\n",
              "    </tr>\n",
              "    <tr>\n",
              "      <th>18</th>\n",
              "      <td>30.113774</td>\n",
              "      <td>59.758881</td>\n",
              "      <td>37.639410</td>\n",
              "      <td>60.055030</td>\n",
              "    </tr>\n",
              "    <tr>\n",
              "      <th>19</th>\n",
              "      <td>30.116020</td>\n",
              "      <td>59.806352</td>\n",
              "      <td>37.812336</td>\n",
              "      <td>60.059514</td>\n",
              "    </tr>\n",
              "    <tr>\n",
              "      <th>20</th>\n",
              "      <td>30.120511</td>\n",
              "      <td>59.807482</td>\n",
              "      <td>40.251262</td>\n",
              "      <td>60.060635</td>\n",
              "    </tr>\n",
              "    <tr>\n",
              "      <th>21</th>\n",
              "      <td>30.122757</td>\n",
              "      <td>59.818774</td>\n",
              "      <td>41.021567</td>\n",
              "      <td>60.072962</td>\n",
              "    </tr>\n",
              "    <tr>\n",
              "      <th>22</th>\n",
              "      <td>30.125003</td>\n",
              "      <td>59.819903</td>\n",
              "      <td>62.098290</td>\n",
              "      <td>60.116629</td>\n",
              "    </tr>\n",
              "    <tr>\n",
              "      <th>23</th>\n",
              "      <td>30.127249</td>\n",
              "      <td>59.821032</td>\n",
              "      <td>69.289304</td>\n",
              "      <td>60.179230</td>\n",
              "    </tr>\n",
              "    <tr>\n",
              "      <th>24</th>\n",
              "      <td>30.129495</td>\n",
              "      <td>59.823290</td>\n",
              "      <td>137.136811</td>\n",
              "      <td>60.374090</td>\n",
              "    </tr>\n",
              "  </tbody>\n",
              "</table>\n",
              "</div>\n",
              "      <button class=\"colab-df-convert\" onclick=\"convertToInteractive('df-3a4b8f95-167f-4985-804b-a9848bc5f592')\"\n",
              "              title=\"Convert this dataframe to an interactive table.\"\n",
              "              style=\"display:none;\">\n",
              "        \n",
              "  <svg xmlns=\"http://www.w3.org/2000/svg\" height=\"24px\"viewBox=\"0 0 24 24\"\n",
              "       width=\"24px\">\n",
              "    <path d=\"M0 0h24v24H0V0z\" fill=\"none\"/>\n",
              "    <path d=\"M18.56 5.44l.94 2.06.94-2.06 2.06-.94-2.06-.94-.94-2.06-.94 2.06-2.06.94zm-11 1L8.5 8.5l.94-2.06 2.06-.94-2.06-.94L8.5 2.5l-.94 2.06-2.06.94zm10 10l.94 2.06.94-2.06 2.06-.94-2.06-.94-.94-2.06-.94 2.06-2.06.94z\"/><path d=\"M17.41 7.96l-1.37-1.37c-.4-.4-.92-.59-1.43-.59-.52 0-1.04.2-1.43.59L10.3 9.45l-7.72 7.72c-.78.78-.78 2.05 0 2.83L4 21.41c.39.39.9.59 1.41.59.51 0 1.02-.2 1.41-.59l7.78-7.78 2.81-2.81c.8-.78.8-2.07 0-2.86zM5.41 20L4 18.59l7.72-7.72 1.47 1.35L5.41 20z\"/>\n",
              "  </svg>\n",
              "      </button>\n",
              "      \n",
              "  <style>\n",
              "    .colab-df-container {\n",
              "      display:flex;\n",
              "      flex-wrap:wrap;\n",
              "      gap: 12px;\n",
              "    }\n",
              "\n",
              "    .colab-df-convert {\n",
              "      background-color: #E8F0FE;\n",
              "      border: none;\n",
              "      border-radius: 50%;\n",
              "      cursor: pointer;\n",
              "      display: none;\n",
              "      fill: #1967D2;\n",
              "      height: 32px;\n",
              "      padding: 0 0 0 0;\n",
              "      width: 32px;\n",
              "    }\n",
              "\n",
              "    .colab-df-convert:hover {\n",
              "      background-color: #E2EBFA;\n",
              "      box-shadow: 0px 1px 2px rgba(60, 64, 67, 0.3), 0px 1px 3px 1px rgba(60, 64, 67, 0.15);\n",
              "      fill: #174EA6;\n",
              "    }\n",
              "\n",
              "    [theme=dark] .colab-df-convert {\n",
              "      background-color: #3B4455;\n",
              "      fill: #D2E3FC;\n",
              "    }\n",
              "\n",
              "    [theme=dark] .colab-df-convert:hover {\n",
              "      background-color: #434B5C;\n",
              "      box-shadow: 0px 1px 3px 1px rgba(0, 0, 0, 0.15);\n",
              "      filter: drop-shadow(0px 1px 2px rgba(0, 0, 0, 0.3));\n",
              "      fill: #FFFFFF;\n",
              "    }\n",
              "  </style>\n",
              "\n",
              "      <script>\n",
              "        const buttonEl =\n",
              "          document.querySelector('#df-3a4b8f95-167f-4985-804b-a9848bc5f592 button.colab-df-convert');\n",
              "        buttonEl.style.display =\n",
              "          google.colab.kernel.accessAllowed ? 'block' : 'none';\n",
              "\n",
              "        async function convertToInteractive(key) {\n",
              "          const element = document.querySelector('#df-3a4b8f95-167f-4985-804b-a9848bc5f592');\n",
              "          const dataTable =\n",
              "            await google.colab.kernel.invokeFunction('convertToInteractive',\n",
              "                                                     [key], {});\n",
              "          if (!dataTable) return;\n",
              "\n",
              "          const docLinkHtml = 'Like what you see? Visit the ' +\n",
              "            '<a target=\"_blank\" href=https://colab.research.google.com/notebooks/data_table.ipynb>data table notebook</a>'\n",
              "            + ' to learn more about interactive tables.';\n",
              "          element.innerHTML = '';\n",
              "          dataTable['output_type'] = 'display_data';\n",
              "          await google.colab.output.renderOutput(dataTable, element);\n",
              "          const docLink = document.createElement('div');\n",
              "          docLink.innerHTML = docLinkHtml;\n",
              "          element.appendChild(docLink);\n",
              "        }\n",
              "      </script>\n",
              "    </div>\n",
              "  </div>\n",
              "  "
            ]
          },
          "metadata": {},
          "execution_count": 10
        }
      ]
    },
    {
      "cell_type": "code",
      "source": [
        "le = LabelEncoder()\n",
        "le.fit(train['point'])"
      ],
      "metadata": {
        "colab": {
          "base_uri": "https://localhost:8080/"
        },
        "id": "JhaHO1rxuygl",
        "outputId": "e1012ba2-faf9-459a-d861-e2e1957f9c7c"
      },
      "execution_count": 11,
      "outputs": [
        {
          "output_type": "execute_result",
          "data": {
            "text/plain": [
              "LabelEncoder()"
            ]
          },
          "metadata": {},
          "execution_count": 11
        }
      ]
    },
    {
      "cell_type": "code",
      "source": [
        "# remove outlier data based on lat lon (meaning the data isn't from spb area)\n",
        "# SPB Longitude: 30.308611\n",
        "# SPB Latitude: 59.937500\n",
        "# Longitude Range: 29.406351 - 32.047398\n",
        "# Latitude Range: 59.656930 - 60.374090\n",
        "\n",
        "lon_min, lon_max = 29.406351, 32.047398\n",
        "lat_min, lat_max = 59.656930, 60.374090\n",
        "\n",
        "train_old_size = len(train)\n",
        "valid_old_size = len(valid)\n",
        "print(f'Original train size: {train_old_size}.')\n",
        "print(f'Original valid size: {valid_old_size}.')\n",
        "train = train[(train['lon'] >= lon_min) &\\\n",
        "                         (train['lon'] <= lon_max) &\\\n",
        "                         (train['lat'] >= lat_min) &\\\n",
        "                         (train['lat'] <= lat_max)]\n",
        "\n",
        "# valid = valid[(valid['lon'] >= lon_min) &\\\n",
        "#                          (valid['lon'] <= lon_max) &\\\n",
        "#                          (valid['lat'] >= lat_min) &\\\n",
        "#                          (valid['lat'] <= lat_max)]\n",
        "\n",
        "print(f'Without outlier train size: {len(train)}.')\n",
        "# print(f'Without outlier valid size: {len(valid)}.')\n",
        "print(f'{train_old_size - len(train)} outliers train data dropped.')\n",
        "# print(f'{valid_old_size - len(valid)} outliers valid data dropped.')"
      ],
      "metadata": {
        "colab": {
          "base_uri": "https://localhost:8080/"
        },
        "id": "564l5GrFU6ta",
        "outputId": "cd981ab3-d0e8-4a16-eb7f-ec59f25a2da2"
      },
      "execution_count": 12,
      "outputs": [
        {
          "output_type": "stream",
          "name": "stdout",
          "text": [
            "Original train size: 8526526.\n",
            "Original valid size: 709.\n",
            "Without outlier train size: 8450458.\n",
            "76068 outliers train data dropped.\n"
          ]
        }
      ]
    },
    {
      "cell_type": "code",
      "source": [
        "# check filtered lat lon\n",
        "fig = px.scatter_mapbox(train.drop_duplicates('point'), \n",
        "                        lat='lat', \n",
        "                        lon='lon',\n",
        "                        zoom=9,\n",
        "                        size='likescount',\n",
        "                        height=500,\n",
        "                        width=1000)\n",
        "fig.update_layout(mapbox_style='open-street-map')\n",
        "fig.update_layout(margin={'r':0, 't':0, 'l':0, 'b':0})\n",
        "fig.show()"
      ],
      "metadata": {
        "colab": {
          "base_uri": "https://localhost:8080/",
          "height": 517
        },
        "id": "FSxmuD9NNQyl",
        "outputId": "cbbcad82-80ad-49b0-93d8-cbd1a9c170f1"
      },
      "execution_count": 13,
      "outputs": [
        {
          "output_type": "display_data",
          "data": {
            "text/html": [
              "<html>\n",
              "<head><meta charset=\"utf-8\" /></head>\n",
              "<body>\n",
              "    <div>            <script src=\"https://cdnjs.cloudflare.com/ajax/libs/mathjax/2.7.5/MathJax.js?config=TeX-AMS-MML_SVG\"></script><script type=\"text/javascript\">if (window.MathJax) {MathJax.Hub.Config({SVG: {font: \"STIX-Web\"}});}</script>                <script type=\"text/javascript\">window.PlotlyConfig = {MathJaxConfig: 'local'};</script>\n",
              "        <script src=\"https://cdn.plot.ly/plotly-2.8.3.min.js\"></script>                <div id=\"786d11c4-dba2-45cb-8790-a2f1b9b0b2af\" class=\"plotly-graph-div\" style=\"height:500px; width:1000px;\"></div>            <script type=\"text/javascript\">                                    window.PLOTLYENV=window.PLOTLYENV || {};                                    if (document.getElementById(\"786d11c4-dba2-45cb-8790-a2f1b9b0b2af\")) {                    Plotly.newPlot(                        \"786d11c4-dba2-45cb-8790-a2f1b9b0b2af\",                        [{\"hovertemplate\":\"likescount=%{marker.size}<br>lat=%{lat}<br>lon=%{lon}<extra></extra>\",\"lat\":[59.94048754777036,59.8695422185115,60.03933228251395,59.93823764413683,59.932612217166536,59.85939479432693,59.97309399995937,59.94161244234315,59.92473501631175,59.93486250245378,59.93148701727075,59.84134728385376,59.93373737889392,59.9551082008659,59.919107299057465,60.004545657872285,59.87517833877261,59.852628124816725,59.92586044523594,59.977588924099706,59.93486250245378,60.0236267277979,59.93486250245378,59.93148701727075,59.97421778819836,59.93373737889392,59.852628124816725,59.92135850048929,59.85601163159266,59.935987587847,59.94948563587889,59.83909065683245,59.94948563587889,59.93373737889392,59.84360375792299,59.984330166309526,59.94161244234315,60.00230010204685,59.958481282037226,59.852628124816725,59.90897500266847,59.90784900103776,59.95623259940636,59.95735695979653,59.87743251938528,59.85150021276701,59.92135850048929,59.971970173582974,59.88081350372747,59.96185401987135,59.94048754777036,59.83119125766129,59.9292365029706,59.96297818952292,59.86841487981305,59.96747448668645,59.93936261503522,59.83119125766129,59.85601163159266,59.98320672126816,59.94948563587889,59.919107299057465,59.93823764413683,59.932612217166536,59.91347862733533,59.935987587847,59.90672296121975,59.91573021056722,59.87743251938528,59.93148701727075,59.8582671116409,59.99556251978391,59.91460443804235,59.92698583598656,59.85601163159266,59.8965868842863,59.85939479432693,59.85939479432693,59.951734776334064,59.93373737889392,59.94161244234315,60.00791370576335,59.94948563587889,59.8695422185115,59.94723634280179,59.982083238097154,59.98545357322217,59.83796228596263,59.9551082008659,59.94273729875442,59.94048754777036,59.94386211700508,59.94273729875442,59.94723634280179,59.93936261503522,59.92698583598656,59.93373737889392,59.98994681960231,59.91685594491079,59.93148701727075,59.96859846562096,59.86841487981305,59.85037226248704,60.022504616749856,60.01464877258133,59.95623259940636,59.92586044523594,59.982083238097154,59.9292365029706,60.01689349000102,59.86616008776313,59.88757444082032,59.88870112995431,59.9551082008659,59.971970173582974,60.004545657872285,59.85375599863699,59.97871255979781,60.00230010204685,59.94611163902791,59.9292365029706,60.03821070476726,59.94048754777036,60.03821070476726,59.99219321404225,59.86503263440992,59.88982778088639,59.96297818952292,59.960729812073794,59.98657694200688,59.94498689709594,59.92023291886231,59.89320750447957,59.93486250245378,59.84247554000695,59.96297818952292,60.010158880469376,59.96522641439151,59.94498689709594,59.92811118856449,59.97309399995937,59.984330166309526,59.91460443804235,59.94498689709594,59.94048754777036,59.94611163902791,59.83231985798753,59.92248404393929,59.89996592032976,59.93936261503522,59.98657694200688,59.950610225183794,59.85488383422868,59.93823764413683,59.94498689709594,59.93711263507439,59.94161244234315,59.84924427397591,59.86390514283672,59.971970173582974,59.91460443804235,60.022504616749856,59.93148701727075,59.93373737889392,59.87179678125955,59.84586007904705,59.96747448668645,59.93373737889392,59.84586007904705,59.92473501631175,59.89996592032976,59.94386211700508,59.94048754777036,59.93711263507439,59.930361779205725,59.93936261503522,59.94611163902791,59.91010096611272,60.033724012898425,59.92360954921317,59.93823764413683,60.03035859404648,59.88982778088639,59.91235277844529,59.91460443804235,59.92135850048929,59.93486250245378,60.00903631217126,59.93823764413683,59.87066951899336,59.93936261503522,59.92698583598656,59.99893148244436,59.932612217166536,59.8695422185115,59.94498689709594,59.8695422185115,60.03260224470638,59.9483610084185,59.94048754777036,59.83231985798753,59.8695422185115,59.85037226248704,59.84134728385376,59.89320750447957,60.013526356713705,60.01464877258133,59.93486250245378,59.93823764413683,59.95285928933061,60.03035859404648,59.86503263440992,59.9483610084185,59.97084630906837,60.01689349000102,60.01689349000102,60.03148043842269,59.9483610084185,59.94611163902791,59.99107003588408,59.97421778819836,60.01240390273974,59.87405119114831,59.98657694200688,59.92811118856449,59.86841487981305,59.99219321404225,59.9292365029706,60.01801579155483,59.94948563587889,59.94386211700508,59.96747448668645,59.9551082008659,59.86165004502693,59.88644771348351,59.97421778819836,59.94611163902791,59.8582671116409,59.84134728385376,59.92135850048929,59.92135850048929,59.91347862733533,59.86390514283672,59.98545357322217,59.932612217166536,59.932612217166536,59.91460443804235,59.93711263507439,60.03708908893322,59.93823764413683,59.98545357322217,59.932612217166536,59.93486250245378,60.00342289901664,59.982083238097154,59.94161244234315,60.01913805500574,59.86616008776313,59.8965868842863,59.92023291886231,59.935987587847,59.93373737889392,60.00679106124481,60.00117726696214,59.833448420068855,59.84473193760274,59.9551082008659,60.0112814106586,59.93486250245378,59.92248404393929,59.98320672126816,59.85037226248704,59.84811624723277,60.00005439376158,59.83231985798753,59.969722406414654,59.92473501631175,59.94611163902791,59.9483610084185,59.935987587847,60.02138246760239,59.94048754777036,59.8695422185115,59.9483610084185,59.94273729875442,59.96859846562096,59.83119125766129,59.930361779205725,59.94386211700508,59.94498689709594,59.93823764413683,59.93936261503522,59.85601163159266,59.88532094794305,59.94386211700508,60.00117726696214,59.93711263507439,60.03933228251395,59.98657694200688,59.8582671116409,59.8695422185115,59.84586007904705,59.92360954921317,59.969722406414654,59.951734776334064,59.96859846562096,59.86728750289723,59.92811118856449,59.935987587847,59.960729812073794,59.98657694200688,60.0112814106586,59.99893148244436,59.8965868842863,59.86277761304268,60.01577115034348,59.93486250245378,60.004545657872285,59.94048754777036,59.87179678125955,59.94948563587889,59.95285928933061,59.92698583598656,59.92360954921317,60.025870835599136,59.932612217166536,59.97309399995937,59.93711263507439,59.9292365029706,59.90559688321354,59.92023291886231,59.95735695979653,59.87292400531091,59.93823764413683,59.833448420068855,59.93148701727075,59.93486250245378,59.93373737889392,59.94161244234315,59.97983615736284,60.00903631217126,59.90784900103776,59.93711263507439,59.95735695979653,59.87630544818465,59.88306730224773,59.87405119114831,59.96635046961026,59.94386211700508,59.92473501631175,59.96635046961026,59.84473193760274,59.97309399995937,60.03484574299966,59.90221842005726,59.94048754777036,59.92473501631175,59.93823764413683,59.98095971679568,59.92698583598656,59.93373737889392,60.00005439376158,59.932612217166536,59.89208096814816,59.83683387685223,59.8582671116409,59.969722406414654,59.94386211700508,59.90109218928974,60.010158880469376,59.95735695979653,59.86277761304268,59.98545357322217,60.00903631217126,59.932612217166536,59.89546046254779,60.020260280354655,59.93823764413683,59.94273729875442,59.911226891371385,59.96747448668645,59.96297818952292,59.87630544818465,59.87066951899336,59.958481282037226,59.96522641439151,59.85375599863699,59.93936261503522,59.94498689709594,59.89320750447957,59.95960556612937,59.93148701727075,59.83006261908929,59.96747448668645,59.95735695979653,59.93711263507439,59.8582671116409,59.83909065683245,59.93823764413683,59.92248404393929,59.951734776334064,59.91235277844529,59.96635046961026,59.94048754777036,59.94498689709594,59.94386211700508,59.932612217166536,59.94611163902791,60.033724012898425,59.90334461263316,59.98657694200688,59.91235277844529,59.984330166309526,59.83570542950036,59.9551082008659,59.98320672126816,59.85037226248704,59.89208096814816,59.92586044523594,59.93711263507439,59.935987587847,59.83570542950036,59.932612217166536,59.9483610084185,59.93936261503522,60.0112814106586,59.93486250245378,59.99556251978391,59.930361779205725,59.840218989462535,59.93936261503522,59.960729812073794,59.93823764413683,59.932612217166536,59.92698583598656,59.83006261908929,59.94948563587889,59.85150021276701,60.02923671157687,59.88757444082032,59.9483610084185,60.004545657872285,59.86728750289723,59.935987587847,59.977588924099706,59.930361779205725,59.85375599863699,59.84811624723277,59.96747448668645,59.93148701727075,59.87292400531091,59.89320750447957,59.93373737889392,59.950610225183794,59.982083238097154,59.88419414419808,59.92248404393929,59.92586044523594,59.91010096611272,59.919107299057465,59.97983615736284,59.96185401987135,59.93486250245378,59.9483610084185,60.04045382217418,59.935987587847,59.950610225183794,60.03484574299966,59.840218989462535,59.90221842005726,59.94498689709594,59.93936261503522,59.85150021276701,59.977588924099706,59.97084630906837,59.94948563587889,59.96635046961026,59.958481282037226,59.94048754777036,59.98320672126816,59.86277761304268,60.022504616749856,59.92811118856449,59.90221842005726,59.90559688321354,59.93936261503522,59.93148701727075,60.02923671157687,59.84924427397591,59.833448420068855,59.94948563587889,59.92811118856449,59.83119125766129,59.94386211700508,59.932612217166536,59.84360375792299,59.84924427397591,59.92811118856449,59.890954393617385,59.84924427397591,59.92811118856449,60.02138246760239,59.97421778819836,59.91347862733533,60.00679106124481,59.93148701727075,59.86277761304268,59.85150021276701,59.92698583598656,59.97309399995937,59.88644771348351,59.9551082008659,59.8695422185115,60.03708908893322,59.89771326782888,59.93711263507439,59.97983615736284,60.00791370576335,59.86503263440992,59.84924427397591,59.98994681960231,59.94498689709594,59.93823764413683,59.950610225183794,59.932612217166536,59.98320672126816,60.02474880074738,60.00342289901664,59.96522641439151,60.01240390273974,59.82893394227072,60.00791370576335,59.95398376417426,59.8582671116409,59.94161244234315,59.96859846562096,59.9551082008659,59.88306730224773,59.85375599863699,59.930361779205725,59.94498689709594,59.9944394559913,59.930361779205725,60.01577115034348,59.93148701727075,59.93373737889392,59.86390514283672,59.92698583598656,59.950610225183794,59.86841487981305,59.90897500266847,59.8345769439062,59.935987587847,59.94161244234315,59.984330166309526,59.92811118856449,59.87743251938528,59.93936261503522,59.935987587847,59.88532094794305,59.96410232102935,59.987700272664576,59.91460443804235,59.93711263507439,59.88982778088639,60.013526356713705,59.94161244234315,59.958481282037226,60.02811479101304,59.977588924099706,59.852628124816725,59.969722406414654,60.01801579155483,59.93148701727075,59.85037226248704,59.95735695979653,59.95960556612937,59.9933163540777,59.95960556612937,59.90897500266847,59.87968654715585,59.94273729875442,59.969722406414654,59.94273729875442,59.852628124816725,59.83119125766129,60.00903631217126,59.93711263507439,59.951734776334064,59.85150021276701,59.94948563587889,60.01801579155483,59.99780853300957,59.90559688321354,59.84360375792299,60.004545657872285,59.8345769439062,59.904470767018296,59.90109218928974,59.92698583598656,59.92473501631175,59.987700272664576,59.90672296121975,59.91235277844529,59.91347862733533,59.96747448668645,59.96859846562096,59.94948563587889,59.99107003588408,59.932612217166536,59.90897500266847,59.984330166309526,59.96859846562096,59.93148701727075,59.95623259940636,59.96635046961026,59.950610225183794,59.911226891371385,59.96747448668645,60.01689349000102,59.83570542950036,59.975341538300846,59.84134728385376,60.03484574299966,59.904470767018296,59.932612217166536,60.00117726696214,60.013526356713705,59.969722406414654,59.84473193760274,59.930361779205725,59.85037226248704,60.035967435010974,60.00117726696214,59.840218989462535,59.93936261503522,59.9292365029706,59.919107299057465,59.94386211700508,59.91685594491079,60.022504616749856,59.92811118856449,59.95398376417426,60.00117726696214,59.9933163540777,59.91010096611272,59.95735695979653,59.987700272664576,59.87179678125955,60.03260224470638,59.90334461263316,59.86390514283672,59.96297818952292,59.83909065683245,59.89996592032976,59.87292400531091,60.02811479101304,59.93711263507439,59.94948563587889,60.00791370576335,59.93936261503522,60.00566837861474,59.92023291886231,59.91573021056722,59.89546046254779,59.83683387685223,60.00342289901664,59.93711263507439,59.99107003588408,59.92360954921317,59.96859846562096,59.85150021276701,59.9933163540777,59.86841487981305,59.85150021276701,59.96747448668645,59.97421778819836,59.92473501631175,59.85375599863699,59.9944394559913,59.96747448668645,60.04045382217418,59.86390514283672,59.86728750289723,59.969722406414654,59.97871255979781,59.85150021276701,59.8695422185115,59.958481282037226,59.960729812073794,59.93823764413683,60.00005439376158,59.93373737889392,59.92698583598656,59.94723634280179,59.930361779205725,59.8582671116409,59.951734776334064,59.9551082008659,59.86503263440992,59.86503263440992,59.94498689709594,59.84473193760274,59.83119125766129,59.958481282037226,59.930361779205725,59.932612217166536,59.91347862733533,60.01464877258133,60.004545657872285,59.9483610084185,59.97983615736284,60.01464877258133,59.987700272664576,59.935987587847,59.92360954921317,59.97084630906837,59.84360375792299,59.9944394559913,59.94273729875442,59.83231985798753,59.93148701727075,59.96185401987135,59.99219321404225,59.93823764413683,59.84247554000695,59.94048754777036,60.04157532374879,59.83909065683245,60.01801579155483,59.85150021276701,59.93486250245378,59.988823565196114,59.8785595523754,59.92360954921317,59.94161244234315,59.93486250245378,59.96297818952292,59.89996592032976,59.93486250245378,59.960729812073794,59.94611163902791,60.02811479101304,59.89771326782888,59.96522641439151,59.92811118856449,59.85150021276701,59.87292400531091,60.025870835599136,60.00117726696214,59.83231985798753,59.91010096611272,60.0112814106586,59.92248404393929,59.9292365029706,60.01577115034348,59.97421778819836,60.00679106124481,60.04045382217418,60.00791370576335,59.971970173582974,59.840218989462535,59.984330166309526,59.95398376417426,59.93823764413683,59.85488383422868,59.84473193760274,59.90221842005726,59.93148701727075,59.94273729875442,59.91685594491079,59.930361779205725,59.96185401987135,59.919107299057465,60.004545657872285,60.00005439376158,59.85713939072978,59.94273729875442,60.033724012898425,59.90109218928974,59.94161244234315,59.94498689709594,59.91235277844529,59.88757444082032,59.84924427397591,59.90784900103776,59.94386211700508,59.93711263507439,59.93486250245378,59.92473501631175,59.85150021276701,59.83570542950036,59.92135850048929,59.99780853300957,59.92473501631175,59.89546046254779,59.97309399995937,60.03260224470638,59.932612217166536,59.9292365029706,59.9292365029706,59.86503263440992,59.86390514283672,59.85037226248704,59.86503263440992,59.83570542950036,59.90897500266847,59.932612217166536,59.86277761304268,59.840218989462535,59.90897500266847,59.90672296121975,59.95735695979653,59.93711263507439,59.86841487981305,59.988823565196114,60.03148043842269,59.93711263507439,59.958481282037226,59.94386211700508,59.83909065683245,59.94048754777036,59.96185401987135,59.96410232102935,59.94386211700508,59.98657694200688,59.86277761304268,59.93711263507439,59.86728750289723,59.84811624723277,59.95398376417426,59.93148701727075,59.92473501631175,60.03260224470638,59.94273729875442,59.8345769439062,59.93373737889392,59.85037226248704,59.98320672126816,60.03148043842269,59.86390514283672,59.969722406414654,59.90672296121975,59.92135850048929,60.03484574299966,59.86165004502693,60.035967435010974,59.833448420068855,59.92473501631175,59.91573021056722,60.03821070476726,59.91010096611272,59.96859846562096,59.984330166309526,59.9483610084185,60.03148043842269,60.00791370576335,59.96747448668645,59.935987587847,59.9551082008659,59.94948563587889,59.84473193760274,59.96635046961026,59.94611163902791,59.97421778819836,59.90334461263316,60.01689349000102,59.935987587847,60.035967435010974,59.92698583598656,59.92135850048929,59.83796228596263,60.01240390273974,59.83119125766129,59.984330166309526,59.93148701727075,59.93148701727075,59.86616008776313,60.004545657872285,59.988823565196114,59.93823764413683,59.95285928933061,59.84134728385376,59.9551082008659,59.89320750447957,60.02699283235407,59.98545357322217,59.89996592032976,59.97309399995937,59.8582671116409,59.84360375792299,59.85150021276701,59.98095971679568,59.91685594491079,59.950610225183794,59.85939479432693,59.930361779205725,59.97646525026767,59.90221842005726,60.03821070476726,59.91460443804235,59.97421778819836,59.90334461263316,59.92811118856449,59.97646525026767,59.85375599863699,59.92360954921317,60.03484574299966,59.90672296121975,60.03035859404648,59.85713939072978,59.86165004502693,59.95735695979653,59.93936261503522,59.95285928933061,59.86165004502693,59.87743251938528,60.02923671157687,59.84134728385376,59.840218989462535,59.977588924099706,59.9944394559913,59.93373737889392,59.96410232102935,60.00679106124481,59.87179678125955,59.98657694200688,59.92135850048929,59.93373737889392,59.87179678125955,59.83570542950036,59.84134728385376,59.86616008776313,59.975341538300846,59.94498689709594,59.84698818225677,59.85375599863699,60.00230010204685,59.833448420068855,59.86052243878864,59.94048754777036,59.90784900103776,59.84924427397591,59.99893148244436,59.86390514283672,59.85375599863699,59.90784900103776,59.86841487981305,59.98657694200688,59.86390514283672,59.9933163540777,59.8785595523754,59.83119125766129,59.9933163540777,59.87968654715585,60.00566837861474,59.93148701727075,59.85488383422868,59.87968654715585,59.95285928933061,59.971970173582974,59.935987587847,59.87968654715585,59.8582671116409,59.911226891371385,59.971970173582974,59.930361779205725,59.97309399995937,59.894334002612496,59.94498689709594,59.86616008776313,60.00566837861474,59.890954393617385,59.94723634280179,59.930361779205725,59.93936261503522,59.83570542950036,59.85939479432693,59.89320750447957,60.01464877258133,59.84698818225677,59.88081350372747,59.86616008776313,59.9179816410739,59.90221842005726,59.935987587847,59.833448420068855,59.89208096814816,59.87743251938528,59.84473193760274,59.86277761304268,59.94723634280179,59.93711263507439,59.935987587847,60.00566837861474,59.96410232102935,59.95285928933061,59.88306730224773,59.919107299057465,59.87292400531091,59.92135850048929,59.91573021056722,59.92473501631175,59.94723634280179,59.94273729875442,59.93148701727075,59.987700272664576,59.911226891371385,59.98994681960231,59.92360954921317,59.93936261503522,59.951734776334064,59.919107299057465,59.93711263507439,60.00117726696214,59.84134728385376,59.8695422185115,59.87405119114831,59.86841487981305,59.83796228596263,59.97983615736284,59.930361779205725,59.951734776334064,59.85150021276701,59.94386211700508,59.9483610084185,59.84247554000695,59.90109218928974,59.99107003588408,59.92811118856449,59.85601163159266,59.911226891371385,60.0236267277979,59.93373737889392,59.92586044523594,59.87517833877261,59.94948563587889,59.84473193760274,60.01577115034348,59.960729812073794,59.91235277844529,59.86728750289723,59.960729812073794,60.03484574299966,59.85939479432693,59.94611163902791,59.904470767018296,59.91460443804235,59.84473193760274,59.94611163902791,59.85488383422868,59.85150021276701,60.01240390273974,59.95398376417426,59.89996592032976,59.90221842005726,59.94723634280179,59.85713939072978,59.94611163902791,59.84247554000695,60.004545657872285,59.85037226248704,59.9933163540777,59.932612217166536,60.00679106124481,59.95735695979653,59.982083238097154,60.03708908893322,59.95623259940636,59.93711263507439,59.984330166309526,59.9551082008659,59.930361779205725,59.94611163902791,59.92473501631175,59.84924427397591,59.935987587847,59.99556251978391,59.90784900103776,59.935987587847,59.87292400531091,60.03821070476726,59.9292365029706,59.83909065683245,59.9292365029706,59.93823764413683,60.025870835599136,59.969722406414654,59.95285928933061,59.97084630906837,59.84473193760274,59.94611163902791,59.932612217166536,59.91685594491079,59.8965868842863,59.99107003588408,59.85601163159266,60.00230010204685,60.004545657872285,59.92698583598656,60.03708908893322,59.8695422185115,59.90221842005726,59.904470767018296,60.004545657872285,59.930361779205725,59.960729812073794,59.96410232102935,59.98994681960231,59.83570542950036,59.92586044523594,59.8695422185115,60.01801579155483,59.87066951899336,59.86616008776313,60.02474880074738,59.83683387685223,59.98095971679568,59.93148701727075,59.969722406414654,59.92360954921317,60.00005439376158,59.93823764413683,59.950610225183794,59.833448420068855,59.96635046961026,59.969722406414654,60.02811479101304,59.911226891371385,60.00791370576335,59.97421778819836,60.00566837861474,59.9179816410739,60.03821070476726,59.91010096611272,59.92586044523594,59.88644771348351,59.852628124816725,59.85375599863699,59.90559688321354,59.85601163159266,59.98545357322217,59.96859846562096,59.935987587847,59.9933163540777,59.86728750289723,59.92473501631175,59.83119125766129,59.94273729875442,59.9179816410739,59.94273729875442,59.98320672126816,59.91573021056722,59.932612217166536,59.92360954921317,60.03484574299966,59.84811624723277,60.03821070476726,60.010158880469376,59.988823565196114,59.92586044523594,59.85375599863699,59.94386211700508,59.982083238097154,60.00566837861474,59.932612217166536,59.91460443804235,59.85037226248704,59.85939479432693,59.88081350372747,60.00230010204685,59.975341538300846,59.90672296121975,59.971970173582974,59.94161244234315,59.85488383422868,60.01913805500574,60.013526356713705,59.96185401987135,59.89883961317642,59.90897500266847,59.94498689709594,59.87968654715585,59.97309399995937,59.92360954921317,59.93373737889392,59.95735695979653,59.960729812073794,59.86616008776313,59.82893394227072,59.83231985798753,59.97646525026767,59.96522641439151,59.84247554000695,59.91460443804235,59.9551082008659,59.93373737889392,60.00117726696214,59.87968654715585,59.911226891371385,59.85375599863699,59.93486250245378,59.95735695979653,59.88306730224773,59.89996592032976,59.87968654715585,59.92135850048929,59.92473501631175,59.94161244234315,59.87517833877261,60.01240390273974,59.92360954921317,59.85375599863699,59.91685594491079,59.93148701727075,59.95623259940636,59.98095971679568,59.840218989462535,59.97983615736284,59.88982778088639,59.97084630906837,60.03484574299966,59.969722406414654,59.86052243878864,59.85375599863699,59.89996592032976,60.03821070476726,59.919107299057465,59.98545357322217,59.85150021276701,59.932612217166536,59.9551082008659,59.93711263507439,59.83119125766129,59.85713939072978,59.96297818952292,59.84360375792299,60.00566837861474,59.98657694200688,60.00117726696214,59.977588924099706,59.92586044523594,59.90897500266847,59.9292365029706,59.930361779205725,60.02699283235407,59.94948563587889,59.951734776334064,59.833448420068855,59.92023291886231,60.03260224470638,59.94273729875442,60.00679106124481,59.85601163159266,59.84473193760274,59.91460443804235,59.92135850048929,59.84698818225677,59.87179678125955,59.93823764413683,59.87743251938528,59.88419414419808,59.90221842005726,59.90559688321354,59.88870112995431,59.93711263507439,59.90784900103776,60.03035859404648,59.83006261908929,59.987700272664576,59.852628124816725,60.00005439376158,59.98095971679568,59.96410232102935,59.83231985798753,59.94048754777036,60.035967435010974,59.96297818952292,59.99219321404225,59.87743251938528,60.01913805500574,59.90221842005726,59.91460443804235,60.0236267277979,59.92473501631175,60.02811479101304,59.8695422185115,59.98320672126816,59.99107003588408,60.02811479101304,59.935987587847,59.99780853300957,59.83231985798753,59.86841487981305,59.93148701727075,59.9551082008659,59.82893394227072,59.85601163159266,59.85939479432693,59.83231985798753,59.86616008776313,59.93148701727075,59.83231985798753,59.987700272664576,59.91235277844529,59.84134728385376,59.88081350372747,59.98095971679568,59.97983615736284,59.84473193760274,59.93373737889392,59.971970173582974,59.91235277844529,59.91347862733533,60.03933228251395,59.91460443804235,60.02699283235407,59.91235277844529,60.00679106124481,59.96635046961026,59.86728750289723,59.975341538300846,59.86841487981305,59.92248404393929,59.86616008776313,59.93373737889392,59.9551082008659,59.935987587847,60.00566837861474,59.85037226248704,59.88306730224773,59.93148701727075,59.87968654715585,59.958481282037226,59.86728750289723,59.96297818952292,60.03035859404648,59.958481282037226,59.88870112995431,59.982083238097154,59.96185401987135,60.025870835599136,59.88757444082032,59.90109218928974,59.86616008776313,60.05503037228068,59.96635046961026,59.98545357322217,59.95960556612937,60.00791370576335,59.87743251938528,59.98994681960231,59.84473193760274,60.013526356713705,59.9179816410739,59.98320672126816,59.83231985798753,59.98657694200688,59.8695422185115,60.0112814106586,60.03148043842269,59.97309399995937,60.04045382217418,60.03260224470638,60.04045382217418,59.86165004502693,59.98994681960231,59.95735695979653,59.96635046961026,59.93711263507439,60.02699283235407,60.03821070476726,59.83119125766129,59.88081350372747,59.89771326782888,59.92360954921317,59.88081350372747,59.82893394227072,60.035967435010974,60.02699283235407,59.95398376417426,59.92248404393929,60.01577115034348,60.03933228251395,60.01464877258133,59.93936261503522,59.930361779205725,59.84811624723277,59.852628124816725,59.95398376417426,59.97646525026767,59.88306730224773,59.86052243878864,60.00005439376158,59.98657694200688,59.84811624723277,59.9292365029706,59.86390514283672,59.94723634280179,59.96859846562096,60.00005439376158,59.930361779205725,60.00230010204685,60.00005439376158,59.96522641439151,60.03260224470638,60.01577115034348,59.99556251978391,59.92360954921317,59.97983615736284,59.969722406414654,59.8965868842863,59.988823565196114,59.90672296121975,59.90334461263316,59.97084630906837,60.03148043842269,59.950610225183794,59.96522641439151,59.86052243878864,59.95285928933061,59.86503263440992,59.84360375792299,59.93823764413683,60.01577115034348,59.94161244234315,59.84698818225677,59.85375599863699,59.96859846562096,59.94611163902791,59.93486250245378,60.00566837861474,60.03708908893322,59.94611163902791,59.95398376417426,59.86616008776313,59.85150021276701,59.92473501631175,59.950610225183794,59.86841487981305,59.97421778819836,59.97646525026767,59.87405119114831,59.92473501631175,59.90897500266847,60.00342289901664,59.982083238097154,59.87968654715585,60.03260224470638,59.984330166309526,59.88532094794305,60.00679106124481,60.00005439376158,59.950610225183794,59.87405119114831,59.91573021056722,59.94948563587889,59.87066951899336,59.94611163902791,60.035967435010974,59.94611163902791,59.9933163540777,59.919107299057465,60.020260280354655,60.033724012898425,59.83119125766129,59.85037226248704,59.94611163902791,59.97084630906837,59.89208096814816,59.84811624723277,59.99556251978391,59.919107299057465,60.02474880074738,59.86841487981305,59.852628124816725,60.00005439376158,60.00791370576335,59.9483610084185,59.83231985798753,59.95398376417426,59.96297818952292,60.004545657872285,59.8345769439062,59.90221842005726,59.87066951899336,59.89771326782888,59.90897500266847,60.035967435010974,59.930361779205725,59.93936261503522,59.87630544818465,59.86841487981305,59.94948563587889,59.89208096814816,60.01801579155483,59.86277761304268,59.890954393617385,59.95285928933061,59.90334461263316,60.01689349000102,59.971970173582974,60.02699283235407,59.87179678125955,59.95285928933061,59.95623259940636,59.92360954921317,60.00566837861474,59.85713939072978,60.00566837861474,59.94948563587889,60.022504616749856,59.89771326782888,59.97421778819836,59.9944394559913,59.8965868842863,60.04045382217418,59.99668554545638,59.984330166309526,59.84811624723277,59.88644771348351,59.85037226248704,59.85150021276701,59.93148701727075,59.958481282037226,59.92248404393929,59.87630544818465,59.93823764413683,59.98095971679568,60.00679106124481,59.97983615736284,60.00230010204685,59.90784900103776,59.88982778088639,59.94048754777036,59.85601163159266,60.03148043842269,59.9944394559913,59.89320750447957,59.911226891371385,59.99107003588408,59.97309399995937,59.96410232102935,59.86728750289723,59.852628124816725,59.86616008776313,60.02138246760239,59.86841487981305,59.8965868842863,59.90334461263316,59.88644771348351,59.96410232102935,59.89208096814816,59.96859846562096,59.92248404393929,60.035967435010974,59.85601163159266,59.95960556612937,59.95735695979653,59.84247554000695,60.03260224470638,59.87292400531091,59.86503263440992,59.92473501631175,59.83119125766129,59.97421778819836,59.92698583598656,59.89546046254779,59.83231985798753,59.95960556612937,60.01240390273974,59.87179678125955,60.0112814106586,60.01464877258133,60.00791370576335,59.852628124816725,59.83006261908929,59.8345769439062,60.010158880469376,59.91685594491079,59.84924427397591,59.92023291886231,60.01577115034348,59.83570542950036,60.010158880469376,59.86728750289723,59.83006261908929,60.00566837861474,59.84924427397591,60.04045382217418,59.86503263440992,59.94386211700508,59.84811624723277,60.0236267277979,59.85150021276701,60.00342289901664,59.90109218928974,59.83119125766129,59.96635046961026,59.83683387685223,59.9483610084185,59.86728750289723,59.91573021056722,59.87179678125955,59.88757444082032,59.99668554545638,59.86052243878864,59.98095971679568,59.90221842005726,59.969722406414654,60.00117726696214,60.00117726696214,59.90559688321354,60.01240390273974,59.85037226248704,59.91573021056722,59.82893394227072,59.960729812073794,59.94386211700508,59.96635046961026,59.852628124816725,59.95623259940636,59.97983615736284,59.96747448668645,59.93711263507439,59.9292365029706,59.94498689709594,59.94611163902791,59.852628124816725,59.85375599863699,59.86277761304268,59.88419414419808,59.8345769439062,59.94948563587889,59.84360375792299,59.87517833877261,59.91235277844529,60.03260224470638,59.86277761304268,59.94611163902791,59.94611163902791,59.83231985798753,59.86165004502693,59.94611163902791,59.89883961317642,59.89208096814816,59.90334461263316,59.904470767018296,59.91573021056722,59.89883961317642,59.91573021056722,59.86277761304268,59.86503263440992,59.92473501631175,59.94161244234315,59.84134728385376,59.86052243878864,59.85939479432693,59.86277761304268,59.911226891371385,59.91235277844529,59.91347862733533,59.94611163902791,59.87066951899336,59.94723634280179,59.91573021056722,59.8582671116409,59.894334002612496,59.88757444082032,59.9292365029706,59.89208096814816,59.92698583598656,60.033724012898425,59.93823764413683,59.95623259940636,59.88194042209115,59.94161244234315,59.95285928933061,59.86277761304268,59.87179678125955,59.88081350372747,59.88306730224773,59.9179816410739,59.97421778819836,59.87630544818465,60.03260224470638,59.87066951899336,59.91573021056722,60.004545657872285,59.84247554000695,59.89208096814816,59.977588924099706,60.013526356713705,60.03035859404648,59.86616008776313,59.89771326782888,59.894334002612496,59.96747448668645,59.9179816410739,59.83231985798753,59.86841487981305,59.97084630906837,59.97871255979781,59.84698818225677,59.86390514283672,59.88982778088639,59.91010096611272,60.03933228251395,60.03933228251395,59.93486250245378,59.86277761304268,59.9944394559913,60.01240390273974,59.85375599863699,59.92473501631175,59.89546046254779,60.00230010204685,59.87405119114831,59.89320750447957,59.8695422185115,60.035967435010974,60.00230010204685,60.035967435010974,59.95398376417426,59.988823565196114,59.969722406414654,60.013526356713705,59.98095971679568,59.88532094794305,59.92586044523594,59.88419414419808,59.960729812073794,59.85037226248704,59.85150021276701,59.98095971679568,59.98657694200688,59.852628124816725,59.94048754777036,60.025870835599136,60.03148043842269,59.89320750447957,59.83796228596263,60.025870835599136,59.84247554000695,59.89208096814816,59.98545357322217,59.86052243878864,59.94048754777036,59.951734776334064,60.022504616749856,59.97309399995937,59.85713939072978,59.85601163159266,59.85037226248704,59.988823565196114,59.84924427397591,59.93936261503522,60.01913805500574,59.83683387685223,59.85939479432693,59.83909065683245,59.84134728385376,59.9551082008659,59.89996592032976,59.84473193760274,60.035967435010974,60.02474880074738,59.97983615736284,59.9933163540777,59.82893394227072,59.969722406414654,59.98095971679568,59.87179678125955,60.035967435010974,59.9292365029706,59.89883961317642,59.88419414419808,59.96297818952292,59.98320672126816,59.85150021276701,59.87405119114831,59.9551082008659,59.9944394559913,59.94611163902791,59.96522641439151,59.91573021056722,59.94948563587889,60.02699283235407,60.033724012898425,60.03035859404648,59.84924427397591,59.9944394559913,59.94498689709594,59.94386211700508,59.97871255979781,59.85375599863699,59.91347862733533,59.93823764413683,59.88532094794305,59.89996592032976,59.92360954921317,59.90559688321354,59.87405119114831,59.894334002612496,59.94723634280179,59.894334002612496,59.92360954921317,59.99107003588408,59.96185401987135,60.0112814106586,60.004545657872285,59.86616008776313,59.85601163159266,59.92698583598656,59.83006261908929,59.88644771348351,59.99556251978391,59.86728750289723,59.83796228596263,59.94948563587889,59.96522641439151,59.87405119114831,59.87743251938528,59.87630544818465,59.89208096814816,59.84473193760274,59.97983615736284,59.958481282037226,59.852628124816725,60.03933228251395,60.00230010204685,60.00903631217126,59.932612217166536,59.88982778088639,60.025870835599136,59.88870112995431,59.92811118856449,59.85488383422868,59.93823764413683,59.975341538300846,59.90784900103776,59.94386211700508,59.97646525026767,59.98095971679568,60.02811479101304,60.022504616749856,59.93373737889392,60.03821070476726,59.930361779205725,59.93936261503522,59.93823764413683,60.03484574299966,59.95285928933061,59.95623259940636,59.86390514283672,60.004545657872285,59.85375599863699,59.95735695979653,60.01577115034348,59.8582671116409,59.919107299057465,59.94498689709594,59.91010096611272,59.92135850048929,59.92248404393929,59.93148701727075,59.83119125766129,59.92811118856449,59.97084630906837,59.93823764413683,60.02811479101304,59.90334461263316,59.971970173582974,59.92811118856449,59.87066951899336,59.982083238097154,60.004545657872285,59.83231985798753,59.90559688321354,59.87292400531091,60.01689349000102,59.833448420068855,59.83231985798753,59.87743251938528,59.86390514283672,59.98095971679568,60.01577115034348,59.87517833877261,59.9179816410739,59.82893394227072,59.977588924099706,60.033724012898425,59.85150021276701,60.04045382217418,59.98657694200688,59.99893148244436,59.84811624723277,59.852628124816725,59.99556251978391,60.03260224470638,60.00005439376158,59.89771326782888,59.88870112995431,59.911226891371385,59.92360954921317,59.86277761304268,60.00342289901664,59.9179816410739,59.94386211700508,59.87630544818465,59.92811118856449,59.94611163902791,59.984330166309526,59.85150021276701,59.85375599863699,59.930361779205725,60.004545657872285,60.00566837861474,59.96747448668645,59.984330166309526,59.98657694200688,60.00230010204685,59.85713939072978,59.86277761304268,60.00230010204685,59.852628124816725,59.9944394559913,59.83909065683245,59.988823565196114,59.9944394559913,59.89996592032976,59.96522641439151,59.85150021276701,59.96635046961026,59.94723634280179,59.91685594491079,59.94498689709594,59.94386211700508,59.84360375792299,59.975341538300846,59.83683387685223,59.84360375792299,59.91685594491079,59.97084630906837,59.92023291886231,59.96522641439151,60.03148043842269,59.85150021276701,59.85488383422868,59.8582671116409,60.01801579155483,59.85375599863699,59.87292400531091,59.890954393617385,59.95623259940636,59.91685594491079,59.99893148244436,60.00791370576335,59.92473501631175,59.97646525026767,59.87292400531091,59.9292365029706,59.91010096611272,59.93373737889392,59.87968654715585,59.85713939072978,59.950610225183794,59.98545357322217,60.022504616749856,59.97084630906837,59.84134728385376,59.86052243878864,59.94048754777036,59.97646525026767,59.98320672126816,59.94386211700508,59.92698583598656,59.94273729875442,59.90897500266847,59.87179678125955,59.96185401987135,59.96410232102935,59.9944394559913,59.88532094794305,59.84811624723277,59.93148701727075,59.94498689709594,59.85037226248704,59.93486250245378,59.93711263507439,59.94048754777036,60.013526356713705,59.94611163902791,59.98657694200688,60.00566837861474,59.8582671116409,59.86841487981305,59.84360375792299,60.03035859404648,60.03035859404648,59.975341538300846,60.02923671157687,59.94386211700508,60.03035859404648,59.975341538300846,59.94386211700508,59.95623259940636,59.83231985798753,60.01240390273974,60.02923671157687,60.02474880074738,59.8582671116409,59.91347862733533,60.00679106124481,59.88982778088639,60.01801579155483,59.91235277844529,60.010158880469376,59.951734776334064,59.96297818952292,59.977588924099706,59.93823764413683,59.960729812073794,60.022504616749856,59.93373737889392,59.98994681960231,59.932612217166536,59.93148701727075,59.982083238097154,60.03484574299966,59.982083238097154,59.9292365029706,59.86165004502693,59.96635046961026,59.92473501631175,59.88870112995431,59.96635046961026,59.88644771348351,59.969722406414654,59.99107003588408,59.93936261503522,59.93711263507439,59.9483610084185,59.83570542950036,59.85150021276701,59.93486250245378,60.04045382217418,60.00342289901664,59.86503263440992,59.89883961317642,59.86052243878864,59.930361779205725,59.975341538300846,59.89996592032976,59.92586044523594,59.96297818952292,59.93373737889392,59.8345769439062,59.92698583598656,59.92248404393929,60.03933228251395,60.03035859404648,59.93823764413683,59.91573021056722,59.94048754777036,59.91347862733533,59.97309399995937,59.96297818952292,59.84134728385376,59.975341538300846,60.04157532374879,59.975341538300846,59.97084630906837,59.99780853300957,59.93148701727075,59.99556251978391,60.00005439376158,59.90897500266847,59.977588924099706,60.00566837861474,60.02474880074738,59.92023291886231,59.96522641439151,59.95735695979653,60.00117726696214,59.98545357322217,59.919107299057465,60.01577115034348,59.86616008776313,59.93373737889392,60.03035859404648,60.010158880469376,59.83796228596263,59.84473193760274,59.83796228596263,59.92135850048929,59.89208096814816,59.987700272664576,59.94498689709594,59.935987587847,60.00342289901664,59.932612217166536,59.88757444082032,60.00903631217126,59.85375599863699,59.988823565196114,59.95960556612937,59.95623259940636,59.9292365029706,59.94386211700508,59.94948563587889,60.02811479101304,59.96297818952292,59.86390514283672,59.95735695979653,59.84586007904705,59.96185401987135,59.92023291886231,59.88081350372747,59.94386211700508,60.022504616749856,59.97871255979781,59.84924427397591,59.88194042209115,59.911226891371385,59.87405119114831,59.91685594491079,59.890954393617385,59.8785595523754,59.97421778819836,59.98994681960231,59.87968654715585,59.97983615736284,59.85375599863699,60.00566837861474,59.94161244234315,59.93823764413683,59.86503263440992,59.98545357322217,59.91573021056722,59.94723634280179,59.85037226248704,59.93711263507439,59.97084630906837,59.93486250245378,59.94048754777036,59.96410232102935,59.96185401987135,59.84698818225677,59.83231985798753,59.932612217166536,59.87405119114831,60.01240390273974,59.94048754777036,60.03484574299966,59.95623259940636,59.97421778819836,59.91573021056722,59.95960556612937,59.90784900103776,59.88757444082032,59.96185401987135,59.94948563587889,59.95735695979653,59.90672296121975,59.98545357322217,59.9292365029706,60.03484574299966,59.89996592032976,59.98545357322217,59.98320672126816,59.84811624723277,59.86165004502693,59.971970173582974,59.930361779205725,59.96185401987135,59.88870112995431,59.93936261503522,59.86503263440992,59.94948563587889,59.90672296121975,59.930361779205725,59.91010096611272,59.86728750289723,59.93823764413683,59.919107299057465,59.86277761304268,59.84360375792299,60.033724012898425,59.95398376417426,60.00791370576335,59.84134728385376,59.89771326782888,59.96859846562096,59.93936261503522,59.97871255979781,59.86841487981305,59.92135850048929,59.96635046961026,60.03821070476726,59.91460443804235,59.99219321404225,59.988823565196114,59.93486250245378,60.03484574299966,59.90109218928974,59.96410232102935,59.83570542950036,59.92248404393929,59.88419414419808,59.92586044523594,60.00230010204685,59.97084630906837,59.93823764413683,59.89546046254779,59.96410232102935,59.92811118856449,59.97421778819836,59.987700272664576,59.94948563587889,60.00679106124481,59.86277761304268,59.84360375792299,59.98095971679568,59.96747448668645,59.93486250245378,59.971970173582974,60.03708908893322,60.025870835599136,59.92248404393929,59.90784900103776,59.85037226248704,59.930361779205725,59.87743251938528,59.9551082008659,59.92135850048929,60.00117726696214,59.92248404393929,59.932612217166536,59.88870112995431,59.894334002612496,59.98095971679568,59.94048754777036,59.98994681960231,59.95960556612937,59.86052243878864,59.83231985798753,59.87630544818465,59.93148701727075,59.92360954921317,59.958481282037226,59.90559688321354,59.971970173582974,59.85150021276701,59.93936261503522,59.932612217166536,60.00117726696214,59.95398376417426,59.852628124816725,59.94498689709594,59.88306730224773,59.88081350372747,59.852628124816725,59.93373737889392,59.85939479432693,59.833448420068855,59.94161244234315,60.02811479101304,59.92135850048929,59.9179816410739,59.90109218928974,59.92586044523594,59.987700272664576,59.93148701727075,59.94386211700508,59.83231985798753,59.9292365029706,59.85375599863699,59.86052243878864,59.91573021056722,59.84924427397591,59.89996592032976,59.92023291886231,60.0236267277979,60.00230010204685,59.930361779205725,59.85375599863699,59.85713939072978,59.90221842005726,59.83006261908929,59.91347862733533,59.83570542950036,59.90109218928974,59.88532094794305,59.84134728385376,59.930361779205725,59.92360954921317,60.00230010204685,59.960729812073794,59.86052243878864,60.00679106124481,59.95960556612937,59.97084630906837,59.94498689709594,59.932612217166536,60.00342289901664,59.86503263440992,59.88419414419808,59.904470767018296,59.89208096814816,59.94611163902791,60.00005439376158,60.035967435010974,59.86503263440992,60.00679106124481,59.932612217166536,59.98095971679568,59.90221842005726,59.86503263440992,59.97646525026767,59.95398376417426,60.02699283235407,59.8785595523754,59.9933163540777,59.86052243878864,59.83796228596263,59.98320672126816,59.85939479432693,60.00679106124481,60.020260280354655,59.98320672126816,59.85150021276701,59.92698583598656,59.94273729875442,59.93711263507439,59.86165004502693,59.84698818225677,59.96297818952292,59.85375599863699,59.85601163159266,59.83231985798753,59.99107003588408,59.86052243878864,59.85375599863699,59.92586044523594,60.013526356713705,59.86728750289723,60.00117726696214,59.932612217166536,59.98320672126816,59.84698818225677,59.83231985798753,59.93373737889392,59.984330166309526,59.92360954921317,59.92248404393929,59.93823764413683,59.88419414419808,60.04157532374879,59.83231985798753,60.00903631217126,59.977588924099706,59.85601163159266,59.93711263507439,59.92248404393929,60.03260224470638,59.88306730224773,59.984330166309526,60.00679106124481,59.8785595523754,59.852628124816725,59.86390514283672,59.95398376417426,59.85601163159266,60.00005439376158,59.932612217166536,59.8345769439062,59.91347862733533,59.88081350372747,59.85713939072978,59.88419414419808,59.86277761304268,59.94948563587889,60.01913805500574,59.89208096814816,59.85601163159266,60.03821070476726,59.987700272664576,59.83909065683245,59.94948563587889,59.9483610084185,60.00117726696214,60.03933228251395,60.013526356713705,59.90897500266847,59.88982778088639,59.83683387685223,60.00791370576335,59.852628124816725,59.86616008776313,59.92586044523594,59.99556251978391,59.85037226248704,59.84360375792299,60.01464877258133,59.96185401987135,59.95960556612937,59.85713939072978,60.01240390273974,60.02923671157687,59.86052243878864,60.03035859404648,60.02138246760239,59.97309399995937,59.87179678125955,59.984330166309526,59.951734776334064,59.840218989462535,59.86165004502693,60.02923671157687,59.89771326782888,59.84586007904705,59.93373737889392,59.84134728385376,59.86390514283672,60.033724012898425,59.89320750447957,59.90559688321354,59.92023291886231,59.85601163159266,59.83796228596263,59.94611163902791,59.958481282037226,59.98095971679568,59.90559688321354,59.99107003588408,60.03484574299966,59.96185401987135,59.86503263440992,59.84360375792299,60.00903631217126,59.87743251938528,60.0112814106586,59.94611163902791,59.87630544818465,59.96410232102935,59.83796228596263,59.894334002612496,59.86165004502693,59.85939479432693,59.85375599863699,59.84924427397591,59.852628124816725,59.90672296121975,59.987700272664576,59.8695422185115,59.84924427397591,59.86277761304268,60.0236267277979,59.86503263440992,59.90559688321354,59.96297818952292,59.84924427397591,59.98545357322217,59.96297818952292,59.91347862733533,59.82893394227072,59.91010096611272,59.93148701727075,59.86165004502693,59.97646525026767,59.92586044523594,59.97871255979781,60.00903631217126,59.85939479432693,59.9483610084185,59.86390514283672,59.90109218928974,59.89546046254779,59.87405119114831,59.97084630906837,59.97309399995937,59.83570542950036,59.97983615736284,59.87517833877261,59.984330166309526,59.904470767018296,59.84698818225677,60.00342289901664,59.89883961317642,59.89320750447957,59.90221842005726,60.004545657872285,59.89771326782888,59.94498689709594,59.852628124816725,59.99107003588408,60.01689349000102,59.971970173582974,59.92360954921317,59.8187741296651,59.88757444082032,59.93936261503522,59.88644771348351,59.833448420068855,59.87292400531091,59.83683387685223,59.87743251938528,59.890954393617385,60.025870835599136,59.91010096611272,59.99107003588408,60.004545657872285,59.85939479432693,59.98994681960231,60.03260224470638,59.84247554000695,59.975341538300846,59.930361779205725,59.87292400531091,59.852628124816725,60.02474880074738,59.87743251938528,59.86165004502693,60.03933228251395,59.90672296121975,60.02923671157687,59.96410232102935,59.99780853300957,59.88870112995431,60.00791370576335,59.85713939072978,59.86728750289723,59.97421778819836,59.84698818225677,59.96747448668645,59.97084630906837,59.987700272664576,60.02474880074738,60.00679106124481,59.96747448668645,59.90109218928974,59.87743251938528,59.92811118856449,59.84473193760274,59.86390514283672,59.85713939072978,59.97084630906837,59.97084630906837,59.8785595523754,59.88870112995431,59.98095971679568,59.904470767018296,60.00566837861474,60.03484574299966,59.86277761304268,59.98994681960231,59.935987587847,59.87630544818465,59.97309399995937,59.87292400531091,59.84586007904705,59.89546046254779,59.87292400531091,59.84586007904705,59.83909065683245,59.919107299057465,60.00679106124481,59.919107299057465,59.904470767018296,59.94386211700508,59.94723634280179,59.987700272664576,59.98545357322217,59.92473501631175,59.87968654715585,59.88194042209115,59.90334461263316,59.9179816410739,59.93711263507439,59.94048754777036,59.88982778088639,59.89208096814816,59.84473193760274,59.84698818225677,59.94273729875442,59.9483610084185,59.96859846562096,59.88982778088639,59.87066951899336,59.86616008776313,59.93148701727075,60.01801579155483,59.951734776334064,59.96635046961026,59.8785595523754,59.94948563587889,60.00342289901664,59.87968654715585,59.90559688321354,59.95398376417426,59.90897500266847,59.89771326782888,59.87630544818465,59.96410232102935,59.98095971679568,59.86503263440992,59.88870112995431,59.88419414419808,59.95398376417426,59.95623259940636,59.958481282037226,60.03484574299966,60.03708908893322,59.92586044523594,59.86165004502693,59.93823764413683,59.97871255979781,60.00679106124481,60.033724012898425,59.85939479432693,59.98095971679568,59.88870112995431,59.93936261503522,59.90334461263316,59.92811118856449,59.99780853300957,59.94723634280179,59.88757444082032,59.88757444082032,59.98095971679568,59.84924427397591,59.90559688321354,60.010158880469376,60.00005439376158,59.83570542950036,59.84924427397591,59.83796228596263,59.84247554000695,59.93711263507439,60.00903631217126,59.86165004502693,60.00566837861474,59.987700272664576,59.83231985798753,59.86841487981305,59.8345769439062,59.83119125766129,59.84811624723277,59.92586044523594,59.89208096814816,59.86165004502693,59.9483610084185,59.87517833877261,59.88644771348351,59.969722406414654,59.98545357322217,59.87179678125955,59.96522641439151,59.8965868842863,59.83231985798753,59.83909065683245,59.90672296121975,59.88982778088639,59.91235277844529,59.94048754777036,59.83796228596263,59.92248404393929,59.92135850048929,59.95623259940636,59.982083238097154,59.84586007904705,59.94498689709594,60.03708908893322,59.87517833877261,59.89546046254779,59.99893148244436,59.88194042209115,59.840218989462535,59.911226891371385,59.92360954921317,60.0236267277979,59.87066951899336,60.00342289901664,60.00566837861474,59.94948563587889,59.88870112995431,60.00342289901664,60.00903631217126,59.852628124816725,59.89320750447957,59.90784900103776,59.94273729875442,59.96297818952292,59.960729812073794,59.88757444082032,59.98994681960231,59.99107003588408,59.833448420068855,59.833448420068855,59.95285928933061,59.84134728385376,59.88306730224773,59.90334461263316,59.84586007904705,60.02474880074738,59.890954393617385,59.94161244234315,59.88644771348351,60.035967435010974,59.92586044523594,59.88644771348351,59.97421778819836,59.94161244234315,59.92135850048929,59.98657694200688,59.99780853300957,59.86616008776313,59.958481282037226,59.94611163902791,59.9551082008659,59.98320672126816,59.9944394559913,59.8582671116409,59.99893148244436,59.84247554000695,59.86165004502693,59.840218989462535,59.89546046254779,59.94611163902791,59.90109218928974,59.87517833877261,59.91685594491079,59.86165004502693,59.88419414419808,60.013526356713705,59.987700272664576,59.919107299057465,59.97309399995937,59.92023291886231,59.89771326782888,60.035967435010974,59.88081350372747,59.98095971679568,60.01689349000102,59.96410232102935,60.00005439376158,59.86841487981305,59.94273729875442,59.96635046961026,59.92360954921317,59.87292400531091,59.94386211700508,59.971970173582974,59.84924427397591,59.93711263507439,59.93936261503522,60.00903631217126,59.932612217166536,59.932612217166536,59.950610225183794,59.84473193760274,59.86277761304268,59.97084630906837,59.85488383422868,59.91685594491079,60.033724012898425,59.932612217166536,59.951734776334064,59.9933163540777,59.98095971679568,59.88081350372747,59.92023291886231,59.83006261908929,59.971970173582974,59.950610225183794,59.984330166309526,59.91685594491079,59.90672296121975,59.84360375792299,59.83119125766129,59.94048754777036,59.988823565196114,59.97084630906837,59.91235277844529,60.00566837861474,59.85150021276701,59.94161244234315,59.87292400531091,60.03035859404648,59.92473501631175,59.92698583598656,60.035967435010974,59.93823764413683,60.00791370576335,59.840218989462535,60.01801579155483,59.94273729875442,59.99780853300957,59.94161244234315,59.97871255979781,59.82893394227072,59.984330166309526,59.86728750289723,60.03821070476726,60.022504616749856,59.9483610084185,59.840218989462535,59.94048754777036,60.04045382217418,59.86165004502693,59.90559688321354,59.93823764413683,60.00679106124481,59.935987587847,59.92811118856449,59.90672296121975,59.94948563587889,59.94048754777036,59.833448420068855,59.8785595523754,59.975341538300846,59.91573021056722,59.94498689709594,59.96410232102935,59.88081350372747,59.96635046961026,59.84360375792299,59.87405119114831,59.99780853300957,60.0112814106586,59.97871255979781,60.02699283235407,59.88644771348351,59.84247554000695,59.85150021276701,59.90221842005726,59.86841487981305,60.04157532374879,59.94723634280179,59.94723634280179,59.99107003588408,59.90559688321354,59.84134728385376,59.97983615736284,59.84247554000695,59.83119125766129,60.00342289901664,59.96297818952292,60.00903631217126,59.98320672126816,59.89546046254779,60.020260280354655,59.911226891371385,59.984330166309526,60.025870835599136,59.99668554545638,59.84811624723277,59.95960556612937,59.95960556612937,59.96297818952292,59.93486250245378,59.94498689709594,60.02923671157687,59.94723634280179,60.010158880469376,59.86052243878864,59.92811118856449,59.95623259940636,59.9483610084185,60.013526356713705,59.958481282037226,59.840218989462535,59.94386211700508,59.984330166309526,60.01689349000102,59.96522641439151,59.92811118856449,59.83683387685223,59.935987587847,59.93148701727075,59.94161244234315,59.96635046961026,59.83006261908929,59.91460443804235,59.98657694200688,59.85037226248704,59.85488383422868,59.87405119114831,60.033724012898425,59.84586007904705,59.92248404393929,59.89996592032976,60.03821070476726,59.89208096814816,59.9292365029706,59.960729812073794,59.911226891371385,59.86728750289723,60.004545657872285,59.977588924099706,59.890954393617385,59.85150021276701,59.852628124816725,59.982083238097154,59.94048754777036,59.977588924099706,59.833448420068855,60.00791370576335,59.852628124816725,59.84924427397591,60.01240390273974,59.85375599863699,59.99556251978391,59.84924427397591,59.840218989462535,60.03148043842269,59.88870112995431,59.84134728385376,59.85037226248704,59.96859846562096,59.96297818952292,59.89208096814816,59.90334461263316,59.98994681960231,59.85601163159266,59.86052243878864,59.89208096814816,59.9292365029706,59.85939479432693,59.98320672126816,59.86616008776313,59.911226891371385,60.00903631217126,59.91235277844529,59.90334461263316,59.94386211700508,59.8345769439062,59.90109218928974,59.93486250245378,60.025870835599136,59.86390514283672,59.85488383422868,59.958481282037226,59.94498689709594,59.99219321404225,60.00791370576335,59.84924427397591,59.86841487981305,59.92360954921317,59.97421778819836,59.84811624723277,59.85488383422868,60.03708908893322,60.020260280354655,59.84473193760274,60.010158880469376,59.86277761304268,59.86052243878864,59.86277761304268,59.90334461263316,59.99668554545638,59.93486250245378,59.93936261503522,59.88194042209115,60.03148043842269,59.99893148244436,59.88081350372747,59.951734776334064,60.01913805500574,59.95623259940636,59.87405119114831,59.86616008776313,60.02474880074738,59.83909065683245,59.91460443804235,59.97309399995937,59.97309399995937,59.88194042209115,60.02699283235407,59.87517833877261,59.960729812073794,59.97309399995937,60.03260224470638,59.84134728385376,59.89320750447957,59.87405119114831,59.88870112995431,59.8965868842863,60.03708908893322,59.83231985798753,59.96297818952292,59.840218989462535,59.86390514283672,59.83570542950036,59.88419414419808,59.83909065683245,59.88982778088639,59.87968654715585,59.91347862733533,59.86165004502693,59.911226891371385,59.85375599863699,59.9944394559913,59.83006261908929,59.90109218928974,60.00230010204685,59.86277761304268,59.94161244234315,59.88532094794305,59.91460443804235,59.84473193760274,59.975341538300846,59.92586044523594,60.02474880074738,59.94273729875442,59.84247554000695,59.93823764413683,59.951734776334064,59.87292400531091,59.98657694200688,59.96297818952292,59.97084630906837,59.92360954921317,59.95285928933061,60.0112814106586,59.84698818225677,59.88306730224773,59.89883961317642,59.99893148244436,60.00342289901664,59.94273729875442,59.86052243878864,59.92811118856449,60.033724012898425,60.00230010204685,59.97871255979781,59.88870112995431,59.99219321404225,60.025870835599136,60.03260224470638,59.8345769439062,59.86503263440992,59.98657694200688,59.96635046961026,59.87292400531091,59.97421778819836,59.951734776334064,59.984330166309526,59.94161244234315,59.84811624723277,59.8345769439062,59.85713939072978,59.83570542950036,59.89771326782888,59.92023291886231,59.83570542950036,60.00791370576335,59.969722406414654,59.87179678125955,59.98657694200688,59.94048754777036,59.87292400531091,59.92473501631175,59.87179678125955,59.958481282037226,59.96522641439151,59.8695422185115,59.8582671116409,59.98994681960231,59.83909065683245,60.01689349000102,59.86165004502693,59.93373737889392,59.96522641439151,59.85375599863699,60.03035859404648,59.86277761304268,59.95398376417426,59.96297818952292,60.035967435010974,59.833448420068855,60.010158880469376,60.00342289901664,59.982083238097154,59.89883961317642,60.010158880469376,59.852628124816725,59.93936261503522,59.982083238097154,59.852628124816725,59.988823565196114,59.85150021276701,60.00230010204685,60.033724012898425,59.987700272664576,59.99219321404225,59.988823565196114,59.93373737889392,59.84134728385376,59.94273729875442,59.98657694200688,59.85488383422868,59.99893148244436,59.93373737889392,59.97084630906837,59.92473501631175,59.94273729875442,59.89996592032976,59.93373737889392,59.94386211700508,60.00791370576335,59.87743251938528,59.88306730224773,59.98545357322217,59.89996592032976,60.02699283235407,60.00117726696214,59.84924427397591,60.02138246760239,59.94386211700508,59.911226891371385,59.94723634280179,60.00230010204685,59.84924427397591,59.90221842005726,59.84586007904705,59.88532094794305,59.90221842005726,59.88644771348351,60.010158880469376,59.9179816410739,59.99107003588408,59.93148701727075,59.94048754777036,59.975341538300846,59.987700272664576,59.87292400531091,59.95623259940636,59.94273729875442,59.988823565196114,60.03708908893322,59.84473193760274,59.88306730224773,59.90672296121975,59.98657694200688,59.89320750447957,60.0236267277979,59.951734776334064,60.02811479101304,59.911226891371385,60.03260224470638,59.86165004502693,60.03933228251395,59.90109218928974,59.8582671116409,60.033724012898425,59.86728750289723,59.9944394559913,59.85488383422868,59.84924427397591,59.92135850048929,59.96522641439151,59.99668554545638,59.9551082008659,59.84134728385376,59.89996592032976,60.02699283235407,59.86728750289723,59.85488383422868,59.83231985798753,59.86841487981305,59.960729812073794,60.01689349000102,59.83570542950036,59.98320672126816,59.852628124816725,59.89320750447957,59.85037226248704,60.010158880469376,59.91685594491079,59.86841487981305,59.88081350372747,60.0112814106586,59.8582671116409,59.84924427397591,59.89883961317642,60.00005439376158,59.9944394559913,59.89208096814816,59.9179816410739,59.88870112995431,59.95623259940636,59.94611163902791,59.833448420068855,60.03035859404648,59.92811118856449,59.84134728385376,59.84134728385376,60.01240390273974,60.010158880469376,60.00005439376158,59.9483610084185,59.95398376417426,59.89546046254779,59.94048754777036,59.9292365029706,59.984330166309526,59.83006261908929,59.83796228596263,60.013526356713705,60.00791370576335,59.99893148244436,59.95735695979653,59.88194042209115,60.00342289901664,59.86165004502693,59.85601163159266,59.95735695979653,59.99107003588408,59.95398376417426,59.92811118856449,59.94161244234315,59.92023291886231,59.90784900103776,59.89546046254779,59.92135850048929,59.83570542950036,59.8582671116409,59.95735695979653,59.83570542950036,60.01913805500574,59.83570542950036,59.96297818952292,59.98320672126816,59.85150021276701,59.87066951899336,59.91573021056722,59.87179678125955,59.97421778819836,59.88870112995431,59.93148701727075,60.00566837861474,59.98545357322217,59.96297818952292,59.8785595523754,60.00117726696214,59.95623259940636,59.919107299057465,60.0236267277979,60.03933228251395,59.87517833877261,59.840218989462535,59.94948563587889,59.91010096611272,59.83683387685223,59.85488383422868,59.840218989462535,59.99893148244436,59.86616008776313,60.01240390273974,59.904470767018296,59.94161244234315,59.98545357322217,59.84698818225677,60.013526356713705,59.958481282037226,59.969722406414654,59.95735695979653,59.971970173582974,59.94161244234315,59.91460443804235,59.94498689709594,59.85375599863699,59.950610225183794,60.03708908893322,59.84698818225677,59.971970173582974,60.033724012898425,59.90672296121975,59.87179678125955,60.00005439376158,59.84586007904705,59.83570542950036,59.85713939072978,59.988823565196114,59.90221842005726,59.86165004502693,59.86277761304268,60.00566837861474,59.99556251978391,59.98994681960231,59.85037226248704,59.85939479432693,59.93936261503522,59.88757444082032,59.94611163902791,59.8345769439062,59.894334002612496,59.89883961317642,59.83570542950036,59.971970173582974,59.92698583598656,59.95735695979653,59.9483610084185,59.85150021276701,59.86052243878864,59.91010096611272,59.86277761304268,59.86277761304268,59.932612217166536,59.88306730224773,59.89208096814816,59.96297818952292,59.96185401987135,59.84698818225677,59.98994681960231,59.88306730224773,59.96185401987135,59.95960556612937,59.93148701727075,59.98545357322217,59.87968654715585,59.95960556612937,60.04157532374879,59.8695422185115,59.98994681960231,59.852628124816725,59.94048754777036,59.86616008776313,59.84247554000695,59.85601163159266,59.92023291886231,60.0236267277979,60.02923671157687,59.988823565196114,59.96522641439151,60.00342289901664,59.90672296121975,60.02138246760239,60.02699283235407,59.988823565196114,60.03260224470638,59.90784900103776,59.98095971679568,59.93148701727075,59.83006261908929,59.94386211700508,59.89996592032976,59.84247554000695,59.84811624723277,59.88982778088639,59.88419414419808,59.971970173582974,59.94161244234315,59.90559688321354,59.94386211700508,59.87405119114831,59.977588924099706,60.020260280354655,59.90559688321354,60.004545657872285,60.0112814106586,59.86728750289723,59.84134728385376,59.83796228596263,59.95398376417426,59.86841487981305,59.96635046961026,59.89771326782888,59.982083238097154,60.0236267277979,59.89546046254779,59.85150021276701,59.98320672126816,59.83231985798753,59.83909065683245,59.91347862733533,59.87743251938528,59.84924427397591,59.88757444082032,60.00679106124481,59.93486250245378,59.94386211700508,60.00566837861474,59.96297818952292,60.025870835599136,60.02923671157687,59.85037226248704,59.85150021276701,59.97646525026767,59.92248404393929,60.00679106124481,59.96747448668645,59.9292365029706,59.98994681960231,59.90334461263316,59.92473501631175,59.9944394559913,59.87066951899336,59.960729812073794,59.89771326782888,59.987700272664576,59.94048754777036,59.92698583598656,59.86616008776313,59.93823764413683,59.85150021276701,59.98657694200688,60.00005439376158,59.91460443804235,59.93936261503522,59.95285928933061,60.00342289901664,60.02699283235407,59.93486250245378,59.95285928933061,59.94161244234315,59.86277761304268,59.98320672126816,59.90672296121975,59.82893394227072,59.82441885251328,59.87517833877261,59.83683387685223,59.87517833877261,59.88419414419808,59.92023291886231,59.975341538300846,60.02811479101304,59.84924427397591,59.95735695979653,59.98657694200688,59.86165004502693,59.88532094794305,59.86841487981305,59.99107003588408,60.01240390273974,59.987700272664576,59.92586044523594,59.86841487981305,59.97421778819836,59.971970173582974,59.99107003588408,59.85037226248704,60.00230010204685,59.83231985798753,59.911226891371385,59.91573021056722,59.98657694200688,60.025870835599136,59.91347862733533,59.95960556612937,59.911226891371385,59.9551082008659,60.004545657872285,59.89320750447957,59.96635046961026,60.03148043842269,59.85375599863699,59.90334461263316,60.01913805500574,59.84473193760274,59.90221842005726,59.96410232102935,59.96297818952292,59.84811624723277,59.98545357322217,59.83909065683245,59.87517833877261,59.8965868842863,59.87968654715585,59.94386211700508,59.894334002612496,59.95285928933061,59.99107003588408,59.951734776334064,59.99556251978391,59.99893148244436,60.01464877258133,60.02138246760239,60.03260224470638,60.00679106124481,59.93148701727075,60.03933228251395,59.84134728385376,59.85150021276701,59.85939479432693,59.89546046254779,59.9483610084185,59.84698818225677,59.94386211700508,59.97309399995937,59.95285928933061,59.9551082008659,59.951734776334064,60.03035859404648,59.99780853300957,60.00342289901664,60.004545657872285,59.8345769439062,59.85939479432693,59.8582671116409,60.00005439376158,60.02811479101304,59.84811624723277,59.852628124816725,59.987700272664576,59.99780853300957,59.99893148244436,59.85601163159266,59.84134728385376,59.904470767018296,59.8695422185115,59.83119125766129,59.83570542950036,60.00342289901664,59.84134728385376,60.01464877258133,60.03035859404648,59.89771326782888,60.05951417000399,59.92811118856449,59.95398376417426,59.894334002612496,59.96859846562096,59.83570542950036,59.94161244234315,59.93936261503522,59.85939479432693,59.85375599863699,59.958481282037226,59.85488383422868,59.96185401987135,60.02923671157687,59.89546046254779,59.86052243878864,59.8582671116409,59.852628124816725,60.022504616749856,59.987700272664576,59.84134728385376,59.98545357322217,59.85488383422868,60.00566837861474,59.950610225183794,59.87066951899336,59.89320750447957,59.99556251978391,59.98545357322217,59.94948563587889,59.92360954921317,59.982083238097154,59.85488383422868,59.99893148244436,59.95735695979653,59.96635046961026,59.935987587847,60.01577115034348,59.99556251978391,59.88306730224773,59.919107299057465,59.919107299057465,59.9179816410739,59.93486250245378,59.99107003588408,60.02138246760239,60.02474880074738,59.85375599863699,60.02923671157687,60.00903631217126,60.01689349000102,59.85713939072978,59.99893148244436,59.86052243878864,59.92135850048929,59.97084630906837,59.8695422185115,60.004545657872285,59.85713939072978,59.89883961317642,59.984330166309526,60.04045382217418,60.01240390273974,59.86503263440992,60.00791370576335,59.9944394559913,59.852628124816725,59.87179678125955,59.94948563587889,59.97871255979781,59.99556251978391,60.025870835599136,59.97421778819836,59.85150021276701,59.86165004502693,59.83570542950036,59.88194042209115,59.83231985798753,59.86503263440992,60.00791370576335,60.01240390273974,59.90672296121975,59.8345769439062,59.94498689709594,59.82893394227072,59.90672296121975,59.92811118856449,60.01577115034348,59.90221842005726,59.9933163540777,60.01801579155483,59.87405119114831,59.87743251938528,59.90672296121975,59.89996592032976,59.99668554545638,59.88532094794305,59.86728750289723,59.84247554000695,59.86728750289723,59.99668554545638,60.04045382217418,59.84924427397591,59.894334002612496,59.87066951899336,60.033724012898425,60.04045382217418,59.984330166309526,59.8345769439062,59.85037226248704,59.83683387685223,59.94273729875442,59.91460443804235,60.025870835599136,59.86165004502693,60.00679106124481,59.93823764413683,59.894334002612496,59.85375599863699,59.89883961317642,59.86503263440992,59.92473501631175,59.85601163159266,59.950610225183794,59.85037226248704,59.88532094794305,59.83570542950036,59.99668554545638,60.03484574299966,60.013526356713705,59.984330166309526,60.004545657872285,60.00679106124481,59.94723634280179,60.00566837861474,60.00903631217126,59.84473193760274,59.977588924099706,59.88081350372747,60.01913805500574,60.0236267277979,59.83570542950036,60.02811479101304,59.92248404393929,59.91010096611272,59.84247554000695,59.98545357322217,59.89996592032976,59.93148701727075,59.9944394559913,59.93823764413683,59.98994681960231,59.95735695979653,60.01801579155483,59.85488383422868,59.982083238097154,59.94611163902791,60.00679106124481,59.86390514283672,59.9292365029706,59.86503263440992,60.00679106124481,59.86616008776313,59.84586007904705,59.930361779205725,60.01464877258133,59.92360954921317,59.9483610084185,60.00679106124481,60.01464877258133,59.88532094794305,59.99780853300957,60.00791370576335,59.9933163540777,59.91685594491079,59.97309399995937,59.99556251978391,59.88419414419808,60.0112814106586,59.94498689709594,59.92248404393929,59.988823565196114,59.971970173582974,59.83909065683245,60.01801579155483,59.97646525026767,59.94611163902791,59.84247554000695,59.88532094794305,59.87405119114831,60.03484574299966,59.84360375792299,59.97983615736284,60.02474880074738,60.0236267277979,59.89546046254779,60.00566837861474,59.88194042209115,59.83683387685223,59.83909065683245,59.86165004502693,59.82893394227072,60.00005439376158,59.83231985798753,59.84586007904705,59.83570542950036,60.03821070476726,59.91573021056722,59.86390514283672,59.9551082008659,60.03821070476726,59.852628124816725,59.94498689709594,59.84134728385376,59.9551082008659,59.97421778819836,59.8965868842863,60.01464877258133,59.8785595523754,59.93148701727075,59.98545357322217,59.98994681960231,60.01577115034348,59.911226891371385,60.00903631217126,59.89771326782888,60.02474880074738,59.93711263507439,59.99107003588408,59.93823764413683,59.89996592032976,59.86728750289723,60.00005439376158,59.935987587847,59.9292365029706,59.90559688321354,59.86503263440992,59.96410232102935,59.93486250245378,59.958481282037226,60.01464877258133,59.94723634280179,59.958481282037226,59.9292365029706,59.86165004502693,59.92248404393929,59.85488383422868,59.95285928933061,59.987700272664576,59.9933163540777,59.97646525026767,59.932612217166536,59.83231985798753,59.98994681960231,60.00005439376158,59.84811624723277,60.00566837861474,59.89996592032976,60.00791370576335,59.96859846562096,59.85037226248704,59.85939479432693,59.94723634280179,59.83683387685223,59.97871255979781,59.85939479432693,59.86728750289723,60.010158880469376,59.97084630906837,59.87292400531091,59.8965868842863,60.02138246760239,60.01464877258133,60.010158880469376,60.04157532374879,59.84247554000695,59.83796228596263,59.833448420068855,59.92698583598656,59.85375599863699,59.97421778819836,60.00342289901664,59.9944394559913,59.85713939072978,59.90559688321354,60.01689349000102,59.88982778088639,59.975341538300846,59.89771326782888,60.00342289901664,60.010158880469376,59.950610225183794,59.96522641439151,59.83796228596263,59.969722406414654,59.87292400531091,59.982083238097154,59.833448420068855,59.83119125766129,60.01464877258133,59.97421778819836,60.02474880074738,59.97309399995937,59.83909065683245,59.83796228596263,59.99219321404225,59.833448420068855,59.94723634280179,59.94611163902791,59.84698818225677,59.98095971679568,59.91010096611272,59.8345769439062,59.96859846562096,59.85150021276701,59.92473501631175,59.83909065683245,59.91573021056722,59.97646525026767,59.911226891371385,59.83006261908929,59.93711263507439,59.86503263440992,59.88419414419808,59.92360954921317,59.92586044523594,59.95623259940636,59.95285928933061,59.8582671116409,59.87968654715585,59.87405119114831,59.890954393617385,60.00230010204685,59.92248404393929,59.951734776334064,59.90897500266847,59.919107299057465,59.94048754777036,59.94948563587889,59.89771326782888,59.89771326782888,59.95960556612937,59.86277761304268,59.88306730224773,59.86728750289723,59.89320750447957,59.95960556612937,59.9944394559913,60.00566837861474,59.96410232102935,59.982083238097154,60.03148043842269,59.840218989462535,59.86616008776313,59.8345769439062,59.82893394227072,59.93148701727075,59.84360375792299,59.95623259940636,59.97421778819836,60.01689349000102,60.03035859404648,59.982083238097154,59.97983615736284,60.02923671157687,59.98657694200688,59.9933163540777,59.91685594491079,60.00005439376158,59.8582671116409,60.01577115034348,60.01240390273974,59.90559688321354,59.932612217166536,60.01464877258133,59.904470767018296,59.9551082008659,60.00230010204685,59.93823764413683,60.00230010204685,59.96297818952292,59.91685594491079,59.86503263440992,59.91685594491079,59.84360375792299,59.932612217166536,59.83683387685223,59.95960556612937,59.92811118856449,59.92360954921317,59.890954393617385,59.85601163159266,59.86390514283672,59.85375599863699,59.97309399995937,59.99668554545638,60.00005439376158,59.89996592032976,59.86728750289723,59.982083238097154,59.87968654715585,60.04157532374879,60.00679106124481,59.83909065683245,59.85375599863699,59.94161244234315,59.91010096611272,59.98545357322217,59.84586007904705,59.86052243878864,60.025870835599136,59.97871255979781,59.97871255979781,60.00117726696214,59.89546046254779,59.93148701727075,59.83796228596263,59.95623259940636,59.951734776334064,59.92811118856449,59.89883961317642,59.86277761304268,59.91685594491079,59.91347862733533,59.9551082008659,59.84134728385376,59.85488383422868,60.00342289901664,59.84473193760274,59.86503263440992,59.90559688321354,59.86616008776313,59.90109218928974,59.94723634280179,59.91685594491079,59.86503263440992,59.969722406414654,59.8345769439062,59.83570542950036,59.96522641439151,60.03484574299966,60.01801579155483,59.8582671116409,59.82893394227072,59.84247554000695,60.025870835599136,60.00679106124481,60.02923671157687,60.01240390273974,59.84924427397591,60.00903631217126,59.94723634280179,59.87066951899336,59.96297818952292,59.91685594491079,59.86165004502693,59.94273729875442,59.89320750447957,59.99780853300957,59.86503263440992,59.83796228596263,59.90672296121975,59.83796228596263,59.840218989462535,59.982083238097154,59.88306730224773,60.020260280354655,59.9292365029706,59.94498689709594,59.84134728385376,59.97309399995937,60.03708908893322,59.84698818225677,60.00005439376158,59.93936261503522,59.890954393617385,60.00566837861474,59.86277761304268,59.83119125766129,59.84586007904705,59.93148701727075,59.89883961317642,60.03821070476726,59.93711263507439,60.020260280354655,59.86728750289723,60.00005439376158,59.85150021276701,59.83006261908929,60.022504616749856,59.83119125766129,59.8345769439062,59.9483610084185,59.92698583598656,59.88644771348351,59.9944394559913,59.88870112995431,59.8345769439062,60.03260224470638,59.852628124816725,59.88644771348351,60.01240390273974,59.88194042209115,59.98657694200688,59.85488383422868,59.85713939072978,60.01913805500574,59.99668554545638,60.00679106124481,60.035967435010974,59.98320672126816,59.904470767018296,59.87630544818465,60.03933228251395,59.919107299057465,60.00679106124481,59.93486250245378,59.99668554545638,59.84134728385376,60.03148043842269,60.03035859404648,59.87292400531091,59.88644771348351,60.00342289901664,59.83570542950036,59.833448420068855,59.89883961317642,59.98545357322217,59.85939479432693,59.85037226248704,59.85488383422868,59.85150021276701,59.89546046254779,59.971970173582974,60.020260280354655,59.83909065683245,59.94611163902791,60.022504616749856,59.96747448668645,60.02699283235407,60.00791370576335,60.0236267277979,59.97983615736284,59.86165004502693,59.71474042375376,60.035967435010974,59.98657694200688,59.852628124816725,59.958481282037226,59.94161244234315,59.98095971679568,59.96747448668645,59.982083238097154,60.025870835599136,60.00230010204685,59.90784900103776,60.02699283235407,59.87743251938528,59.85037226248704,60.03148043842269,59.91685594491079,59.91685594491079,59.84360375792299,59.911226891371385,59.89996592032976,59.84698818225677,59.9933163540777,60.01689349000102,59.83796228596263,60.01240390273974,59.97646525026767,59.97084630906837,59.86165004502693,59.93823764413683,59.89771326782888,59.84811624723277,59.987700272664576,59.92811118856449,59.91685594491079,59.833448420068855,59.96297818952292,59.93148701727075,59.984330166309526,60.01464877258133,59.8345769439062,59.852628124816725,60.00230010204685,60.00566837861474,59.98320672126816,60.02699283235407,59.9483610084185,59.83570542950036,60.00679106124481,59.9551082008659,59.83683387685223,60.00005439376158,59.99780853300957,60.01464877258133,60.0236267277979,60.00791370576335,60.03148043842269,59.8345769439062,59.98545357322217,59.86390514283672,60.03260224470638,59.83570542950036,59.92473501631175,59.935987587847,59.83570542950036,59.97646525026767,59.96635046961026,59.88757444082032,59.86841487981305,59.93936261503522,60.033724012898425,59.85150021276701,59.87968654715585,59.94161244234315,59.82893394227072,59.89546046254779,59.99780853300957,59.97646525026767,59.930361779205725,59.84134728385376,60.00230010204685,59.83570542950036,59.99893148244436,59.95623259940636,60.03708908893322,59.852628124816725,60.01689349000102,59.84247554000695,59.84811624723277,59.84811624723277,59.83231985798753,59.85713939072978,60.00230010204685,59.85488383422868,59.89771326782888,59.97084630906837,59.98545357322217,59.92360954921317,60.02811479101304,59.911226891371385,59.86165004502693,59.969722406414654,60.00230010204685,59.88982778088639,59.89546046254779,59.9933163540777,59.90221842005726,60.03821070476726,59.84586007904705,59.83231985798753,59.88757444082032,59.840218989462535,59.90334461263316,59.833448420068855,59.91010096611272,59.84247554000695,59.94948563587889,59.92360954921317,59.86841487981305,59.894334002612496,59.90221842005726,59.93711263507439,59.9551082008659,59.91685594491079,59.84473193760274,59.8695422185115,59.91347862733533,59.960729812073794,59.87292400531091,59.93823764413683,59.92811118856449,59.9292365029706,59.86503263440992,59.88982778088639,59.975341538300846,59.86052243878864,59.8785595523754,59.91573021056722,59.84811624723277,60.04157532374879,59.85150021276701,60.03933228251395,59.84134728385376,59.95623259940636,59.969722406414654,59.8785595523754,59.95285928933061,59.97421778819836,59.95623259940636,59.93936261503522,59.84473193760274,59.88982778088639,59.96297818952292,59.982083238097154,60.01240390273974,60.03148043842269,59.87968654715585,59.97871255979781,59.98095971679568,60.01464877258133,60.03708908893322,59.90221842005726,59.83119125766129,59.84811624723277,59.85488383422868,59.86503263440992,59.92586044523594,60.02811479101304,59.911226891371385,60.01240390273974,59.94498689709594,59.86841487981305,59.84924427397591,60.013526356713705,60.004545657872285,59.9179816410739,59.83006261908929,60.022504616749856,59.85037226248704,59.88757444082032,59.96297818952292,59.90784900103776,59.98095971679568,59.93486250245378,59.852628124816725,59.8695422185115,59.97084630906837,59.84360375792299,59.87066951899336,59.87743251938528,60.00903631217126,60.03933228251395,60.025870835599136,60.02138246760239,59.85601163159266,59.988823565196114,59.8785595523754,59.94161244234315,59.840218989462535,59.92248404393929,59.98095971679568,60.0112814106586,60.02474880074738,60.02138246760239,60.02923671157687,60.00791370576335,59.94723634280179,60.02138246760239,59.95960556612937,60.02474880074738,59.95398376417426,59.92473501631175,59.92811118856449,59.84811624723277,59.92586044523594,59.94273729875442,59.99780853300957,59.92023291886231,60.03821070476726,59.9179816410739,59.8582671116409,60.022504616749856,59.85037226248704,59.85150021276701,59.96635046961026,60.04045382217418,60.00679106124481,59.85375599863699,59.99556251978391,60.00903631217126,59.83683387685223,59.89996592032976,59.84360375792299,59.85150021276701,60.004545657872285,59.90334461263316,59.88644771348351,59.94723634280179,59.99219321404225,59.85713939072978,59.85037226248704,60.00679106124481,59.930361779205725,59.99556251978391,60.01464877258133,59.85037226248704,59.94498689709594,59.89208096814816,60.02474880074738,59.83683387685223,60.00679106124481,59.8695422185115,59.97084630906837,60.03484574299966,59.8695422185115,59.9292365029706,59.987700272664576,59.99780853300957,59.91010096611272,59.98545357322217,59.91573021056722,60.0236267277979,59.85150021276701,60.02923671157687,59.89771326782888,59.84473193760274,59.86728750289723,59.86052243878864,59.99219321404225,60.01577115034348,59.94611163902791,59.85601163159266,60.00566837861474,60.020260280354655,59.8582671116409,59.89883961317642,59.95285928933061,59.85375599863699,59.988823565196114,59.852628124816725,59.89883961317642,60.02923671157687,59.97084630906837,59.833448420068855,59.988823565196114,60.0236267277979,60.00679106124481,59.91010096611272,60.00117726696214,59.840218989462535,59.84360375792299,59.94723634280179,59.969722406414654,59.96410232102935,59.890954393617385,59.87517833877261,59.95398376417426,59.84247554000695,59.894334002612496,59.84360375792299,60.02474880074738,60.02923671157687,59.98657694200688,59.86165004502693,59.85939479432693,59.88306730224773,59.88532094794305,59.890954393617385,59.92586044523594,59.91010096611272,59.90221842005726,59.9292365029706,59.89546046254779,59.83909065683245,59.82893394227072,59.96410232102935,59.833448420068855,59.969722406414654,59.84134728385376,59.98545357322217,60.00005439376158,59.86841487981305,59.9483610084185,59.85150021276701,59.97421778819836,59.97084630906837,59.97983615736284,59.9944394559913,59.96185401987135,60.02811479101304,60.01464877258133,59.8965868842863,59.99893148244436,59.84247554000695,59.88194042209115,59.96297818952292,59.95960556612937,59.85150021276701,59.86503263440992,59.84360375792299,59.93711263507439,59.96635046961026,59.88306730224773,59.83119125766129,59.95960556612937,60.035967435010974,60.02138246760239,59.92135850048929,60.033724012898425,59.84473193760274,59.92811118856449,59.84473193760274,59.852628124816725,60.01801579155483,60.004545657872285,59.9483610084185,59.83570542950036,59.84134728385376,60.035967435010974,59.984330166309526,59.930361779205725,59.85150021276701,59.83570542950036,60.03260224470638,59.9179816410739,59.93373737889392,60.022504616749856,59.92698583598656,60.03933228251395,59.85150021276701,59.958481282037226,59.894334002612496,59.89320750447957,59.852628124816725,59.85601163159266,59.91347862733533,59.94948563587889,59.94386211700508,60.01577115034348,59.99780853300957,60.010158880469376,59.8965868842863,59.84698818225677,59.87517833877261,59.89996592032976,59.94611163902791,59.96522641439151,59.894334002612496,59.93936261503522,59.890954393617385,59.83006261908929,59.99668554545638,59.90897500266847,59.94611163902791,59.94948563587889,59.84698818225677,59.88306730224773,59.98095971679568,60.01689349000102,59.98545357322217,60.04045382217418,60.04045382217418,59.86728750289723,59.94611163902791,59.85939479432693,59.93486250245378,59.83006261908929,59.97084630906837,59.988823565196114,59.98545357322217,59.95960556612937,59.98994681960231,59.94161244234315,59.85713939072978,60.004545657872285,59.85939479432693,59.99668554545638,59.87179678125955,59.83909065683245,60.035967435010974,59.93936261503522,59.85601163159266,59.83796228596263,60.03260224470638,59.84698818225677,59.8785595523754,59.833448420068855,59.90897500266847,59.84811624723277,59.911226891371385,59.92811118856449,59.99107003588408,59.988823565196114,60.0112814106586,59.8695422185115,59.87405119114831,59.97646525026767,59.88081350372747,59.86165004502693,59.98657694200688,59.93373737889392,59.987700272664576,59.82893394227072,59.87292400531091,60.033724012898425,59.84811624723277,59.84360375792299,59.84924427397591,59.97983615736284,59.89883961317642,59.90897500266847,59.98545357322217,59.83796228596263,60.00342289901664,59.96635046961026,59.90334461263316,59.84247554000695,59.89320750447957,59.87630544818465,59.93486250245378,60.00903631217126,59.89996592032976,59.91573021056722,59.982083238097154,59.82893394227072,59.85713939072978,60.00791370576335,59.8695422185115,59.904470767018296,59.95735695979653,59.93711263507439,60.004545657872285,59.958481282037226,59.890954393617385,59.92248404393929,59.88532094794305,59.9551082008659,59.87968654715585,59.97309399995937,59.84698818225677,59.8695422185115,59.96747448668645,59.97421778819836,59.83683387685223,59.95735695979653,60.00679106124481,59.982083238097154,59.92248404393929,60.00903631217126,60.025870835599136,60.02699283235407,59.86277761304268,59.93373737889392,59.85939479432693,59.86390514283672,59.98657694200688,59.75888124818248,59.90897500266847,59.97421778819836,59.982083238097154,59.86390514283672,60.01464877258133,59.83909065683245,59.840218989462535,59.98994681960231,59.8582671116409,59.89320750447957,59.86165004502693,60.02474880074738,59.84360375792299,59.88757444082032,59.984330166309526,59.98994681960231,60.02138246760239,59.86390514283672,60.00566837861474,59.85375599863699,59.85488383422868,59.958481282037226,59.92698583598656,59.9944394559913,59.86728750289723,59.95285928933061,59.99556251978391,59.94498689709594,59.91235277844529,60.03933228251395,59.94948563587889,59.83570542950036,59.92473501631175,59.90784900103776,59.86052243878864,60.01801579155483,60.01801579155483,59.8345769439062,59.86052243878864,60.00903631217126,59.97983615736284,60.0112814106586,59.99893148244436,59.99556251978391,60.03484574299966,59.975341538300846,59.94386211700508,59.930361779205725,59.8582671116409,59.87743251938528,59.86616008776313,60.01464877258133,59.92360954921317,60.022504616749856,59.91235277844529,60.01240390273974,60.02138246760239,60.03260224470638,59.88306730224773,59.88870112995431,59.88532094794305,60.00342289901664,60.010158880469376,59.94161244234315,59.930361779205725,59.82893394227072,59.87517833877261,59.97983615736284,59.98545357322217,59.833448420068855,59.93936261503522,59.97084630906837,59.97421778819836,59.85939479432693,59.85939479432693,59.93823764413683,60.00679106124481,59.88870112995431,60.04045382217418,59.93936261503522,59.86616008776313,59.91460443804235,59.87066951899336,59.87405119114831,59.971970173582974,59.85037226248704,60.03933228251395,59.95735695979653,60.03260224470638,59.88306730224773,59.99556251978391,59.90109218928974,59.91460443804235,59.958481282037226,59.92360954921317,59.91685594491079,59.87968654715585,59.95285928933061,59.94161244234315,60.00791370576335,59.94273729875442,59.88419414419808,59.85488383422868,59.89320750447957,59.94723634280179,59.99893148244436,59.93711263507439,60.02474880074738,59.85150021276701,59.951734776334064,60.00679106124481,59.83119125766129,59.911226891371385,59.911226891371385,59.84247554000695,60.01689349000102,59.8785595523754,59.92473501631175,59.83119125766129,59.9944394559913,59.969722406414654,60.03260224470638,60.01464877258133,60.00791370576335,59.96185401987135,59.96859846562096,59.984330166309526,59.85037226248704,60.03484574299966,60.01801579155483,59.95623259940636,59.99780853300957,60.00679106124481,59.84924427397591,60.010158880469376,60.01689349000102,59.85713939072978,59.85601163159266,59.89320750447957,59.97084630906837,60.03148043842269,60.022504616749856,59.95735695979653,59.87179678125955,59.94273729875442,59.94273729875442,59.99668554545638,59.99556251978391,59.84811624723277,59.89208096814816,59.9292365029706,60.02138246760239,59.91235277844529,59.911226891371385,60.02811479101304,60.004545657872285,60.03148043842269,59.93711263507439,60.020260280354655,59.93711263507439,59.86165004502693,59.98994681960231,60.01464877258133,60.03933228251395,59.88870112995431,59.85037226248704,59.86165004502693,59.90109218928974,59.90784900103776,59.84247554000695,59.99668554545638,60.03148043842269,59.93823764413683,60.00679106124481,59.83231985798753,60.03484574299966,59.89771326782888,60.03260224470638,60.00679106124481,59.852628124816725,59.95285928933061,59.85713939072978,59.93823764413683,59.85601163159266,59.90334461263316,60.03708908893322,59.83006261908929,59.852628124816725,59.87517833877261,59.8582671116409,59.840218989462535,60.03035859404648,59.95398376417426,59.88644771348351,59.86503263440992,59.984330166309526,60.03148043842269,60.0112814106586,59.88982778088639,60.00230010204685,60.013526356713705,60.02474880074738,59.840218989462535,59.87743251938528,59.84811624723277,59.89320750447957,59.93373737889392,59.95735695979653,59.98095971679568,60.04157532374879,59.86052243878864,59.87968654715585,59.950610225183794,60.00903631217126,59.84586007904705,59.975341538300846,59.92023291886231,59.94723634280179,59.98657694200688,59.8345769439062,59.84698818225677,59.8965868842863,59.90109218928974,60.00342289901664,60.013526356713705,60.0112814106586,59.83119125766129,59.94161244234315,59.94498689709594,59.84247554000695,59.84134728385376,59.92811118856449,59.90109218928974,60.00117726696214,59.93823764413683,59.94048754777036,59.90672296121975,59.94611163902791,59.84247554000695,59.90559688321354,59.95285928933061,59.9551082008659,59.95960556612937,59.74756864368603,59.904470767018296,59.85375599863699,59.91347862733533,60.02923671157687,59.971970173582974,60.033724012898425,59.88644771348351,60.00342289901664,59.83119125766129,59.88419414419808,59.82893394227072,59.98320672126816,59.97421778819836,59.94161244234315,59.96522641439151,59.96747448668645,59.96185401987135,60.00117726696214,59.98095971679568,59.98095971679568,59.83231985798753,59.84698818225677,59.94161244234315,59.99780853300957,59.87743251938528,59.88194042209115,59.84698818225677,60.010158880469376,59.84247554000695,59.82893394227072,59.91347862733533,59.93148701727075,59.99107003588408,59.833448420068855,59.833448420068855,59.99107003588408,59.93936261503522,59.988823565196114,59.99780853300957,59.98320672126816,59.94048754777036,59.96859846562096,59.86728750289723,59.89208096814816,59.94161244234315,59.94611163902791,59.99556251978391,59.84360375792299,59.83119125766129,59.98095971679568,59.84811624723277,59.96635046961026,59.93373737889392,59.9483610084185,59.9933163540777,59.93711263507439,59.89208096814816,60.04045382217418,60.020260280354655,60.02923671157687,60.0236267277979,60.00005439376158,59.988823565196114,59.83909065683245,59.92586044523594,59.90334461263316,60.0112814106586,59.971970173582974,59.97646525026767,59.94948563587889,59.971970173582974,59.90221842005726,60.013526356713705,59.85939479432693,59.95398376417426,59.89996592032976,59.89320750447957,59.97983615736284,59.97646525026767,59.87179678125955,59.95960556612937,59.87743251938528,59.94611163902791,59.90897500266847,60.03821070476726,60.02923671157687,60.03484574299966,59.86503263440992,59.975341538300846,59.96297818952292,59.90897500266847,59.85713939072978,59.85375599863699,59.90559688321354,59.971970173582974,59.93711263507439,60.010158880469376,59.88194042209115,60.00903631217126,60.03484574299966,59.982083238097154,60.0236267277979,59.95398376417426,59.85037226248704,59.85375599863699,59.92248404393929,59.99107003588408,59.9483610084185,59.8345769439062,59.86503263440992,59.977588924099706,59.9933163540777,59.94948563587889,59.9551082008659,59.8345769439062,59.852628124816725,59.987700272664576,59.86728750289723,59.90559688321354,59.852628124816725,59.95960556612937,60.03708908893322,59.98545357322217,60.03035859404648,59.85150021276701,59.92248404393929,59.85939479432693,59.904470767018296,59.960729812073794,60.013526356713705,59.9292365029706,59.84360375792299,59.87517833877261,59.95623259940636,60.00566837861474,59.9944394559913,59.91235277844529,59.95285928933061,59.83119125766129,59.96410232102935,59.90784900103776,59.95735695979653,59.88757444082032,59.96185401987135,59.94273729875442,59.97309399995937,60.00566837861474,60.02474880074738,60.0112814106586,59.85713939072978,59.894334002612496,59.9292365029706,59.97871255979781,59.86277761304268,59.94048754777036,59.83006261908929,59.89208096814816,59.82893394227072,59.93936261503522,59.88532094794305,59.96410232102935,59.92811118856449,59.958481282037226,59.95960556612937,59.94611163902791,59.971970173582974,59.97983615736284,59.99668554545638,59.97309399995937,59.94048754777036,59.83119125766129,59.88194042209115,59.89771326782888,60.035967435010974,59.92023291886231,59.99668554545638,59.87630544818465,59.971970173582974,60.010158880469376,59.99893148244436,59.87292400531091,59.9944394559913,59.85601163159266,60.00791370576335,59.85037226248704,59.98545357322217,60.02699283235407,59.98657694200688,59.90109218928974,59.840218989462535,59.987700272664576,59.833448420068855,60.03148043842269,59.8965868842863,59.86052243878864,60.00679106124481,59.87743251938528,59.9551082008659,60.03260224470638,59.840218989462535,59.91347862733533,59.94386211700508,59.982083238097154,59.86165004502693,59.94611163902791,59.88870112995431,60.03148043842269,59.95623259940636,60.01689349000102,59.83006261908929,59.94723634280179,60.01913805500574,59.92023291886231,59.88644771348351,59.98320672126816,60.00117726696214,59.85713939072978,60.02811479101304,59.91685594491079,59.87292400531091,59.94048754777036,59.98994681960231,59.96297818952292,60.02811479101304,59.83909065683245,59.94386211700508,59.930361779205725,59.86728750289723,59.8695422185115,59.86503263440992,59.89208096814816,60.01913805500574,59.86390514283672,59.99780853300957,59.87066951899336,59.83231985798753,59.83796228596263,60.00117726696214,59.8785595523754,59.98320672126816,59.88982778088639,59.95285928933061,59.84360375792299,59.85150021276701,59.94723634280179,59.95735695979653,59.9483610084185,59.8965868842863,59.93711263507439,59.86165004502693,59.88419414419808,59.85939479432693,59.85150021276701,60.02923671157687,59.9933163540777,59.83909065683245,59.85488383422868,59.8695422185115,59.8582671116409,60.00791370576335,59.85488383422868,59.96185401987135,59.83796228596263,59.83119125766129,59.84247554000695,60.03708908893322,59.85601163159266,59.86052243878864,59.85375599863699,59.95398376417426,60.00005439376158,60.00791370576335,59.92586044523594,60.00342289901664,59.91347862733533,59.89546046254779,59.83683387685223,59.85150021276701,59.96635046961026,59.83796228596263,59.95285928933061,59.94611163902791,59.88757444082032,59.9179816410739,59.94161244234315,59.89771326782888,59.94948563587889,59.87292400531091,59.87630544818465,59.90672296121975,59.94611163902791,59.84360375792299,59.988823565196114,59.94273729875442,60.013526356713705,59.9292365029706,59.92135850048929,59.84473193760274,59.984330166309526,60.01577115034348,59.82893394227072,59.951734776334064,59.91573021056722,60.03933228251395,60.033724012898425,59.87630544818465,59.960729812073794,60.01913805500574,59.86277761304268,60.035967435010974,59.85939479432693,59.96185401987135,59.987700272664576,59.89208096814816,60.03484574299966,59.96635046961026,60.025870835599136,59.90897500266847,60.02699283235407,59.935987587847,59.85488383422868,59.83683387685223,59.8345769439062,59.86503263440992,59.9933163540777,59.8965868842863,59.890954393617385,60.02138246760239,60.035967435010974,60.02923671157687,59.83909065683245,60.00791370576335,59.840218989462535,59.82893394227072,59.82103213356388,59.9933163540777,59.84811624723277,59.95285928933061,60.03708908893322,59.91460443804235,59.984330166309526,60.00566837861474,59.9483610084185,59.8785595523754,60.03260224470638,59.93373737889392,59.85939479432693,60.00679106124481,59.84698818225677,60.02699283235407,60.03148043842269,59.935987587847,59.94723634280179,59.83006261908929,59.84134728385376,59.93936261503522,59.83796228596263,60.03035859404648,59.84586007904705,59.93711263507439,59.85939479432693,59.87405119114831,59.84811624723277,59.94723634280179,59.852628124816725,59.94498689709594,59.86277761304268,60.03260224470638,59.93823764413683,59.86616008776313,60.01240390273974,59.87630544818465,59.99780853300957,59.96747448668645,60.01577115034348,59.83231985798753,59.86616008776313,59.99107003588408,59.96410232102935,59.87743251938528,59.95623259940636,59.95735695979653,59.88419414419808,59.96410232102935,59.94948563587889,59.89996592032976,59.89208096814816,59.85150021276701,59.87743251938528,59.96522641439151,59.94498689709594,59.94386211700508,59.94498689709594,59.85488383422868,59.85601163159266,59.87066951899336,59.88194042209115,60.00342289901664,60.033724012898425,59.94273729875442,60.02474880074738,59.97084630906837,59.95623259940636,60.00679106124481,59.83796228596263,59.98545357322217,59.8965868842863,60.010158880469376,60.01577115034348,60.004545657872285,59.98545357322217,59.8785595523754,59.984330166309526,59.890954393617385,59.91460443804235,59.85601163159266,59.87405119114831,59.87066951899336,59.83570542950036,59.86165004502693,59.840218989462535,59.85713939072978,59.932612217166536,60.03708908893322,59.86728750289723,59.8345769439062,59.92360954921317,59.87517833877261,59.83570542950036,59.97309399995937,59.83119125766129,59.86052243878864,59.90109218928974,59.85713939072978,59.984330166309526,59.85037226248704,59.97983615736284,59.94386211700508,59.971970173582974,59.87066951899336,59.86052243878864,59.87405119114831,60.035967435010974,60.0236267277979,59.911226891371385,59.92135850048929,59.833448420068855,59.86503263440992,59.95285928933061,59.83909065683245,59.85939479432693,59.84360375792299,60.020260280354655,59.90109218928974,59.96410232102935,60.00005439376158,59.911226891371385,59.840218989462535,59.85375599863699,59.92135850048929,59.975341538300846,59.94498689709594,59.91010096611272,59.98320672126816,59.90559688321354,59.935987587847,59.82893394227072,59.951734776334064,59.8695422185115,59.92135850048929,59.94611163902791,59.95735695979653,59.8785595523754,59.99219321404225,59.88870112995431,59.960729812073794,60.03708908893322,59.98320672126816,59.88870112995431,59.92473501631175,59.85713939072978,60.02138246760239,59.83119125766129,59.91685594491079,59.84473193760274,60.013526356713705,59.90672296121975,59.987700272664576,59.93711263507439,60.02811479101304,59.98545357322217,59.9933163540777,59.94048754777036,59.84134728385376,59.840218989462535,60.02811479101304,59.96410232102935,59.982083238097154,60.01913805500574,59.89771326782888,59.93148701727075,59.91573021056722,59.975341538300846,59.971970173582974,59.92586044523594,60.020260280354655,60.020260280354655,59.85037226248704,60.033724012898425,59.83570542950036,59.93936261503522,59.87517833877261,59.87630544818465,59.92586044523594,59.88532094794305,59.88532094794305,59.92698583598656,59.84134728385376,59.92248404393929,59.93486250245378,59.90221842005726,59.88982778088639,60.00005439376158,60.035967435010974,59.86390514283672,59.89883961317642,59.98320672126816,59.94273729875442,60.01240390273974,59.95960556612937,59.94048754777036,60.03708908893322,59.988823565196114,59.890954393617385,59.85939479432693,59.99556251978391,59.88644771348351,59.86165004502693,59.91347862733533,59.94948563587889,59.94498689709594,59.93936261503522,59.98095971679568,59.87405119114831,59.96185401987135,59.84134728385376,59.85037226248704,59.86277761304268,59.977588924099706,59.95285928933061,60.02923671157687,59.87405119114831,59.88081350372747,59.86616008776313,59.97983615736284,59.9483610084185,59.9483610084185,59.951734776334064,60.00679106124481,60.004545657872285,59.9179816410739,59.92586044523594,60.02138246760239,59.87066951899336,59.96635046961026,59.9292365029706,59.984330166309526,59.84698818225677,60.00566837861474,60.035967435010974,59.840218989462535,59.84134728385376,59.94161244234315,60.00903631217126,59.97421778819836,59.8695422185115,59.97871255979781,59.84360375792299,60.033724012898425,60.02699283235407,59.852628124816725,59.83119125766129,60.02699283235407,59.89546046254779,59.87066951899336,59.9292365029706,59.950610225183794,59.88644771348351,59.95285928933061,59.87517833877261,59.99780853300957,59.9483610084185,59.96859846562096,59.87179678125955,60.004545657872285,59.9944394559913,59.90672296121975,59.84134728385376,60.03035859404648,59.88870112995431,59.85601163159266,59.83231985798753,59.90109218928974,59.8345769439062,59.984330166309526,59.83119125766129,59.94386211700508,59.93148701727075,59.96185401987135,59.97084630906837,59.87743251938528,59.94048754777036,59.92698583598656,59.969722406414654,60.04269678723865,59.89771326782888,60.03035859404648,59.9483610084185,60.04045382217418,60.01801579155483,59.93936261503522,59.97084630906837,59.84924427397591,60.00679106124481,60.013526356713705,60.04045382217418,60.03933228251395,59.99219321404225,59.94723634280179,59.8582671116409,59.85375599863699,59.90559688321354,60.04045382217418,59.87630544818465,60.00342289901664,59.932612217166536,59.95735695979653,59.98545357322217,59.92360954921317,59.852628124816725,59.86841487981305,59.85939479432693,59.840218989462535,59.84924427397591,59.833448420068855,59.92473501631175,59.950610225183794,59.890954393617385,59.88982778088639,59.950610225183794,59.95960556612937,59.88870112995431,59.969722406414654,60.03821070476726,59.91460443804235,60.01689349000102,60.01577115034348,59.86503263440992,59.97983615736284,59.84134728385376,59.84924427397591,59.84586007904705,59.89883961317642,60.01689349000102,59.99668554545638,59.83909065683245,59.86165004502693,59.84247554000695,59.83796228596263,59.96635046961026,59.93936261503522,59.91347862733533,59.960729812073794,59.91347862733533,59.98095971679568,59.90897500266847,59.99893148244436,59.94048754777036,60.03821070476726,59.94611163902791,60.03821070476726,59.88306730224773,59.83909065683245,59.97309399995937,59.95398376417426,59.91573021056722,59.96635046961026,59.94498689709594,60.013526356713705,59.85939479432693,59.86052243878864,59.90334461263316,59.88081350372747,59.90334461263316,59.90109218928974,59.85375599863699,59.9933163540777,59.85939479432693,59.9179816410739,59.88306730224773,59.84698818225677,60.02138246760239,59.92135850048929,59.960729812073794,60.020260280354655,59.85939479432693,59.83119125766129,59.904470767018296,59.8345769439062,59.8582671116409,60.02474880074738,59.88081350372747,59.83231985798753,59.84924427397591,59.987700272664576,59.85488383422868,59.932612217166536,60.022504616749856,59.982083238097154,59.89883961317642,59.85939479432693,59.97646525026767,59.85037226248704,59.98545357322217,59.932612217166536,59.96185401987135,60.00230010204685,59.86052243878864,59.84924427397591,59.852628124816725,59.984330166309526,60.010158880469376,60.02923671157687,59.92360954921317,59.95623259940636,59.90334461263316,59.86728750289723,60.00230010204685,59.96635046961026,59.87743251938528,59.87630544818465,59.99893148244436,59.87405119114831,59.85601163159266,59.83796228596263,59.85037226248704,59.84586007904705,60.02811479101304,60.03933228251395,59.984330166309526,59.95285928933061,59.87292400531091,60.004545657872285,59.969722406414654,59.8695422185115,59.971970173582974,59.8582671116409,59.988823565196114,59.99780853300957,59.97309399995937,59.82893394227072,59.94386211700508,59.84698818225677,59.84924427397591,59.87179678125955,59.86503263440992,59.9483610084185,59.83796228596263,59.935987587847,59.89546046254779,59.911226891371385,59.96859846562096,59.96635046961026,60.02811479101304,60.00117726696214,59.90334461263316,59.95735695979653,59.86277761304268,59.85601163159266,59.84360375792299,59.87066951899336,59.86728750289723,59.83570542950036,60.00791370576335,59.96410232102935,60.01913805500574,60.033724012898425,59.91347862733533,59.84360375792299,59.89771326782888,59.84698818225677,59.83570542950036,59.83683387685223,59.890954393617385,59.97871255979781,59.96410232102935,59.85601163159266,59.87630544818465,59.890954393617385,59.86052243878864,60.004545657872285,59.88644771348351,59.951734776334064,59.94498689709594,60.004545657872285,59.890954393617385,59.99107003588408,59.89320750447957,59.904470767018296,59.95735695979653,59.94723634280179,59.99556251978391,59.90109218928974,59.83683387685223,60.035967435010974,59.84247554000695,59.85037226248704,59.98545357322217,60.03484574299966,60.00342289901664,59.94386211700508,59.98994681960231,59.87405119114831,60.00791370576335,59.91235277844529,59.83006261908929,59.92360954921317,59.86165004502693,59.935987587847,59.83231985798753,59.97084630906837,59.93711263507439,59.84360375792299,59.99107003588408,59.95960556612937,59.83119125766129,59.930361779205725,59.92811118856449,59.86165004502693,59.82328998444886,60.00230010204685,59.85150021276701,59.982083238097154,59.88419414419808,59.98545357322217,59.94386211700508,60.01689349000102,59.83796228596263,59.987700272664576,59.8582671116409,60.00117726696214,60.03708908893322,59.92473501631175,59.971970173582974,59.987700272664576,59.92473501631175,59.95398376417426,59.89546046254779,59.86052243878864,59.89320750447957,59.87179678125955,59.86052243878864,60.022504616749856,60.02474880074738,59.88532094794305,59.930361779205725,59.88870112995431,59.88757444082032,59.99668554545638,60.01913805500574,60.01913805500574,59.950610225183794,59.84698818225677,59.90109218928974,59.93823764413683,59.90334461263316,60.02811479101304,60.00005439376158,59.83683387685223,59.833448420068855,59.935987587847,59.87968654715585,59.95398376417426,59.84924427397591,59.87066951899336,60.00791370576335,59.935987587847,60.025870835599136,60.01577115034348,59.91573021056722,60.01577115034348,59.96635046961026,59.97646525026767,59.90897500266847,59.87405119114831,59.88419414419808,59.88644771348351,59.951734776334064,60.03821070476726,59.90221842005726,60.010158880469376,59.87292400531091,59.83683387685223,60.00679106124481,59.97871255979781,59.98545357322217,59.833448420068855,59.83570542950036,59.90897500266847,59.9483610084185,59.9483610084185,60.02811479101304,60.01577115034348,60.02811479101304,59.85601163159266,59.86390514283672,59.90109218928974,59.95398376417426,59.958481282037226,59.94723634280179,59.932612217166536,59.96297818952292,59.88870112995431,59.88870112995431,60.004545657872285,59.99107003588408,59.86841487981305,59.87405119114831,59.96859846562096,60.02138246760239,59.85488383422868,59.85037226248704,60.01464877258133,59.982083238097154,59.91460443804235,59.88757444082032,60.01577115034348,60.020260280354655,59.92698583598656,59.97646525026767,59.86165004502693,60.004545657872285,59.85601163159266,59.96522641439151,59.88419414419808,59.94386211700508,59.89546046254779,59.93823764413683,59.88306730224773,59.86052243878864,59.91347862733533,59.932612217166536,59.90559688321354,59.988823565196114,60.01464877258133,59.98994681960231,60.03708908893322,59.91347862733533,59.96635046961026,59.9292365029706,59.85939479432693,59.83006261908929,59.87405119114831,59.919107299057465,60.00679106124481,59.81990315074165,59.84134728385376,60.035967435010974,59.83006261908929,59.97421778819836,60.03484574299966,59.96297818952292,59.98095971679568,59.91347862733533,60.035967435010974,59.95285928933061,59.99107003588408,60.03484574299966,59.85375599863699,59.840218989462535,59.86165004502693,59.982083238097154,59.92248404393929,60.01689349000102,59.87968654715585,59.88419414419808,59.911226891371385,60.03821070476726,59.96185401987135,59.8965868842863,59.90221842005726,59.852628124816725,59.840218989462535,59.99668554545638,59.89771326782888,60.033724012898425,60.00903631217126,59.951734776334064,59.833448420068855,59.95960556612937,59.85150021276701,59.88644771348351,59.86052243878864,59.83683387685223,59.92023291886231,59.935987587847,59.840218989462535,59.971970173582974,59.951734776334064,60.00005439376158,59.86277761304268,60.03148043842269,59.958481282037226,60.01801579155483,59.83796228596263,59.8965868842863,59.89996592032976,59.950610225183794,59.9483610084185,59.852628124816725,59.82893394227072,59.87743251938528,59.930361779205725,59.83006261908929,59.83683387685223,59.88982778088639,59.94048754777036,59.975341538300846,59.97983615736284,59.89320750447957,60.1792298512455,59.92811118856449,59.94048754777036,59.88644771348351,59.87405119114831,60.020260280354655,59.960729812073794,59.93711263507439,59.86841487981305,59.932612217166536,60.01801579155483,59.86165004502693,60.00005439376158,59.99893148244436,59.82893394227072,59.86052243878864,59.840218989462535,59.89996592032976,59.85037226248704,59.840218989462535,59.96635046961026,59.88982778088639,59.99668554545638,59.984330166309526,60.02811479101304,60.01913805500574,60.033724012898425,59.975341538300846,59.87066951899336,59.87066951899336,59.83231985798753,59.935987587847,59.87517833877261,59.83796228596263,59.86728750289723,60.00903631217126,59.9551082008659,59.86277761304268,59.90559688321354,59.97983615736284,59.88194042209115,59.83570542950036,59.8965868842863,59.88194042209115,59.94273729875442,59.95735695979653,59.85375599863699,59.85488383422868,59.83119125766129,60.00005439376158,59.89546046254779,59.89771326782888,59.8695422185115,59.935987587847,59.919107299057465,59.88194042209115,59.88757444082032,59.85488383422868,59.96747448668645,59.84924427397591,60.04045382217418,59.97421778819836,60.025870835599136,59.88419414419808,59.93936261503522,59.99219321404225,59.99780853300957,59.969722406414654,59.83570542950036,59.890954393617385,59.85037226248704,59.92023291886231,59.91347862733533,59.960729812073794,59.95623259940636,59.84360375792299,59.9483610084185,59.86503263440992,59.82893394227072,59.951734776334064,59.8965868842863,59.93486250245378,59.99780853300957,59.988823565196114,59.852628124816725,59.94948563587889,59.93936261503522,59.92698583598656,59.894334002612496,59.97983615736284,59.99668554545638,59.88644771348351,59.852628124816725,59.84586007904705,59.97983615736284,59.99893148244436,59.93148701727075,59.904470767018296,59.93486250245378,60.033724012898425,59.90559688321354,60.00342289901664,59.984330166309526,60.004545657872285,60.02699283235407,59.99219321404225,59.971970173582974,59.89883961317642,60.02699283235407,59.90784900103776,59.88870112995431,60.010158880469376,59.98320672126816,59.98657694200688,59.87743251938528,59.94386211700508,59.9933163540777,59.90897500266847,59.86277761304268,59.97871255979781,59.95285928933061,59.8695422185115,59.92586044523594,59.85037226248704,59.97084630906837,59.98545357322217,60.01577115034348,60.004545657872285,59.99780853300957,59.85150021276701,59.87517833877261,59.92586044523594,59.8695422185115,59.83006261908929,59.83231985798753,59.9551082008659,59.85375599863699,59.88982778088639,59.83796228596263,59.95735695979653,59.83796228596263,60.033724012898425,59.984330166309526,59.85150021276701,59.960729812073794,59.91235277844529,59.96522641439151,59.91235277844529,59.87292400531091,60.025870835599136,59.88419414419808,59.91685594491079,59.9483610084185,59.8345769439062,59.83231985798753,60.02138246760239,59.911226891371385,59.92360954921317,59.84247554000695,59.93823764413683,59.86277761304268,59.90672296121975,59.83231985798753,59.894334002612496,59.951734776334064,59.98994681960231,59.92248404393929,59.8345769439062,60.03821070476726,59.96747448668645,59.89546046254779,59.91010096611272,60.00566837861474,59.93936261503522,59.87405119114831,59.960729812073794,59.984330166309526,59.88532094794305,59.95398376417426,59.99893148244436,60.02474880074738,59.83909065683245,59.87743251938528,59.94611163902791,59.94498689709594,59.96410232102935,59.90221842005726,59.89320750447957,59.84924427397591,59.84473193760274,60.00342289901664,59.88870112995431,59.984330166309526,59.975341538300846,59.91460443804235,59.88870112995431,59.91573021056722,60.01801579155483,59.90221842005726,60.00230010204685,59.95285928933061,60.02699283235407,59.89320750447957,59.92586044523594,59.98545357322217,59.8695422185115,59.83796228596263,59.99893148244436,59.958481282037226,59.98095971679568,59.87743251938528,59.9944394559913,59.92023291886231,59.98545357322217,59.93936261503522,59.94723634280179,60.03708908893322,60.02138246760239,59.99556251978391,59.95285928933061,59.971970173582974,59.8785595523754,59.9933163540777,59.94273729875442,59.8785595523754,60.06063502425536,60.03708908893322,59.919107299057465,59.86728750289723,59.93823764413683,59.90221842005726,59.88757444082032,59.852628124816725,59.85939479432693,59.96635046961026,60.03933228251395,59.86277761304268,60.00566837861474,59.89771326782888,59.90672296121975,59.99219321404225,59.9944394559913,59.84811624723277,59.85601163159266,60.03484574299966,59.8965868842863,59.94948563587889,59.8785595523754,60.013526356713705,59.88644771348351,59.92586044523594,59.894334002612496,59.89996592032976,60.01240390273974,60.013526356713705,59.90784900103776,59.87179678125955,59.91235277844529,59.87179678125955,60.07296190858619,59.919107299057465,59.92698583598656,59.94611163902791,59.97871255979781,60.013526356713705,59.89771326782888,59.84924427397591,59.93486250245378,59.977588924099706,60.01689349000102,59.83909065683245,59.83683387685223,59.83570542950036,60.01464877258133,59.99556251978391,59.86503263440992,59.99219321404225,59.83909065683245,60.00903631217126,59.85037226248704,59.90897500266847,59.96297818952292,59.83231985798753,60.004545657872285,59.960729812073794,59.971970173582974,59.83006261908929,59.83683387685223,60.00005439376158,59.86841487981305,59.84360375792299,59.83796228596263,60.020260280354655,60.00679106124481,59.86841487981305,59.9483610084185,59.90334461263316,59.919107299057465,59.84247554000695,59.85150021276701,59.96185401987135,59.88532094794305,59.95398376417426,59.99219321404225,59.95735695979653,59.90221842005726,59.93148701727075,59.88306730224773,59.82893394227072,60.020260280354655,59.84473193760274,60.03148043842269,60.03708908893322,60.004545657872285,60.01689349000102,59.86165004502693,59.91347862733533,59.88532094794305,59.975341538300846,59.97983615736284,60.035967435010974,59.84586007904705,60.02474880074738,59.86277761304268,59.86728750289723,60.01689349000102,59.84811624723277,59.852628124816725,59.987700272664576,59.95623259940636,59.9179816410739,59.95285928933061,59.890954393617385,59.85150021276701,59.932612217166536,59.984330166309526,59.958481282037226,59.84473193760274,60.01801579155483,59.984330166309526,59.98657694200688,59.97646525026767,59.84360375792299,59.9933163540777,60.03148043842269,59.87968654715585,60.00117726696214,59.97421778819836,59.90672296121975,59.93823764413683,59.94386211700508,59.84134728385376,59.89320750447957,59.840218989462535,59.92135850048929,60.004545657872285,59.88081350372747,59.98320672126816,59.97871255979781,59.9483610084185,59.96185401987135,59.89320750447957,59.88419414419808,59.9179816410739,59.91235277844529,59.97309399995937,59.97646525026767,59.9483610084185,59.86728750289723,59.94048754777036,59.84698818225677,59.94498689709594,59.98657694200688,59.92586044523594,59.975341538300846,59.94611163902791,59.86841487981305,59.91235277844529,59.87968654715585,59.8965868842863,59.86165004502693,59.9483610084185,59.91460443804235,59.96185401987135,60.01464877258133,59.84247554000695,59.90334461263316,59.9944394559913,59.86052243878864,59.86277761304268,59.982083238097154,59.93823764413683,59.91010096611272,59.96185401987135,59.87517833877261,59.84473193760274,59.84924427397591,59.90109218928974,59.8695422185115,59.99219321404225,60.00117726696214,59.83231985798753,59.89320750447957,60.01689349000102,59.85037226248704,60.00005439376158,60.0236267277979,59.90897500266847,59.98320672126816,59.87630544818465,59.94048754777036,59.94723634280179,60.02474880074738,59.904470767018296,59.98545357322217,59.85037226248704,60.035967435010974,59.97421778819836,60.01577115034348,59.93373737889392,59.88306730224773,59.84586007904705,60.02923671157687,60.04157532374879,59.90559688321354,59.951734776334064,59.86841487981305,59.90334461263316,59.919107299057465,60.022504616749856,59.92135850048929,60.03260224470638,59.85488383422868,59.93711263507439,59.83683387685223,59.87405119114831,60.01801579155483,59.97983615736284,59.96522641439151,59.96747448668645,59.919107299057465,60.00679106124481,60.00342289901664,60.0236267277979,59.83796228596263,59.84698818225677,60.03260224470638,59.90559688321354,59.93486250245378,59.969722406414654,59.85939479432693,60.01240390273974,59.83683387685223,59.83006261908929,60.00342289901664,59.89546046254779,59.8695422185115,59.8582671116409,59.8345769439062,59.91010096611272,59.94161244234315,59.94386211700508,59.83570542950036,59.975341538300846,59.83683387685223,59.97983615736284,59.8345769439062,59.87517833877261,60.03260224470638,59.94498689709594,59.94048754777036,59.94386211700508,60.03035859404648,60.00005439376158,59.99893148244436,60.02923671157687,59.86052243878864,59.91010096611272,60.02138246760239,59.88081350372747,59.92473501631175,59.83006261908929,59.987700272664576,60.013526356713705,59.911226891371385,60.03821070476726,60.013526356713705,59.93823764413683,60.025870835599136,59.904470767018296,59.988823565196114,59.99556251978391,59.89771326782888,60.03260224470638,60.00117726696214,59.987700272664576,59.98545357322217,59.93711263507439,60.04157532374879,60.025870835599136,60.00903631217126,60.0236267277979,60.033724012898425,59.84360375792299,59.833448420068855,59.94386211700508,59.89883961317642,59.94386211700508,59.84698818225677,59.92248404393929,59.84360375792299,59.87968654715585,59.8695422185115,59.86165004502693,59.93711263507439,59.91347862733533,60.02923671157687,59.88870112995431,60.00005439376158,60.013526356713705,59.93936261503522,59.9551082008659,59.88194042209115,59.88982778088639,59.86616008776313,59.89208096814816,59.83683387685223,59.84360375792299,59.92360954921317,59.90672296121975,59.88982778088639,60.03484574299966,59.96747448668645,59.88644771348351,59.96859846562096,59.94273729875442,59.97646525026767,60.00230010204685,59.85601163159266,59.83796228596263,59.83909065683245,60.02474880074738,59.852628124816725,60.00566837861474,59.83683387685223,60.00791370576335,59.87517833877261,60.02923671157687,59.911226891371385,59.89546046254779,59.87292400531091,59.85939479432693,59.97309399995937,59.93486250245378,59.90221842005726,59.97421778819836,59.86841487981305,59.86277761304268,59.90221842005726,59.87743251938528,60.03148043842269,59.92135850048929,59.93936261503522,59.94386211700508,59.92023291886231,59.919107299057465,59.95398376417426,59.85375599863699,59.984330166309526,60.010158880469376,60.00005439376158,59.93823764413683,59.85488383422868,59.852628124816725,59.87743251938528,60.01913805500574,60.00903631217126,59.99780853300957,59.94273729875442,59.90784900103776,59.83231985798753,59.96410232102935,59.92586044523594,59.950610225183794,59.8785595523754,59.99107003588408,60.00791370576335,59.982083238097154,59.92360954921317,59.94948563587889,59.90221842005726,59.90672296121975,59.86503263440992,59.84698818225677,60.02699283235407,59.852628124816725,59.92698583598656,59.88306730224773,59.87517833877261,59.982083238097154,59.9179816410739,60.03148043842269,59.92473501631175,59.93486250245378,59.85601163159266,60.03708908893322,59.9944394559913,59.95960556612937,59.90334461263316,59.91573021056722,60.01689349000102,59.83006261908929,60.02138246760239,60.00679106124481,59.88306730224773,60.00566837861474,60.02811479101304,59.90784900103776,60.02138246760239,59.84811624723277,59.9483610084185,60.035967435010974,59.87630544818465,59.975341538300846,60.022504616749856,59.90559688321354,59.890954393617385,60.01913805500574,60.03260224470638,59.88306730224773,59.91347862733533,59.8965868842863,59.84924427397591,60.00791370576335,60.0112814106586,59.950610225183794,59.85150021276701,59.88194042209115,59.92360954921317,59.88306730224773,59.96747448668645,59.84473193760274,59.93148701727075,59.99893148244436,60.04157532374879,60.0236267277979,59.92586044523594,59.99107003588408,59.84811624723277,59.96410232102935,59.91347862733533,60.01913805500574,59.86052243878864,59.97084630906837,59.94386211700508,60.02474880074738,59.935987587847,59.84473193760274,59.93711263507439,59.97309399995937,59.87179678125955,59.89546046254779,59.88870112995431,60.00342289901664,59.930361779205725,60.03148043842269,59.98320672126816,60.01913805500574,59.984330166309526,59.894334002612496,59.91010096611272,59.83796228596263,59.90672296121975,59.87405119114831,59.9179816410739,59.9179816410739,59.8785595523754,59.84247554000695,59.88081350372747,59.85939479432693,60.00903631217126,59.95735695979653,59.88081350372747,60.03148043842269,59.86165004502693,59.987700272664576,59.99107003588408,59.91235277844529,59.97084630906837,59.90897500266847,59.90559688321354,59.90334461263316,59.85939479432693,60.01689349000102,60.033724012898425,59.89771326782888,59.833448420068855,59.96522641439151,59.9933163540777,60.00342289901664,59.83683387685223,59.86841487981305,60.00903631217126,59.833448420068855,59.89546046254779,59.833448420068855,59.833448420068855,60.00679106124481,59.95285928933061,59.99556251978391,59.88870112995431,59.99780853300957,60.01240390273974,59.92811118856449,59.92135850048929,59.93711263507439,59.84698818225677,60.11662921549629,59.89208096814816,59.93711263507439,60.03484574299966,59.8582671116409,60.03821070476726,59.98657694200688,59.890954393617385,59.9179816410739,59.89771326782888,59.87630544818465,59.84247554000695,59.86052243878864,59.83909065683245,59.86503263440992,59.87517833877261,59.9179816410739,59.93711263507439,59.86616008776313,59.92023291886231,59.8785595523754,59.975341538300846,59.96859846562096,59.88081350372747,59.89883961317642,60.03260224470638,59.9179816410739,60.004545657872285,59.9292365029706,59.96635046961026,59.96635046961026,59.83796228596263,59.85150021276701,59.86052243878864,59.94498689709594,59.85037226248704,59.8785595523754,59.95398376417426,59.971970173582974,59.95960556612937,60.05278824497618,59.88194042209115,60.00005439376158,59.984330166309526,59.919107299057465,59.930361779205725,59.98320672126816,60.02811479101304,59.88194042209115,59.99780853300957,59.84134728385376,59.98545357322217,59.98994681960231,59.96185401987135,59.96410232102935,59.987700272664576,59.83006261908929,59.935987587847,60.03148043842269,59.84360375792299,59.93823764413683,59.91573021056722,59.83909065683245,59.91460443804235,59.83231985798753,59.90784900103776,59.99893148244436,59.83683387685223,59.98320672126816,59.90897500266847,59.85150021276701,59.95398376417426,59.88194042209115,59.97871255979781,59.88306730224773,59.9292365029706,59.92698583598656,60.004545657872285,59.84698818225677,59.930361779205725,59.96410232102935,59.84924427397591,59.84586007904705,59.94161244234315,59.9551082008659,59.90897500266847,59.93486250245378,59.92360954921317,60.004545657872285,59.85939479432693,59.91573021056722,59.99668554545638,60.03708908893322,59.85150021276701,59.87630544818465,59.96522641439151,59.84698818225677,59.99219321404225,59.90784900103776,59.92586044523594,60.02138246760239,60.01913805500574,59.9292365029706,59.8695422185115,59.86277761304268,59.930361779205725,60.0236267277979,59.99219321404225,59.89208096814816,59.9944394559913,59.87066951899336,59.94161244234315,59.969722406414654,59.958481282037226,59.969722406414654,60.01577115034348,60.03035859404648,59.8345769439062,59.89771326782888,59.958481282037226,60.03484574299966,59.87630544818465,59.90221842005726,59.87179678125955,59.91235277844529,59.87968654715585,60.00791370576335,59.969722406414654,59.84811624723277,59.84698818225677,59.98657694200688,60.03708908893322,59.83119125766129,60.025870835599136,59.94498689709594,59.85601163159266,59.88194042209115,59.98994681960231,59.84247554000695,60.0236267277979,59.935987587847,59.98545357322217,59.90559688321354,59.852628124816725,59.977588924099706,59.89883961317642,59.86052243878864,60.02811479101304,59.85488383422868,59.84134728385376,59.904470767018296,59.85375599863699,60.01801579155483,59.84247554000695,59.90672296121975,59.87968654715585,60.04942476844644,59.984330166309526,59.87517833877261,59.87066951899336,59.88757444082032,59.9483610084185,59.94723634280179,59.86841487981305,59.88870112995431,59.87743251938528,59.87292400531091,60.03708908893322,59.91235277844529,59.90559688321354,59.8965868842863,59.99668554545638,59.87179678125955,59.95398376417426,59.93148701727075,59.83006261908929,59.8695422185115,59.94948563587889,59.88982778088639,60.02699283235407,59.95623259940636,59.94048754777036,59.92360954921317,59.87066951899336,59.96410232102935,59.86052243878864,59.904470767018296,59.94498689709594,59.833448420068855,59.92811118856449,59.83570542950036,59.95623259940636,59.99780853300957,59.840218989462535,59.9944394559913,59.95623259940636,59.94386211700508,59.890954393617385,59.90784900103776,59.930361779205725,59.90897500266847,59.86390514283672,59.92360954921317,59.84473193760274,60.00117726696214,59.91460443804235,59.89771326782888,59.92811118856449,59.919107299057465,59.98994681960231,59.93373737889392,59.90784900103776,59.93823764413683,59.90334461263316,59.88194042209115,59.97646525026767,59.93711263507439,59.92248404393929,59.98095971679568,59.97646525026767,59.93936261503522,59.84134728385376,60.02138246760239,60.02811479101304,59.87968654715585,59.90784900103776,59.988823565196114,59.93823764413683,60.004545657872285,59.85713939072978,59.99556251978391,59.99780853300957,59.86165004502693,59.890954393617385,59.85939479432693,60.035967435010974,59.88306730224773,59.91347862733533,59.930361779205725,59.90221842005726,59.98545357322217,60.03260224470638,59.80748181472322,60.00230010204685,59.87066951899336,59.97421778819836,59.92248404393929,59.977588924099706,59.86841487981305,60.03260224470638,59.98545357322217,60.01577115034348,59.984330166309526,59.99219321404225,59.96297818952292,59.98095971679568,60.025870835599136,59.958481282037226,59.97871255979781,60.04045382217418,59.87630544818465,60.01240390273974,59.99219321404225,59.86052243878864,59.88081350372747,60.00005439376158,59.83119125766129,60.01689349000102,60.03035859404648,59.84134728385376,59.85037226248704,60.01577115034348,59.92023291886231,60.00117726696214,59.88870112995431,59.98994681960231,60.0236267277979,59.83231985798753,59.8965868842863,59.99556251978391,59.96635046961026,60.04045382217418,59.84247554000695,59.94498689709594,59.86728750289723,59.90897500266847,59.87405119114831,59.93373737889392,60.04045382217418,59.87743251938528,60.004545657872285,60.03933228251395,59.951734776334064,59.94611163902791,59.89883961317642,59.85488383422868,59.84473193760274,59.96747448668645,59.975341538300846,59.83796228596263,59.85150021276701,60.02923671157687,59.83006261908929,59.83570542950036,59.90672296121975,59.99556251978391,60.04157532374879,59.90784900103776,60.0236267277979,59.97646525026767,59.930361779205725,59.9944394559913,59.840218989462535,59.988823565196114,59.84473193760274,59.99780853300957,59.904470767018296,59.840218989462535,59.97309399995937,59.85713939072978,59.97983615736284,59.93148701727075,59.98545357322217,59.83119125766129,59.83909065683245,59.83570542950036,59.86277761304268,59.94273729875442,59.89546046254779,59.83570542950036,60.03148043842269,59.91010096611272,59.90784900103776,59.890954393617385,59.83570542950036,59.971970173582974,59.87517833877261,59.96410232102935,59.90559688321354,59.84360375792299,59.87743251938528,59.87743251938528,59.98994681960231,59.95735695979653,59.8695422185115,60.00342289901664,59.95285928933061,59.87517833877261,59.90672296121975,59.87968654715585,59.85150021276701,59.9551082008659,59.86728750289723,59.87517833877261,59.91685594491079,59.8785595523754,59.89771326782888,60.03260224470638,59.87743251938528,59.80635237279253,59.84924427397591,59.84811624723277,59.984330166309526,59.86277761304268,59.89208096814816,59.971970173582974,60.01464877258133,60.00679106124481,59.92023291886231,59.97421778819836,59.95398376417426,59.85488383422868,59.9179816410739,59.919107299057465,59.840218989462535,59.88532094794305,59.99893148244436,59.84698818225677,59.87405119114831,59.982083238097154,59.89771326782888,59.99219321404225,59.92811118856449,60.02923671157687,59.85939479432693,59.98095971679568,59.96747448668645,59.84698818225677,59.86728750289723,59.99219321404225,60.033724012898425,59.99893148244436,59.8785595523754,59.83231985798753,59.82893394227072,59.82893394227072,59.97871255979781,59.8345769439062,59.94611163902791,60.00903631217126,60.033724012898425,60.03035859404648,59.85601163159266,59.87743251938528,59.89771326782888,59.852628124816725,59.852628124816725,59.89320750447957,59.904470767018296,59.984330166309526,59.9944394559913,59.94273729875442,59.9179816410739,59.94498689709594,59.96522641439151,60.00791370576335,59.82893394227072,59.92248404393929,60.00117726696214,59.87743251938528,59.94498689709594,59.96859846562096,59.86165004502693,60.00230010204685,59.91235277844529,59.89996592032976,59.894334002612496,59.98545357322217,59.93148701727075,59.94611163902791,59.83231985798753,59.88982778088639,59.984330166309526,60.00117726696214,59.88644771348351,59.97646525026767,60.00791370576335,59.971970173582974,59.894334002612496,59.88870112995431,60.03148043842269,59.840218989462535,59.87179678125955,59.84586007904705,59.92473501631175,59.95285928933061,59.8345769439062,59.95623259940636,60.010158880469376,59.86616008776313,60.01464877258133,60.0112814106586,59.88870112995431,59.95735695979653,59.904470767018296,59.83909065683245,59.85601163159266,59.911226891371385,59.94273729875442,59.8582671116409,60.033724012898425,59.86165004502693,59.93936261503522,59.90784900103776,59.93373737889392,59.95623259940636,60.0236267277979,59.90109218928974,59.91010096611272,59.894334002612496,59.987700272664576],\"legendgroup\":\"\",\"lon\":[30.32936978008534,30.342844509347128,30.322632415454446,30.322632415454446,30.30915768619265,30.495558107647447,30.2193261577807,30.315895050823546,30.24178403988369,30.324878203664746,30.358565026819228,30.253012980935186,30.29343716872056,30.33835293292654,30.33835293292654,30.300174533351456,30.37653133250161,30.48882074301656,30.396743426394305,30.300174533351456,30.34509029755743,30.142969358630538,30.248521404514584,30.36081081502953,30.31814083903384,30.306911897982356,30.322632415454446,30.35631923860893,30.14746093505114,30.33835293292654,30.461871284492968,30.31140347440295,30.300174533351456,30.322632415454446,30.31814083903384,30.201359852098307,30.30915768619265,30.295682956930857,30.425938673128183,30.35631923860893,30.24178403988369,30.48432916659596,30.31364926261325,30.29792874514116,30.45288813165177,30.26873349840727,30.387760273553116,30.226063522411604,30.31140347440295,30.25750455735578,30.342844509347128,30.349581873978032,30.288945592299964,30.28669980408967,30.315895050823546,30.27097928661757,30.31364926261325,30.34509029755743,30.358565026819228,30.23729246346309,30.315895050823546,30.31364926261325,30.31814083903384,30.250767192724886,30.320386627244144,30.347336085767733,30.282208227669077,30.340598721136843,30.441659190600287,30.35182766218833,30.365302391450125,30.104790959055453,30.347336085767733,30.46860864912387,30.405726579235505,30.511278625119548,30.228309310621896,30.421447096707592,30.349581873978032,30.304666109772054,30.347336085767733,30.2125887931498,30.31814083903384,30.421447096707592,30.304666109772054,30.19911406388801,30.291191380510263,30.35182766218833,30.491066531226853,30.4012350028149,30.340598721136843,30.24178403988369,30.31814083903384,30.33835293292654,30.30915768619265,30.358565026819228,30.282208227669077,30.25525876914548,30.31814083903384,30.23280088704249,30.246275616304285,30.32712399187504,30.396743426394305,30.288945592299964,30.39225184997371,30.35631923860893,30.295682956930857,30.394497638184003,30.363056603239823,30.31364926261325,30.322632415454446,30.331615568295646,30.31814083903384,30.23280088704249,30.259750345566086,30.39225184997371,30.493312319437155,30.25525876914548,30.27322507482787,30.46860864912387,30.26873349840727,30.36081081502953,30.33835293292654,30.407972367445804,30.201359852098307,30.264241921986677,30.31814083903384,30.29343716872056,30.302420321561755,30.302420321561755,30.36081081502953,30.466362860913573,30.515770201540143,30.32936978008534,30.31814083903384,30.306911897982356,30.24178403988369,30.239538251673387,30.23729246346309,30.363056603239823,30.253012980935186,30.239538251673387,30.295682956930857,30.29343716872056,30.31364926261325,30.473100225544467,30.331615568295646,30.27996243945877,30.425938673128183,30.434921825969383,30.178901969995323,30.315895050823546,30.4012350028149,30.20360564030861,30.358565026819228,30.27322507482787,30.31364926261325,30.17216460536443,30.473100225544467,30.394497638184003,30.349581873978032,30.33835293292654,30.244029828093986,30.33610714471624,30.31814083903384,30.394497638184003,30.244029828093986,30.30915768619265,30.48432916659596,30.385514485342807,30.473100225544467,30.4124639438664,30.4102181556561,30.29792874514116,30.354073450398623,30.2170803695704,30.374285544291315,30.48432916659596,30.378777120711916,30.244029828093986,30.2148345813601,30.378777120711916,30.477591801965065,30.461871284492968,30.51801598975044,30.300174533351456,30.439413402389984,30.36979396787072,30.32936978008534,30.46411707270327,30.248521404514584,30.31814083903384,30.35631923860893,30.304666109772054,30.158689876102628,30.48882074301656,30.349581873978032,30.28669980408967,30.394497638184003,30.26199613377639,30.511278625119548,30.45962549628268,30.304666109772054,30.35182766218833,30.511278625119548,30.36979396787072,30.250767192724886,30.331615568295646,30.306911897982356,30.30915768619265,30.324878203664746,30.306911897982356,30.2193261577807,30.322632415454446,30.315895050823546,30.26199613377639,30.142969358630538,30.32712399187504,30.36979396787072,30.158689876102628,30.27771665124847,30.31140347440295,30.363056603239823,30.244029828093986,30.300174533351456,30.259750345566086,30.205851428518912,30.4124639438664,30.414709732076695,30.36081081502953,30.331615568295646,30.475346013754763,30.295682956930857,30.158689876102628,30.26873349840727,30.315895050823546,30.33610714471624,30.394497638184003,30.26648771019697,30.46860864912387,30.302420321561755,30.2305550988322,30.178901969995323,30.300174533351456,30.358565026819228,30.315895050823546,30.511278625119548,30.342844509347128,30.45064234344148,30.374285544291315,30.35182766218833,30.349581873978032,30.30915768619265,30.210343004939503,30.39000606176341,30.394497638184003,30.36979396787072,30.259750345566086,30.423692884917887,30.32936978008534,30.324878203664746,30.33835293292654,30.259750345566086,30.26648771019697,30.31140347440295,30.113774111896657,30.27996243945877,30.4034807910252,30.347336085767733,30.300174533351456,30.19686827567771,30.407972367445804,30.17216460536443,30.300174533351456,30.16767302894383,30.322632415454446,30.27771665124847,30.367548179660425,30.33610714471624,30.32712399187504,30.30915768619265,30.419201308497296,30.32936978008534,30.2350466752528,30.306911897982356,30.23280088704249,30.15419829968204,30.34509029755743,30.419201308497296,30.32712399187504,30.331615568295646,30.37653133250161,30.315895050823546,30.39225184997371,30.282208227669077,30.210343004939503,30.315895050823546,30.223817734201297,30.205851428518912,30.39000606176341,30.2305550988322,30.11152832368636,30.31140347440295,30.23280088704249,30.300174533351456,30.23729246346309,30.4034807910252,30.36081081502953,30.331615568295646,30.315895050823546,30.28669980408967,30.4012350028149,30.2170803695704,30.354073450398623,30.461871284492968,30.385514485342807,30.33610714471624,30.32712399187504,30.324878203664746,30.26648771019697,30.407972367445804,30.396743426394305,30.322632415454446,30.36979396787072,30.33610714471624,30.439413402389984,30.304666109772054,30.302420321561755,30.342844509347128,30.423692884917887,30.333861356505945,30.320386627244144,30.31364926261325,30.385514485342807,30.349581873978032,30.354073450398623,30.342844509347128,30.342844509347128,30.304666109772054,30.423692884917887,30.259750345566086,30.349581873978032,30.291191380510263,30.306911897982356,30.201359852098307,30.36979396787072,30.439413402389984,30.31140347440295,30.340598721136843,30.491066531226853,30.291191380510263,30.39225184997371,30.29792874514116,30.419201308497296,30.2170803695704,30.259750345566086,30.239538251673387,30.2305550988322,30.210343004939503,30.275470863038173,30.31364926261325,30.136231993999644,30.33610714471624,30.511278625119548,30.405726579235505,30.39225184997371,30.31814083903384,30.35631923860893,30.275470863038173,30.239538251673387,30.35631923860893,30.295682956930857,30.20360564030861,30.405726579235505,30.324878203664746,30.434921825969383,30.223817734201297,30.367548179660425,30.322632415454446,30.349581873978032,30.304666109772054,30.347336085767733,30.36081081502953,30.36979396787072,30.405726579235505,30.288945592299964,30.349581873978032,30.32712399187504,30.365302391450125,30.466362860913573,30.4034807910252,30.441659190600287,30.513524413329844,30.27771665124847,30.36081081502953,30.394497638184003,30.163181452523236,30.324878203664746,30.26648771019697,30.248521404514584,30.495558107647447,30.44615076702088,30.246275616304285,30.331615568295646,30.349581873978032,30.365302391450125,30.347336085767733,30.493312319437155,30.367548179660425,30.511278625119548,30.20809721672921,30.44839655523117,30.28669980408967,30.3989892146046,30.2170803695704,30.25525876914548,30.4102181556561,30.45064234344148,30.315895050823546,30.28669980408967,30.31814083903384,30.138477782209943,30.35182766218833,30.23280088704249,30.320386627244144,30.304666109772054,30.33835293292654,30.302420321561755,30.33835293292654,30.50004968406805,30.28445401587937,30.291191380510263,30.288945592299964,30.34509029755743,30.36979396787072,30.374285544291315,30.20809721672921,30.248521404514584,30.2350466752528,30.421447096707592,30.31140347440295,30.387760273553116,30.349581873978032,30.32936978008534,30.31814083903384,30.31814083903384,30.506787048698943,30.322632415454446,30.29343716872056,30.324878203664746,30.30915768619265,30.31814083903384,30.31140347440295,30.246275616304285,30.210343004939503,30.32712399187504,30.288945592299964,30.2350466752528,30.28669980408967,30.349581873978032,30.259750345566086,30.4012350028149,30.264241921986677,30.27996243945877,30.407972367445804,30.322632415454446,30.300174533351456,30.250767192724886,30.551702812904924,30.31814083903384,30.27771665124847,30.342844509347128,30.14746093505114,30.340598721136843,30.4034807910252,30.295682956930857,30.31364926261325,30.295682956930857,30.396743426394305,30.34509029755743,30.320386627244144,30.226063522411604,30.358565026819228,30.33835293292654,30.29792874514116,30.315895050823546,30.4034807910252,30.315895050823546,30.14521514684084,30.185639334626217,30.320386627244144,30.374285544291315,30.50229547227835,30.306911897982356,30.333861356505945,30.32936978008534,30.15195251147173,30.31364926261325,30.320386627244144,30.174410393574725,30.33610714471624,30.291191380510263,30.2350466752528,30.475346013754763,30.37203975608101,30.46411707270327,30.45288813165177,30.304666109772054,30.331615568295646,30.320386627244144,30.43267603775909,30.324878203664746,30.378777120711916,30.320386627244144,30.51801598975044,30.331615568295646,30.210343004939503,30.29792874514116,30.47085443733417,30.14970672326144,30.2125887931498,30.26648771019697,30.340598721136843,30.37203975608101,30.27322507482787,30.2193261577807,30.405726579235505,30.396743426394305,30.30915768619265,30.3989892146046,30.53598229543283,30.259750345566086,30.2125887931498,30.248521404514584,30.4124639438664,30.31814083903384,30.31140347440295,30.250767192724886,30.138477782209943,30.2305550988322,30.35182766218833,30.340598721136843,30.36979396787072,30.32936978008534,30.33610714471624,30.320386627244144,30.511278625119548,30.35182766218833,30.4102181556561,30.300174533351456,30.414709732076695,30.205851428518912,30.302420321561755,30.20809721672921,30.39225184997371,30.33835293292654,30.45737970807237,30.223817734201297,30.315895050823546,30.47983759017536,30.38102290892221,30.425938673128183,30.43716761417968,30.35631923860893,30.387760273553116,30.295682956930857,30.37203975608101,30.475346013754763,30.331615568295646,30.31364926261325,30.320386627244144,30.30915768619265,30.29792874514116,30.31140347440295,30.24178403988369,30.342844509347128,30.333861356505945,30.2350466752528,30.302420321561755,30.291191380510263,30.31814083903384,30.27771665124847,30.315895050823546,30.39000606176341,30.385514485342807,30.50004968406805,30.226063522411604,30.385514485342807,30.407972367445804,30.30915768619265,30.37653133250161,30.36979396787072,30.26648771019697,30.31814083903384,30.322632415454446,30.27322507482787,30.14521514684084,30.31364926261325,30.27322507482787,30.342844509347128,30.38102290892221,30.19911406388801,30.475346013754763,30.331615568295646,30.324878203664746,30.246275616304285,30.304666109772054,30.29343716872056,30.205851428518912,30.320386627244144,30.506787048698943,30.396743426394305,30.315895050823546,30.423692884917887,30.31814083903384,30.315895050823546,30.291191380510263,30.331615568295646,30.315895050823546,30.246275616304285,30.35182766218833,30.315895050823546,30.50229547227835,30.46860864912387,30.322632415454446,30.295682956930857,30.264241921986677,30.36081081502953,30.25525876914548,30.27097928661757,30.27322507482787,30.27322507482787,30.396743426394305,30.138477782209943,30.33835293292654,30.419201308497296,30.358565026819228,30.300174533351456,30.347336085767733,30.475346013754763,30.31364926261325,30.333861356505945,30.324878203664746,30.248521404514584,30.35631923860893,30.455133919862075,30.264241921986677,30.201359852098307,30.430430249548788,30.23280088704249,30.259750345566086,30.347336085767733,30.295682956930857,30.10928253547606,30.4012350028149,30.439413402389984,30.300174533351456,30.30915768619265,30.302420321561755,30.32712399187504,30.2148345813601,30.300174533351456,30.31140347440295,30.306911897982356,30.32936978008534,30.185639334626217,30.20360564030861,30.347336085767733,30.27996243945877,30.46860864912387,30.322632415454446,30.2193261577807,30.142969358630538,30.158689876102628,30.47983759017536,30.26873349840727,30.26199613377639,30.322632415454446,30.210343004939503,30.421447096707592,30.4102181556561,30.324878203664746,30.4124639438664,30.35182766218833,30.324878203664746,30.315895050823546,30.4102181556561,30.320386627244144,30.31814083903384,30.29792874514116,30.34509029755743,30.365302391450125,30.439413402389984,30.320386627244144,30.33610714471624,30.304666109772054,30.387760273553116,30.2148345813601,30.46411707270327,30.340598721136843,30.511278625119548,30.363056603239823,30.27322507482787,30.37653133250161,30.27097928661757,30.36081081502953,30.363056603239823,30.511278625119548,30.387760273553116,30.4102181556561,30.306911897982356,30.27097928661757,30.331615568295646,30.20360564030861,30.37203975608101,30.342844509347128,30.23280088704249,30.394497638184003,30.363056603239823,30.421447096707592,30.19911406388801,30.363056603239823,30.306911897982356,30.365302391450125,30.259750345566086,30.322632415454446,30.320386627244144,30.39000606176341,30.35631923860893,30.248521404514584,30.320386627244144,30.31140347440295,30.394497638184003,30.315895050823546,30.347336085767733,30.34509029755743,30.39225184997371,30.45737970807237,30.513524413329844,30.43716761417968,30.46411707270327,30.387760273553116,30.248521404514584,30.419201308497296,30.31364926261325,30.347336085767733,30.142969358630538,30.35182766218833,30.320386627244144,30.378777120711916,30.347336085767733,30.29343716872056,30.396743426394305,30.385514485342807,30.383268697132515,30.250767192724886,30.30915768619265,30.26648771019697,30.45288813165177,30.421447096707592,30.24178403988369,30.396743426394305,30.34509029755743,30.37203975608101,30.320386627244144,30.324878203664746,30.3989892146046,30.45288813165177,30.291191380510263,30.304666109772054,30.340598721136843,30.421447096707592,30.333861356505945,30.31140347440295,30.26199613377639,30.25750455735578,30.19911406388801,30.394497638184003,30.4102181556561,30.425938673128183,30.515770201540143,30.250767192724886,30.506787048698943,30.365302391450125,30.16991881715413,30.288945592299964,30.320386627244144,30.39225184997371,30.333861356505945,30.304666109772054,30.35182766218833,30.26199613377639,30.31814083903384,30.378777120711916,30.358565026819228,30.46860864912387,30.27097928661757,30.275470863038173,30.35631923860893,30.34509029755743,30.374285544291315,30.504541260488647,30.322632415454446,30.33835293292654,30.423692884917887,30.176656181785024,30.264241921986677,30.29792874514116,30.23280088704249,30.221571945991,30.513524413329844,30.29792874514116,30.340598721136843,30.33610714471624,30.455133919862075,30.300174533351456,30.45962549628268,30.322632415454446,30.37203975608101,30.295682956930857,30.178901969995323,30.32712399187504,30.28669980408967,30.28445401587937,30.35182766218833,30.374285544291315,30.138477782209943,30.2193261577807,30.39000606176341,30.15419829968204,30.31364926261325,30.34509029755743,30.288945592299964,30.405726579235505,30.383268697132515,30.2170803695704,30.331615568295646,30.26648771019697,30.244029828093986,30.221571945991,30.4034807910252,30.425938673128183,30.306911897982356,30.31140347440295,30.421447096707592,30.210343004939503,30.423692884917887,30.201359852098307,30.340598721136843,30.47085443733417,30.226063522411604,30.27322507482787,30.30915768619265,30.25525876914548,30.282208227669077,30.365302391450125,30.248521404514584,30.26199613377639,30.358565026819228,30.29343716872056,30.264241921986677,30.39000606176341,30.30915768619265,30.239538251673387,30.333861356505945,30.31814083903384,30.30915768619265,30.342844509347128,30.349581873978032,30.300174533351456,30.33835293292654,30.253012980935186,30.2350466752528,30.248521404514584,30.23280088704249,30.282208227669077,30.239538251673387,30.3989892146046,30.248521404514584,30.430430249548788,30.24178403988369,30.259750345566086,30.50004968406805,30.2148345813601,30.275470863038173,30.253012980935186,30.378777120711916,30.42818446133849,30.315895050823546,30.320386627244144,30.17216460536443,30.4124639438664,30.2125887931498,30.39225184997371,30.47085443733417,30.239538251673387,30.33610714471624,30.315895050823546,30.27322507482787,30.324878203664746,30.36081081502953,30.322632415454446,30.513524413329844,30.45064234344148,30.31364926261325,30.14746093505114,30.4124639438664,30.300174533351456,30.51801598975044,30.142969358630538,30.331615568295646,30.34509029755743,30.30915768619265,30.47085443733417,30.33610714471624,30.32936978008534,30.26873349840727,30.32712399187504,30.407972367445804,30.174410393574725,30.374285544291315,30.15195251147173,30.43716761417968,30.27771665124847,30.32712399187504,30.331615568295646,30.304666109772054,30.495558107647447,30.324878203664746,30.320386627244144,30.315895050823546,30.491066531226853,30.383268697132515,30.25525876914548,30.396743426394305,30.340598721136843,30.367548179660425,30.4012350028149,30.2170803695704,30.163181452523236,30.221571945991,30.306911897982356,30.18339354641592,30.2148345813601,30.33610714471624,30.10928253547606,30.45962549628268,30.45737970807237,30.16542724073353,30.340598721136843,30.324878203664746,30.26199613377639,30.15644408789233,30.14746093505114,30.45737970807237,30.2125887931498,30.304666109772054,30.37203975608101,30.455133919862075,30.331615568295646,30.4012350028149,30.31140347440295,30.26199613377639,30.19013091104681,30.354073450398623,30.367548179660425,30.29343716872056,30.259750345566086,30.515770201540143,30.477591801965065,30.16767302894383,30.253012980935186,30.31814083903384,30.253012980935186,30.43267603775909,30.264241921986677,30.354073450398623,30.39000606176341,30.36081081502953,30.27771665124847,30.320386627244144,30.19911406388801,30.349581873978032,30.288945592299964,30.2148345813601,30.333861356505945,30.091316229793676,30.47085443733417,30.25750455735578,30.52026177796074,30.181147758205626,30.239538251673387,30.32712399187504,30.320386627244144,30.2148345813601,30.2170803695704,30.26199613377639,30.443904978810583,30.423692884917887,30.333861356505945,30.29792874514116,30.473100225544467,30.291191380510263,30.37653133250161,30.349581873978032,30.300174533351456,30.19013091104681,30.35631923860893,30.37203975608101,30.29792874514116,30.367548179660425,30.244029828093986,30.27322507482787,30.324878203664746,30.205851428518912,30.340598721136843,30.45737970807237,30.430430249548788,30.320386627244144,30.439413402389984,30.28669980408967,30.374285544291315,30.304666109772054,30.14521514684084,30.27771665124847,30.473100225544467,30.250767192724886,30.455133919862075,30.264241921986677,30.26873349840727,30.320386627244144,30.44839655523117,30.324878203664746,30.300174533351456,30.35631923860893,30.33835293292654,30.4102181556561,30.365302391450125,30.302420321561755,30.4012350028149,30.421447096707592,30.15195251147173,30.304666109772054,30.416955520287,30.322632415454446,30.358565026819228,30.47085443733417,30.44615076702088,30.43267603775909,30.36081081502953,30.349581873978032,30.23729246346309,30.288945592299964,30.2170803695704,30.27322507482787,30.48882074301656,30.38102290892221,30.178901969995323,30.383268697132515,30.50229547227835,30.210343004939503,30.322632415454446,30.244029828093986,30.291191380510263,30.253012980935186,30.405726579235505,30.342844509347128,30.414709732076695,30.374285544291315,30.32936978008534,30.320386627244144,30.306911897982356,30.23280088704249,30.363056603239823,30.363056603239823,30.140723570420235,30.31364926261325,30.2148345813601,30.513524413329844,30.365302391450125,30.264241921986677,30.4102181556561,30.36081081502953,30.385514485342807,30.354073450398623,30.333861356505945,30.4124639438664,30.342844509347128,30.2350466752528,30.28669980408967,30.378777120711916,30.347336085767733,30.25750455735578,30.506787048698943,30.322632415454446,30.354073450398623,30.19911406388801,30.29792874514116,30.223817734201297,30.340598721136843,30.315895050823546,30.30915768619265,30.425938673128183,30.31814083903384,30.333861356505945,30.32712399187504,30.36979396787072,30.275470863038173,30.20360564030861,30.32712399187504,30.36979396787072,30.315895050823546,30.3989892146046,30.315895050823546,30.15644408789233,30.4034807910252,30.223817734201297,30.29792874514116,30.29343716872056,30.300174533351456,30.306911897982356,30.347336085767733,30.434921825969383,30.407972367445804,30.3989892146046,30.320386627244144,30.43716761417968,30.333861356505945,30.44615076702088,30.4012350028149,30.32712399187504,30.354073450398623,30.31140347440295,30.365302391450125,30.26648771019697,30.29343716872056,30.31364926261325,30.25750455735578,30.37203975608101,30.306911897982356,30.35631923860893,30.354073450398623,30.27097928661757,30.43716761417968,30.19462248746741,30.46860864912387,30.31140347440295,30.32712399187504,30.26199613377639,30.461871284492968,30.342844509347128,30.226063522411604,30.396743426394305,30.434921825969383,30.282208227669077,30.4102181556561,30.275470863038173,30.239538251673387,30.33610714471624,30.18788512283652,30.31364926261325,30.35182766218833,30.45064234344148,30.300174533351456,30.29343716872056,30.4034807910252,30.475346013754763,30.300174533351456,30.29343716872056,30.31814083903384,30.20360564030861,30.414709732076695,30.300174533351456,30.282208227669077,30.31814083903384,30.239538251673387,30.26873349840727,30.239538251673387,30.302420321561755,30.52026177796074,30.27771665124847,30.28445401587937,30.44615076702088,30.29343716872056,30.32936978008534,30.354073450398623,30.333861356505945,30.28669980408967,30.178901969995323,30.419201308497296,30.34509029755743,30.259750345566086,30.37203975608101,30.52699914259164,30.306911897982356,30.221571945991,30.367548179660425,30.300174533351456,30.26648771019697,30.26648771019697,30.282208227669077,30.302420321561755,30.47983759017536,30.42818446133849,30.48882074301656,30.37653133250161,30.47983759017536,30.295682956930857,30.48657495480625,30.31814083903384,30.244029828093986,30.295682956930857,30.340598721136843,30.27771665124847,30.35631923860893,30.264241921986677,30.26648771019697,30.31364926261325,30.394497638184003,30.38102290892221,30.383268697132515,30.31814083903384,30.221571945991,30.23280088704249,30.140723570420235,30.288945592299964,30.282208227669077,30.28445401587937,30.396743426394305,30.09356201800397,30.23280088704249,30.374285544291315,30.20360564030861,30.174410393574725,30.23280088704249,30.31364926261325,30.14521514684084,30.27771665124847,30.385514485342807,30.253012980935186,30.320386627244144,30.320386627244144,30.35182766218833,30.349581873978032,30.349581873978032,30.423692884917887,30.367548179660425,30.28669980408967,30.39225184997371,30.46411707270327,30.223817734201297,30.358565026819228,30.264241921986677,30.36081081502953,30.304666109772054,30.48657495480625,30.349581873978032,30.226063522411604,30.407972367445804,30.347336085767733,30.31814083903384,30.477591801965065,30.477591801965065,30.28445401587937,30.19462248746741,30.2125887931498,30.48208337838566,30.45962549628268,30.425938673128183,30.26199613377639,30.2148345813601,30.28445401587937,30.52250756617104,30.24178403988369,30.18788512283652,30.407972367445804,30.331615568295646,30.24178403988369,30.26873349840727,30.27996243945877,30.259750345566086,30.27097928661757,30.239538251673387,30.28445401587937,30.28669980408967,30.378777120711916,30.33835293292654,30.2148345813601,30.31140347440295,30.250767192724886,30.50004968406805,30.43267603775909,30.349581873978032,30.275470863038173,30.416955520287,30.405726579235505,30.2193261577807,30.205851428518912,30.15644408789233,30.178901969995323,30.23280088704249,30.25525876914548,30.20360564030861,30.367548179660425,30.342844509347128,30.56966911858732,30.20360564030861,30.565177542166715,30.33610714471624,30.27996243945877,30.275470863038173,30.27996243945877,30.26648771019697,30.358565026819228,30.324878203664746,30.513524413329844,30.2350466752528,30.25750455735578,30.2125887931498,30.23280088704249,30.33610714471624,30.2305550988322,30.461871284492968,30.441659190600287,30.45962549628268,30.27322507482787,30.414709732076695,30.340598721136843,30.264241921986677,30.15419829968204,30.43716761417968,30.365302391450125,30.27322507482787,30.434921825969383,30.473100225544467,30.4012350028149,30.2193261577807,30.221571945991,30.16991881715413,30.36081081502953,30.331615568295646,30.31364926261325,30.324878203664746,30.509032836909245,30.509032836909245,31.077217254114853,30.33835293292654,30.365302391450125,30.29343716872056,30.43716761417968,30.322632415454446,30.31140347440295,30.2125887931498,30.387760273553116,30.45737970807237,30.363056603239823,30.176656181785024,30.20360564030861,30.340598721136843,30.4102181556561,30.324878203664746,30.33610714471624,30.4102181556561,30.142969358630538,30.31140347440295,30.185639334626217,30.25750455735578,30.24178403988369,30.46860864912387,30.349581873978032,30.27322507482787,30.358565026819228,30.506787048698943,30.441659190600287,30.43267603775909,30.45737970807237,30.275470863038173,30.3989892146046,30.239538251673387,30.223817734201297,30.493312319437155,30.4102181556561,30.38102290892221,30.333861356505945,30.31140347440295,30.322632415454446,30.246275616304285,30.15195251147173,30.2170803695704,30.2148345813601,30.439413402389984,30.39000606176341,30.18788512283652,30.340598721136843,30.16767302894383,30.174410393574725,30.4102181556561,30.320386627244144,30.39000606176341,30.39000606176341,30.29343716872056,30.414709732076695,30.205851428518912,30.19911406388801,30.244029828093986,30.322632415454446,30.3989892146046,30.113774111896657,30.4102181556561,30.506787048698943,30.423692884917887,30.275470863038173,30.158689876102628,30.3989892146046,30.322632415454446,30.26199613377639,30.42818446133849,30.425938673128183,30.407972367445804,30.477591801965065,30.47085443733417,30.425938673128183,30.419201308497296,30.48432916659596,30.31814083903384,30.2305550988322,30.20809721672921,30.14521514684084,30.396743426394305,30.259750345566086,30.25750455735578,30.19911406388801,30.396743426394305,30.4102181556561,30.300174533351456,30.246275616304285,30.08907044158337,30.414709732076695,30.383268697132515,30.250767192724886,30.248521404514584,30.239538251673387,30.493312319437155,30.26648771019697,30.25750455735578,30.19911406388801,30.264241921986677,30.30915768619265,30.295682956930857,30.36081081502953,30.430430249548788,30.205851428518912,30.178901969995323,30.473100225544467,30.39000606176341,30.455133919862075,30.26873349840727,30.378777120711916,30.396743426394305,30.4034807910252,30.39000606176341,30.14521514684084,30.46411707270327,30.25750455735578,30.29792874514116,30.18339354641592,30.14970672326144,30.253012980935186,30.228309310621896,30.48208337838566,30.320386627244144,30.17216460536443,30.35182766218833,30.315895050823546,30.26873349840727,30.28445401587937,30.25525876914548,30.246275616304285,30.264241921986677,30.246275616304285,30.288945592299964,30.461871284492968,30.44615076702088,30.12949462936875,30.365302391450125,30.53149071901224,30.228309310621896,30.47983759017536,30.342844509347128,30.28445401587937,30.210343004939503,30.358565026819228,30.31364926261325,30.248521404514584,30.32936978008534,30.37203975608101,30.26199613377639,30.475346013754763,30.2148345813601,30.3989892146046,30.3989892146046,30.306911897982356,30.226063522411604,30.31364926261325,30.2125887931498,30.324878203664746,30.291191380510263,30.205851428518912,30.2193261577807,30.4034807910252,30.23280088704249,30.2305550988322,30.47085443733417,30.2305550988322,30.14746093505114,30.358565026819228,30.333861356505945,30.201359852098307,30.2350466752528,30.138477782209943,30.365302391450125,30.282208227669077,30.26199613377639,30.4012350028149,30.30915768619265,30.282208227669077,30.419201308497296,30.27771665124847,30.244029828093986,30.378777120711916,30.387760273553116,30.28669980408967,30.363056603239823,30.44839655523117,30.28445401587937,30.27097928661757,30.4034807910252,30.387760273553116,30.48432916659596,30.259750345566086,30.250767192724886,30.419201308497296,30.239538251673387,30.26199613377639,30.407972367445804,30.320386627244144,30.36979396787072,30.48657495480625,30.473100225544467,30.425938673128183,30.385514485342807,30.282208227669077,30.259750345566086,30.259750345566086,30.253012980935186,30.39225184997371,30.20360564030861,30.405726579235505,30.45962549628268,30.248521404514584,30.43716761417968,30.39225184997371,30.26199613377639,30.52699914259164,30.324878203664746,30.425938673128183,30.4124639438664,30.27097928661757,30.15419829968204,30.363056603239823,30.264241921986677,30.405726579235505,30.385514485342807,30.28445401587937,30.2170803695704,30.358565026819228,30.16093566431293,30.174410393574725,30.4034807910252,30.45064234344148,30.205851428518912,30.45064234344148,30.31140347440295,30.223817734201297,30.26199613377639,30.25750455735578,30.385514485342807,30.419201308497296,30.26873349840727,30.30915768619265,30.16991881715413,30.23280088704249,30.2193261577807,30.4034807910252,30.324878203664746,30.32712399187504,30.26873349840727,30.511278625119548,30.250767192724886,30.394497638184003,30.35631923860893,30.31364926261325,30.4102181556561,30.38102290892221,30.47983759017536,30.205851428518912,30.181147758205626,30.374285544291315,30.405726579235505,30.39225184997371,30.306911897982356,30.2148345813601,30.455133919862075,30.23729246346309,30.174410393574725,30.475346013754763,30.253012980935186,30.25525876914548,30.226063522411604,30.342844509347128,30.226063522411604,30.37203975608101,30.25750455735578,30.37203975608101,30.48208337838566,30.407972367445804,30.497803895857757,30.47983759017536,30.425938673128183,30.25750455735578,30.493312319437155,30.43716761417968,30.4102181556561,30.39225184997371,30.4012350028149,30.331615568295646,30.27996243945877,30.430430249548788,30.394497638184003,30.210343004939503,30.475346013754763,30.54047387185343,30.542719660063728,30.542719660063728,30.515770201540143,30.515770201540143,30.31364926261325,30.52026177796074,30.52026177796074,30.513524413329844,30.511278625119548,30.509032836909245,30.509032836909245,30.387760273553116,30.506787048698943,30.504541260488647,30.497803895857757,30.497803895857757,30.495558107647447,30.497803895857757,30.495558107647447,30.50004968406805,30.497803895857757,30.491066531226853,30.491066531226853,30.48882074301656,30.477591801965065,30.477591801965065,30.473100225544467,30.473100225544467,30.48432916659596,30.47085443733417,30.419201308497296,30.473100225544467,30.473100225544467,30.46860864912387,30.466362860913573,30.466362860913573,30.45737970807237,30.45737970807237,30.45962549628268,30.37653133250161,30.45064234344148,30.45288813165177,30.44615076702088,30.44839655523117,30.441659190600287,30.443904978810583,30.443904978810583,30.434921825969383,30.43716761417968,30.439413402389984,30.434921825969383,30.425938673128183,30.43716761417968,30.434921825969383,30.434921825969383,30.434921825969383,30.44615076702088,30.421447096707592,30.416955520287,30.4124639438664,30.414709732076695,30.405726579235505,30.405726579235505,30.4102181556561,30.4012350028149,30.4102181556561,30.4012350028149,30.434921825969383,30.387760273553116,30.39000606176341,30.387760273553116,30.383268697132515,30.383268697132515,30.374285544291315,30.374285544291315,30.349581873978032,30.365302391450125,30.36979396787072,30.36081081502953,30.264241921986677,30.363056603239823,30.35631923860893,30.36081081502953,30.358565026819228,30.340598721136843,30.35182766218833,30.33835293292654,30.33835293292654,30.331615568295646,30.333861356505945,30.331615568295646,30.32712399187504,30.32712399187504,30.31364926261325,30.201359852098307,30.300174533351456,30.244029828093986,30.239538251673387,30.259750345566086,30.2305550988322,30.239538251673387,30.210343004939503,30.419201308497296,30.163181452523236,30.23729246346309,30.2125887931498,30.2125887931498,30.24178403988369,30.226063522411604,30.19462248746741,30.176656181785024,30.16991881715413,30.16767302894383,30.13398620578934,30.43267603775909,30.23280088704249,30.513524413329844,30.45064234344148,30.50004968406805,30.48882074301656,30.407972367445804,30.466362860913573,30.320386627244144,30.45288813165177,30.430430249548788,30.32712399187504,30.4102181556561,30.425938673128183,30.4124639438664,30.407972367445804,30.394497638184003,30.4102181556561,30.36979396787072,30.253012980935186,30.33610714471624,30.333861356505945,30.31364926261325,30.29792874514116,30.29792874514116,30.304666109772054,30.29792874514116,30.48882074301656,30.48657495480625,30.282208227669077,30.27771665124847,30.275470863038173,30.24178403988369,30.23729246346309,30.2148345813601,30.19237669925711,30.547211236484326,30.515770201540143,30.513524413329844,30.48657495480625,30.504541260488647,30.29792874514116,30.497803895857757,30.477591801965065,30.461871284492968,30.52026177796074,30.443904978810583,30.439413402389984,30.421447096707592,30.4102181556561,30.414709732076695,30.414709732076695,30.4034807910252,30.3989892146046,30.396743426394305,30.385514485342807,30.383268697132515,30.383268697132515,30.38102290892221,30.374285544291315,30.250767192724886,30.36979396787072,30.35631923860893,30.354073450398623,30.34509029755743,30.33610714471624,30.33610714471624,30.32712399187504,30.32712399187504,30.322632415454446,30.27771665124847,30.322632415454446,30.29343716872056,30.275470863038173,30.228309310621896,30.29343716872056,30.31364926261325,30.27771665124847,30.29792874514116,30.26648771019697,30.295682956930857,30.264241921986677,30.253012980935186,30.25750455735578,30.250767192724886,30.248521404514584,30.24178403988369,30.511278625119548,30.2350466752528,30.248521404514584,30.239538251673387,30.23729246346309,30.2350466752528,30.2193261577807,30.210343004939503,30.354073450398623,30.228309310621896,30.226063522411604,30.504541260488647,30.20360564030861,30.2193261577807,30.226063522411604,30.11152832368636,30.497803895857757,30.491066531226853,30.48208337838566,30.47085443733417,30.45064234344148,30.439413402389984,30.43716761417968,30.4124639438664,30.42818446133849,30.419201308497296,30.421447096707592,30.414709732076695,30.4034807910252,30.39225184997371,30.387760273553116,30.38102290892221,30.37203975608101,30.37653133250161,30.365302391450125,30.342844509347128,30.33610714471624,30.27996243945877,30.333861356505945,30.33835293292654,30.331615568295646,30.331615568295646,30.333861356505945,30.32712399187504,30.322632415454446,30.324878203664746,30.324878203664746,30.315895050823546,30.31364926261325,30.306911897982356,30.31814083903384,30.300174533351456,30.304666109772054,30.295682956930857,30.30915768619265,30.291191380510263,30.29343716872056,30.28669980408967,30.27996243945877,30.27097928661757,30.306911897982356,30.29343716872056,30.16767302894383,30.27322507482787,30.291191380510263,30.27322507482787,30.259750345566086,30.25750455735578,30.264241921986677,30.259750345566086,30.246275616304285,30.226063522411604,30.248521404514584,30.239538251673387,30.221571945991,30.385514485342807,30.228309310621896,30.226063522411604,30.2125887931498,30.201359852098307,30.17216460536443,30.383268697132515,30.14521514684084,30.140723570420235,30.12949462936875,30.12949462936875,30.113774111896657,30.52026177796074,30.491066531226853,30.48208337838566,30.477591801965065,30.473100225544467,30.45737970807237,30.39000606176341,30.39225184997371,30.39000606176341,30.387760273553116,30.358565026819228,30.354073450398623,30.35631923860893,30.342844509347128,30.304666109772054,30.342844509347128,30.342844509347128,30.333861356505945,30.320386627244144,30.322632415454446,30.322632415454446,30.31814083903384,30.306911897982356,30.302420321561755,30.300174533351456,30.29792874514116,30.282208227669077,30.28445401587937,30.27996243945877,30.275470863038173,30.26648771019697,30.28669980408967,30.275470863038173,30.27771665124847,30.25750455735578,30.2170803695704,30.27996243945877,30.253012980935186,30.246275616304285,30.264241921986677,30.226063522411604,30.16991881715413,30.475346013754763,30.3989892146046,30.39225184997371,30.385514485342807,30.37653133250161,30.35182766218833,30.340598721136843,30.30915768619265,30.28445401587937,30.30915768619265,30.295682956930857,30.27322507482787,30.26873349840727,30.250767192724886,30.264241921986677,30.248521404514584,30.239538251673387,30.2148345813601,30.223817734201297,30.250767192724886,30.19237669925711,30.174410393574725,30.15644408789233,30.15195251147173,30.466362860913573,30.45064234344148,30.32936978008534,30.45737970807237,30.4034807910252,30.3989892146046,30.37653133250161,30.24178403988369,30.37653133250161,30.36081081502953,30.342844509347128,30.2170803695704,30.25525876914548,30.333861356505945,30.331615568295646,30.32712399187504,30.322632415454446,30.25525876914548,30.315895050823546,30.306911897982356,30.295682956930857,30.25750455735578,30.497803895857757,30.291191380510263,30.26199613377639,30.28445401587937,30.26873349840727,30.239538251673387,30.228309310621896,30.19013091104681,30.466362860913573,30.45064234344148,30.35631923860893,30.4034807910252,30.396743426394305,30.387760273553116,30.37203975608101,30.349581873978032,30.324878203664746,30.27996243945877,30.29343716872056,30.26648771019697,30.26199613377639,30.25525876914548,30.2305550988322,30.205851428518912,30.228309310621896,30.15644408789233,30.14970672326144,30.50004968406805,30.39225184997371,30.4124639438664,30.4102181556561,30.322632415454446,30.320386627244144,30.367548179660425,30.27771665124847,30.26873349840727,30.282208227669077,30.288945592299964,30.248521404514584,30.17216460536443,30.48882074301656,30.475346013754763,30.425938673128183,30.4034807910252,30.396743426394305,30.39225184997371,30.354073450398623,30.349581873978032,30.333861356505945,30.331615568295646,30.315895050823546,30.228309310621896,30.324878203664746,30.291191380510263,30.282208227669077,30.25750455735578,30.28445401587937,30.201359852098307,30.19686827567771,30.48208337838566,30.434921825969383,30.4102181556561,30.39000606176341,30.35631923860893,30.315895050823546,30.291191380510263,30.25525876914548,30.430430249548788,30.4012350028149,30.244029828093986,30.39000606176341,30.36081081502953,30.331615568295646,30.32712399187504,30.31814083903384,30.358565026819228,30.416955520287,30.4124639438664,30.31814083903384,30.374285544291315,30.33835293292654,30.2193261577807,30.23729246346309,30.288945592299964,30.31814083903384,30.32712399187504,30.15644408789233,30.32712399187504,30.414709732076695,30.295682956930857,30.26199613377639,30.477591801965065,30.275470863038173,30.33610714471624,30.27097928661757,30.466362860913573,30.35182766218833,30.250767192724886,30.396743426394305,30.45288813165177,30.394497638184003,30.394497638184003,30.32712399187504,30.259750345566086,30.306911897982356,30.3989892146046,30.513524413329844,30.25525876914548,30.28445401587937,30.461871284492968,30.396743426394305,30.306911897982356,30.2193261577807,30.315895050823546,30.37653133250161,30.306911897982356,30.2170803695704,30.383268697132515,30.2125887931498,30.31814083903384,30.36979396787072,30.320386627244144,30.34509029755743,30.32712399187504,30.282208227669077,30.347336085767733,30.288945592299964,30.34509029755743,30.342844509347128,30.300174533351456,30.174410393574725,30.37203975608101,30.354073450398623,30.441659190600287,30.396743426394305,30.39225184997371,30.45064234344148,30.28445401587937,30.324878203664746,30.439413402389984,30.506787048698943,30.340598721136843,30.31364926261325,30.282208227669077,30.405726579235505,30.33610714471624,30.48432916659596,30.347336085767733,30.322632415454446,30.38102290892221,30.430430249548788,30.358565026819228,30.37203975608101,30.31814083903384,30.414709732076695,30.315895050823546,30.347336085767733,30.407972367445804,30.259750345566086,30.32936978008534,30.4034807910252,30.304666109772054,30.31814083903384,30.26873349840727,30.248521404514584,30.423692884917887,30.383268697132515,30.295682956930857,30.367548179660425,30.48882074301656,30.407972367445804,30.36979396787072,30.340598721136843,30.32712399187504,30.513524413329844,30.430430249548788,30.201359852098307,30.333861356505945,30.322632415454446,30.394497638184003,30.28669980408967,30.385514485342807,30.29343716872056,30.221571945991,30.19686827567771,30.35631923860893,30.387760273553116,30.52699914259164,30.27322507482787,30.31364926261325,30.349581873978032,30.378777120711916,30.25525876914548,30.396743426394305,30.25750455735578,30.35631923860893,30.423692884917887,30.33835293292654,30.23729246346309,30.304666109772054,30.333861356505945,30.394497638184003,30.2148345813601,30.30915768619265,30.37653133250161,30.42818446133849,30.275470863038173,30.300174533351456,30.228309310621896,30.244029828093986,30.107036747265763,30.48208337838566,30.28669980408967,30.226063522411604,30.365302391450125,30.383268697132515,30.36979396787072,30.48208337838566,30.4012350028149,30.455133919862075,30.2350466752528,30.32712399187504,30.513524413329844,30.324878203664746,30.27097928661757,30.304666109772054,30.47983759017536,30.322632415454446,30.33610714471624,30.37653133250161,30.33835293292654,30.48208337838566,30.342844509347128,30.46860864912387,30.288945592299964,30.15195251147173,30.36081081502953,30.29343716872056,30.19686827567771,30.358565026819228,30.331615568295646,30.45962549628268,30.320386627244144,30.466362860913573,30.14970672326144,30.26199613377639,30.32936978008534,30.423692884917887,30.37653133250161,30.27771665124847,30.28445401587937,30.342844509347128,30.42818446133849,30.378777120711916,30.36081081502953,30.32936978008534,30.304666109772054,30.324878203664746,30.324878203664746,30.347336085767733,30.19686827567771,30.315895050823546,30.28445401587937,30.275470863038173,30.300174533351456,30.228309310621896,30.304666109772054,30.342844509347128,30.43267603775909,30.19237669925711,30.430430249548788,30.37653133250161,30.45064234344148,30.349581873978032,30.26648771019697,30.38102290892221,30.31814083903384,30.26648771019697,30.383268697132515,30.19686827567771,30.295682956930857,30.253012980935186,30.15419829968204,30.28669980408967,30.2305550988322,30.239538251673387,30.407972367445804,30.4012350028149,30.414709732076695,30.48657495480625,30.515770201540143,30.430430249548788,30.288945592299964,30.2170803695704,30.44615076702088,30.455133919862075,30.26873349840727,30.253012980935186,30.205851428518912,30.320386627244144,30.416955520287,30.4012350028149,30.306911897982356,30.38102290892221,30.3989892146046,30.354073450398623,30.26199613377639,30.23729246346309,30.27097928661757,30.320386627244144,30.26199613377639,30.246275616304285,30.52699914259164,30.250767192724886,30.295682956930857,30.28445401587937,30.31140347440295,30.320386627244144,30.26648771019697,30.31140347440295,30.358565026819228,30.239538251673387,30.423692884917887,30.31364926261325,30.383268697132515,30.304666109772054,30.300174533351456,30.248521404514584,30.26648771019697,30.23729246346309,30.43716761417968,30.210343004939503,30.228309310621896,30.504541260488647,30.315895050823546,30.385514485342807,30.33610714471624,30.425938673128183,30.282208227669077,30.36979396787072,30.4102181556561,30.32712399187504,30.2193261577807,30.421447096707592,30.264241921986677,30.25525876914548,30.250767192724886,30.246275616304285,30.354073450398623,30.3989892146046,30.29343716872056,30.25750455735578,30.248521404514584,30.16767302894383,30.24178403988369,30.25750455735578,30.50004968406805,30.23729246346309,30.18339354641592,30.439413402389984,30.461871284492968,30.185639334626217,30.320386627244144,30.511278625119548,30.495558107647447,30.37653133250161,30.33835293292654,30.48882074301656,30.416955520287,30.358565026819228,30.300174533351456,30.349581873978032,30.223817734201297,30.340598721136843,30.407972367445804,30.396743426394305,30.515770201540143,30.275470863038173,30.35182766218833,30.374285544291315,30.302420321561755,30.4012350028149,30.38102290892221,30.32936978008534,30.320386627244144,30.178901969995323,30.38102290892221,30.288945592299964,30.32712399187504,30.259750345566086,30.4102181556561,30.246275616304285,30.174410393574725,30.2350466752528,30.4102181556561,30.38102290892221,30.25525876914548,30.509032836909245,30.44839655523117,30.39225184997371,30.324878203664746,30.43267603775909,30.52250756617104,30.4012350028149,30.253012980935186,30.16767302894383,30.407972367445804,30.26873349840727,30.205851428518912,30.29343716872056,30.48657495480625,30.228309310621896,30.331615568295646,30.20809721672921,30.46411707270327,30.19911406388801,30.300174533351456,30.24178403988369,30.34509029755743,30.27097928661757,30.20360564030861,30.320386627244144,30.3989892146046,30.275470863038173,30.387760273553116,30.354073450398623,30.349581873978032,30.430430249548788,30.385514485342807,30.264241921986677,30.246275616304285,30.19911406388801,30.2125887931498,30.2125887931498,30.091316229793676,30.29343716872056,30.47983759017536,30.354073450398623,30.405726579235505,30.354073450398623,30.2193261577807,30.46411707270327,30.419201308497296,30.354073450398623,30.320386627244144,30.24178403988369,30.23280088704249,30.506787048698943,30.378777120711916,30.306911897982356,30.27097928661757,30.331615568295646,30.2170803695704,30.383268697132515,30.32712399187504,30.324878203664746,30.176656181785024,30.253012980935186,30.387760273553116,30.23729246346309,30.407972367445804,30.347336085767733,30.315895050823546,30.221571945991,30.136231993999644,30.304666109772054,30.4102181556561,30.246275616304285,30.27322507482787,30.407972367445804,30.24178403988369,30.36979396787072,30.491066531226853,30.466362860913573,30.35631923860893,30.425938673128183,30.394497638184003,30.205851428518912,30.16093566431293,30.320386627244144,30.48208337838566,30.48432916659596,30.57416069500791,30.32936978008534,30.421447096707592,30.342844509347128,30.414709732076695,30.4124639438664,30.31140347440295,30.26199613377639,30.26648771019697,30.324878203664746,30.244029828093986,30.2193261577807,30.205851428518912,30.394497638184003,30.28445401587937,30.28445401587937,30.35182766218833,30.31814083903384,30.24178403988369,30.37203975608101,30.15644408789233,30.45064234344148,30.3989892146046,30.322632415454446,30.300174533351456,30.26199613377639,30.331615568295646,30.43716761417968,30.385514485342807,30.322632415454446,30.43267603775909,30.378777120711916,30.47085443733417,30.414709732076695,30.26873349840727,30.407972367445804,30.425938673128183,30.565177542166715,30.407972367445804,30.20360564030861,30.28669980408967,30.3989892146046,30.35631923860893,30.48208337838566,30.2193261577807,30.16542724073353,30.2148345813601,30.33835293292654,30.504541260488647,30.31364926261325,30.47085443733417,30.423692884917887,30.27097928661757,30.374285544291315,30.29792874514116,30.18339354641592,30.3989892146046,30.4124639438664,30.2125887931498,30.358565026819228,30.26199613377639,30.27097928661757,30.515770201540143,30.4034807910252,30.226063522411604,30.340598721136843,30.34509029755743,30.4012350028149,30.473100225544467,30.56068596574612,30.497803895857757,30.495558107647447,30.30915768619265,30.549457024694625,30.52250756617104,30.439413402389984,30.504541260488647,30.50229547227835,30.491066531226853,30.491066531226853,30.493312319437155,30.48882074301656,30.48882074301656,30.48882074301656,30.48432916659596,30.48432916659596,30.47983759017536,30.477591801965065,30.423692884917887,30.473100225544467,30.46860864912387,30.466362860913573,30.423692884917887,30.46860864912387,30.466362860913573,30.45962549628268,30.46411707270327,30.387760273553116,30.383268697132515,30.45962549628268,30.466362860913573,30.45288813165177,30.416955520287,30.43716761417968,30.383268697132515,30.43716761417968,30.4124639438664,30.405726579235505,30.34509029755743,30.4102181556561,30.407972367445804,30.407972367445804,30.407972367445804,30.36081081502953,30.4102181556561,30.39225184997371,30.39000606176341,30.394497638184003,30.39000606176341,30.39000606176341,30.387760273553116,30.387760273553116,30.38102290892221,30.385514485342807,30.374285544291315,30.37653133250161,30.36979396787072,30.383268697132515,30.367548179660425,30.36081081502953,30.35631923860893,30.322632415454446,30.32712399187504,30.324878203664746,30.31814083903384,30.31140347440295,30.27996243945877,30.26199613377639,30.25525876914548,30.253012980935186,30.221571945991,30.19237669925711,30.19686827567771,30.2125887931498,30.19686827567771,30.16767302894383,30.14970672326144,30.104790959055453,30.511278625119548,30.477591801965065,30.439413402389984,30.39000606176341,30.34509029755743,30.33610714471624,30.47983759017536,30.33610714471624,30.29792874514116,30.25750455735578,30.27996243945877,30.509032836909245,30.185639334626217,30.511278625119548,30.506787048698943,30.48208337838566,30.47983759017536,30.48208337838566,30.43716761417968,30.421447096707592,30.407972367445804,30.405726579235505,30.387760273553116,30.378777120711916,30.37203975608101,30.365302391450125,30.35631923860893,30.358565026819228,30.26873349840727,30.320386627244144,30.31814083903384,30.31814083903384,30.315895050823546,30.31814083903384,30.31364926261325,30.295682956930857,30.29792874514116,30.26648771019697,30.27322507482787,30.26873349840727,30.26873349840727,30.282208227669077,30.27322507482787,30.275470863038173,30.264241921986677,30.27771665124847,30.259750345566086,30.259750345566086,30.201359852098307,30.248521404514584,30.19911406388801,30.221571945991,30.210343004939503,30.18339354641592,30.48882074301656,30.45962549628268,30.43716761417968,30.43267603775909,30.42818446133849,30.4102181556561,30.37203975608101,30.383268697132515,30.342844509347128,30.33835293292654,30.33835293292654,30.32712399187504,30.295682956930857,30.29792874514116,30.29792874514116,30.253012980935186,30.2193261577807,30.23729246346309,30.2125887931498,30.2125887931498,30.205851428518912,30.19237669925711,30.19686827567771,30.176656181785024,30.178901969995323,30.163181452523236,30.52026177796074,30.504541260488647,30.48657495480625,30.45962549628268,30.430430249548788,30.3989892146046,30.39000606176341,30.358565026819228,30.354073450398623,30.340598721136843,30.340598721136843,30.34509029755743,30.333861356505945,30.32936978008534,30.306911897982356,30.31814083903384,30.29343716872056,30.288945592299964,30.288945592299964,30.30915768619265,30.275470863038173,30.26648771019697,30.288945592299964,30.25750455735578,30.259750345566086,30.253012980935186,30.176656181785024,30.250767192724886,30.48657495480625,30.205851428518912,30.473100225544467,30.430430249548788,30.31814083903384,30.354073450398623,30.32712399187504,30.291191380510263,30.27097928661757,30.27996243945877,30.246275616304285,30.259750345566086,30.2170803695704,30.20809721672921,30.51801598975044,30.396743426394305,30.306911897982356,30.430430249548788,30.416955520287,30.39000606176341,30.226063522411604,30.51801598975044,30.466362860913573,30.387760273553116,30.363056603239823,30.275470863038173,30.264241921986677,30.226063522411604,30.349581873978032,30.331615568295646,30.25750455735578,30.223817734201297,30.320386627244144,30.320386627244144,30.244029828093986,30.419201308497296,30.365302391450125,30.358565026819228,30.37203975608101,30.340598721136843,30.340598721136843,30.27322507482787,30.363056603239823,30.363056603239823,30.33835293292654,30.347336085767733,30.35631923860893,30.158689876102628,30.37203975608101,30.223817734201297,30.4124639438664,30.33610714471624,30.26873349840727,30.315895050823546,30.37653133250161,30.421447096707592,30.37653133250161,30.248521404514584,30.30915768619265,30.405726579235505,30.477591801965065,30.43716761417968,30.36081081502953,30.363056603239823,30.37653133250161,30.302420321561755,30.419201308497296,30.259750345566086,30.29792874514116,30.39225184997371,30.47983759017536,30.35631923860893,30.331615568295646,30.19911406388801,30.394497638184003,30.430430249548788,30.221571945991,30.477591801965065,30.497803895857757,30.39000606176341,30.491066531226853,30.264241921986677,30.221571945991,30.27771665124847,30.363056603239823,30.26199613377639,30.315895050823546,30.176656181785024,30.264241921986677,30.26873349840727,30.19462248746741,30.205851428518912,30.244029828093986,30.4012350028149,30.394497638184003,30.26199613377639,30.4124639438664,30.304666109772054,30.2148345813601,30.394497638184003,30.19237669925711,30.15644408789233,30.2193261577807,30.31140347440295,30.38102290892221,30.26648771019697,30.2148345813601,30.322632415454446,30.25525876914548,30.12275726473785,30.495558107647447,30.4124639438664,30.43267603775909,30.340598721136843,30.300174533351456,30.3989892146046,30.29792874514116,30.221571945991,30.221571945991,30.248521404514584,30.36979396787072,30.253012980935186,30.17216460536443,30.491066531226853,30.45962549628268,30.48882074301656,30.259750345566086,30.098053594424574,30.515770201540143,30.50229547227835,30.31364926261325,30.282208227669077,30.25750455735578,30.4012350028149,30.2193261577807,30.43267603775909,30.511278625119548,30.421447096707592,30.461871284492968,30.45962549628268,30.4102181556561,30.31140347440295,30.16767302894383,30.4012350028149,30.383268697132515,30.27097928661757,30.136231993999644,30.349581873978032,30.385514485342807,30.504541260488647,30.43716761417968,30.14970672326144,30.295682956930857,30.2305550988322,30.29792874514116,30.32712399187504,30.098053594424574,30.19911406388801,30.142969358630538,30.253012980935186,30.14521514684084,30.324878203664746,30.3989892146046,30.37203975608101,30.27996243945877,30.35182766218833,30.473100225544467,30.461871284492968,30.461871284492968,30.44839655523117,30.239538251673387,30.513524413329844,30.30915768619265,30.349581873978032,30.24178403988369,30.378777120711916,30.253012980935186,30.228309310621896,30.4012350028149,30.2193261577807,30.2170803695704,30.414709732076695,30.37203975608101,30.47983759017536,30.302420321561755,30.46411707270327,30.19462248746741,30.414709732076695,30.39225184997371,30.15195251147173,30.26199613377639,30.4034807910252,30.26648771019697,30.423692884917887,30.26648771019697,30.2148345813601,30.2125887931498,30.246275616304285,30.244029828093986,30.394497638184003,30.4124639438664,30.282208227669077,30.18339354641592,30.419201308497296,30.2170803695704,30.140723570420235,30.253012980935186,30.38102290892221,30.275470863038173,30.24178403988369,30.342844509347128,30.322632415454446,30.48432916659596,30.416955520287,30.47085443733417,30.434921825969383,30.47085443733417,30.291191380510263,30.504541260488647,30.48208337838566,30.477591801965065,30.430430249548788,30.47085443733417,30.45288813165177,30.443904978810583,30.443904978810583,30.441659190600287,30.441659190600287,30.423692884917887,30.4102181556561,30.32712399187504,30.4034807910252,30.4034807910252,30.3989892146046,30.39225184997371,30.29792874514116,30.38102290892221,30.37653133250161,30.36979396787072,30.35631923860893,30.34509029755743,30.331615568295646,30.31364926261325,30.300174533351456,30.18339354641592,30.25750455735578,30.246275616304285,30.27097928661757,30.223817734201297,30.2170803695704,30.25750455735578,30.504541260488647,30.47085443733417,30.324878203664746,30.32936978008534,30.430430249548788,30.304666109772054,30.288945592299964,30.253012980935186,30.434921825969383,30.495558107647447,30.47085443733417,30.47085443733417,30.443904978810583,30.354073450398623,30.416955520287,30.394497638184003,30.363056603239823,30.32712399187504,30.324878203664746,30.31814083903384,30.31814083903384,30.26873349840727,30.19911406388801,30.19686827567771,30.27996243945877,30.248521404514584,30.246275616304285,30.23280088704249,30.12949462936875,30.511278625119548,30.497803895857757,30.4012350028149,30.4102181556561,30.358565026819228,30.342844509347128,30.33610714471624,30.306911897982356,30.300174533351456,30.52924493080193,30.259750345566086,30.264241921986677,30.2305550988322,30.221571945991,30.20360564030861,30.19911406388801,30.19013091104681,30.15195251147173,30.506787048698943,30.443904978810583,30.407972367445804,30.407972367445804,30.387760273553116,30.354073450398623,30.347336085767733,30.43267603775909,30.31140347440295,30.29792874514116,30.31140347440295,30.300174533351456,30.349581873978032,30.259750345566086,30.226063522411604,30.223817734201297,30.349581873978032,30.349581873978032,30.33610714471624,30.25525876914548,30.302420321561755,30.09356201800397,30.244029828093986,30.20809721672921,30.2305550988322,30.45288813165177,30.42818446133849,30.416955520287,30.37653133250161,30.2170803695704,30.38102290892221,30.27322507482787,30.210343004939503,30.228309310621896,30.226063522411604,30.201359852098307,30.14746093505114,30.33610714471624,30.31364926261325,30.36979396787072,30.354073450398623,30.4124639438664,30.2148345813601,30.25525876914548,30.34509029755743,30.4102181556561,30.35631923860893,30.181147758205626,30.15644408789233,30.201359852098307,30.264241921986677,30.31140347440295,30.48657495480625,30.374285544291315,30.509032836909245,30.4124639438664,30.342844509347128,30.434921825969383,30.396743426394305,30.50004968406805,30.259750345566086,30.36979396787072,30.4034807910252,30.14746093505114,30.347336085767733,30.38102290892221,30.473100225544467,30.32936978008534,30.365302391450125,30.26648771019697,30.25525876914548,30.26873349840727,30.430430249548788,30.367548179660425,30.25525876914548,30.36081081502953,30.295682956930857,30.383268697132515,30.322632415454446,30.306911897982356,30.2148345813601,30.24178403988369,30.19462248746741,30.24178403988369,30.27322507482787,30.396743426394305,30.19237669925711,30.322632415454446,30.36081081502953,30.383268697132515,30.497803895857757,30.342844509347128,30.477591801965065,30.28669980408967,30.461871284492968,30.29343716872056,30.275470863038173,30.416955520287,30.28445401587937,30.35631923860893,30.48208337838566,30.2170803695704,30.35631923860893,30.34509029755743,30.19462248746741,30.439413402389984,30.178901969995323,30.38102290892221,30.26648771019697,30.29792874514116,30.36081081502953,30.14970672326144,30.495558107647447,30.239538251673387,30.367548179660425,30.20360564030861,30.136231993999644,30.174410393574725,30.383268697132515,30.333861356505945,30.419201308497296,30.3989892146046,30.09356201800397,30.27996243945877,30.405726579235505,30.26648771019697,30.30915768619265,30.25525876914548,30.378777120711916,30.28445401587937,30.239538251673387,30.48432916659596,30.4034807910252,30.259750345566086,30.16093566431293,30.239538251673387,30.29792874514116,30.387760273553116,30.315895050823546,30.50004968406805,30.347336085767733,30.2170803695704,30.367548179660425,30.23280088704249,30.306911897982356,30.394497638184003,30.264241921986677,30.205851428518912,30.2305550988322,30.439413402389984,30.425938673128183,30.2170803695704,30.419201308497296,30.349581873978032,30.142969358630538,30.349581873978032,30.3989892146046,30.2305550988322,30.37203975608101,30.48208337838566,30.46411707270327,30.33835293292654,30.163181452523236,30.32936978008534,30.4034807910252,30.304666109772054,30.477591801965065,30.24178403988369,30.434921825969383,30.473100225544467,30.282208227669077,30.264241921986677,30.358565026819228,30.38102290892221,30.31364926261325,30.363056603239823,30.4102181556561,30.383268697132515,30.140723570420235,30.324878203664746,30.32936978008534,30.176656181785024,30.430430249548788,30.30915768619265,30.275470863038173,30.33610714471624,30.331615568295646,30.342844509347128,30.43267603775909,30.2125887931498,30.414709732076695,30.35631923860893,30.354073450398623,30.4102181556561,30.342844509347128,30.282208227669077,30.396743426394305,30.320386627244144,30.349581873978032,30.2170803695704,30.31364926261325,30.127248841158448,30.509032836909245,30.491066531226853,30.09580780621427,30.455133919862075,30.4012350028149,30.248521404514584,30.35631923860893,30.2193261577807,30.38102290892221,30.24178403988369,30.439413402389984,30.42818446133849,30.322632415454446,30.434921825969383,30.47983759017536,30.45064234344148,30.26873349840727,30.176656181785024,30.26648771019697,30.331615568295646,30.2125887931498,30.419201308497296,30.239538251673387,30.394497638184003,30.322632415454446,30.2148345813601,30.407972367445804,30.511278625119548,30.47085443733417,30.185639334626217,30.46411707270327,30.16093566431293,30.50229547227835,30.32712399187504,30.226063522411604,30.2170803695704,30.250767192724886,30.302420321561755,30.495558107647447,30.320386627244144,30.565177542166715,30.515770201540143,30.511278625119548,30.511278625119548,30.50229547227835,30.493312319437155,30.48657495480625,30.48657495480625,30.48208337838566,30.477591801965065,30.475346013754763,30.477591801965065,30.475346013754763,30.47085443733417,30.461871284492968,30.475346013754763,30.466362860913573,30.46411707270327,30.46411707270327,30.45064234344148,30.466362860913573,30.439413402389984,30.441659190600287,30.434921825969383,30.421447096707592,30.425938673128183,30.419201308497296,30.421447096707592,30.414709732076695,30.396743426394305,30.4012350028149,30.396743426394305,30.367548179660425,30.387760273553116,30.383268697132515,30.37653133250161,30.354073450398623,30.331615568295646,30.32936978008534,30.324878203664746,30.29792874514116,30.28445401587937,30.28669980408967,30.28669980408967,30.288945592299964,30.25750455735578,30.24178403988369,30.25750455735578,30.2350466752528,30.221571945991,30.178901969995323,30.48882074301656,30.461871284492968,30.4102181556561,30.407972367445804,30.407972367445804,30.367548179660425,30.36081081502953,30.2125887931498,30.513524413329844,30.475346013754763,30.43716761417968,30.423692884917887,30.37203975608101,30.25525876914548,30.295682956930857,30.24178403988369,30.16093566431293,30.15419829968204,30.509032836909245,30.48657495480625,30.48432916659596,30.430430249548788,30.414709732076695,30.32936978008534,30.32712399187504,30.320386627244144,30.28445401587937,30.2350466752528,30.17216460536443,30.53822808364313,30.477591801965065,30.461871284492968,30.38102290892221,30.374285544291315,30.300174533351456,30.27322507482787,30.28445401587937,30.259750345566086,30.4034807910252,30.2170803695704,30.421447096707592,30.4124639438664,30.4034807910252,30.306911897982356,30.28669980408967,30.25750455735578,30.27996243945877,30.367548179660425,30.259750345566086,30.394497638184003,30.34509029755743,30.342844509347128,30.31140347440295,30.27771665124847,30.291191380510263,30.306911897982356,30.365302391450125,30.36081081502953,30.35631923860893,30.315895050823546,30.367548179660425,30.35631923860893,30.35631923860893,30.354073450398623,30.282208227669077,30.291191380510263,30.354073450398623,30.367548179660425,30.306911897982356,30.244029828093986,30.349581873978032,30.340598721136843,30.26199613377639,30.34509029755743,30.322632415454446,30.57416069500791,30.349581873978032,30.342844509347128,30.333861356505945,30.26648771019697,30.340598721136843,30.331615568295646,30.32936978008534,30.32712399187504,30.300174533351456,30.322632415454446,30.31814083903384,30.31814083903384,30.31814083903384,30.315895050823546,30.31814083903384,30.37203975608101,30.39000606176341,30.306911897982356,30.31140347440295,30.30915768619265,30.441659190600287,30.302420321561755,30.302420321561755,30.295682956930857,30.30915768619265,30.31140347440295,30.288945592299964,30.288945592299964,30.37203975608101,30.282208227669077,30.282208227669077,30.291191380510263,30.27996243945877,30.282208227669077,30.48882074301656,30.29343716872056,30.27097928661757,30.27097928661757,30.27097928661757,30.26199613377639,30.29343716872056,30.28669980408967,30.282208227669077,30.25525876914548,30.26873349840727,30.259750345566086,30.25525876914548,30.25750455735578,30.264241921986677,30.25525876914548,30.248521404514584,30.248521404514584,30.259750345566086,30.23280088704249,30.248521404514584,30.25525876914548,30.244029828093986,30.250767192724886,30.244029828093986,30.19686827567771,30.253012980935186,30.23280088704249,30.20809721672921,30.228309310621896,30.2193261577807,30.2125887931498,30.367548179660425,30.201359852098307,30.2350466752528,30.264241921986677,30.23280088704249,30.2350466752528,30.2305550988322,30.29343716872056,30.2193261577807,30.2148345813601,30.2170803695704,30.201359852098307,30.20809721672921,30.19911406388801,30.20809721672921,30.223817734201297,30.19013091104681,30.19013091104681,30.20809721672921,30.205851428518912,30.19237669925711,30.181147758205626,30.178901969995323,30.324878203664746,30.15644408789233,30.509032836909245,30.127248841158448,30.13398620578934,30.48432916659596,30.475346013754763,30.455133919862075,30.443904978810583,30.342844509347128,30.425938673128183,30.419201308497296,30.405726579235505,30.3989892146046,30.385514485342807,30.275470863038173,30.27996243945877,30.347336085767733,30.342844509347128,30.34509029755743,30.315895050823546,30.45288813165177,30.291191380510263,30.275470863038173,30.20360564030861,30.246275616304285,30.340598721136843,30.259750345566086,30.2148345813601,30.205851428518912,30.19686827567771,30.158689876102628,30.291191380510263,30.48882074301656,30.443904978810583,30.405726579235505,30.35631923860893,30.342844509347128,30.28445401587937,30.24178403988369,30.27771665124847,30.20809721672921,30.205851428518912,30.407972367445804,30.4012350028149,30.38102290892221,30.27771665124847,30.33610714471624,30.34509029755743,30.282208227669077,30.515770201540143,30.28445401587937,30.37203975608101,30.140723570420235,30.259750345566086,30.423692884917887,30.142969358630538,30.45064234344148,30.394497638184003,30.331615568295646,30.33835293292654,30.28445401587937,30.32712399187504,30.466362860913573,30.306911897982356,30.466362860913573,30.425938673128183,30.50229547227835,30.506787048698943,30.26199613377639,30.419201308497296,30.430430249548788,30.246275616304285,30.423692884917887,30.31140347440295,30.25525876914548,30.53373650722253,30.2350466752528,30.2125887931498,30.25525876914548,30.300174533351456,30.387760273553116,30.259750345566086,30.33835293292654,30.365302391450125,30.31140347440295,30.18339354641592,30.4012350028149,30.4034807910252,30.291191380510263,30.322632415454446,30.250767192724886,30.38102290892221,30.54047387185343,30.45064234344148,30.36979396787072,30.23729246346309,30.511278625119548,30.358565026819228,30.275470863038173,30.2193261577807,30.47085443733417,30.28445401587937,30.322632415454446,30.26873349840727,30.36979396787072,30.259750345566086,30.127248841158448,30.250767192724886,30.259750345566086,30.2125887931498,30.107036747265763,30.44839655523117,30.349581873978032,30.421447096707592,30.331615568295646,30.36979396787072,30.333861356505945,30.246275616304285,30.174410393574725,30.259750345566086,30.394497638184003,30.248521404514584,30.333861356505945,30.223817734201297,30.36979396787072,30.32936978008534,30.24178403988369,30.27097928661757,30.36081081502953,30.475346013754763,30.2125887931498,30.466362860913573,30.140723570420235,30.320386627244144,30.14746093505114,30.387760273553116,30.385514485342807,30.365302391450125,30.275470863038173,30.201359852098307,30.125003052948152,30.36081081502953,30.2193261577807,30.246275616304285,30.226063522411604,30.28445401587937,30.4034807910252,30.387760273553116,30.37653133250161,30.14521514684084,30.295682956930857,30.45962549628268,30.35182766218833,30.477591801965065,30.43267603775909,30.48432916659596,30.405726579235505,30.385514485342807,30.221571945991,30.264241921986677,30.32936978008534,30.27097928661757,30.201359852098307,30.43267603775909,30.47085443733417,30.42818446133849,30.4102181556561,30.300174533351456,30.37203975608101,30.2193261577807,30.158689876102628,30.421447096707592,30.288945592299964,30.322632415454446,30.28669980408967,30.36081081502953,30.2170803695704,30.39000606176341,30.275470863038173,30.19686827567771,30.324878203664746,30.2148345813601,30.32712399187504,30.35182766218833,30.322632415454446,30.394497638184003,30.246275616304285,30.291191380510263,30.48432916659596,30.210343004939503,30.383268697132515,30.33610714471624,30.23280088704249,30.33835293292654,30.2170803695704,30.158689876102628,30.378777120711916,30.44615076702088,30.349581873978032,30.210343004939503,30.35631923860893,30.239538251673387,30.320386627244144,30.28669980408967,30.26648771019697,30.439413402389984,30.20809721672921,30.2125887931498,30.19686827567771,30.387760273553116,30.2350466752528,30.19462248746741,30.23729246346309,30.11601990010696,30.354073450398623,30.513524413329844,30.324878203664746,30.246275616304285,30.24178403988369,30.24178403988369,30.228309310621896,30.246275616304285,30.477591801965065,30.421447096707592,30.475346013754763,30.32936978008534,30.320386627244144,30.26648771019697,30.407972367445804,30.331615568295646,30.29792874514116,30.4012350028149,30.37203975608101,30.25525876914548,30.275470863038173,30.48882074301656,30.358565026819228,30.32712399187504,30.4034807910252,30.174410393574725,30.23280088704249,30.282208227669077,30.23280088704249,30.275470863038173,30.27996243945877,30.48882074301656,30.244029828093986,30.302420321561755,30.385514485342807,30.416955520287,30.320386627244144,30.38102290892221,30.43267603775909,30.302420321561755,30.223817734201297,30.477591801965065,30.176656181785024,30.15195251147173,30.39225184997371,30.47085443733417,30.16542724073353,30.253012980935186,30.246275616304285,30.4102181556561,30.405726579235505,30.35631923860893,30.19911406388801,30.223817734201297,30.19237669925711,30.17216460536443,30.26648771019697,30.349581873978032,30.26873349840727,30.185639334626217,30.15644408789233,30.27996243945877,30.248521404514584,30.367548179660425,30.27771665124847,30.2350466752528,30.107036747265763,30.367548179660425,30.47085443733417,30.414709732076695,30.37203975608101,30.35631923860893,30.304666109772054,30.387760273553116,30.4012350028149,30.201359852098307,30.14970672326144,30.205851428518912,30.27097928661757,30.434921825969383,30.340598721136843,30.275470863038173,30.495558107647447,30.43716761417968,30.394497638184003,30.2350466752528,30.35182766218833,30.15644408789233,30.421447096707592,30.26873349840727,30.34509029755743,30.205851428518912,30.51801598975044,30.24178403988369,30.39000606176341,30.27771665124847,30.228309310621896,30.11152832368636,30.493312319437155,30.239538251673387,30.506787048698943,30.56742333037701,30.55844017753581,30.52924493080193,30.52026177796074,30.52026177796074,30.511278625119548,30.48208337838566,30.48432916659596,30.511278625119548,30.509032836909245,30.506787048698943,30.497803895857757,30.50004968406805,30.423692884917887,30.50004968406805,30.493312319437155,30.491066531226853,30.491066531226853,30.48657495480625,30.48432916659596,30.48657495480625,30.475346013754763,30.475346013754763,30.477591801965065,30.477591801965065,30.423692884917887,30.473100225544467,30.47983759017536,30.475346013754763,30.46860864912387,30.466362860913573,30.466362860913573,30.461871284492968,30.45962549628268,30.461871284492968,30.455133919862075,30.45962549628268,30.443904978810583,30.439413402389984,30.43716761417968,30.434921825969383,30.43716761417968,30.43267603775909,30.423692884917887,30.434921825969383,30.425938673128183,30.423692884917887,30.419201308497296,30.42818446133849,30.419201308497296,30.407972367445804,30.419201308497296,30.416955520287,30.419201308497296,30.416955520287,30.4124639438664,30.405726579235505,30.405726579235505,30.39225184997371,30.39225184997371,30.378777120711916,30.37653133250161,30.378777120711916,30.36979396787072,30.367548179660425,30.365302391450125,30.36081081502953,30.407972367445804,30.511278625119548,30.29792874514116,30.300174533351456,30.205851428518912,30.2193261577807,30.26648771019697,30.455133919862075,30.45288813165177,30.48657495480625,30.2125887931498,30.228309310621896,30.210343004939503,30.226063522411604,30.248521404514584,30.38102290892221,30.4102181556561,30.30915768619265,30.38102290892221,30.26873349840727,30.26199613377639,30.19462248746741,30.315895050823546,30.43267603775909,30.45962549628268,30.244029828093986,30.396743426394305,30.36081081502953,30.56742333037701,30.387760273553116,30.302420321561755,30.26873349840727,30.4034807910252,30.349581873978032,30.39225184997371,30.3989892146046,30.387760273553116,30.405726579235505,30.340598721136843,30.324878203664746,30.27322507482787,30.275470863038173,30.367548179660425,30.221571945991,30.549457024694625,30.291191380510263,30.473100225544467,30.16991881715413,30.509032836909245,30.35631923860893,30.349581873978032,30.16991881715413,30.342844509347128,30.3989892146046,30.127248841158448,30.407972367445804,30.477591801965065,30.4102181556561,30.45962549628268,30.48208337838566,30.443904978810583,30.349581873978032,30.31364926261325,30.504541260488647,30.264241921986677,30.31140347440295,30.374285544291315,30.333861356505945,30.178901969995323,30.20360564030861,30.2125887931498,30.282208227669077,30.210343004939503,30.304666109772054,30.25750455735578,30.15644408789233,30.349581873978032,30.2170803695704,30.15644408789233,30.239538251673387,30.44839655523117,30.18788512283652,30.495558107647447,30.48208337838566,30.26873349840727,30.473100225544467,30.174410393574725,30.275470863038173,30.185639334626217,30.25750455735578,30.25525876914548,30.26648771019697,30.302420321561755,30.248521404514584,30.221571945991,30.300174533351456,30.31814083903384,30.358565026819228,30.19911406388801,30.324878203664746,30.497803895857757,30.441659190600287,30.414709732076695,30.210343004939503,30.443904978810583,30.414709732076695,30.259750345566086,30.28445401587937,30.33835293292654,30.23729246346309,30.2350466752528,30.46411707270327,30.27322507482787,30.416955520287,30.174410393574725,30.37203975608101,30.31140347440295,30.42818446133849,30.48657495480625,30.354073450398623,30.28445401587937,30.2350466752528,30.315895050823546,30.181147758205626,30.288945592299964,30.13398620578934,30.394497638184003,30.378777120711916,30.33835293292654,30.2148345813601,30.205851428518912,30.29792874514116,30.250767192724886,30.2193261577807,30.244029828093986,30.248521404514584,30.19462248746741,30.45737970807237,30.39225184997371,30.405726579235505,30.347336085767733,30.340598721136843,30.27097928661757,30.434921825969383,30.349581873978032,30.27097928661757,30.27322507482787,30.4102181556561,30.36979396787072,30.2350466752528,30.12949462936875,30.31364926261325,30.42818446133849,30.363056603239823,30.477591801965065,30.26199613377639,30.246275616304285,30.16991881715413,30.31814083903384,30.304666109772054,30.264241921986677,30.264241921986677,30.38102290892221,30.300174533351456,30.26648771019697,30.2125887931498,30.39000606176341,30.42818446133849,30.421447096707592,30.416955520287,30.421447096707592,30.315895050823546,30.349581873978032,30.47085443733417,30.48882074301656,30.39225184997371,30.201359852098307,30.239538251673387,30.43716761417968,30.416955520287,30.358565026819228,30.27097928661757,30.2148345813601,30.39225184997371,30.15195251147173,30.23729246346309,30.33835293292654,30.461871284492968,30.27322507482787,30.387760273553116,30.367548179660425,30.244029828093986,30.14970672326144,30.302420321561755,30.396743426394305,30.425938673128183,30.228309310621896,30.385514485342807,30.16991881715413,30.25525876914548,30.466362860913573,30.383268697132515,30.15644408789233,30.466362860913573,30.4012350028149,30.09356201800397,30.383268697132515,30.25750455735578,30.416955520287,30.4012350028149,30.383268697132515,30.42818446133849,30.36081081502953,30.358565026819228,30.36979396787072,30.2193261577807,30.24178403988369,30.16991881715413,30.349581873978032,30.2193261577807,30.16542724073353,30.2125887931498,30.201359852098307,30.315895050823546,30.248521404514584,30.288945592299964,30.28445401587937,30.19686827567771,30.19911406388801,30.506787048698943,30.45064234344148,30.2193261577807,30.50229547227835,30.205851428518912,30.306911897982356,30.2193261577807,30.407972367445804,30.363056603239823,30.354073450398623,30.26648771019697,30.34509029755743,30.28669980408967,30.31140347440295,30.2148345813601,30.15644408789233,30.46411707270327,30.383268697132515,30.37653133250161,30.244029828093986,30.138477782209943,30.43267603775909,30.2148345813601,30.27771665124847,30.26199613377639,30.4124639438664,30.31140347440295,30.259750345566086,30.259750345566086,30.19911406388801,30.120511476527557,30.253012980935186,30.24178403988369,30.19911406388801,30.50004968406805,30.340598721136843,30.30915768619265,30.25750455735578,30.248521404514584,30.2170803695704,30.27322507482787,30.16767302894383,30.394497638184003,30.33610714471624,30.26873349840727,30.35631923860893,30.253012980935186,30.27771665124847,30.43716761417968,30.52699914259164,30.52026177796074,30.515770201540143,30.419201308497296,30.515770201540143,30.513524413329844,30.515770201540143,30.50004968406805,30.475346013754763,30.495558107647447,30.491066531226853,30.491066531226853,30.493312319437155,30.493312319437155,30.493312319437155,30.511278625119548,30.48432916659596,30.48432916659596,30.48208337838566,30.48208337838566,30.477591801965065,30.477591801965065,30.47085443733417,30.475346013754763,30.461871284492968,30.466362860913573,30.46411707270327,30.45737970807237,30.44615076702088,30.45737970807237,30.455133919862075,30.46411707270327,30.44615076702088,30.423692884917887,30.414709732076695,30.44839655523117,30.45064234344148,30.441659190600287,30.42818446133849,30.434921825969383,30.421447096707592,30.414709732076695,30.407972367445804,30.405726579235505,30.405726579235505,30.405726579235505,30.405726579235505,30.405726579235505,30.4012350028149,30.4034807910252,30.396743426394305,30.3989892146046,30.394497638184003,30.387760273553116,30.333861356505945,30.38102290892221,30.38102290892221,30.38102290892221,30.374285544291315,30.36979396787072,30.365302391450125,30.363056603239823,30.35631923860893,30.349581873978032,30.35182766218833,30.331615568295646,30.24178403988369,30.275470863038173,30.342844509347128,30.36979396787072,30.32936978008534,30.32712399187504,30.32712399187504,30.320386627244144,30.322632415454446,30.315895050823546,30.300174533351456,30.26873349840727,30.26873349840727,30.25750455735578,30.25750455735578,30.253012980935186,30.248521404514584,30.248521404514584,30.228309310621896,30.2305550988322,30.18788512283652,30.205851428518912,30.466362860913573,30.46860864912387,30.414709732076695,30.405726579235505,30.354073450398623,30.253012980935186,30.396743426394305,30.340598721136843,30.228309310621896,30.2148345813601,30.26873349840727,30.396743426394305,30.304666109772054,30.30915768619265,30.23729246346309,30.45737970807237,30.306911897982356,30.405726579235505,30.23729246346309,30.25750455735578,30.365302391450125,30.383268697132515,30.35631923860893,30.295682956930857,30.47983759017536,30.221571945991,30.3989892146046,30.2350466752528,30.473100225544467,30.36979396787072,30.291191380510263,30.15419829968204,30.210343004939503,30.20809721672921,30.246275616304285,30.264241921986677,30.43267603775909,30.19013091104681,30.363056603239823,30.304666109772054,30.32936978008534,30.28669980408967,30.439413402389984,30.38102290892221,30.42818446133849,30.367548179660425,30.363056603239823,30.28669980408967,30.4124639438664,30.425938673128183,30.300174533351456,30.248521404514584,30.374285544291315,30.39000606176341,30.35182766218833,30.26199613377639,30.495558107647447,30.331615568295646,30.45064234344148,30.31140347440295,30.25750455735578,30.36081081502953,30.27097928661757,30.419201308497296,30.441659190600287,30.425938673128183,30.407972367445804,30.14521514684084,30.26199613377639,30.25750455735578,30.2305550988322,30.365302391450125,30.396743426394305,30.28669980408967,30.27097928661757,30.2148345813601,30.210343004939503,30.228309310621896,30.16093566431293,30.275470863038173,30.2170803695704,30.19686827567771,30.176656181785024,30.39000606176341,30.340598721136843,30.2193261577807,30.34509029755743,30.2193261577807,30.349581873978032,30.2350466752528,30.201359852098307,30.495558107647447,30.142969358630538,30.56068596574612,30.48432916659596,30.48432916659596,30.477591801965065,30.473100225544467,30.466362860913573,30.46411707270327,30.461871284492968,30.45962549628268,30.45064234344148,30.439413402389984,30.42818446133849,30.407972367445804,30.35182766218833,30.396743426394305,30.383268697132515,30.378777120711916,30.32936978008534,30.32712399187504,30.306911897982356,30.27771665124847,30.275470863038173,30.23729246346309,30.253012980935186,30.174410393574725,30.174410393574725,30.491066531226853,30.419201308497296,30.414709732076695,30.25525876914548,30.374285544291315,30.291191380510263,30.16542724073353,30.383268697132515,30.18339354641592,30.25525876914548,30.250767192724886,30.26648771019697,30.54047387185343,30.35182766218833,30.2305550988322,30.25525876914548,30.430430249548788,30.367548179660425,30.320386627244144,30.45288813165177,30.455133919862075,30.320386627244144,30.46860864912387,30.45737970807237,30.358565026819228,30.223817734201297,30.374285544291315,30.28445401587937,30.37203975608101,30.324878203664746,30.244029828093986,30.29792874514116,30.306911897982356,30.14746093505114,30.2350466752528,30.4102181556561,30.228309310621896,30.223817734201297,30.2350466752528,30.140723570420235,30.45737970807237,30.113774111896657,30.416955520287,30.322632415454446,30.43267603775909,30.358565026819228,30.244029828093986,30.178901969995323,30.140723570420235,30.45288813165177,30.38102290892221,30.38102290892221,30.239538251673387,30.365302391450125,30.37203975608101,30.27322507482787,30.31364926261325,30.493312319437155,30.176656181785024,30.18339354641592,30.27771665124847,30.358565026819228,30.205851428518912,30.275470863038173,30.354073450398623,30.4102181556561,30.250767192724886,30.39000606176341,30.253012980935186,30.46411707270327,30.407972367445804,30.295682956930857,30.363056603239823,30.491066531226853,30.26873349840727,30.19462248746741,30.2148345813601,30.29343716872056,30.2125887931498,30.48208337838566,30.414709732076695,30.4102181556561,30.509032836909245,30.2305550988322,30.250767192724886,30.347336085767733,30.363056603239823,30.15419829968204,30.2148345813601,30.37653133250161,30.423692884917887,30.4012350028149,30.434921825969383,30.306911897982356,30.414709732076695,30.2125887931498,30.19462248746741,30.27996243945877,30.387760273553116,30.2125887931498,30.19237669925711,30.378777120711916,30.358565026819228,30.4012350028149,30.416955520287,30.25525876914548,30.248521404514584,30.19911406388801,30.228309310621896,30.2350466752528,30.475346013754763,30.19462248746741,30.430430249548788,30.14970672326144,30.322632415454446,30.226063522411604,30.239538251673387,30.19462248746741,30.416955520287,30.18788512283652,30.35631923860893,30.253012980935186,30.425938673128183,30.181147758205626,30.425938673128183,30.430430249548788,30.185639334626217,30.53822808364313,30.44615076702088,30.396743426394305,30.104790959055453,30.223817734201297,30.244029828093986,30.4102181556561,30.2125887931498,30.45737970807237,30.31364926261325,30.26873349840727,30.331615568295646,30.455133919862075,30.39000606176341,30.16093566431293,30.407972367445804,30.35631923860893,30.295682956930857,30.354073450398623,30.34509029755743,30.515770201540143,30.515770201540143,30.513524413329844,30.497803895857757,30.491066531226853,30.48657495480625,30.491066531226853,30.475346013754763,30.473100225544467,30.455133919862075,30.47983759017536,30.430430249548788,30.477591801965065,30.473100225544467,30.466362860913573,30.466362860913573,30.45962549628268,30.44615076702088,30.44839655523117,30.44839655523117,30.44839655523117,30.378777120711916,30.439413402389984,30.425938673128183,30.421447096707592,30.419201308497296,30.421447096707592,30.419201308497296,30.4012350028149,30.407972367445804,30.414709732076695,30.407972367445804,30.3989892146046,30.3989892146046,30.61009330637269,30.39225184997371,30.394497638184003,30.363056603239823,30.378777120711916,30.35182766218833,30.33835293292654,30.32936978008534,30.32712399187504,30.315895050823546,30.315895050823546,30.315895050823546,30.248521404514584,30.315895050823546,30.26873349840727,30.28445401587937,30.248521404514584,30.246275616304285,30.30915768619265,30.23729246346309,30.19013091104681,30.18788512283652,30.2148345813601,30.45288813165177,30.419201308497296,30.383268697132515,30.288945592299964,30.2350466752528,30.491066531226853,30.405726579235505,30.374285544291315,30.223817734201297,30.4012350028149,30.306911897982356,30.26199613377639,30.39000606176341,30.31814083903384,30.331615568295646,30.2148345813601,30.19911406388801,30.39225184997371,30.407972367445804,30.30915768619265,30.16093566431293,30.12949462936875,30.44839655523117,30.340598721136843,30.2148345813601,30.47085443733417,30.282208227669077,30.44839655523117,30.38102290892221,30.421447096707592,30.35631923860893,30.244029828093986,30.29792874514116,30.27097928661757,30.324878203664746,30.221571945991,30.26873349840727,30.421447096707592,30.27097928661757,30.333861356505945,30.246275616304285,30.20360564030861,30.434921825969383,30.16093566431293,30.439413402389984,30.39225184997371,30.405726579235505,30.35182766218833,30.416955520287,30.44839655523117,30.405726579235505,30.2350466752528,30.23729246346309,30.48657495480625,30.4034807910252,30.25750455735578,30.33610714471624,30.205851428518912,30.2305550988322,30.477591801965065,30.45737970807237,30.46860864912387,30.26873349840727,30.176656181785024,30.347336085767733,30.378777120711916,30.4124639438664,30.524753354381343,30.39000606176341,30.511278625119548,30.506787048698943,30.493312319437155,30.47983759017536,30.473100225544467,30.46411707270327,30.43267603775909,30.425938673128183,30.4124639438664,30.363056603239823,30.383268697132515,30.378777120711916,30.324878203664746,30.288945592299964,30.25750455735578,30.23280088704249,30.223817734201297,30.178901969995323,30.39000606176341,30.43716761417968,30.358565026819228,30.25525876914548,30.347336085767733,30.138477782209943,30.42818446133849,30.31814083903384,30.365302391450125,30.322632415454446,30.378777120711916,30.3989892146046,30.423692884917887,30.253012980935186,30.416955520287,30.47085443733417,30.416955520287,30.27771665124847,30.142969358630538,30.35182766218833,30.30915768619265,30.32936978008534,30.2148345813601,30.2350466752528,30.32936978008534,30.358565026819228,30.2350466752528,30.2125887931498,30.12949462936875,30.45288813165177,30.302420321561755,30.14746093505114,30.37653133250161,30.473100225544467,30.27322507482787,30.50229547227835,30.20809721672921,30.13174041757905,30.32712399187504,30.315895050823546,30.31364926261325,30.221571945991,30.223817734201297,30.504541260488647,30.47085443733417,30.36081081502953,30.324878203664746,30.2170803695704,30.416955520287,30.226063522411604,30.31814083903384,30.19462248746741,30.16767302894383,30.45064234344148,30.358565026819228,30.461871284492968,30.31814083903384,30.17216460536443,30.35182766218833,30.407972367445804,30.315895050823546,30.295682956930857,30.430430249548788,30.2350466752528,30.20809721672921,30.20809721672921,30.33835293292654,30.405726579235505,30.320386627244144,30.430430249548788,30.244029828093986,30.48208337838566,30.32712399187504,30.497803895857757,30.20809721672921,30.35631923860893,30.354073450398623,30.322632415454446,30.32712399187504,30.259750345566086,30.2350466752528,30.205851428518912,30.253012980935186,30.29343716872056,30.45288813165177,30.14970672326144,30.513524413329844,30.333861356505945,30.27771665124847,30.39225184997371,30.24178403988369,30.455133919862075,30.455133919862075,30.239538251673387,30.26648771019697,30.42818446133849,30.27097928661757,30.35182766218833,30.29343716872056,30.378777120711916,30.363056603239823,30.25525876914548,30.20809721672921,30.416955520287,30.36081081502953,30.26648771019697,30.26199613377639,30.477591801965065,30.228309310621896,30.23280088704249,30.423692884917887,30.14521514684084,30.425938673128183,30.291191380510263,30.2125887931498,30.26873349840727,30.25525876914548,30.423692884917887,30.25750455735578,30.46860864912387,30.48657495480625,30.553948601115216,30.513524413329844,30.52026177796074,30.19013091104681,30.50229547227835,30.495558107647447,30.48882074301656,30.495558107647447,30.491066531226853,30.48208337838566,30.47983759017536,30.48208337838566,30.48208337838566,30.58988121248,30.477591801965065,30.473100225544467,30.461871284492968,30.45962549628268,30.44839655523117,30.45064234344148,30.441659190600287,30.43267603775909,30.434921825969383,30.425938673128183,30.405726579235505,30.4124639438664,30.4102181556561,30.407972367445804,30.3989892146046,30.405726579235505,30.405726579235505,30.4034807910252,30.39225184997371,30.394497638184003,30.387760273553116,30.383268697132515,30.385514485342807,30.374285544291315,30.363056603239823,30.38102290892221,30.304666109772054,30.304666109772054,30.226063522411604,30.221571945991,30.26648771019697,30.2350466752528,30.20809721672921,30.19686827567771,30.178901969995323,30.16542724073353,30.48208337838566,30.226063522411604,30.35182766218833,30.347336085767733,30.363056603239823,30.441659190600287,30.320386627244144,30.35631923860893,30.324878203664746,30.416955520287,30.140723570420235,30.16767302894383,30.140723570420235,30.421447096707592,30.246275616304285,30.275470863038173,30.32712399187504,30.414709732076695,30.378777120711916,30.2170803695704,30.331615568295646,30.32712399187504,30.322632415454446,30.28669980408967,30.434921825969383,30.34509029755743,30.29343716872056,30.423692884917887,30.239538251673387,30.300174533351456,30.28669980408967,30.363056603239823,30.25525876914548,30.228309310621896,30.2305550988322,30.513524413329844,30.27996243945877,30.12275726473785,30.210343004939503,30.25525876914548,30.513524413329844,30.513524413329844,30.504541260488647,30.47085443733417,30.439413402389984,30.434921825969383,30.434921825969383,30.25525876914548,30.4124639438664,30.4034807910252,30.39225184997371,30.385514485342807,30.363056603239823,30.31814083903384,30.275470863038173,30.18339354641592,30.178901969995323,30.2148345813601,30.223817734201297,30.477591801965065,30.421447096707592,30.461871284492968,30.45064234344148,30.246275616304285,30.20809721672921,30.25525876914548,30.43267603775909,30.19013091104681,30.2148345813601,30.28445401587937,30.19013091104681,30.23729246346309,30.178901969995323,30.181147758205626,30.244029828093986,30.43267603775909,30.26199613377639,30.239538251673387,30.248521404514584,30.27322507482787,30.4012350028149,30.42818446133849,30.475346013754763,30.275470863038173,30.27771665124847,30.430430249548788,30.4012350028149,30.264241921986677,30.09580780621427,30.466362860913573,30.396743426394305,30.358565026819228,30.48657495480625,30.253012980935186,30.31364926261325,30.4102181556561,30.288945592299964,30.223817734201297,30.250767192724886,30.250767192724886,30.407972367445804,30.264241921986677,30.378777120711916,30.47085443733417,30.322632415454446,30.443904978810583,30.4034807910252,30.320386627244144,30.27097928661757,30.39225184997371,30.365302391450125,30.246275616304285,30.36979396787072,30.383268697132515,30.461871284492968,30.244029828093986,30.439413402389984,30.26873349840727,30.264241921986677,30.33835293292654,30.493312319437155,30.52250756617104,30.50004968406805,30.495558107647447,30.493312319437155,30.48657495480625,30.48657495480625,30.477591801965065,30.491066531226853,30.443904978810583,30.45962549628268,30.43716761417968,30.434921825969383,30.416955520287,30.405726579235505,30.383268697132515,30.37203975608101,30.36979396787072,30.36979396787072,30.35182766218833,30.347336085767733,30.347336085767733,30.354073450398623,30.340598721136843,30.324878203664746,30.32936978008534,30.322632415454446,30.322632415454446,30.315895050823546,30.306911897982356,30.27996243945877,30.2125887931498,30.2148345813601,30.48882074301656,30.27097928661757,30.394497638184003,30.244029828093986,30.374285544291315,30.24178403988369,30.250767192724886,30.475346013754763,30.31814083903384,30.4034807910252,30.24178403988369,30.491066531226853,30.48208337838566,30.31364926261325,30.32712399187504,30.461871284492968,30.2350466752528,30.136231993999644,30.28669980408967,30.43267603775909,30.210343004939503,30.475346013754763,30.29343716872056,30.31814083903384,30.324878203664746,30.221571945991,30.250767192724886,30.473100225544467,30.423692884917887,30.36081081502953,30.38102290892221,30.210343004939503,30.210343004939503,30.495558107647447,30.221571945991,30.497803895857757,30.513524413329844,30.46411707270327,30.45288813165177,30.45288813165177,30.419201308497296,30.416955520287,30.2350466752528,30.342844509347128,30.342844509347128,30.259750345566086,30.302420321561755,30.24178403988369,30.15195251147173,30.407972367445804,30.419201308497296,30.288945592299964,30.551702812904924,30.14970672326144,30.47085443733417,30.358565026819228,30.31814083903384,30.407972367445804,30.47983759017536,30.374285544291315,30.50004968406805,30.443904978810583,30.23280088704249,30.31814083903384,30.387760273553116,30.2125887931498,30.55844017753581,30.2350466752528,30.425938673128183,30.26648771019697,30.39225184997371,30.14521514684084,30.34509029755743,30.31364926261325,30.306911897982356,30.2350466752528,30.306911897982356,30.13174041757905,30.37653133250161,30.35631923860893,30.43716761417968,30.140723570420235,30.275470863038173,30.28669980408967,30.324878203664746,30.315895050823546,30.27771665124847,30.425938673128183,30.275470863038173,30.36979396787072,30.383268697132515,30.221571945991,30.54047387185343,30.509032836909245,30.495558107647447,30.48208337838566,30.48208337838566,30.47983759017536,30.47085443733417,30.43267603775909,30.47085443733417,30.43716761417968,30.434921825969383,30.43267603775909,30.42818446133849,30.430430249548788,30.347336085767733,30.414709732076695,30.4124639438664,30.4012350028149,30.405726579235505,30.4124639438664,30.396743426394305,30.394497638184003,30.39225184997371,30.35182766218833,30.331615568295646,30.331615568295646,30.32936978008534,30.322632415454446,30.324878203664746,30.31364926261325,30.315895050823546,30.31364926261325,30.26873349840727,30.320386627244144,30.295682956930857,30.291191380510263,30.28445401587937,30.259750345566086,30.25525876914548,30.24178403988369,30.51801598975044,30.51801598975044,30.396743426394305,30.434921825969383,30.26199613377639,30.394497638184003,30.365302391450125,30.4124639438664,30.29792874514116,30.414709732076695,30.205851428518912,30.354073450398623,30.430430249548788,30.36081081502953,30.38102290892221,30.291191380510263,30.475346013754763,30.33610714471624,30.3989892146046,30.27996243945877,30.421447096707592,30.55844017753581,30.259750345566086,30.34509029755743,30.347336085767733,30.158689876102628,30.423692884917887,30.181147758205626,30.27097928661757,30.18339354641592,30.28669980408967,30.48657495480625,30.36979396787072,30.39225184997371,30.423692884917887,30.2148345813601,30.20360564030861,30.27771665124847,30.37653133250161,30.340598721136843,30.19462248746741,30.181147758205626,30.378777120711916,30.26873349840727,30.387760273553116,30.416955520287,30.248521404514584,30.47983759017536,30.26199613377639,30.42818446133849,30.315895050823546,30.275470863038173,30.43267603775909,30.306911897982356,30.4102181556561,30.4034807910252,30.35182766218833,30.365302391450125,30.378777120711916,30.36081081502953,30.4124639438664,30.365302391450125,30.466362860913573,30.56742333037701,30.52699914259164,30.51801598975044,30.515770201540143,30.513524413329844,30.495558107647447,30.48657495480625,30.48432916659596,30.48432916659596,30.477591801965065,30.47085443733417,30.475346013754763,30.466362860913573,30.44615076702088,30.455133919862075,30.43267603775909,30.434921825969383,30.423692884917887,30.423692884917887,30.421447096707592,30.419201308497296,30.4124639438664,30.405726579235505,30.3989892146046,30.396743426394305,30.383268697132515,30.340598721136843,30.324878203664746,30.315895050823546,30.31364926261325,30.315895050823546,30.306911897982356,30.306911897982356,30.25525876914548,30.221571945991,30.19013091104681,30.13398620578934,30.322632415454446,30.27097928661757,30.253012980935186,30.405726579235505,30.185639334626217,30.253012980935186,30.324878203664746,30.20360564030861,30.425938673128183,30.250767192724886,30.35182766218833,30.461871284492968,30.223817734201297,30.2193261577807,30.28669980408967,30.253012980935186,30.27097928661757,30.455133919862075,30.48882074301656,30.288945592299964,30.259750345566086,30.394497638184003,30.253012980935186,30.26873349840727,30.416955520287,30.36979396787072,30.374285544291315,30.25750455735578,30.4102181556561,30.2170803695704,30.120511476527557,30.320386627244144,30.288945592299964,30.248521404514584,30.138477782209943,30.288945592299964,30.50229547227835,30.174410393574725,30.383268697132515,30.4012350028149,30.27097928661757,30.44839655523117,30.430430249548788,30.511278625119548,30.497803895857757,30.50004968406805,30.48657495480625,30.47983759017536,30.475346013754763,30.48657495480625,30.46860864912387,30.461871284492968,30.45737970807237,30.43267603775909,30.407972367445804,30.405726579235505,30.383268697132515,30.342844509347128,30.33835293292654,30.32936978008534,30.32712399187504,30.32936978008534,30.31364926261325,30.27771665124847,30.29343716872056,30.26873349840727,30.264241921986677,30.226063522411604,30.2125887931498,30.16542724073353,30.441659190600287,30.30915768619265,30.44615076702088,30.493312319437155,30.210343004939503,30.37653133250161,30.2148345813601,30.405726579235505,30.2125887931498,30.45737970807237,30.302420321561755,30.322632415454446,30.302420321561755,30.407972367445804,30.23729246346309,30.2125887931498,30.414709732076695,30.4034807910252,30.33835293292654,30.48432916659596,30.44839655523117,30.324878203664746,30.50229547227835,30.48657495480625,30.48882074301656,30.443904978810583,30.365302391450125,30.407972367445804,30.363056603239823,30.385514485342807,30.378777120711916,30.367548179660425,30.295682956930857,30.421447096707592,30.244029828093986,30.515770201540143,30.4124639438664,30.421447096707592,30.3989892146046,30.48882074301656,30.324878203664746,30.201359852098307,30.282208227669077,30.45288813165177,30.383268697132515,30.47085443733417,30.4034807910252,30.31814083903384,30.55844017753581,30.515770201540143,30.425938673128183,30.39000606176341,30.385514485342807,30.349581873978032,30.302420321561755,30.181147758205626,30.2350466752528,30.23280088704249,30.473100225544467,30.24178403988369,30.31814083903384,30.26199613377639,30.31140347440295,30.26873349840727,30.39225184997371,30.259750345566086,30.302420321561755,30.33835293292654,30.20809721672921,30.47983759017536,30.340598721136843,30.107036747265763,30.48208337838566,30.439413402389984,30.421447096707592,30.42818446133849,30.4102181556561,30.246275616304285,30.37653133250161,30.315895050823546,30.275470863038173,30.210343004939503,30.396743426394305,30.513524413329844,30.461871284492968,30.425938673128183,30.26873349840727,30.244029828093986,30.302420321561755,30.27097928661757,30.2170803695704,30.29792874514116,30.27996243945877,30.44839655523117,30.365302391450125,30.421447096707592,30.45064234344148,30.46860864912387,30.36081081502953,30.20360564030861,30.378777120711916,30.414709732076695,30.205851428518912,30.34509029755743,30.43267603775909,30.365302391450125,30.4012350028149,30.28669980408967,30.47983759017536,30.387760273553116,30.2148345813601,30.515770201540143,30.35182766218833,30.52026177796074,30.513524413329844,30.48657495480625,30.46860864912387,30.461871284492968,30.4012350028149,30.44615076702088,30.385514485342807,30.416955520287,30.416955520287,30.331615568295646,30.4102181556561,30.4012350028149,30.396743426394305,30.3989892146046,30.387760273553116,30.358565026819228,30.340598721136843,30.363056603239823,30.324878203664746,30.31814083903384,30.306911897982356,30.29792874514116,30.27322507482787,30.264241921986677,30.18339354641592,30.15195251147173,30.282208227669077,30.250767192724886,30.320386627244144,30.383268697132515,30.226063522411604,30.2305550988322,30.205851428518912,30.246275616304285,30.48208337838566,30.31140347440295,30.473100225544467,30.35631923860893,30.4124639438664,30.421447096707592,30.374285544291315,30.497803895857757,30.493312319437155,30.48432916659596,30.461871284492968,30.46411707270327,30.441659190600287,30.430430249548788,30.42818446133849,30.396743426394305,30.416955520287,30.394497638184003,30.36979396787072,30.35182766218833,30.347336085767733,30.324878203664746,30.31140347440295,30.29343716872056,30.295682956930857,30.20360564030861,30.113774111896657,30.45288813165177,30.349581873978032,30.20809721672921,30.37653133250161,30.275470863038173,30.32712399187504,30.34509029755743,30.28445401587937,30.434921825969383,30.354073450398623,30.300174533351456,30.38102290892221,30.32936978008534,30.23280088704249,30.320386627244144,30.25525876914548,30.302420321561755,30.396743426394305,30.221571945991,30.509032836909245,30.387760273553116,30.42818446133849,30.42818446133849,30.16991881715413,30.387760273553116,30.506787048698943,30.47085443733417,30.46860864912387,30.44839655523117,30.443904978810583,30.4034807910252,30.39225184997371,30.394497638184003,30.363056603239823,30.322632415454446,30.320386627244144,30.31364926261325,30.288945592299964,30.26873349840727,30.18339354641592,30.16767302894383,30.33835293292654,30.176656181785024,30.42818446133849,30.250767192724886,30.264241921986677,30.42818446133849,30.378777120711916,30.31140347440295,30.28445401587937,30.264241921986677,30.30915768619265,30.239538251673387,30.2193261577807,30.19013091104681,30.547211236484326,30.515770201540143,30.491066531226853,30.455133919862075,30.425938673128183,30.35631923860893,30.29343716872056,30.120511476527557,30.120511476527557,30.43716761417968,30.291191380510263,30.226063522411604,30.47085443733417,30.32712399187504,30.288945592299964,30.322632415454446,30.434921825969383,30.16767302894383,30.477591801965065,30.37203975608101,30.37653133250161,30.324878203664746,30.28445401587937,30.250767192724886,30.19686827567771,30.2350466752528,30.26199613377639,30.46411707270327,30.33610714471624,30.425938673128183,30.259750345566086,30.282208227669077,30.33835293292654,30.31814083903384,30.300174533351456,30.37653133250161,30.30915768619265,30.27097928661757,30.405726579235505,30.181147758205626,30.358565026819228,30.36081081502953,30.250767192724886,30.228309310621896,30.44615076702088,30.56068596574612,30.50004968406805,30.493312319437155,30.493312319437155,30.466362860913573,30.45962549628268,30.46411707270327,30.455133919862075,30.42818446133849,30.421447096707592,30.421447096707592,30.4034807910252,30.4034807910252,30.396743426394305,30.39000606176341,30.365302391450125,30.363056603239823,30.363056603239823,30.358565026819228,30.333861356505945,30.322632415454446,30.28669980408967,30.27097928661757,30.26873349840727,30.25525876914548,30.14970672326144,30.158689876102628,30.51801598975044,30.43716761417968,30.25525876914548,30.223817734201297,30.45737970807237,30.201359852098307,30.333861356505945,30.340598721136843,30.331615568295646,30.246275616304285,30.354073450398623,30.19686827567771,30.513524413329844,30.50004968406805,30.47983759017536,30.473100225544467,30.46411707270327,30.44839655523117,30.43716761417968,30.423692884917887,30.27097928661757,30.347336085767733,30.275470863038173,30.20360564030861,30.201359852098307,30.358565026819228,30.374285544291315,30.39000606176341,30.439413402389984,30.322632415454446,30.264241921986677,30.46411707270327,30.2148345813601,30.304666109772054,30.176656181785024,30.23729246346309,30.515770201540143,30.387760273553116,30.378777120711916,30.302420321561755,30.29343716872056,30.374285544291315,30.142969358630538,30.43716761417968,30.31814083903384,30.50229547227835,30.493312319437155,30.09356201800397,30.419201308497296,30.358565026819228,30.48882074301656,30.504541260488647,30.416955520287,30.304666109772054,30.28669980408967,30.210343004939503,30.19462248746741,30.32936978008534,30.383268697132515,30.39225184997371,30.385514485342807,30.158689876102628,30.48882074301656,30.26199613377639,30.23280088704249,30.19462248746741,30.46411707270327,30.259750345566086,30.178901969995323,30.253012980935186,30.107036747265763,30.45962549628268,30.2170803695704,30.48432916659596,30.46860864912387,30.383268697132515,30.4102181556561,30.4124639438664,30.491066531226853,30.18788512283652,30.513524413329844,30.50004968406805,30.48432916659596,30.44839655523117,30.430430249548788,30.42818446133849,30.4034807910252,30.4034807910252,30.324878203664746,30.29792874514116,30.300174533351456,30.387760273553116,30.2193261577807,30.248521404514584,30.2148345813601,30.33610714471624,30.46411707270327,30.42818446133849,30.44839655523117,30.27771665124847,30.378777120711916,30.37653133250161,30.48432916659596,30.423692884917887,30.4102181556561,30.383268697132515,30.374285544291315,30.347336085767733,30.300174533351456,30.2350466752528,30.2305550988322,30.28445401587937,30.46411707270327,30.439413402389984,30.387760273553116,30.282208227669077,30.55619438932552,30.275470863038173,30.19911406388801,30.091316229793676,30.27322507482787,30.09580780621427,30.515770201540143,30.47085443733417,30.291191380510263,30.226063522411604,30.226063522411604,30.32712399187504,30.253012980935186,30.35631923860893,30.34509029755743,30.2193261577807,30.17216460536443,30.43716761417968,30.48882074301656,30.46411707270327,30.26873349840727,30.210343004939503,30.15644408789233,30.36979396787072,30.378777120711916,30.35631923860893,30.387760273553116,30.4102181556561,30.27996243945877,30.29792874514116,30.430430249548788,30.24178403988369,30.264241921986677,30.2305550988322,30.455133919862075,30.27771665124847,30.2125887931498,30.387760273553116,30.228309310621896,30.477591801965065,30.28669980408967,30.27322507482787,30.365302391450125,30.264241921986677,30.28445401587937,30.295682956930857,30.205851428518912,30.239538251673387,30.509032836909245,30.493312319437155,30.42818446133849,30.423692884917887,30.4102181556561,30.27771665124847,30.288945592299964,30.19911406388801,30.176656181785024,30.113774111896657,30.419201308497296,30.347336085767733,30.37203975608101,30.31140347440295,30.248521404514584,30.405726579235505,30.306911897982356,30.2350466752528,30.205851428518912,30.549457024694625,30.363056603239823,30.248521404514584,30.178901969995323,30.253012980935186,30.430430249548788,30.31364926261325,30.363056603239823,30.27097928661757,30.27322507482787,30.405726579235505,30.223817734201297,30.295682956930857,30.434921825969383,30.2193261577807,30.421447096707592,30.43267603775909,30.542719660063728,30.477591801965065,30.44839655523117,30.37653133250161,30.416955520287,30.39000606176341,30.31364926261325,30.29343716872056,30.275470863038173,30.13174041757905,30.2148345813601,30.50004968406805,30.495558107647447,30.48208337838566,30.35182766218833,30.477591801965065,30.363056603239823,30.19237669925711,30.322632415454446,30.306911897982356,30.228309310621896,30.14521514684084,30.288945592299964,30.246275616304285,30.259750345566086,30.26199613377639,30.19237669925711,30.178901969995323,30.37653133250161,30.423692884917887,30.176656181785024,30.340598721136843,30.441659190600287,30.491066531226853,30.53373650722253,30.511278625119548,30.425938673128183,30.53822808364313,30.38102290892221,30.36979396787072,30.35631923860893,30.367548179660425,30.31814083903384,30.31140347440295,30.31364926261325,30.26199613377639,30.25525876914548,30.244029828093986,30.2125887931498,30.210343004939503,30.104790959055453,30.32712399187504,30.201359852098307,30.12949462936875,30.423692884917887,30.26873349840727,30.127248841158448,30.288945592299964,30.32712399187504,30.347336085767733,30.25750455735578,30.2148345813601,30.4034807910252,30.32936978008534,30.367548179660425,30.53373650722253,30.52026177796074,30.506787048698943,30.48882074301656,30.475346013754763,30.434921825969383,30.44615076702088,30.416955520287,30.4102181556561,30.385514485342807,30.383268697132515,30.378777120711916,30.27322507482787,30.250767192724886,30.461871284492968,30.39225184997371,30.320386627244144,30.2170803695704,30.100299382634866,30.396743426394305,30.181147758205626,30.27771665124847,30.43716761417968,30.365302391450125,30.4102181556561,30.367548179660425,30.51801598975044,30.45962549628268,30.419201308497296,30.39000606176341,30.33835293292654,30.31364926261325,30.2193261577807,30.43267603775909,30.221571945991,30.358565026819228,30.221571945991,30.250767192724886,30.34509029755743,30.223817734201297,30.4034807910252,30.33610714471624,30.14746093505114,30.342844509347128,30.275470863038173,30.31814083903384,30.2148345813601,30.441659190600287,30.562931753956413,30.387760273553116,30.15195251147173,30.45064234344148,30.52250756617104,30.475346013754763,30.423692884917887,30.45737970807237,30.4102181556561,30.423692884917887,30.39000606176341,30.4034807910252,30.20809721672921,30.549457024694625,30.354073450398623,30.33610714471624,30.15419829968204,30.3989892146046,30.383268697132515,30.383268697132515,30.27322507482787,30.27771665124847,30.367548179660425,30.36081081502953,30.504541260488647,30.439413402389984,30.4034807910252,30.4034807910252,30.36979396787072,30.35631923860893,30.29792874514116,30.419201308497296,30.295682956930857,30.259750345566086,30.32936978008534,30.29343716872056,30.31814083903384,30.31140347440295,30.46411707270327,30.42818446133849,30.107036747265763,30.244029828093986,30.513524413329844,30.47085443733417,30.44839655523117,30.374285544291315,30.385514485342807,30.45288813165177,30.39000606176341,30.2170803695704,30.414709732076695,30.2148345813601,30.102545170845165,30.282208227669077,30.48882074301656,30.56966911858732,30.201359852098307,30.53822808364313,30.50229547227835,30.43716761417968,30.3989892146046,30.363056603239823,30.347336085767733,30.2148345813601,30.315895050823546,30.43267603775909,30.295682956930857,30.26648771019697,30.228309310621896,30.259750345566086,30.45737970807237,30.29343716872056,30.383268697132515,30.430430249548788,30.493312319437155,30.43267603775909,30.44839655523117,30.421447096707592,30.174410393574725,30.497803895857757,30.34509029755743,30.30915768619265,30.29792874514116,30.365302391450125,30.374285544291315,30.244029828093986,30.509032836909245,30.506787048698943,30.48208337838566,30.46860864912387,30.45288813165177,30.4012350028149,30.39225184997371,30.23729246346309,30.405726579235505,30.288945592299964,30.439413402389984,30.48882074301656,30.52250756617104,30.44839655523117,30.407972367445804,30.26873349840727,30.259750345566086,30.34509029755743,30.259750345566086,30.491066531226853,30.333861356505945,30.506787048698943,30.493312319437155,30.419201308497296,30.4012350028149,30.33610714471624,30.26648771019697,30.264241921986677,30.416955520287,30.378777120711916,30.32936978008534,30.48432916659596,30.23729246346309,30.300174533351456,30.45064234344148,30.416955520287,30.396743426394305,30.39000606176341,30.29792874514116,30.28445401587937,30.441659190600287,30.367548179660425,30.275470863038173,30.324878203664746,30.407972367445804,30.358565026819228,30.443904978810583,30.25750455735578,30.443904978810583,30.43716761417968,30.264241921986677,30.52699914259164,30.47983759017536,30.47983759017536,30.342844509347128,30.322632415454446,30.127248841158448,30.48882074301656,30.36979396787072,30.36979396787072,30.322632415454446,30.354073450398623,30.455133919862075,30.340598721136843,30.419201308497296,30.39000606176341,30.38102290892221,30.37203975608101,30.324878203664746,30.50229547227835,30.2193261577807,30.324878203664746,30.475346013754763,30.378777120711916,30.349581873978032,30.275470863038173,30.491066531226853,30.349581873978032,30.244029828093986,30.16991881715413,30.16767302894383,30.43267603775909,30.275470863038173,30.28445401587937,30.425938673128183,30.32936978008534,30.39225184997371,30.304666109772054,30.439413402389984,30.322632415454446,30.524753354381343,30.423692884917887,30.4102181556561,30.39225184997371,30.32712399187504,30.30915768619265,30.26873349840727,30.342844509347128,30.354073450398623,30.35631923860893,30.549457024694625,30.374285544291315,30.324878203664746,30.250767192724886,30.282208227669077,30.455133919862075,30.475346013754763,30.31140347440295,30.210343004939503,30.387760273553116,30.50004968406805,30.455133919862075,30.14970672326144,30.43716761417968,30.306911897982356,30.2148345813601,30.2125887931498,30.102545170845165,30.31814083903384,30.250767192724886,30.39000606176341,30.42818446133849,30.46860864912387,30.47085443733417,30.37203975608101,30.36081081502953,30.295682956930857,30.27097928661757,30.264241921986677,30.15195251147173,30.331615568295646,30.407972367445804,30.383268697132515,30.26648771019697,30.250767192724886,30.50004968406805,30.253012980935186,30.15419829968204,30.45737970807237,30.475346013754763,30.44839655523117,30.358565026819228,30.23729246346309,30.48432916659596,30.23729246346309,30.19686827567771,30.104790959055453,30.32936978008534,30.140723570420235,30.39225184997371,30.4102181556561,30.497803895857757,30.244029828093986,30.45064234344148,30.295682956930857,30.19686827567771,30.365302391450125,30.45064234344148,30.23729246346309,30.253012980935186,30.288945592299964,30.163181452523236,30.419201308497296,30.226063522411604,30.324878203664746,30.36081081502953,30.407972367445804,30.46860864912387,30.46411707270327,30.4124639438664,30.383268697132515,30.24178403988369,30.43267603775909,30.19911406388801,30.42818446133849,30.414709732076695,30.43267603775909,30.19462248746741,30.4124639438664,30.365302391450125,30.23280088704249,30.43716761417968,30.45064234344148,30.441659190600287,30.434921825969383,30.374285544291315,30.52026177796074,30.416955520287,30.34509029755743,30.12949462936875,30.302420321561755,30.416955520287,30.342844509347128,30.259750345566086,30.42818446133849,30.513524413329844,30.506787048698943,30.48882074301656,30.45962549628268,30.44839655523117,30.439413402389984,30.349581873978032,30.291191380510263,30.27322507482787,30.2305550988322,30.56742333037701,30.52699914259164,30.46860864912387,30.315895050823546,30.25750455735578,30.28445401587937,30.354073450398623,30.524753354381343,30.394497638184003,30.34509029755743,30.48882074301656,30.423692884917887,30.414709732076695,30.473100225544467,30.2148345813601,30.367548179660425,30.26199613377639,30.26873349840727,30.18788512283652,30.221571945991,30.19686827567771,30.506787048698943,30.473100225544467,30.513524413329844,30.493312319437155,30.461871284492968,30.466362860913573,30.441659190600287,30.4102181556561,30.275470863038173,30.250767192724886,30.223817734201297,30.15419829968204,30.201359852098307,30.553948601115216,30.51801598975044,30.461871284492968,30.45737970807237,30.383268697132515,30.29792874514116,30.347336085767733,30.201359852098307,30.441659190600287,30.39000606176341,30.27322507482787,30.27322507482787,30.419201308497296,30.31814083903384,30.20809721672921,30.32712399187504,30.331615568295646,30.29343716872056,30.407972367445804,30.365302391450125,30.509032836909245,30.430430249548788,30.315895050823546,30.31140347440295,30.26199613377639,30.205851428518912,30.275470863038173,30.36979396787072,30.31140347440295,30.32936978008534,30.4012350028149,30.176656181785024,30.28445401587937,30.2193261577807,30.473100225544467,30.39225184997371,30.349581873978032,30.45064234344148,30.45064234344148,30.374285544291315,30.221571945991,30.27771665124847,30.27771665124847,30.176656181785024,30.13398620578934,30.42818446133849,30.27996243945877,30.340598721136843,30.259750345566086,30.50004968406805,30.320386627244144,30.504541260488647,30.414709732076695,30.26199613377639,30.475346013754763,30.264241921986677,30.473100225544467,30.37653133250161,30.3989892146046,30.473100225544467,30.47983759017536,30.51801598975044,30.3989892146046,30.45962549628268,30.509032836909245,30.50229547227835,30.44615076702088,30.347336085767733,30.223817734201297,30.25525876914548,30.443904978810583,30.136231993999644,30.349581873978032,30.14521514684084,30.295682956930857,30.45064234344148,30.28445401587937,30.26648771019697,30.423692884917887,30.36081081502953,30.50004968406805,30.419201308497296,30.394497638184003,30.320386627244144,30.466362860913573,30.28445401587937,30.443904978810583,30.27322507482787,30.2193261577807,30.20809721672921,30.14521514684084,30.3989892146046,30.443904978810583,30.2125887931498,30.304666109772054,30.320386627244144,30.407972367445804,30.300174533351456,30.455133919862075,30.20360564030861,30.23280088704249,30.394497638184003,30.275470863038173,30.4102181556561,30.264241921986677,30.52250756617104,30.491066531226853,30.48657495480625,30.33610714471624,30.27771665124847,30.275470863038173,30.48882074301656,30.44615076702088,30.405726579235505,30.29343716872056,30.44615076702088,30.333861356505945,30.142969358630538,30.44839655523117,30.42818446133849,30.43267603775909,30.37653133250161,30.34509029755743,30.315895050823546,30.315895050823546,30.26873349840727,30.228309310621896,30.473100225544467,30.513524413329844,30.439413402389984,30.425938673128183,30.27322507482787,30.31814083903384,30.31140347440295,30.419201308497296,30.416955520287,30.32936978008534,30.394497638184003,30.210343004939503,30.405726579235505,30.320386627244144,30.26648771019697,30.35631923860893,30.33610714471624,30.35631923860893,30.32712399187504,30.205851428518912,30.477591801965065,30.43267603775909,30.239538251673387,30.246275616304285,30.36081081502953,30.45288813165177,30.221571945991,30.48432916659596,30.46860864912387,30.347336085767733,30.31364926261325,30.300174533351456,30.2148345813601,30.461871284492968,30.430430249548788,30.396743426394305,30.347336085767733,30.36081081502953,30.304666109772054,30.28445401587937,30.19013091104681,30.423692884917887,30.19462248746741,30.363056603239823,30.48208337838566,30.434921825969383,30.385514485342807,30.226063522411604,30.45288813165177,30.300174533351456,30.405726579235505,30.56742333037701,30.2193261577807,30.4124639438664,30.37203975608101,30.455133919862075,30.27097928661757,30.25750455735578,30.120511476527557,30.347336085767733,30.475346013754763,30.226063522411604,30.461871284492968,30.405726579235505,30.3989892146046,30.387760273553116,30.282208227669077,30.08907044158337,30.423692884917887,30.248521404514584,30.24178403988369,30.504541260488647,30.39225184997371,30.45737970807237,30.495558107647447,30.32712399187504,30.374285544291315,30.250767192724886,30.248521404514584,30.30915768619265,30.52026177796074,30.48657495480625,30.28669980408967,30.340598721136843,30.39225184997371,30.295682956930857,30.27771665124847,30.223817734201297,30.291191380510263,30.55844017753581,30.421447096707592,30.46411707270327,30.342844509347128,30.43716761417968,30.387760273553116,30.407972367445804,30.138477782209943,30.31364926261325,30.396743426394305,30.38102290892221,30.2170803695704,30.387760273553116,30.31364926261325,30.320386627244144,30.27771665124847,30.378777120711916,30.291191380510263,30.396743426394305,30.32936978008534,30.475346013754763,30.44839655523117,30.423692884917887,30.31140347440295,30.419201308497296,30.223817734201297,30.259750345566086,30.31140347440295,30.264241921986677,30.47983759017536,30.16767302894383,30.259750345566086,30.31364926261325,30.423692884917887,30.248521404514584,30.4012350028149,30.25525876914548,30.425938673128183,30.39225184997371,30.405726579235505,30.473100225544467,30.42818446133849,30.414709732076695,30.35182766218833,30.34509029755743,30.33610714471624,30.304666109772054,30.239538251673387,30.2193261577807,30.39000606176341,30.228309310621896,30.30915768619265,30.331615568295646,30.282208227669077,30.423692884917887,30.47983759017536,30.43267603775909,30.34509029755743,30.347336085767733,30.383268697132515,30.14521514684084,30.43716761417968,30.25750455735578,30.26199613377639,30.331615568295646,30.4124639438664,30.331615568295646,30.205851428518912,30.228309310621896,30.19462248746741,30.50229547227835,30.43267603775909,30.349581873978032,30.26648771019697,30.37653133250161,30.223817734201297,30.367548179660425,30.3989892146046,30.253012980935186,30.53373650722253,30.48882074301656,30.430430249548788,30.423692884917887,30.26199613377639,30.46411707270327,30.295682956930857,30.2148345813601,30.513524413329844,30.354073450398623,30.4012350028149,30.385514485342807,30.304666109772054,30.378777120711916,30.363056603239823,30.2305550988322,30.26199613377639,30.475346013754763,30.248521404514584,30.24178403988369,30.31140347440295,30.163181452523236,30.425938673128183,30.340598721136843,30.45288813165177,30.405726579235505,30.46411707270327,30.320386627244144,30.419201308497296,30.51801598975044,30.46411707270327,30.367548179660425,30.324878203664746,30.347336085767733,30.46860864912387,30.37653133250161,30.2170803695704,30.358565026819228,30.26199613377639,30.264241921986677,30.37203975608101,30.43716761417968,30.506787048698943,30.473100225544467,30.46411707270327,30.430430249548788,30.35182766218833,30.31814083903384,30.322632415454446,30.29792874514116,30.340598721136843,30.4124639438664,30.113774111896657,30.201359852098307,30.34509029755743,30.50004968406805,30.477591801965065,30.434921825969383,30.48432916659596,30.513524413329844,30.36979396787072,30.331615568295646,30.264241921986677,30.37203975608101,30.565177542166715,30.434921825969383,30.4124639438664,30.56742333037701,30.2193261577807,30.491066531226853,30.13174041757905,30.13398620578934,30.52026177796074,30.163181452523236,30.27771665124847,30.291191380510263,30.347336085767733,30.205851428518912,30.349581873978032,30.275470863038173,30.250767192724886,30.27097928661757,30.45288813165177,30.23280088704249,30.324878203664746,30.493312319437155,30.42818446133849,30.4102181556561,30.178901969995323,30.511278625119548,30.396743426394305,30.302420321561755,30.45064234344148,30.2305550988322,30.358565026819228,30.47085443733417,30.264241921986677,30.405726579235505,30.44839655523117,30.4124639438664,30.4102181556561,30.333861356505945,30.45737970807237,30.24178403988369,30.421447096707592,30.47983759017536,30.322632415454446,30.223817734201297,30.455133919862075,30.45064234344148,30.248521404514584,30.205851428518912,30.104790959055453,30.44615076702088,30.181147758205626,30.25750455735578,30.43267603775909,30.2193261577807,30.127248841158448,30.515770201540143,30.302420321561755,30.37203975608101,30.331615568295646,30.223817734201297,30.26648771019697,30.44615076702088,30.387760273553116,30.27097928661757,30.15644408789233,30.405726579235505,30.38102290892221,30.2305550988322,30.300174533351456,30.495558107647447,30.461871284492968,30.4102181556561,30.367548179660425,30.32712399187504,30.349581873978032,30.31140347440295,30.23280088704249,30.394497638184003,30.275470863038173,30.291191380510263,30.302420321561755,30.497803895857757,30.421447096707592,30.347336085767733,30.475346013754763,30.461871284492968,30.443904978810583,30.407972367445804,30.223817734201297,30.2193261577807,30.461871284492968,30.44839655523117,30.250767192724886,30.4124639438664,30.18339354641592,30.295682956930857,30.2305550988322,30.239538251673387,30.16767302894383,30.288945592299964,30.466362860913573,30.46411707270327,30.210343004939503,30.300174533351456,30.302420321561755,30.275470863038173,30.421447096707592,30.27996243945877,30.19462248746741,30.367548179660425,30.363056603239823,30.2148345813601,30.430430249548788,30.342844509347128,30.455133919862075,30.32936978008534,30.396743426394305,30.504541260488647,30.48432916659596,30.2148345813601,30.27322507482787,30.477591801965065,30.34509029755743,30.43267603775909,30.34509029755743,30.315895050823546,30.47983759017536,30.407972367445804,30.363056603239823,30.43716761417968,30.25750455735578,30.288945592299964,30.43267603775909,30.387760273553116,30.27322507482787,30.20360564030861,30.31364926261325,30.302420321561755,30.27996243945877,30.45962549628268,30.52250756617104,30.35182766218833,30.47983759017536,30.304666109772054,30.27322507482787,30.365302391450125,30.322632415454446,30.13398620578934,30.228309310621896,30.228309310621896,30.2170803695704,30.12949462936875,30.365302391450125,30.20809721672921,30.27322507482787,30.430430249548788,30.4012350028149,30.51801598975044,30.37203975608101,30.358565026819228,30.2305550988322,30.25750455735578,30.416955520287,30.264241921986677,30.34509029755743,30.30915768619265,30.250767192724886,30.45064234344148,30.253012980935186,30.419201308497296,30.223817734201297,30.205851428518912,30.513524413329844,30.201359852098307,30.342844509347128,30.365302391450125,30.52250756617104,30.477591801965065,30.29792874514116,30.405726579235505,30.405726579235505,30.461871284492968,30.385514485342807,30.315895050823546,30.2193261577807,30.36081081502953,30.250767192724886,30.27322507482787,30.140723570420235,30.342844509347128,30.515770201540143,30.513524413329844,30.46860864912387,30.46860864912387,30.331615568295646,30.291191380510263,30.239538251673387,30.315895050823546,30.291191380510263,30.38102290892221,30.244029828093986,30.47085443733417,30.504541260488647,30.34509029755743,30.52026177796074,30.421447096707592,30.36081081502953,30.302420321561755,30.322632415454446,30.340598721136843,30.14970672326144,30.441659190600287,30.33610714471624,30.226063522411604,30.473100225544467,30.35631923860893,30.27322507482787,30.340598721136843,30.33835293292654,30.300174533351456,30.4102181556561,30.4012350028149,30.385514485342807,30.385514485342807,30.275470863038173,30.248521404514584,30.250767192724886,30.4034807910252,30.315895050823546,30.495558107647447,30.347336085767733,30.20360564030861,30.12275726473785,30.246275616304285,30.250767192724886,30.2148345813601,30.13174041757905,30.43716761417968,30.37203975608101,30.47983759017536,30.45064234344148,30.26873349840727,30.37653133250161,30.26873349840727,30.26648771019697,30.322632415454446,30.320386627244144,30.2305550988322,30.36081081502953,30.239538251673387,30.26873349840727,30.48657495480625,30.515770201540143,30.45288813165177,30.387760273553116,30.39000606176341,30.3989892146046,30.091316229793676,30.4102181556561,30.35631923860893,30.383268697132515,30.52699914259164,30.54047387185343,30.31814083903384,30.223817734201297,30.102545170845165,30.385514485342807,30.31140347440295,30.14521514684084,30.39000606176341,30.477591801965065,30.374285544291315,30.259750345566086,30.35631923860893,30.504541260488647,30.302420321561755,30.19686827567771,30.36081081502953,30.322632415454446,30.45962549628268,30.223817734201297,30.35182766218833,30.11152832368636,30.31364926261325,30.2148345813601,30.495558107647447,30.416955520287,30.26873349840727,30.291191380510263,30.2350466752528,30.259750345566086,30.497803895857757,30.374285544291315,30.19686827567771,30.48432916659596,30.250767192724886,30.47983759017536,30.347336085767733,30.27322507482787,30.43716761417968,30.367548179660425,30.31364926261325,30.28669980408967,30.491066531226853,30.306911897982356,30.46860864912387,30.2350466752528,30.31140347440295,30.37203975608101,30.2350466752528,30.291191380510263,30.324878203664746,30.27996243945877,30.282208227669077,30.419201308497296,30.509032836909245,30.315895050823546,30.27322507482787,30.45737970807237,30.421447096707592,30.44839655523117,30.322632415454446,30.491066531226853,30.378777120711916,30.374285544291315,30.46860864912387,30.38102290892221,30.416955520287,30.36979396787072,30.158689876102628,30.47085443733417,30.509032836909245,30.333861356505945,30.19462248746741,30.253012980935186,30.3989892146046,30.31140347440295,30.2148345813601,30.565177542166715,30.378777120711916,30.367548179660425,30.288945592299964,30.226063522411604,30.473100225544467,30.425938673128183,30.45737970807237,30.20809721672921,30.333861356505945,30.29792874514116,30.477591801965065,30.205851428518912,30.4034807910252,30.140723570420235,30.509032836909245,30.55619438932552,30.562931753956413,30.25750455735578,30.416955520287,30.27771665124847,30.506787048698943,30.358565026819228,30.363056603239823,30.246275616304285,30.221571945991,30.26648771019697,30.32936978008534,30.493312319437155,30.430430249548788,30.2170803695704,30.44839655523117,30.495558107647447,30.477591801965065,30.25750455735578,30.2170803695704,30.322632415454446,30.439413402389984,30.27771665124847,30.55844017753581,30.48432916659596,30.504541260488647,30.385514485342807,30.394497638184003,30.365302391450125,30.43716761417968,30.324878203664746,30.439413402389984,30.48432916659596,30.549457024694625,30.416955520287,30.244029828093986,30.27771665124847,30.497803895857757,30.383268697132515,30.20809721672921,30.34509029755743,30.51801598975044,30.365302391450125,30.248521404514584,30.23729246346309,30.15644408789233,30.15195251147173,30.45288813165177,30.302420321561755,30.358565026819228,30.48208337838566,30.434921825969383,30.48882074301656,30.300174533351456,30.367548179660425,30.4102181556561,30.414709732076695,30.2125887931498,30.419201308497296,30.31814083903384,30.28669980408967,30.47085443733417,30.16542724073353,30.31140347440295,30.495558107647447,30.26873349840727,30.4034807910252,30.43267603775909,30.30915768619265,30.31140347440295,30.421447096707592,30.333861356505945,30.52250756617104,30.45737970807237],\"marker\":{\"color\":\"#636efa\",\"size\":[63,44,30,13,8,80,123,15,106,66,62,20,101,11,15,67,2,124,30,68,44,83,80,41,329,3,93,16,43,84,79,14,58,73,8,31,45,38,37,17,8,81,31,30,29,13,33,59,11,69,24,15,34,53,5,30,15,7,31,7,47,81,109,24,8,118,123,4,27,12,0,126,28,144,24,11,2,36,7,8,46,41,35,42,23,75,6,3,52,14,72,26,0,48,1,1,122,179,5,190,80,9,19,121,12,5,38,44,15,4,12,51,25,12,76,475,71,21,2,54,17,40,72,59,30,14,106,62,86,37,67,30,39,42,26,60,1138,98,31,32,11,77,53,14,7,24,6,5,62,5,7,11,1,5,432,25,77,22,60,22,19,6,5,11,12,23,1741,51,9,21,22,25,124,313,4,108,52,56,358,94,217,80,18,21,35,19,24,4,107,34,4,322,61,279,6,108,71,48,21,63,95,11,6,58,37,35,26,20,22,23,33,34,60,16,28,33,180,18,39,34,141,17,13,101,81,41,36,23,157,104,15,36,69,248,51,484,47,54,39,28,19,68,16,9,468,34,3,2,26,91,12,43,114,4,10,48,65,23,72,177,46,152,86,108,8,0,45,45,41,55,85,30,32,13,52,22,26,18,69,184,5,88,54,121,376,9,14,127,42,11,8072,61,62,16,355,88,64,173,24,7,6,40,18,165,6,669,19,24,16,18,14,16,48,10,44,120,24,26,21,1,34,183,259,4,15,37,9,42,218,53,106,37,23,22,10,80,8,130,28,51,15,80,10,23,52,5,39,36,159,75,108,24,26,16,27,79,16,7,18,97,106,530,25,23,22,960,22,15,41,33,25,46,49,48,77,2,76,66,471,90,80,100,28,141,5,3,68,116,16,10,52,4,29,121,122,6,35,43,37,124,7,11,173,97,396,138,4,55,55,48,30,9,12,111,141,52,36,78,27,8,60,26,75,112,79,889,38,139,5,17,68,40,35,39,17,6,8,6,10,56,23,13,180,78,48,114,30,4,83,17,51,2,57,9,44,37,20,139,118,13,20,69,9,25,18,31,74,14,94,35,41,16,176,403,32,51,14,15,52,105,3,1251,162,17,14,98,17,36,30,187,144,177,27,290,28,8,7,52,18,36,25,42,1,17,9,6,10,3,3,32,70,33,18,1109,1,308,95,7,11,51,57,47,25,88,28,12,168,111,306,88,9,178,30,7,9,110,40,5,44,46,72,24,118,81,82,21,19,223,44,50,60,18,19,213,58,67,10,16,19,51,23,170,14,262,43,96,39,66,7,20,26,73,7,19,1,166,80,83,11,1886,197,12,25,202,15,12,38,16,25,36,9,22,24,14,32,29,144,105,4,90,53,117,8,107,20,12,93,9,43,30,123,11,50,19,37,25,33,54,7,9,23,95,10,21,63,139,6,42,8,24,64,114,1002,43,42,79,22,58,12,253,54,81,9,96,30,50,74,24,44,18,160,117,122,20,8,1,1,32,27,9,15,15,27,22,15,26,19,34,15,139,26,98,43,89,13,69,2,1167,79,67,29,9,16,18,29,81,4,36,16,41,122,6,30,52,38,41,20,9,5,47,15,557,44,207,65,18,61,57,94,73,27,192,21,7,16,175,15,80,53,36,12,63,14,33,22,940,20,22,251,8,3,19,17,12,158,155,5,31,29,5,5,32,93,55,24,34,17,1,10,332,53,127,11,122,47,13,25,38,45,6,24,55,7,57,150,17,12,105,139,49,25,20,68,9,80,16,342,177,596,3,37,6,39,75,55,13,63,54,59,62,95,11,5,16,104,11,77,101,82,47,38,8,52,182,32,56,32,17,15,51,75,35,131,225,2427,70,17,137,163,71,12,21,64,3,22,8,13,11,68,12,7,47,65,15,8,11,20,64,10,58,15,24,22,52,30,27,10,5,79,46,31,64,20,17,33,14,12,0,17,126,25,0,9,34,6,20,55,45,86,55,19,104,30,7,82,61,49,59,20,42,25,17,11,20,37,70,112,44,80,2442,32,15,14,4,5,38,316,88,78,3,31,31,5,15,0,15,25,11,31,4,25,55,31,111,2,103,9,2,113,16,4,21,14,29,15,39,34,13,79,33,21,11,15,117,37,8,1030,152,16,19,135,15,13,31,28,30,95,260,18,532,161,24,18,14,56,22,27,8,102,96,76,35,3741,1,200,70,4,34,63,16,5,12,96,9,170,12,23,23,16,54,36,23,28,27,392,61,10,18,14,116,144,3433,37,1,11,66,25,130,32,32,16,27,48,25,234,23,35,205,119,62,1,2,32,1,27,53,38,80,50,24,42,12,76,13,74,151,3,26,22,7,743,22,40,36,10,18,11,26,13,45,47,77,19,100,5,37,8,40,65,37,22,53,27,44,58,10,6,21,45,16,17,35,67,19,10,20,90,5,27,119,75,93,104,40,17,7,9,21,19,628,41,40,188,45,55,56,8,43,192,52,27,106,132,11,10,17,30,16,40,201,3,138,79,6,43,296,78,159,93,175,48,9,25,81,23,50,69,3398,20,17,24,38,127,92,132,198,11,20,240,37,12,52,4,14,43,30,16,21,27,7,52,27,54,40,37,19,6,179,6,22,63,13,28,43,9,57,53,14,122,32,9,16,21,43,9,38,35,73,66,1,93,88,8,18,31,43,18,20,31,21,17,44,20,2,11,27,151,19,11,81,9,37,95,51,2,121,31,9,13,33,93,43,27,139,40,35,16,99,192,0,42,25,21,66,57,1057,4,30,238,42,91,34,87,7,146,21,22,67,16,16,9,111,6,10,33,38,86,6,33,36,5,0,16,24,91,111,367,11,12,6,19,2,25,69,12,45,11,40,152,119,15,21,13,12,82,33,16,365,9,69,2,16,30,26,47,51,243,95,11,26,28,62,32,30,36,38,38,47,108,22,99,10,109,60,55,26,20,21,37,13,11,97,24,79,31,23,59,7,39,57,17,2,25,6,66,9,4,24,1,820,11,74,12,29,1,125,94,21,19,1019,12,42,10,22,35,16,76,20,81,69,116,59,11,5,2,51,17,3,2,19,22,53,29,85,57,23,148,35,306,107,8,23,39,61,136,22,10,70,22,6360,68,11,65,62,10,17,220,134,33,470,16,77,47,18,12,66,9,24,22,217,70,29,19,9,8,52,40,41,45,38,10,108,111,4,7,6,10,17,7,58,24,34,16,62,21,8,23,1024,60,24,3,52,83,5,60,8,9,38,21,13,30,14,6,47,3,32,28,25,12,96,116,60,6,50,196,5,268,12,15,72,118,45,46,51,5,13,1311,32,20,9,65,13,38,14,44,10,32,32,42,24,15,43,18,47,58,41,28,14,11,95,47,29,14,49,21,10,20,8,10,51,25,48,75,23,321,21,37,36,90,1182,13,957,10,639,10,27,14,24,18,14,18,28,126,16,21,20,19,58,51,5,2,34,30,11,11,47,127,35,260,15,5,37,38,25,32,16,8,16,131,4,1460,34,74,47,22,9,56,36,17,80,40,81,28,47,37,12,21,23,84,122,3,20,39,45,3,18,55,95,34,96,37,48,25,20,15,138,177,67,75,309,19,33,1,5,36,144,119,24,1,24,17,18,74,35,83,2,18,48,8,188,82,144,444,22,19,7,9,14,77,35,1,11,108,38,62,155,9,44,81,12,67,136,2,61,31,64,56,16,1,21,20,66,78,8,68,46,42,16,5,36,65,79,50,98,21,31,43,16,3,61,0,50,12,29,11,32,116,118,13,21,0,18,46,44,0,31,12,1,13,25,14,20,11,27,15,20,12,36,9,13,6,113,71,114,111,41,84,47,30,25,141,37,102,39,42,28,6,56,7,13,12,57,23,8,173,30,45,42,51,12,3,93,9,49,13,26,4,158,44,8,22,7,36,40,12,1,1664,14,12,82,45,291,25,55,458,186,11,19,35,101,4,18,2,38,85,24,62,7,0,29,30,33,742,65,313,17,44,94,641,14,30,42,122,23,40,3,79,38,4,23,24,9,72,37,9,21,134,60,56,61,4119,73,113,4,30,24,39,55,239,55,55,12,19,50,55,34,12,77,14,99,37,9,23,44,37,18,82,14,53,43,12,52,18,9,28,9,28,4,10,36,6,61,83,258,28,21,547,36,119,38,573,18,39,2,92,299,0,119,9,9,5,92,138,25,166,7,73,38,37,30,3,95,35,79,33,20,24,65,77,29,23,973,16,36,18,206,26,1238,7,20,13,75,41,22,51,55,20,21,11,7,56,42,34,11,31,115,10,142,72,34,12,134,20,25,3,34,79,28,11,35,24,15,51,82,34,31,742,14,12,36,21,52,24,8,37,1158,23,20,47,257,25,17,14,67,144,2,49,12,16,170,2,100,38,59,29,9,41,21,95,26,35,110,14,11,16,3,29,37,65,38,20,5,5,115,18,21,35,5,11,20,14,20,36,448,9,24,135,128,6,294,21,23,126,56,44,20,128,74,34,15,118,11,381,45,13,39,48,35,24,21,10,71,13,24,20,2,49,0,95,47,34,395,22,232,18,33,35,29,6,5,123,252,45,73,12,45,144,12,9,149,33,10,31,2,77,22,113,46,4,6,37,43,452,24,41,31,99,7,33,123,76,30,11,3,9,8,27,247,23,110,32,54,24,149,83,166,35,37,27,13,8,4,80,3,21,34,11,394,38,245,4,25,21,33,223,79,28,58,47,1294,21,77,23,144,27,80,38,33,15,48,905,14,41,2,5,8,34,12,48,27,12,24,10,12,7,11,41,66,63,36,122,247,34,20,64,24,44,33,22,111,66,12,25,29,19,15,97,2,24,9,21,38,516,9,24,13,18,30,622,24,22,26,28,26,683,526,25,1078,13,12,48,3,15,144,22,23,139,60,1,324,5,1137,29,17,37,57,23,13,135,31,467,10,6,20,145,70,12,76,41,371,180,50,111,16,62,54,48,19,5,41,94,97,38,2231,121,18,140,29,48,19,18,541,670,59,4,23,45,100,59,38,71,28,20,48,19,30,12,101,36,30,198,5,55,15,84,1238,26,15,18,94,159,15,94,7,7,141,27,165,62,67,58,584,96,36,4,14,204,337,62,22,80,3,270,14,86,111,101,66,112,17,98,91,20,25,52,75,113,12,92,80,707,26,52,29,37,63,47,23,20,73,29,16,77,88,51,325,30,48,55,607,19,17,117,61,81,46,12,29,383,23,13,50,323,44,28,34,31,16,7,236,78,25,18,61,42,8,114,11,113,64,37,85,57,35,45,59,41,72,5,6,22,89,2,36,100,44,241,106,41,11,17,12,117,88,58,28,35,31,276,132,68,32,42,300,24,20,220,26,49,30,276,25,36,354,47,30,45,13,144,164,33,22,51,46,51,25,15,75,157,567,41,64,13,338,0,23,70,21,14,21,34,60,13,18,13,27,51,15,146,21,26,31,42,318,22,282,53,27,46,45,34,25,130,22,32,53,91,38,16,76,17,42,135,17,13,9,25,101,1,15,13,78,24,50,21,44,22,113,18,51,49,73,4,3,40,676,36,26,33,24,92,15,34,60,27,10,54,32,17,16,20,631,127,16,14,153,4,93,81,43,49,31,25,53,22,159,19,21,144,38,151,17,0,68,395,1,43,54,49,115,29,44,49,20,317,69,15,33,165,276,49,85,67,74,19,25,66,40,51,61,45,3,7,35,14,11,35,42,55,41,10,95,53,48,39,56,22,24,43,31,1271,72,86,39,38,34,13,8,26,11,24,39,16,41,51,17,17,25,8,64,20,2,31,42,58,15,36,39,2,23,11,101,32,12,109,10,42,28,28,675,0,26,28,35,20,21,46,4869,137,17,1,246,487,69,33,29,17,29,185,24,30,19,24,11,68,325,24,31,64,22,29,34,63,349,29,45,273,63,25,14,13,8,77,595,75,224,154,23,15,19,40,448,47,115,117,39,26,39,78,57,95,6,52,22,30,73,96,21,24,924,59,29,31,187,38,276,21,54,48,75,530,108,74,13,31,43,40,19,21,783,197,19,61,99,14,36,125,14,56,16,22,46,15,15,57,30,11,44,101,171,64,71,25,22,54,53,54,55,10,16,23,7,29,22,933,123,26,455,11,20,104,30,18,35,10,69,20,191,9,88,27,16,234,9,6,57,40,49,23,10,31,92,35,3,52,20,65,381,123,422,22,21,32,67,23,36,19,56,517,1048,335,14,38,5,77,73,46,13,75,4343,35,46,42,44,32,64,47,95,26,17,96,54,36,25,86,47,13,5012,26,50,37,111,62,26,24,124,7,7,7,83,1047,50,60,43,11,563,31,27,24,85,397,53,3,1349,64,67,55,64,23,2,70,153,40,120,11,81,80,40,22,0,4,222,8,45,24,8,15,1,44,13,81,45,61,137,46,202,15,346,37,9,5,72,47,48,73,69,134,31,43,124,35,35,64,153,62,189,74,20,20,54,14,28,120,95,32,115,143,16,13,414,58,15,8,13,150,52,52,7,88,26,352,23,19,5,81,67,32,40,115,14,7,127,586,14,37,5,10,24,118,93,20,9,117,1215,90,5,56,154,80,75,21,5,64,33,27,21,39,50,15,365,37,67,73,456,61,0,163,456,0,0,60,36,0,0,14,8,3,101,33,31,31,51,37,20,0,752,113,107,7184,16,186,14,152,23,451,377,48,25,53,178,1081,13,17,29,16,348,24,2,31,24,546,15,17,24,176,402,39,105,27,29,36,9,38,103,1293,48,122,527,40,10,38,8,24,11,95,7,7,169,83,81,6,248,41,58,71,3,27,408,54,548,20,199,11,17,3,21,78,240,13,347,1950,104,14,6,716,123,38,188,30,138,148,118,29,7,0,47,0,71,15,47,76,46,18,11,4,48,24,109,181,50,76,47,5,632,32,58,42,21,68,42,57,87,4,304,14,136,26,42,18,44,30,74,58,61,14,4,65,58,55,23,28,2189,17,14,11,17,17,595,23,15,46,7,21,13,13,26,49,34,41,7,14,42,7,34,30,81,175,18,73,54,174,41,5,77,72,26,102,38,33,51,1432,11,25,9,11,11,30,126,46,1842,31,2,17,22,7,16,40,40,65,3,89,6,15,4,24,32,29,20,380,13,29,54,18,22,60,45,43,9,16,74,43,25,44,7,34,11,94,69,43,3,53,478,63,45,27,3,34,84,9,33,131,45,47,20,42,77,51,383,212,29,12,61,213,41,283,11,52,61,89,9,9,32,13,42,117,28,119,53,238,142,7,396,395,19,56,9,19,689,62,343,7,48,878,22,54,60,8,41,82,419,24,35,11,6,44,105,162,22,71,44,38,16,17,100,2,15,51,37,36,118,71,28,60,155,17,7,65,86,29,31,44,22,100,10,37,18,30,101,102,62,45,21,31,465,64,11,22,14,2,33,1,24,10,46,15,58,60,40,9,692,217,15,37,5,41,44,17,14,13,16,84,10,8,41,17,24,98,75,40,46,4,34,17,13,38,30,5,548,72,93,31,17,5,37,128,120,19,76,12,344,3,18,22,13,15,30,100,11,259,46,28,46,51,106,52,43,85,1347,24,27,129,13,225,36,19,334,133,47,26,24,11,29,38,36,44,51,21,16,7,226,15,77,24,93,155,13,44,65,29,84,18,355,22,112,35,35,7,115,117,9,86,3907,8,1358,331,67,37,107,23,4,1200,41,22,93,53,121,36,5,50,12,37,127,265,162,1321,8,3,109,5,25,75,41,34,39,14,22,13,17,38,60,39,823,3,8,20,110,34,20,3,24,11,27,11,161,36,34,266,30,28,3,48,45,8,19,22,48,83,279,11,175,7,123,23,47,23,11,13,14,26,67,48,11,43,58,139,10,15,38,13,14,240,14,11,36,23,32,39,4,33,88,41,11,20,51,6,16,40,55,207,17,52,13,556,20,20,32,17,56,23,9,39,15,15,23,10,9,39,11,138,80,27,53,21,9,2015,11,3,3,9,318,8,17,81,21,76,8,85,51,630,6,30,12,20,73,18,46,5,20,91,40,56,98,9,21,11,8,17,480,18,21,11,47,1231,16,17,2,3,40,945,13,34,27,50,37,177,17,12,71,36,6,12,25,13,57,48,74,30,108,35,8,18,46,26,13,10,18,23,84,24,138,41,2,96,24,13,29,18,10,3,103,50,221,6,27,26,13,5,21,14,102,10,10,33,9,58,17,27,9,35,401,15,95,68,23,13,6,103,36,11,26,18,4,15,44,7,12,34,48,32,54,128,6,15,113,1,33,6,10,11,7,23,93,22,29,67,139,11,85,5,8,48,67,6,13,13,350,14,17,29,43,27,18,0,21,48,26,68,61,10,653,14,17,2170,84,2,58,58,206,5,147,10,27,7,7,181,12,6,40,13,11,65,35,513,13,15,15,42,19,203,15,10,18,18,7,116,57,36,48,2,24,30,2,13,67,45,10,20,26,26,3,16,10,27,452,14,18,19,51,44,54,27,3,48,95,42,12,63,35,36,36,8,100,42,16,44,33,39,52,14,17,29,25,17,69,48,68,23,56,12,10,4,112,99,20,6,46,24,18,6,25,63,1,31,23,7,29,111,19,35,29,4,9,6,31,9,126,49,31,15,89,17,60,13,527,37,67,7,65,68,16,29,69,55,59,35,42,41,17,2,90,194,21,14,100,37,7,109,33,20,29,33,27,13,1,9,46,13,17,22,52,54,14,14,365,0,13,50,72,25,35,50,4,14,6,60,40,93,37,34,16,940,3,20,20,15,11,3,32,26,3,31,71,771,80,28,83,7,58,19,8,17,1,59,21,7,64,18,28,22,133,13,0,12,38,31,22,132,43,17,8,31,8,46,19,43,20,52,41,19,36,2,150,86,34,13,187,7,41,266,19,208,4,8,178,10,15,19,50,8,14,30,23,16,36,5,414,58,172,49,128,24,168,12,13,12,15,35,28,0,9,8,10,20,15,49,13,2816,24,12,566,98,102,19,11,186,13,58,5,11,11,59,28,122,75,67,22,108,12,73,30,773,14,121,5,103,24,19,1,62,88,18,49,31,3,14,28,24,348,2,35,84,18,31,45,23,20,202,9,16,103,27,11,35,39,28,6,19,4,27,53,33,16,22,3,11,54,33,124,25,68,4,64,46,29,12,42,27,54,51,40,423,49,18,3,8,2,22,11,25,25,86,87,187,75,44,81,16,24,116,8,9,138,121,0,17,42,24,48,120,66,25,38,95,7,9,191,66,29,31,109,3,50,1,38,24,70,19,18,44,21,35,54,22,44,94,12,16,223,19,2,40,89,27,38,32,44,472,282,109,11,50,34,43,29,0,5,63,3,41,279,29,15,29,62,14,16,69,23,17,7,55,39,59,26,26,4,39,6,71,40,17,7,26,186,86,7,1,99,74,22,28,4,10,18,37,15,73,108,62,12,0,70,9,14,11,3,22,15,95,1,0,48,23,28,41,1743,16,13,6,27,147,21,128,15,7,5,78,1143,10,5,60,22,33,7,142,134,22,9,24,87,12,9,411,4,3,4,13,4,83,19,70,11,62,54,15,27,21,28,30,153,17,18,12,36,11,58,13,5,23,105,1150,15,8,13,29,5,13,1246,307,13,92,93,404,7,222,40,4,11,122,63,149,827,169,20,22,721,5,11,118,39,38,76,13,19,40,139,34,29,66,41,18,9,34,18,44,5,25,284,38,40,120,26,23,82,1,28,12,21,47,35,24,106,22,77,702,45,12,423,24,28,32,50,57,2,5,81,38,107,6,2,91,19,18,8,11,15,323,26,2,114,0,47,59,57,38,0,8,30,25,11,46,120,53,90,47,26,68,1,6,60,14,45,17,3,10,58,19,24,28,68,10,5,28,7,38,21,87,14,25,91,95,19,95,3,129,45,24,31,54,4,250,31,1245,132,429,26,5617,7,581,14,166,20,14,12,264,8,36,276,26,50,122,53,70,23,81,29,68,44,17,5,43,3,4,63,15,14,0,15,40,48,7,79,107,19,39,118,9,72,13,9,15,80,27,35,69,46,39,31,26,332,205,26,88,25,32,8,25,84,52,54,75,280,122,33,4,38,23,167,39,61,42,16,16,16,9,46,32,35,106,37,30,14,20,67,42,672,5,8,14,66,49,22,66,36,43,144,14,32,125,15,11,28,8,42,38,1,19,118,22,79,27,13,24,102,1,31,44,10,40,64,55,31,62,22,29,12,31,18,53,25,21,44,35,35,34,20,10,31,19,12,513,95,16,31,51,9,25,14,19,41,6,23,41,103,3,3,15,71,8,11,8,6,21,27,21,41,14,10,27,13,72,21,46,29,10,64,50,135,19,8,18,426,56,34,17,9,38,50,9,38,55,58,20,4,17,22,79,2,5,28,43,48,64,44,26,65,135,76,124,97,6,49,59,42,47,38,47,29,26,21,101,51,11,38,44,10,63,28,84,97,86,31,15,63,23,9,50,81,5,45,14,15,40,5,14,61,49,153,82,23,67,139,62,22,33,24,8,26,34,56,37,55,279,137,30,5,71,30,63,57,17,35,19,24,107,36,16,310,36,13,43,9,28,223,84,27,43,27,345,29,16,29,136,12,61,25,27,30,2,17,19,28,30,14,29,13,5,4,79,60,14,23,21,36,37,13,225,15,6,34,38,14,20,53,27,48,28,9,30,14,9,132,4,12,59,20,8,9,14,25,61,96,1,35,44,6,44,11,9,9,35,13,1,24,21,37,6,73,33,35,24,16,7,23,3,20,15,37,98,12,1,119,8,10,30,157,84,15,63,39,55,87,13,59,461,3,108,164,72,128,39,15,8,19,102,4,97,64,36,8,7,12,32,79,20,27,29,2,20,9,81,34,23,11,35,46,14,7,8,7,29,29,15,15,42,47,101,13,21,74,106,63,96,136,4,24,190,49,17,81,19,24,625,77,88,17,4,31,11,129,70,32,50,126,20,4,12,30,77,19,62,128,5,27,96,68,20,63,93,8,62,37,55,44,215,14,2,473,34,15,20,94,92,21,61,20,3,12,62,23,16,144,14,47,7,5,40,57,278,12,13,56,94,27,3,24,10,15,7,16,93,6,168,248,46,20,10,15,12,150,34,5,2,39,68,4,160,23,70,30,3,73,2,18,54,127,10,14,12,288,244,62,5,5,11,92,13,17,243,12,128,253,201,66,3,42,19,14,8,16,12,20,724,23,14,15,90,23,34,137,29,13,12,25,23,17,10,8,77,71,266,218,7,19,49,18,15,11,36,9,42,157,129,24,21,49,30,32,3,14,4,70,8,24,7,8,14,45,16,278,21,20,11,15,33,35,63,18,11,32,46,53,294,24,24,19,0,0,10,78,19,28,43,35,47,7,0,96,29,5,191,28,35,81,5,13,46,20,6,19,23,19,22,109,1264,9,70,27,14,86,23,21,62,27,13,37,39,60,11,1,35,59,16,51,3,10,31,24,13,20,34,30,32,31,19,3,17,31,14,33,25,169,76,10,22,79,70,22,43,17,44,21,47,17,132,10,33,31,19,26,45,43,67,21,16,12,13,15,10,41,16,73,116,2,68,11,48,29,165,9,11,17,39,21,11,19,41,56,2,147,111,22,3,29,17,32,430,88,31,4,40,43,10,50,18,24,460,2,13,17,125,32,18,22,108,49,47,343,7,14,9,128,8,19,5,10,17,3,97,12,128,129,45,99,14,48,150,3,22,380,13,35,80,12,24,89,30,44,20,24,53,26,15,6,45,48,55,15,25,46,3,24,29,12,22,41,76,24,11,12,160,11,61,6,12,39,49,5,9,2,104,110,1,9,43,15,16,11,1623,41,14,50,374,2,12,17,60,5,15,11,46,4,2,83,5,21,5,35,5,32,25,72,6,68,44,19,7,22,8,21,77,22,52,5,10,70,21,15,39,9,46,3040,9,23,39,16,10,172,11,77,171,8,69,44,19,37,152,13,1,64,49,77,3,22,18,210,46,34,16,8,110,22,26,40,254,2,77,127,62,74,43,30,23,45,2,20,52,61,70,43,1810,83,14,42,20,1,17,122,28,7,58,25,64,31,12,60,66,67,9,8,40,49,46,41,10,12,29,31,21,19,5,29,14,15,74,17,188,15,10,13,157,64,77,33,118,4,30,191,99,9,82,67,26,30,17,40,90,99,41,44,12,5,170,34,23,27,44,33,8,63,33,14,0,18,6,29,526,8,0,21,3,53,90,12,87,28,24,17,98,8,71,33,60,78,160,74,4,60,2,114,1,37,35,24,4,37,47,8,43,80,12,16,71,32,5,469,151,80,7,20,39,24,14,23,111,10,26,61,21,41,48,38,118,7,36,20,67,79,226,13,12,13,12,22,15,44,48,4,28,12,35,54,282,10,23,40,5,30,2,106,316,26,26,22,39,5,64,19,463,32,69,56,0,40,24,25,2,5,286,24,30,67,61,118,70,13,34,13,587,895,50,12,102,84,22,7,10,41,27,23,11,31,28,80,55,27,10,93,225,57,23,12,14099,38,8,8,25,32,51,16,73,11,32,0,12,29,34,18,59,12,14,142,177,7,53,8,65,112,25,51,45,28,0,7,75,0,20,18,105,8,15,32,14,10,8,34,38,42,33,45,36,3,14,73,33,284,22,35,12,30,34,28,14,2,24,154,24,26,81,379,7,45,24,188,13,69,9,6,8,44,45,41,66,62,91,21,63,25,2,84,94,31,78,50,26,139,37,566,204,27,34,152,17,2,18,25,18,7,2,12,3,22,2,4,54,18,56,60,14,35,4,10,45,5,9,57,102,11,95,14,13,36,27,14,34,8,52,58,20,6,32,60,40,87,10,21,15,137,52,8,156,12,9,18,19,20,127,3,24,498,10,3,53,47,4,0,13,61,26,7,16,33,23,24,38,55,14,91,17,0,121,38,85,18,50,24,40,40,55,116,125,23,6,8,341,34,22,73,7,21,26,16,10,19,27,392,6,14,13,13,6,17,23,8,30,57,11,6,4,12,31,30,46,67,28,7,35,49,5,8,78,8,214,456,15,41,122,163,63,13,33,73,81,86,2,18,1426,22,8,3,4,90,22,11,35,4,43,137,2,52,45,49,27,392,265,10,43,32,79,27,34,64,16,82,76,59,64,60,26,4,35,407,8,58,37,40,0,3192,327,32,32,24,24,80,4,65,5,339,17,34,9,7,2,84,6,10,74,18,4,107,21,29,20,6,104,13,166,1,2,387,177,6,58,6,18,67,133,18,36,24,18,1,35,19,33,17,52,1413,6,135,18,21,21,15,10,21,3,3,121,5,47,43,133,25,458,47,92,29,84,15,2,14,53,8,13,28,66,42,16,12,14,34,1913,56,18,148,12,23,32,129,40,131,39,89,120,27,128,14,51,194,43,7,0,37,12,39,72,52,52,7,28,18,21,58,49,14,62,39,142,41,118,1726,9,79,22,25,17,127,215,9,26,10,4469,13,17,93,38,23,23,123,628,141,47,30,34,67,13,17,86,29,7,0,20,315,18,207,5,12,27,90,201,44,36,51,9,23,10,14,701,21,40,15,23,77,49,50,73,12,31,54,363,64,17,5,13,87,27,19,69,6,29,9,58,6,173,612,11,14,67,44,20,123,1,29,64,97,25,19,19,62,7,75,28,29,16,41,12,98,44,9,100,10,14,25,33,9,69,636,26,1264,312,80,45,415,42,51,5,76,90,62,22,54,15,92,5,54,26,72,12,51,31,83,37,9,41,4,37,57,55,61,125,47,297,12,128,12,129,48,30,23,487,67,96,14,7,5,58,82,65,23,260,9,59,612,97,22,18,6,103,75,10,538,58,20,28,5,48,14,5,15,22,29,39,19,170,28,40,90,6,9,18,25,12,14,145,7,12,26,43,14,32,56,28,85,29,40,17,50,27,3645,121,35,35,77,94,43,253,18,14,5,44,5,31,63,34,2,3,519,71,16,44,19,13,74,7,9,7,20,33,32,30,59,14,23,10,15,18,47,46,3,34,39,20,25,1,104,13,37,15,2,25,3,14,8,17,5,8,1423,74,5,181,15,15,10,77,83,15,124,21,1324,34,66,4,5,31,19,33,20,18,308,2,59,44,48,8,12,14,3,16,70,9,23,13,23,8,1,65,49,13,131,634,23,6,51,72,16,12,11,5,8,254,47,14,65,129,55,53,43,27,16,131,47,52,9,11,16,24,25,50,6,87,30,97,91,68,33,95,8,18,9,6,2,49,51,57,136,7,23,104,7,12,16,31,15,8,104,20,60,10,9,8,0,10,37,19,20,47,22,31,78,4,7,30,28,21,35,153,20,17,7,33,356,13,8,50,20,57,25,22,4,10,50,68,54,76,9,27,43,27,39,65,28,3317,7,64,5,39,258,43,1,36,6,18,8,325,391,493,5,7,60,6,30,26,11,20,38,75,22,25,13,8,29,18,16,189,1,36,29,14,21,13,42,3,18,23,18,36,46,106,6,44,117,45,15,74,93,20,116,25,29,4,83,35,16,16,69,38,19,27,26,6,5,15,11,32,9,113,26,12,6,26,6,36,15,118,60,108,123,24,28,27,61,48,56,46,64,16,32,23,95,46,86,80,49,49,33,34,65,13,67,33,15,226,6,67,3,91,253,14,18,68,15,155,50,269,99,59,71,24,13,27,57,35,16,15,43,25,45,73,13,56,7,3,218,47,5,527,17,1,1,9,274,150,31,15,21,21,9,6,4,300,34,48,56,11,42,84,5,102,35,12,9,30,2,14,40,57,128,70,68,111,21,4,24,5,75,13,19,36,34,33,20,1,37,158,22,2,51,34,27,120,81,266,20,16,36,2,49,7,28,16,12,1,1,104,8,12,10,117,21,365,30,1,36,30,25,40,54,0,96,24,7,37,59,36,4,8,25,30,114,6,13,52,45,200,98,94,22,74,46,22,67,123,53,15,70,67,16,17,41,44,67,129,1179,21,28,55,7,124,32,36,11,15,12,62,4,14,15,44,32,4,80,34,214,52,45,65,12,76,56,30,37,20,3,2,8,11,16,10,14,15,9,38,48,28,11,25,192,12,178,27,2,203,2,4,64,1358,75,11,79,120,459,0,5,13,25,64,85,18,21,25,19,6,6,9,200,260,23,7,8,31,11,15,53,22,18,10,87,438,8,42,48,9,14,36,7,1,106,51,127,43,42,116,14,37,104,27,25,14,12,55,14,10,51,35,12,0,12,2,30,2,15,55,3,996,44,149,24,10,11,29,48,7,40,12,13,26,26,90,26,67,21,40,29,56,5,24,5,41,95,45,27,3,47,48,200,89,138,69,309,0,10,9,18,163,40,29,15,9,27,79,40,67,34,2,28,242,5,13,7,58,81,25,4,23,0,34,0,8,55,69,4,4,2,8,22,14,3,76,2,117,7,50,21,68,1,49,51,25,12,10,2,4,8,55,83,72,53,62,59,13,473,1,25,48,50,149,5,166,18,29,7,2,4,10,15,32,48,1,52,12,46,8,50,23,9,83,31,170,3,32,31,11,4,13,526,13,12,81,24,27,24,33,11,29,75,31,37,304,63,28,25,4,14,20,432,47,34,43,88,24,129,29,94,13,23,1,4,11,14,48,49,384,1292,12,2,22,15,477,13,29,28,2,34,199,38,37,79,19,36,75,11,63,24,9,75,36,427,11,11,101,12,18,26,13,145,7,45,16,97,0,6,29,2,9,11,31,200,205,6,27,2625,61,50,2,22,1,26,193,35,103,25,29,85,7,25,12,20,2,16,5,134,0,36,14,4,12,142,22,70,10,28,58,47,14,6,33,7,360,1,2,95,9,27,17,239,82,19,4,24,50,54,147,82,33,61,87,64,9,18,9,59,17,31,2,20,2,12,30,46,63,6,169,7,3,65,5,27,90,17,90,34,9,41],\"sizemode\":\"area\",\"sizeref\":35.2475},\"mode\":\"markers\",\"name\":\"\",\"showlegend\":false,\"subplot\":\"mapbox\",\"type\":\"scattermapbox\"}],                        {\"template\":{\"data\":{\"bar\":[{\"error_x\":{\"color\":\"#2a3f5f\"},\"error_y\":{\"color\":\"#2a3f5f\"},\"marker\":{\"line\":{\"color\":\"#E5ECF6\",\"width\":0.5},\"pattern\":{\"fillmode\":\"overlay\",\"size\":10,\"solidity\":0.2}},\"type\":\"bar\"}],\"barpolar\":[{\"marker\":{\"line\":{\"color\":\"#E5ECF6\",\"width\":0.5},\"pattern\":{\"fillmode\":\"overlay\",\"size\":10,\"solidity\":0.2}},\"type\":\"barpolar\"}],\"carpet\":[{\"aaxis\":{\"endlinecolor\":\"#2a3f5f\",\"gridcolor\":\"white\",\"linecolor\":\"white\",\"minorgridcolor\":\"white\",\"startlinecolor\":\"#2a3f5f\"},\"baxis\":{\"endlinecolor\":\"#2a3f5f\",\"gridcolor\":\"white\",\"linecolor\":\"white\",\"minorgridcolor\":\"white\",\"startlinecolor\":\"#2a3f5f\"},\"type\":\"carpet\"}],\"choropleth\":[{\"colorbar\":{\"outlinewidth\":0,\"ticks\":\"\"},\"type\":\"choropleth\"}],\"contour\":[{\"colorbar\":{\"outlinewidth\":0,\"ticks\":\"\"},\"colorscale\":[[0.0,\"#0d0887\"],[0.1111111111111111,\"#46039f\"],[0.2222222222222222,\"#7201a8\"],[0.3333333333333333,\"#9c179e\"],[0.4444444444444444,\"#bd3786\"],[0.5555555555555556,\"#d8576b\"],[0.6666666666666666,\"#ed7953\"],[0.7777777777777778,\"#fb9f3a\"],[0.8888888888888888,\"#fdca26\"],[1.0,\"#f0f921\"]],\"type\":\"contour\"}],\"contourcarpet\":[{\"colorbar\":{\"outlinewidth\":0,\"ticks\":\"\"},\"type\":\"contourcarpet\"}],\"heatmap\":[{\"colorbar\":{\"outlinewidth\":0,\"ticks\":\"\"},\"colorscale\":[[0.0,\"#0d0887\"],[0.1111111111111111,\"#46039f\"],[0.2222222222222222,\"#7201a8\"],[0.3333333333333333,\"#9c179e\"],[0.4444444444444444,\"#bd3786\"],[0.5555555555555556,\"#d8576b\"],[0.6666666666666666,\"#ed7953\"],[0.7777777777777778,\"#fb9f3a\"],[0.8888888888888888,\"#fdca26\"],[1.0,\"#f0f921\"]],\"type\":\"heatmap\"}],\"heatmapgl\":[{\"colorbar\":{\"outlinewidth\":0,\"ticks\":\"\"},\"colorscale\":[[0.0,\"#0d0887\"],[0.1111111111111111,\"#46039f\"],[0.2222222222222222,\"#7201a8\"],[0.3333333333333333,\"#9c179e\"],[0.4444444444444444,\"#bd3786\"],[0.5555555555555556,\"#d8576b\"],[0.6666666666666666,\"#ed7953\"],[0.7777777777777778,\"#fb9f3a\"],[0.8888888888888888,\"#fdca26\"],[1.0,\"#f0f921\"]],\"type\":\"heatmapgl\"}],\"histogram\":[{\"marker\":{\"pattern\":{\"fillmode\":\"overlay\",\"size\":10,\"solidity\":0.2}},\"type\":\"histogram\"}],\"histogram2d\":[{\"colorbar\":{\"outlinewidth\":0,\"ticks\":\"\"},\"colorscale\":[[0.0,\"#0d0887\"],[0.1111111111111111,\"#46039f\"],[0.2222222222222222,\"#7201a8\"],[0.3333333333333333,\"#9c179e\"],[0.4444444444444444,\"#bd3786\"],[0.5555555555555556,\"#d8576b\"],[0.6666666666666666,\"#ed7953\"],[0.7777777777777778,\"#fb9f3a\"],[0.8888888888888888,\"#fdca26\"],[1.0,\"#f0f921\"]],\"type\":\"histogram2d\"}],\"histogram2dcontour\":[{\"colorbar\":{\"outlinewidth\":0,\"ticks\":\"\"},\"colorscale\":[[0.0,\"#0d0887\"],[0.1111111111111111,\"#46039f\"],[0.2222222222222222,\"#7201a8\"],[0.3333333333333333,\"#9c179e\"],[0.4444444444444444,\"#bd3786\"],[0.5555555555555556,\"#d8576b\"],[0.6666666666666666,\"#ed7953\"],[0.7777777777777778,\"#fb9f3a\"],[0.8888888888888888,\"#fdca26\"],[1.0,\"#f0f921\"]],\"type\":\"histogram2dcontour\"}],\"mesh3d\":[{\"colorbar\":{\"outlinewidth\":0,\"ticks\":\"\"},\"type\":\"mesh3d\"}],\"parcoords\":[{\"line\":{\"colorbar\":{\"outlinewidth\":0,\"ticks\":\"\"}},\"type\":\"parcoords\"}],\"pie\":[{\"automargin\":true,\"type\":\"pie\"}],\"scatter\":[{\"marker\":{\"colorbar\":{\"outlinewidth\":0,\"ticks\":\"\"}},\"type\":\"scatter\"}],\"scatter3d\":[{\"line\":{\"colorbar\":{\"outlinewidth\":0,\"ticks\":\"\"}},\"marker\":{\"colorbar\":{\"outlinewidth\":0,\"ticks\":\"\"}},\"type\":\"scatter3d\"}],\"scattercarpet\":[{\"marker\":{\"colorbar\":{\"outlinewidth\":0,\"ticks\":\"\"}},\"type\":\"scattercarpet\"}],\"scattergeo\":[{\"marker\":{\"colorbar\":{\"outlinewidth\":0,\"ticks\":\"\"}},\"type\":\"scattergeo\"}],\"scattergl\":[{\"marker\":{\"colorbar\":{\"outlinewidth\":0,\"ticks\":\"\"}},\"type\":\"scattergl\"}],\"scattermapbox\":[{\"marker\":{\"colorbar\":{\"outlinewidth\":0,\"ticks\":\"\"}},\"type\":\"scattermapbox\"}],\"scatterpolar\":[{\"marker\":{\"colorbar\":{\"outlinewidth\":0,\"ticks\":\"\"}},\"type\":\"scatterpolar\"}],\"scatterpolargl\":[{\"marker\":{\"colorbar\":{\"outlinewidth\":0,\"ticks\":\"\"}},\"type\":\"scatterpolargl\"}],\"scatterternary\":[{\"marker\":{\"colorbar\":{\"outlinewidth\":0,\"ticks\":\"\"}},\"type\":\"scatterternary\"}],\"surface\":[{\"colorbar\":{\"outlinewidth\":0,\"ticks\":\"\"},\"colorscale\":[[0.0,\"#0d0887\"],[0.1111111111111111,\"#46039f\"],[0.2222222222222222,\"#7201a8\"],[0.3333333333333333,\"#9c179e\"],[0.4444444444444444,\"#bd3786\"],[0.5555555555555556,\"#d8576b\"],[0.6666666666666666,\"#ed7953\"],[0.7777777777777778,\"#fb9f3a\"],[0.8888888888888888,\"#fdca26\"],[1.0,\"#f0f921\"]],\"type\":\"surface\"}],\"table\":[{\"cells\":{\"fill\":{\"color\":\"#EBF0F8\"},\"line\":{\"color\":\"white\"}},\"header\":{\"fill\":{\"color\":\"#C8D4E3\"},\"line\":{\"color\":\"white\"}},\"type\":\"table\"}]},\"layout\":{\"annotationdefaults\":{\"arrowcolor\":\"#2a3f5f\",\"arrowhead\":0,\"arrowwidth\":1},\"autotypenumbers\":\"strict\",\"coloraxis\":{\"colorbar\":{\"outlinewidth\":0,\"ticks\":\"\"}},\"colorscale\":{\"diverging\":[[0,\"#8e0152\"],[0.1,\"#c51b7d\"],[0.2,\"#de77ae\"],[0.3,\"#f1b6da\"],[0.4,\"#fde0ef\"],[0.5,\"#f7f7f7\"],[0.6,\"#e6f5d0\"],[0.7,\"#b8e186\"],[0.8,\"#7fbc41\"],[0.9,\"#4d9221\"],[1,\"#276419\"]],\"sequential\":[[0.0,\"#0d0887\"],[0.1111111111111111,\"#46039f\"],[0.2222222222222222,\"#7201a8\"],[0.3333333333333333,\"#9c179e\"],[0.4444444444444444,\"#bd3786\"],[0.5555555555555556,\"#d8576b\"],[0.6666666666666666,\"#ed7953\"],[0.7777777777777778,\"#fb9f3a\"],[0.8888888888888888,\"#fdca26\"],[1.0,\"#f0f921\"]],\"sequentialminus\":[[0.0,\"#0d0887\"],[0.1111111111111111,\"#46039f\"],[0.2222222222222222,\"#7201a8\"],[0.3333333333333333,\"#9c179e\"],[0.4444444444444444,\"#bd3786\"],[0.5555555555555556,\"#d8576b\"],[0.6666666666666666,\"#ed7953\"],[0.7777777777777778,\"#fb9f3a\"],[0.8888888888888888,\"#fdca26\"],[1.0,\"#f0f921\"]]},\"colorway\":[\"#636efa\",\"#EF553B\",\"#00cc96\",\"#ab63fa\",\"#FFA15A\",\"#19d3f3\",\"#FF6692\",\"#B6E880\",\"#FF97FF\",\"#FECB52\"],\"font\":{\"color\":\"#2a3f5f\"},\"geo\":{\"bgcolor\":\"white\",\"lakecolor\":\"white\",\"landcolor\":\"#E5ECF6\",\"showlakes\":true,\"showland\":true,\"subunitcolor\":\"white\"},\"hoverlabel\":{\"align\":\"left\"},\"hovermode\":\"closest\",\"mapbox\":{\"style\":\"light\"},\"paper_bgcolor\":\"white\",\"plot_bgcolor\":\"#E5ECF6\",\"polar\":{\"angularaxis\":{\"gridcolor\":\"white\",\"linecolor\":\"white\",\"ticks\":\"\"},\"bgcolor\":\"#E5ECF6\",\"radialaxis\":{\"gridcolor\":\"white\",\"linecolor\":\"white\",\"ticks\":\"\"}},\"scene\":{\"xaxis\":{\"backgroundcolor\":\"#E5ECF6\",\"gridcolor\":\"white\",\"gridwidth\":2,\"linecolor\":\"white\",\"showbackground\":true,\"ticks\":\"\",\"zerolinecolor\":\"white\"},\"yaxis\":{\"backgroundcolor\":\"#E5ECF6\",\"gridcolor\":\"white\",\"gridwidth\":2,\"linecolor\":\"white\",\"showbackground\":true,\"ticks\":\"\",\"zerolinecolor\":\"white\"},\"zaxis\":{\"backgroundcolor\":\"#E5ECF6\",\"gridcolor\":\"white\",\"gridwidth\":2,\"linecolor\":\"white\",\"showbackground\":true,\"ticks\":\"\",\"zerolinecolor\":\"white\"}},\"shapedefaults\":{\"line\":{\"color\":\"#2a3f5f\"}},\"ternary\":{\"aaxis\":{\"gridcolor\":\"white\",\"linecolor\":\"white\",\"ticks\":\"\"},\"baxis\":{\"gridcolor\":\"white\",\"linecolor\":\"white\",\"ticks\":\"\"},\"bgcolor\":\"#E5ECF6\",\"caxis\":{\"gridcolor\":\"white\",\"linecolor\":\"white\",\"ticks\":\"\"}},\"title\":{\"x\":0.05},\"xaxis\":{\"automargin\":true,\"gridcolor\":\"white\",\"linecolor\":\"white\",\"ticks\":\"\",\"title\":{\"standoff\":15},\"zerolinecolor\":\"white\",\"zerolinewidth\":2},\"yaxis\":{\"automargin\":true,\"gridcolor\":\"white\",\"linecolor\":\"white\",\"ticks\":\"\",\"title\":{\"standoff\":15},\"zerolinecolor\":\"white\",\"zerolinewidth\":2}}},\"mapbox\":{\"domain\":{\"x\":[0.0,1.0],\"y\":[0.0,1.0]},\"center\":{\"lat\":59.93064695858954,\"lon\":30.339480303261034},\"zoom\":9,\"style\":\"open-street-map\"},\"legend\":{\"tracegroupgap\":0,\"itemsizing\":\"constant\"},\"margin\":{\"t\":0,\"r\":0,\"l\":0,\"b\":0},\"height\":500,\"width\":1000},                        {\"responsive\": true}                    ).then(function(){\n",
              "                            \n",
              "var gd = document.getElementById('786d11c4-dba2-45cb-8790-a2f1b9b0b2af');\n",
              "var x = new MutationObserver(function (mutations, observer) {{\n",
              "        var display = window.getComputedStyle(gd).display;\n",
              "        if (!display || display === 'none') {{\n",
              "            console.log([gd, 'removed!']);\n",
              "            Plotly.purge(gd);\n",
              "            observer.disconnect();\n",
              "        }}\n",
              "}});\n",
              "\n",
              "// Listen for the removal of the full notebook cells\n",
              "var notebookContainer = gd.closest('#notebook-container');\n",
              "if (notebookContainer) {{\n",
              "    x.observe(notebookContainer, {childList: true});\n",
              "}}\n",
              "\n",
              "// Listen for the clearing of the current output cell\n",
              "var outputEl = gd.closest('.output');\n",
              "if (outputEl) {{\n",
              "    x.observe(outputEl, {childList: true});\n",
              "}}\n",
              "\n",
              "                        })                };                            </script>        </div>\n",
              "</body>\n",
              "</html>"
            ]
          },
          "metadata": {}
        }
      ]
    },
    {
      "cell_type": "code",
      "source": [
        "# sort data by timestamp\n",
        "train = train.sort_values(by=['timestamp'])\n",
        "display(train.head())\n",
        "\n",
        "print(f'Oldest post: {datetime.fromtimestamp(train.iloc[0,0])}')\n",
        "print(f'Latest post: {datetime.fromtimestamp(train.iloc[-1,0])}')"
      ],
      "metadata": {
        "colab": {
          "base_uri": "https://localhost:8080/",
          "height": 306
        },
        "id": "neqrTepMNcdl",
        "outputId": "72a605ab-260e-4024-8905-77d385d2272c"
      },
      "execution_count": 14,
      "outputs": [
        {
          "output_type": "display_data",
          "data": {
            "text/plain": [
              "          timestamp        lon        lat  likescount  commentscount  \\\n",
              "5218705  1546300800  30.286700  59.986577          49              0   \n",
              "5218597  1546300800  30.351828  59.931487          22              0   \n",
              "5218718  1546300800  30.291191  59.937113          25              0   \n",
              "5218717  1546300800  30.372040  59.953984         138              2   \n",
              "5218716  1546300800  30.313649  59.939363         209              0   \n",
              "\n",
              "         symbols_cnt  words_cnt  hashtags_cnt  mentions_cnt  links_cnt  \\\n",
              "5218705            0          0             0             0          0   \n",
              "5218597           23          1             0             1          0   \n",
              "5218718            0          0             0             0          0   \n",
              "5218717          232          4            13             1          0   \n",
              "5218716           80          4             3             0          0   \n",
              "\n",
              "         emoji_cnt                                              point  \n",
              "5218705          0  0101000020E6100000B1558A2865493E4021743A2748FE...  \n",
              "5218597          2  0101000020E610000050EDAE60115A3E40CAE971F73AF7...  \n",
              "5218718          0  0101000020E61000002D2BB0848B4A3E400C288C4EF3F7...  \n",
              "5218717          2  0101000020E6100000062E59FF3D5F3E408F05D6231CFA...  \n",
              "5218716          4  0101000020E6100000A4566D514B503E40A554BF083DF8...  "
            ],
            "text/html": [
              "\n",
              "  <div id=\"df-51aaa7d4-f851-4f95-82dc-7fa31f81ac33\">\n",
              "    <div class=\"colab-df-container\">\n",
              "      <div>\n",
              "<style scoped>\n",
              "    .dataframe tbody tr th:only-of-type {\n",
              "        vertical-align: middle;\n",
              "    }\n",
              "\n",
              "    .dataframe tbody tr th {\n",
              "        vertical-align: top;\n",
              "    }\n",
              "\n",
              "    .dataframe thead th {\n",
              "        text-align: right;\n",
              "    }\n",
              "</style>\n",
              "<table border=\"1\" class=\"dataframe\">\n",
              "  <thead>\n",
              "    <tr style=\"text-align: right;\">\n",
              "      <th></th>\n",
              "      <th>timestamp</th>\n",
              "      <th>lon</th>\n",
              "      <th>lat</th>\n",
              "      <th>likescount</th>\n",
              "      <th>commentscount</th>\n",
              "      <th>symbols_cnt</th>\n",
              "      <th>words_cnt</th>\n",
              "      <th>hashtags_cnt</th>\n",
              "      <th>mentions_cnt</th>\n",
              "      <th>links_cnt</th>\n",
              "      <th>emoji_cnt</th>\n",
              "      <th>point</th>\n",
              "    </tr>\n",
              "  </thead>\n",
              "  <tbody>\n",
              "    <tr>\n",
              "      <th>5218705</th>\n",
              "      <td>1546300800</td>\n",
              "      <td>30.286700</td>\n",
              "      <td>59.986577</td>\n",
              "      <td>49</td>\n",
              "      <td>0</td>\n",
              "      <td>0</td>\n",
              "      <td>0</td>\n",
              "      <td>0</td>\n",
              "      <td>0</td>\n",
              "      <td>0</td>\n",
              "      <td>0</td>\n",
              "      <td>0101000020E6100000B1558A2865493E4021743A2748FE...</td>\n",
              "    </tr>\n",
              "    <tr>\n",
              "      <th>5218597</th>\n",
              "      <td>1546300800</td>\n",
              "      <td>30.351828</td>\n",
              "      <td>59.931487</td>\n",
              "      <td>22</td>\n",
              "      <td>0</td>\n",
              "      <td>23</td>\n",
              "      <td>1</td>\n",
              "      <td>0</td>\n",
              "      <td>1</td>\n",
              "      <td>0</td>\n",
              "      <td>2</td>\n",
              "      <td>0101000020E610000050EDAE60115A3E40CAE971F73AF7...</td>\n",
              "    </tr>\n",
              "    <tr>\n",
              "      <th>5218718</th>\n",
              "      <td>1546300800</td>\n",
              "      <td>30.291191</td>\n",
              "      <td>59.937113</td>\n",
              "      <td>25</td>\n",
              "      <td>0</td>\n",
              "      <td>0</td>\n",
              "      <td>0</td>\n",
              "      <td>0</td>\n",
              "      <td>0</td>\n",
              "      <td>0</td>\n",
              "      <td>0</td>\n",
              "      <td>0101000020E61000002D2BB0848B4A3E400C288C4EF3F7...</td>\n",
              "    </tr>\n",
              "    <tr>\n",
              "      <th>5218717</th>\n",
              "      <td>1546300800</td>\n",
              "      <td>30.372040</td>\n",
              "      <td>59.953984</td>\n",
              "      <td>138</td>\n",
              "      <td>2</td>\n",
              "      <td>232</td>\n",
              "      <td>4</td>\n",
              "      <td>13</td>\n",
              "      <td>1</td>\n",
              "      <td>0</td>\n",
              "      <td>2</td>\n",
              "      <td>0101000020E6100000062E59FF3D5F3E408F05D6231CFA...</td>\n",
              "    </tr>\n",
              "    <tr>\n",
              "      <th>5218716</th>\n",
              "      <td>1546300800</td>\n",
              "      <td>30.313649</td>\n",
              "      <td>59.939363</td>\n",
              "      <td>209</td>\n",
              "      <td>0</td>\n",
              "      <td>80</td>\n",
              "      <td>4</td>\n",
              "      <td>3</td>\n",
              "      <td>0</td>\n",
              "      <td>0</td>\n",
              "      <td>4</td>\n",
              "      <td>0101000020E6100000A4566D514B503E40A554BF083DF8...</td>\n",
              "    </tr>\n",
              "  </tbody>\n",
              "</table>\n",
              "</div>\n",
              "      <button class=\"colab-df-convert\" onclick=\"convertToInteractive('df-51aaa7d4-f851-4f95-82dc-7fa31f81ac33')\"\n",
              "              title=\"Convert this dataframe to an interactive table.\"\n",
              "              style=\"display:none;\">\n",
              "        \n",
              "  <svg xmlns=\"http://www.w3.org/2000/svg\" height=\"24px\"viewBox=\"0 0 24 24\"\n",
              "       width=\"24px\">\n",
              "    <path d=\"M0 0h24v24H0V0z\" fill=\"none\"/>\n",
              "    <path d=\"M18.56 5.44l.94 2.06.94-2.06 2.06-.94-2.06-.94-.94-2.06-.94 2.06-2.06.94zm-11 1L8.5 8.5l.94-2.06 2.06-.94-2.06-.94L8.5 2.5l-.94 2.06-2.06.94zm10 10l.94 2.06.94-2.06 2.06-.94-2.06-.94-.94-2.06-.94 2.06-2.06.94z\"/><path d=\"M17.41 7.96l-1.37-1.37c-.4-.4-.92-.59-1.43-.59-.52 0-1.04.2-1.43.59L10.3 9.45l-7.72 7.72c-.78.78-.78 2.05 0 2.83L4 21.41c.39.39.9.59 1.41.59.51 0 1.02-.2 1.41-.59l7.78-7.78 2.81-2.81c.8-.78.8-2.07 0-2.86zM5.41 20L4 18.59l7.72-7.72 1.47 1.35L5.41 20z\"/>\n",
              "  </svg>\n",
              "      </button>\n",
              "      \n",
              "  <style>\n",
              "    .colab-df-container {\n",
              "      display:flex;\n",
              "      flex-wrap:wrap;\n",
              "      gap: 12px;\n",
              "    }\n",
              "\n",
              "    .colab-df-convert {\n",
              "      background-color: #E8F0FE;\n",
              "      border: none;\n",
              "      border-radius: 50%;\n",
              "      cursor: pointer;\n",
              "      display: none;\n",
              "      fill: #1967D2;\n",
              "      height: 32px;\n",
              "      padding: 0 0 0 0;\n",
              "      width: 32px;\n",
              "    }\n",
              "\n",
              "    .colab-df-convert:hover {\n",
              "      background-color: #E2EBFA;\n",
              "      box-shadow: 0px 1px 2px rgba(60, 64, 67, 0.3), 0px 1px 3px 1px rgba(60, 64, 67, 0.15);\n",
              "      fill: #174EA6;\n",
              "    }\n",
              "\n",
              "    [theme=dark] .colab-df-convert {\n",
              "      background-color: #3B4455;\n",
              "      fill: #D2E3FC;\n",
              "    }\n",
              "\n",
              "    [theme=dark] .colab-df-convert:hover {\n",
              "      background-color: #434B5C;\n",
              "      box-shadow: 0px 1px 3px 1px rgba(0, 0, 0, 0.15);\n",
              "      filter: drop-shadow(0px 1px 2px rgba(0, 0, 0, 0.3));\n",
              "      fill: #FFFFFF;\n",
              "    }\n",
              "  </style>\n",
              "\n",
              "      <script>\n",
              "        const buttonEl =\n",
              "          document.querySelector('#df-51aaa7d4-f851-4f95-82dc-7fa31f81ac33 button.colab-df-convert');\n",
              "        buttonEl.style.display =\n",
              "          google.colab.kernel.accessAllowed ? 'block' : 'none';\n",
              "\n",
              "        async function convertToInteractive(key) {\n",
              "          const element = document.querySelector('#df-51aaa7d4-f851-4f95-82dc-7fa31f81ac33');\n",
              "          const dataTable =\n",
              "            await google.colab.kernel.invokeFunction('convertToInteractive',\n",
              "                                                     [key], {});\n",
              "          if (!dataTable) return;\n",
              "\n",
              "          const docLinkHtml = 'Like what you see? Visit the ' +\n",
              "            '<a target=\"_blank\" href=https://colab.research.google.com/notebooks/data_table.ipynb>data table notebook</a>'\n",
              "            + ' to learn more about interactive tables.';\n",
              "          element.innerHTML = '';\n",
              "          dataTable['output_type'] = 'display_data';\n",
              "          await google.colab.output.renderOutput(dataTable, element);\n",
              "          const docLink = document.createElement('div');\n",
              "          docLink.innerHTML = docLinkHtml;\n",
              "          element.appendChild(docLink);\n",
              "        }\n",
              "      </script>\n",
              "    </div>\n",
              "  </div>\n",
              "  "
            ]
          },
          "metadata": {}
        },
        {
          "output_type": "stream",
          "name": "stdout",
          "text": [
            "Oldest post: 2019-01-01 00:00:00\n",
            "Latest post: 2020-01-31 23:00:00\n"
          ]
        }
      ]
    },
    {
      "cell_type": "code",
      "source": [
        "# analyze timestamp\n",
        "unique_time = train.timestamp.unique()\n",
        "print(f'There are {len(unique_time)} timestamps in train dataset.')\n",
        "for ut in unique_time[:5]:\n",
        "    print(f'Time: {datetime.fromtimestamp(ut)}')\n",
        "print()\n",
        "for ut in unique_time[-5:]:\n",
        "    print(f'Time: {datetime.fromtimestamp(ut)}')"
      ],
      "metadata": {
        "colab": {
          "base_uri": "https://localhost:8080/"
        },
        "id": "b1wR8cECYO6F",
        "outputId": "a42a69a2-09fc-49de-f96e-c07991ba1437"
      },
      "execution_count": 15,
      "outputs": [
        {
          "output_type": "stream",
          "name": "stdout",
          "text": [
            "There are 9504 timestamps in train dataset.\n",
            "Time: 2019-01-01 00:00:00\n",
            "Time: 2019-01-01 01:00:00\n",
            "Time: 2019-01-01 02:00:00\n",
            "Time: 2019-01-01 03:00:00\n",
            "Time: 2019-01-01 04:00:00\n",
            "\n",
            "Time: 2020-01-31 19:00:00\n",
            "Time: 2020-01-31 20:00:00\n",
            "Time: 2020-01-31 21:00:00\n",
            "Time: 2020-01-31 22:00:00\n",
            "Time: 2020-01-31 23:00:00\n"
          ]
        }
      ]
    },
    {
      "cell_type": "code",
      "source": [
        "# timestamp represent hourly data\n",
        "# and the whole data represent 13 months publications (01 January 2019 - 31 January 2020)\n",
        "# so the total timestamp should be 24 * 365 + 24 * 31\n",
        "full_timestamp = 24 * 365 + 24 * 31\n",
        "full_timestamp"
      ],
      "metadata": {
        "colab": {
          "base_uri": "https://localhost:8080/"
        },
        "id": "aMk8Qrikc21h",
        "outputId": "f96bd972-66f5-4133-da3b-5388ffbf9564"
      },
      "execution_count": 16,
      "outputs": [
        {
          "output_type": "execute_result",
          "data": {
            "text/plain": [
              "9504"
            ]
          },
          "metadata": {},
          "execution_count": 16
        }
      ]
    },
    {
      "cell_type": "code",
      "source": [
        "# group data and count publications based on time (hour) and point (coordinate)\n",
        "train['sum'] = 1\n",
        "train_grouped = train.groupby(['timestamp', 'point'], as_index=False).size()\\\n",
        "                    .sort_values('timestamp', ascending=True)\\\n",
        "                    .rename(columns={'size': 'sum'})\n",
        "train_grouped.head()"
      ],
      "metadata": {
        "colab": {
          "base_uri": "https://localhost:8080/",
          "height": 206
        },
        "id": "s-BwII7vgrs_",
        "outputId": "00ad1aa5-85bf-4755-a12b-a0cbaf53acf5"
      },
      "execution_count": 17,
      "outputs": [
        {
          "output_type": "execute_result",
          "data": {
            "text/plain": [
              "      timestamp                                              point  sum\n",
              "0    1546300800  0101000020E610000002BF48199F3F3E4010C569574E02...    1\n",
              "152  1546300800  0101000020E61000009E01B90998523E40E4A1F770CEF7...    1\n",
              "153  1546300800  0101000020E61000009EE75C6BAC303E401DAC68F66CFE...    1\n",
              "154  1546300800  0101000020E6100000A4566D514B503E4006FC5DE561F8...    7\n",
              "155  1546300800  0101000020E6100000A4566D514B503E406DAFAAC186F8...    1"
            ],
            "text/html": [
              "\n",
              "  <div id=\"df-23f0fdd0-6e58-40c0-9d61-70a157eeeeb9\">\n",
              "    <div class=\"colab-df-container\">\n",
              "      <div>\n",
              "<style scoped>\n",
              "    .dataframe tbody tr th:only-of-type {\n",
              "        vertical-align: middle;\n",
              "    }\n",
              "\n",
              "    .dataframe tbody tr th {\n",
              "        vertical-align: top;\n",
              "    }\n",
              "\n",
              "    .dataframe thead th {\n",
              "        text-align: right;\n",
              "    }\n",
              "</style>\n",
              "<table border=\"1\" class=\"dataframe\">\n",
              "  <thead>\n",
              "    <tr style=\"text-align: right;\">\n",
              "      <th></th>\n",
              "      <th>timestamp</th>\n",
              "      <th>point</th>\n",
              "      <th>sum</th>\n",
              "    </tr>\n",
              "  </thead>\n",
              "  <tbody>\n",
              "    <tr>\n",
              "      <th>0</th>\n",
              "      <td>1546300800</td>\n",
              "      <td>0101000020E610000002BF48199F3F3E4010C569574E02...</td>\n",
              "      <td>1</td>\n",
              "    </tr>\n",
              "    <tr>\n",
              "      <th>152</th>\n",
              "      <td>1546300800</td>\n",
              "      <td>0101000020E61000009E01B90998523E40E4A1F770CEF7...</td>\n",
              "      <td>1</td>\n",
              "    </tr>\n",
              "    <tr>\n",
              "      <th>153</th>\n",
              "      <td>1546300800</td>\n",
              "      <td>0101000020E61000009EE75C6BAC303E401DAC68F66CFE...</td>\n",
              "      <td>1</td>\n",
              "    </tr>\n",
              "    <tr>\n",
              "      <th>154</th>\n",
              "      <td>1546300800</td>\n",
              "      <td>0101000020E6100000A4566D514B503E4006FC5DE561F8...</td>\n",
              "      <td>7</td>\n",
              "    </tr>\n",
              "    <tr>\n",
              "      <th>155</th>\n",
              "      <td>1546300800</td>\n",
              "      <td>0101000020E6100000A4566D514B503E406DAFAAC186F8...</td>\n",
              "      <td>1</td>\n",
              "    </tr>\n",
              "  </tbody>\n",
              "</table>\n",
              "</div>\n",
              "      <button class=\"colab-df-convert\" onclick=\"convertToInteractive('df-23f0fdd0-6e58-40c0-9d61-70a157eeeeb9')\"\n",
              "              title=\"Convert this dataframe to an interactive table.\"\n",
              "              style=\"display:none;\">\n",
              "        \n",
              "  <svg xmlns=\"http://www.w3.org/2000/svg\" height=\"24px\"viewBox=\"0 0 24 24\"\n",
              "       width=\"24px\">\n",
              "    <path d=\"M0 0h24v24H0V0z\" fill=\"none\"/>\n",
              "    <path d=\"M18.56 5.44l.94 2.06.94-2.06 2.06-.94-2.06-.94-.94-2.06-.94 2.06-2.06.94zm-11 1L8.5 8.5l.94-2.06 2.06-.94-2.06-.94L8.5 2.5l-.94 2.06-2.06.94zm10 10l.94 2.06.94-2.06 2.06-.94-2.06-.94-.94-2.06-.94 2.06-2.06.94z\"/><path d=\"M17.41 7.96l-1.37-1.37c-.4-.4-.92-.59-1.43-.59-.52 0-1.04.2-1.43.59L10.3 9.45l-7.72 7.72c-.78.78-.78 2.05 0 2.83L4 21.41c.39.39.9.59 1.41.59.51 0 1.02-.2 1.41-.59l7.78-7.78 2.81-2.81c.8-.78.8-2.07 0-2.86zM5.41 20L4 18.59l7.72-7.72 1.47 1.35L5.41 20z\"/>\n",
              "  </svg>\n",
              "      </button>\n",
              "      \n",
              "  <style>\n",
              "    .colab-df-container {\n",
              "      display:flex;\n",
              "      flex-wrap:wrap;\n",
              "      gap: 12px;\n",
              "    }\n",
              "\n",
              "    .colab-df-convert {\n",
              "      background-color: #E8F0FE;\n",
              "      border: none;\n",
              "      border-radius: 50%;\n",
              "      cursor: pointer;\n",
              "      display: none;\n",
              "      fill: #1967D2;\n",
              "      height: 32px;\n",
              "      padding: 0 0 0 0;\n",
              "      width: 32px;\n",
              "    }\n",
              "\n",
              "    .colab-df-convert:hover {\n",
              "      background-color: #E2EBFA;\n",
              "      box-shadow: 0px 1px 2px rgba(60, 64, 67, 0.3), 0px 1px 3px 1px rgba(60, 64, 67, 0.15);\n",
              "      fill: #174EA6;\n",
              "    }\n",
              "\n",
              "    [theme=dark] .colab-df-convert {\n",
              "      background-color: #3B4455;\n",
              "      fill: #D2E3FC;\n",
              "    }\n",
              "\n",
              "    [theme=dark] .colab-df-convert:hover {\n",
              "      background-color: #434B5C;\n",
              "      box-shadow: 0px 1px 3px 1px rgba(0, 0, 0, 0.15);\n",
              "      filter: drop-shadow(0px 1px 2px rgba(0, 0, 0, 0.3));\n",
              "      fill: #FFFFFF;\n",
              "    }\n",
              "  </style>\n",
              "\n",
              "      <script>\n",
              "        const buttonEl =\n",
              "          document.querySelector('#df-23f0fdd0-6e58-40c0-9d61-70a157eeeeb9 button.colab-df-convert');\n",
              "        buttonEl.style.display =\n",
              "          google.colab.kernel.accessAllowed ? 'block' : 'none';\n",
              "\n",
              "        async function convertToInteractive(key) {\n",
              "          const element = document.querySelector('#df-23f0fdd0-6e58-40c0-9d61-70a157eeeeb9');\n",
              "          const dataTable =\n",
              "            await google.colab.kernel.invokeFunction('convertToInteractive',\n",
              "                                                     [key], {});\n",
              "          if (!dataTable) return;\n",
              "\n",
              "          const docLinkHtml = 'Like what you see? Visit the ' +\n",
              "            '<a target=\"_blank\" href=https://colab.research.google.com/notebooks/data_table.ipynb>data table notebook</a>'\n",
              "            + ' to learn more about interactive tables.';\n",
              "          element.innerHTML = '';\n",
              "          dataTable['output_type'] = 'display_data';\n",
              "          await google.colab.output.renderOutput(dataTable, element);\n",
              "          const docLink = document.createElement('div');\n",
              "          docLink.innerHTML = docLinkHtml;\n",
              "          element.appendChild(docLink);\n",
              "        }\n",
              "      </script>\n",
              "    </div>\n",
              "  </div>\n",
              "  "
            ]
          },
          "metadata": {},
          "execution_count": 17
        }
      ]
    },
    {
      "cell_type": "code",
      "source": [
        "train_grouped.timestamp.nunique()"
      ],
      "metadata": {
        "colab": {
          "base_uri": "https://localhost:8080/"
        },
        "id": "PAJZOVdVD2k0",
        "outputId": "f557d36b-7bb6-4c42-8238-910ab31ae0a2"
      },
      "execution_count": 18,
      "outputs": [
        {
          "output_type": "execute_result",
          "data": {
            "text/plain": [
              "9504"
            ]
          },
          "metadata": {},
          "execution_count": 18
        }
      ]
    },
    {
      "cell_type": "code",
      "source": [
        "train_grouped.sort_values('sum', ascending=False).head()"
      ],
      "metadata": {
        "colab": {
          "base_uri": "https://localhost:8080/",
          "height": 206
        },
        "id": "8dSCyY17Ig8W",
        "outputId": "1f7fbeb8-bffd-4aa0-b3cc-c5e4e89b34ba"
      },
      "execution_count": 19,
      "outputs": [
        {
          "output_type": "execute_result",
          "data": {
            "text/plain": [
              "          timestamp                                              point  sum\n",
              "2887357  1573920000  0101000020E610000050D352C225383E4030E11C588EFC...  600\n",
              "2599983  1571504400  0101000020E610000050D352C225383E4030E11C588EFC...  443\n",
              "2887967  1573923600  0101000020E610000050D352C225383E4030E11C588EFC...  442\n",
              "2526936  1570903200  0101000020E610000050D352C225383E4030E11C588EFC...  428\n",
              "1669633  1563742800  0101000020E6100000597DBB518C333E400262E887FEFD...  426"
            ],
            "text/html": [
              "\n",
              "  <div id=\"df-e4ccf44b-1c3d-4da4-bcae-e2a1470d7f54\">\n",
              "    <div class=\"colab-df-container\">\n",
              "      <div>\n",
              "<style scoped>\n",
              "    .dataframe tbody tr th:only-of-type {\n",
              "        vertical-align: middle;\n",
              "    }\n",
              "\n",
              "    .dataframe tbody tr th {\n",
              "        vertical-align: top;\n",
              "    }\n",
              "\n",
              "    .dataframe thead th {\n",
              "        text-align: right;\n",
              "    }\n",
              "</style>\n",
              "<table border=\"1\" class=\"dataframe\">\n",
              "  <thead>\n",
              "    <tr style=\"text-align: right;\">\n",
              "      <th></th>\n",
              "      <th>timestamp</th>\n",
              "      <th>point</th>\n",
              "      <th>sum</th>\n",
              "    </tr>\n",
              "  </thead>\n",
              "  <tbody>\n",
              "    <tr>\n",
              "      <th>2887357</th>\n",
              "      <td>1573920000</td>\n",
              "      <td>0101000020E610000050D352C225383E4030E11C588EFC...</td>\n",
              "      <td>600</td>\n",
              "    </tr>\n",
              "    <tr>\n",
              "      <th>2599983</th>\n",
              "      <td>1571504400</td>\n",
              "      <td>0101000020E610000050D352C225383E4030E11C588EFC...</td>\n",
              "      <td>443</td>\n",
              "    </tr>\n",
              "    <tr>\n",
              "      <th>2887967</th>\n",
              "      <td>1573923600</td>\n",
              "      <td>0101000020E610000050D352C225383E4030E11C588EFC...</td>\n",
              "      <td>442</td>\n",
              "    </tr>\n",
              "    <tr>\n",
              "      <th>2526936</th>\n",
              "      <td>1570903200</td>\n",
              "      <td>0101000020E610000050D352C225383E4030E11C588EFC...</td>\n",
              "      <td>428</td>\n",
              "    </tr>\n",
              "    <tr>\n",
              "      <th>1669633</th>\n",
              "      <td>1563742800</td>\n",
              "      <td>0101000020E6100000597DBB518C333E400262E887FEFD...</td>\n",
              "      <td>426</td>\n",
              "    </tr>\n",
              "  </tbody>\n",
              "</table>\n",
              "</div>\n",
              "      <button class=\"colab-df-convert\" onclick=\"convertToInteractive('df-e4ccf44b-1c3d-4da4-bcae-e2a1470d7f54')\"\n",
              "              title=\"Convert this dataframe to an interactive table.\"\n",
              "              style=\"display:none;\">\n",
              "        \n",
              "  <svg xmlns=\"http://www.w3.org/2000/svg\" height=\"24px\"viewBox=\"0 0 24 24\"\n",
              "       width=\"24px\">\n",
              "    <path d=\"M0 0h24v24H0V0z\" fill=\"none\"/>\n",
              "    <path d=\"M18.56 5.44l.94 2.06.94-2.06 2.06-.94-2.06-.94-.94-2.06-.94 2.06-2.06.94zm-11 1L8.5 8.5l.94-2.06 2.06-.94-2.06-.94L8.5 2.5l-.94 2.06-2.06.94zm10 10l.94 2.06.94-2.06 2.06-.94-2.06-.94-.94-2.06-.94 2.06-2.06.94z\"/><path d=\"M17.41 7.96l-1.37-1.37c-.4-.4-.92-.59-1.43-.59-.52 0-1.04.2-1.43.59L10.3 9.45l-7.72 7.72c-.78.78-.78 2.05 0 2.83L4 21.41c.39.39.9.59 1.41.59.51 0 1.02-.2 1.41-.59l7.78-7.78 2.81-2.81c.8-.78.8-2.07 0-2.86zM5.41 20L4 18.59l7.72-7.72 1.47 1.35L5.41 20z\"/>\n",
              "  </svg>\n",
              "      </button>\n",
              "      \n",
              "  <style>\n",
              "    .colab-df-container {\n",
              "      display:flex;\n",
              "      flex-wrap:wrap;\n",
              "      gap: 12px;\n",
              "    }\n",
              "\n",
              "    .colab-df-convert {\n",
              "      background-color: #E8F0FE;\n",
              "      border: none;\n",
              "      border-radius: 50%;\n",
              "      cursor: pointer;\n",
              "      display: none;\n",
              "      fill: #1967D2;\n",
              "      height: 32px;\n",
              "      padding: 0 0 0 0;\n",
              "      width: 32px;\n",
              "    }\n",
              "\n",
              "    .colab-df-convert:hover {\n",
              "      background-color: #E2EBFA;\n",
              "      box-shadow: 0px 1px 2px rgba(60, 64, 67, 0.3), 0px 1px 3px 1px rgba(60, 64, 67, 0.15);\n",
              "      fill: #174EA6;\n",
              "    }\n",
              "\n",
              "    [theme=dark] .colab-df-convert {\n",
              "      background-color: #3B4455;\n",
              "      fill: #D2E3FC;\n",
              "    }\n",
              "\n",
              "    [theme=dark] .colab-df-convert:hover {\n",
              "      background-color: #434B5C;\n",
              "      box-shadow: 0px 1px 3px 1px rgba(0, 0, 0, 0.15);\n",
              "      filter: drop-shadow(0px 1px 2px rgba(0, 0, 0, 0.3));\n",
              "      fill: #FFFFFF;\n",
              "    }\n",
              "  </style>\n",
              "\n",
              "      <script>\n",
              "        const buttonEl =\n",
              "          document.querySelector('#df-e4ccf44b-1c3d-4da4-bcae-e2a1470d7f54 button.colab-df-convert');\n",
              "        buttonEl.style.display =\n",
              "          google.colab.kernel.accessAllowed ? 'block' : 'none';\n",
              "\n",
              "        async function convertToInteractive(key) {\n",
              "          const element = document.querySelector('#df-e4ccf44b-1c3d-4da4-bcae-e2a1470d7f54');\n",
              "          const dataTable =\n",
              "            await google.colab.kernel.invokeFunction('convertToInteractive',\n",
              "                                                     [key], {});\n",
              "          if (!dataTable) return;\n",
              "\n",
              "          const docLinkHtml = 'Like what you see? Visit the ' +\n",
              "            '<a target=\"_blank\" href=https://colab.research.google.com/notebooks/data_table.ipynb>data table notebook</a>'\n",
              "            + ' to learn more about interactive tables.';\n",
              "          element.innerHTML = '';\n",
              "          dataTable['output_type'] = 'display_data';\n",
              "          await google.colab.output.renderOutput(dataTable, element);\n",
              "          const docLink = document.createElement('div');\n",
              "          docLink.innerHTML = docLinkHtml;\n",
              "          element.appendChild(docLink);\n",
              "        }\n",
              "      </script>\n",
              "    </div>\n",
              "  </div>\n",
              "  "
            ]
          },
          "metadata": {},
          "execution_count": 19
        }
      ]
    },
    {
      "cell_type": "code",
      "source": [
        "# encode point column\n",
        "points = list(set(list(train_grouped['point'].unique()) + list(valid['point'].unique())))\n",
        "points = {k: v for v, k in enumerate(points)}"
      ],
      "metadata": {
        "id": "i35YgZL4uL4-"
      },
      "execution_count": 20,
      "outputs": []
    },
    {
      "cell_type": "code",
      "source": [
        "# feature engineering\n",
        "ru_holidays = holidays.Russia(years=[2019, 2020])\n",
        "\n",
        "def is_holiday(date):\n",
        "    weekday = date.weekday()\n",
        "    if date in ru_holidays or weekday == 5 or weekday == 6:\n",
        "        return 1\n",
        "    else:\n",
        "        return 0\n",
        "\n",
        "# time features\n",
        "train_grouped['date'] = train_grouped['timestamp'].map(lambda x: datetime.fromtimestamp(x).date())\n",
        "train_grouped['year'] = train_grouped['timestamp'].map(lambda x: datetime.fromtimestamp(x).year)\n",
        "train_grouped['month'] = train_grouped['timestamp'].map(lambda x: datetime.fromtimestamp(x).month)\n",
        "train_grouped['day'] = train_grouped['timestamp'].map(lambda x: datetime.fromtimestamp(x).day)\n",
        "train_grouped['weekday'] = train_grouped['timestamp'].map(lambda x: datetime.fromtimestamp(x).weekday())\n",
        "train_grouped['hour'] = train_grouped['timestamp'].map(lambda x: datetime.fromtimestamp(x).hour)\n",
        "train_grouped['is_weekend'] = train_grouped['weekday'].map(lambda x: 1 if x > 4 and x < 7 else 0)\n",
        "train_grouped['is_holiday'] = train_grouped['date'].map(is_holiday)\n",
        "# encode location\n",
        "train_grouped['point_new'] = train_grouped['point'].map(lambda x: points[x])\n",
        "\n",
        "train_grouped.head()"
      ],
      "metadata": {
        "colab": {
          "base_uri": "https://localhost:8080/",
          "height": 206
        },
        "id": "hea7PBXXWEFx",
        "outputId": "41817852-bf03-47a7-ab8d-34a2258af4e7"
      },
      "execution_count": 21,
      "outputs": [
        {
          "output_type": "execute_result",
          "data": {
            "text/plain": [
              "      timestamp                                              point  sum  \\\n",
              "0    1546300800  0101000020E610000002BF48199F3F3E4010C569574E02...    1   \n",
              "152  1546300800  0101000020E61000009E01B90998523E40E4A1F770CEF7...    1   \n",
              "153  1546300800  0101000020E61000009EE75C6BAC303E401DAC68F66CFE...    1   \n",
              "154  1546300800  0101000020E6100000A4566D514B503E4006FC5DE561F8...    7   \n",
              "155  1546300800  0101000020E6100000A4566D514B503E406DAFAAC186F8...    1   \n",
              "\n",
              "           date  year  month  day  weekday  hour  is_weekend  is_holiday  \\\n",
              "0    2019-01-01  2019      1    1        1     0           0           1   \n",
              "152  2019-01-01  2019      1    1        1     0           0           1   \n",
              "153  2019-01-01  2019      1    1        1     0           0           1   \n",
              "154  2019-01-01  2019      1    1        1     0           0           1   \n",
              "155  2019-01-01  2019      1    1        1     0           0           1   \n",
              "\n",
              "     point_new  \n",
              "0         4043  \n",
              "152       2630  \n",
              "153       4750  \n",
              "154        119  \n",
              "155       5487  "
            ],
            "text/html": [
              "\n",
              "  <div id=\"df-52b6c361-3ab2-4736-ad0a-1f9180810e91\">\n",
              "    <div class=\"colab-df-container\">\n",
              "      <div>\n",
              "<style scoped>\n",
              "    .dataframe tbody tr th:only-of-type {\n",
              "        vertical-align: middle;\n",
              "    }\n",
              "\n",
              "    .dataframe tbody tr th {\n",
              "        vertical-align: top;\n",
              "    }\n",
              "\n",
              "    .dataframe thead th {\n",
              "        text-align: right;\n",
              "    }\n",
              "</style>\n",
              "<table border=\"1\" class=\"dataframe\">\n",
              "  <thead>\n",
              "    <tr style=\"text-align: right;\">\n",
              "      <th></th>\n",
              "      <th>timestamp</th>\n",
              "      <th>point</th>\n",
              "      <th>sum</th>\n",
              "      <th>date</th>\n",
              "      <th>year</th>\n",
              "      <th>month</th>\n",
              "      <th>day</th>\n",
              "      <th>weekday</th>\n",
              "      <th>hour</th>\n",
              "      <th>is_weekend</th>\n",
              "      <th>is_holiday</th>\n",
              "      <th>point_new</th>\n",
              "    </tr>\n",
              "  </thead>\n",
              "  <tbody>\n",
              "    <tr>\n",
              "      <th>0</th>\n",
              "      <td>1546300800</td>\n",
              "      <td>0101000020E610000002BF48199F3F3E4010C569574E02...</td>\n",
              "      <td>1</td>\n",
              "      <td>2019-01-01</td>\n",
              "      <td>2019</td>\n",
              "      <td>1</td>\n",
              "      <td>1</td>\n",
              "      <td>1</td>\n",
              "      <td>0</td>\n",
              "      <td>0</td>\n",
              "      <td>1</td>\n",
              "      <td>4043</td>\n",
              "    </tr>\n",
              "    <tr>\n",
              "      <th>152</th>\n",
              "      <td>1546300800</td>\n",
              "      <td>0101000020E61000009E01B90998523E40E4A1F770CEF7...</td>\n",
              "      <td>1</td>\n",
              "      <td>2019-01-01</td>\n",
              "      <td>2019</td>\n",
              "      <td>1</td>\n",
              "      <td>1</td>\n",
              "      <td>1</td>\n",
              "      <td>0</td>\n",
              "      <td>0</td>\n",
              "      <td>1</td>\n",
              "      <td>2630</td>\n",
              "    </tr>\n",
              "    <tr>\n",
              "      <th>153</th>\n",
              "      <td>1546300800</td>\n",
              "      <td>0101000020E61000009EE75C6BAC303E401DAC68F66CFE...</td>\n",
              "      <td>1</td>\n",
              "      <td>2019-01-01</td>\n",
              "      <td>2019</td>\n",
              "      <td>1</td>\n",
              "      <td>1</td>\n",
              "      <td>1</td>\n",
              "      <td>0</td>\n",
              "      <td>0</td>\n",
              "      <td>1</td>\n",
              "      <td>4750</td>\n",
              "    </tr>\n",
              "    <tr>\n",
              "      <th>154</th>\n",
              "      <td>1546300800</td>\n",
              "      <td>0101000020E6100000A4566D514B503E4006FC5DE561F8...</td>\n",
              "      <td>7</td>\n",
              "      <td>2019-01-01</td>\n",
              "      <td>2019</td>\n",
              "      <td>1</td>\n",
              "      <td>1</td>\n",
              "      <td>1</td>\n",
              "      <td>0</td>\n",
              "      <td>0</td>\n",
              "      <td>1</td>\n",
              "      <td>119</td>\n",
              "    </tr>\n",
              "    <tr>\n",
              "      <th>155</th>\n",
              "      <td>1546300800</td>\n",
              "      <td>0101000020E6100000A4566D514B503E406DAFAAC186F8...</td>\n",
              "      <td>1</td>\n",
              "      <td>2019-01-01</td>\n",
              "      <td>2019</td>\n",
              "      <td>1</td>\n",
              "      <td>1</td>\n",
              "      <td>1</td>\n",
              "      <td>0</td>\n",
              "      <td>0</td>\n",
              "      <td>1</td>\n",
              "      <td>5487</td>\n",
              "    </tr>\n",
              "  </tbody>\n",
              "</table>\n",
              "</div>\n",
              "      <button class=\"colab-df-convert\" onclick=\"convertToInteractive('df-52b6c361-3ab2-4736-ad0a-1f9180810e91')\"\n",
              "              title=\"Convert this dataframe to an interactive table.\"\n",
              "              style=\"display:none;\">\n",
              "        \n",
              "  <svg xmlns=\"http://www.w3.org/2000/svg\" height=\"24px\"viewBox=\"0 0 24 24\"\n",
              "       width=\"24px\">\n",
              "    <path d=\"M0 0h24v24H0V0z\" fill=\"none\"/>\n",
              "    <path d=\"M18.56 5.44l.94 2.06.94-2.06 2.06-.94-2.06-.94-.94-2.06-.94 2.06-2.06.94zm-11 1L8.5 8.5l.94-2.06 2.06-.94-2.06-.94L8.5 2.5l-.94 2.06-2.06.94zm10 10l.94 2.06.94-2.06 2.06-.94-2.06-.94-.94-2.06-.94 2.06-2.06.94z\"/><path d=\"M17.41 7.96l-1.37-1.37c-.4-.4-.92-.59-1.43-.59-.52 0-1.04.2-1.43.59L10.3 9.45l-7.72 7.72c-.78.78-.78 2.05 0 2.83L4 21.41c.39.39.9.59 1.41.59.51 0 1.02-.2 1.41-.59l7.78-7.78 2.81-2.81c.8-.78.8-2.07 0-2.86zM5.41 20L4 18.59l7.72-7.72 1.47 1.35L5.41 20z\"/>\n",
              "  </svg>\n",
              "      </button>\n",
              "      \n",
              "  <style>\n",
              "    .colab-df-container {\n",
              "      display:flex;\n",
              "      flex-wrap:wrap;\n",
              "      gap: 12px;\n",
              "    }\n",
              "\n",
              "    .colab-df-convert {\n",
              "      background-color: #E8F0FE;\n",
              "      border: none;\n",
              "      border-radius: 50%;\n",
              "      cursor: pointer;\n",
              "      display: none;\n",
              "      fill: #1967D2;\n",
              "      height: 32px;\n",
              "      padding: 0 0 0 0;\n",
              "      width: 32px;\n",
              "    }\n",
              "\n",
              "    .colab-df-convert:hover {\n",
              "      background-color: #E2EBFA;\n",
              "      box-shadow: 0px 1px 2px rgba(60, 64, 67, 0.3), 0px 1px 3px 1px rgba(60, 64, 67, 0.15);\n",
              "      fill: #174EA6;\n",
              "    }\n",
              "\n",
              "    [theme=dark] .colab-df-convert {\n",
              "      background-color: #3B4455;\n",
              "      fill: #D2E3FC;\n",
              "    }\n",
              "\n",
              "    [theme=dark] .colab-df-convert:hover {\n",
              "      background-color: #434B5C;\n",
              "      box-shadow: 0px 1px 3px 1px rgba(0, 0, 0, 0.15);\n",
              "      filter: drop-shadow(0px 1px 2px rgba(0, 0, 0, 0.3));\n",
              "      fill: #FFFFFF;\n",
              "    }\n",
              "  </style>\n",
              "\n",
              "      <script>\n",
              "        const buttonEl =\n",
              "          document.querySelector('#df-52b6c361-3ab2-4736-ad0a-1f9180810e91 button.colab-df-convert');\n",
              "        buttonEl.style.display =\n",
              "          google.colab.kernel.accessAllowed ? 'block' : 'none';\n",
              "\n",
              "        async function convertToInteractive(key) {\n",
              "          const element = document.querySelector('#df-52b6c361-3ab2-4736-ad0a-1f9180810e91');\n",
              "          const dataTable =\n",
              "            await google.colab.kernel.invokeFunction('convertToInteractive',\n",
              "                                                     [key], {});\n",
              "          if (!dataTable) return;\n",
              "\n",
              "          const docLinkHtml = 'Like what you see? Visit the ' +\n",
              "            '<a target=\"_blank\" href=https://colab.research.google.com/notebooks/data_table.ipynb>data table notebook</a>'\n",
              "            + ' to learn more about interactive tables.';\n",
              "          element.innerHTML = '';\n",
              "          dataTable['output_type'] = 'display_data';\n",
              "          await google.colab.output.renderOutput(dataTable, element);\n",
              "          const docLink = document.createElement('div');\n",
              "          docLink.innerHTML = docLinkHtml;\n",
              "          element.appendChild(docLink);\n",
              "        }\n",
              "      </script>\n",
              "    </div>\n",
              "  </div>\n",
              "  "
            ]
          },
          "metadata": {},
          "execution_count": 21
        }
      ]
    },
    {
      "cell_type": "code",
      "source": [
        "# valid feature engineering\n",
        "valid['date'] = valid['timestamp'].map(lambda x: datetime.fromtimestamp(x).date())\n",
        "valid['year'] = valid['timestamp'].map(lambda x: datetime.fromtimestamp(x).year)\n",
        "valid['month'] = valid['timestamp'].map(lambda x: datetime.fromtimestamp(x).month)\n",
        "valid['day'] = valid['timestamp'].map(lambda x: datetime.fromtimestamp(x).day)\n",
        "valid['weekday'] = valid['timestamp'].map(lambda x: datetime.fromtimestamp(x).weekday())\n",
        "valid['hour'] = valid['timestamp'].map(lambda x: datetime.fromtimestamp(x).hour)\n",
        "valid['is_weekend'] = valid['weekday'].map(lambda x: 1 if x > 4 and x < 7 else 0)\n",
        "valid['is_holiday'] = valid['date'].map(is_holiday)\n",
        "# encode location\n",
        "valid['point_new'] = valid['point'].map(lambda x: points[x])\n",
        "\n",
        "valid.sort_values('timestamp', inplace=True)\n",
        "valid.head()"
      ],
      "metadata": {
        "colab": {
          "base_uri": "https://localhost:8080/",
          "height": 357
        },
        "id": "2wsIdpdJrJiA",
        "outputId": "61ae8b53-b547-4cc0-b915-59e685ceddc0"
      },
      "execution_count": 22,
      "outputs": [
        {
          "output_type": "execute_result",
          "data": {
            "text/plain": [
              "      timestamp        lat        lon  \\\n",
              "595  1580547600  59.932612  30.250767   \n",
              "594  1580551200  60.034846  30.419201   \n",
              "145  1580551200  59.931487  30.360811   \n",
              "376  1580551200  59.893208  30.515770   \n",
              "551  1580554800  59.929237  30.288946   \n",
              "\n",
              "                                                 point  sum     error  \\\n",
              "595  0101000020E6100000C1A95B4732403E40494A4ED65FF7...   12  1.759517   \n",
              "594  0101000020E6100000B16FE6C6506B3E40504B47D37504...    6  1.754735   \n",
              "145  0101000020E61000004D98FA185E5C3E40CAE971F73AF7...    6  0.045265   \n",
              "376  0101000020E6100000C2DD138409843E4009249E9F54F2...   11  2.421402   \n",
              "551  0101000020E61000006E409D56F8493E400A41C338F1F6...   25  0.192672   \n",
              "\n",
              "           date  year  month  day  weekday  hour  is_weekend  is_holiday  \\\n",
              "595  2020-02-01  2020      2    1        5     9           1           1   \n",
              "594  2020-02-01  2020      2    1        5    10           1           1   \n",
              "145  2020-02-01  2020      2    1        5    10           1           1   \n",
              "376  2020-02-01  2020      2    1        5    10           1           1   \n",
              "551  2020-02-01  2020      2    1        5    11           1           1   \n",
              "\n",
              "     point_new  \n",
              "595       6944  \n",
              "594       4028  \n",
              "145       1762  \n",
              "376        579  \n",
              "551       5947  "
            ],
            "text/html": [
              "\n",
              "  <div id=\"df-e60002ee-183e-40e2-b476-fc11ae8aa7ed\">\n",
              "    <div class=\"colab-df-container\">\n",
              "      <div>\n",
              "<style scoped>\n",
              "    .dataframe tbody tr th:only-of-type {\n",
              "        vertical-align: middle;\n",
              "    }\n",
              "\n",
              "    .dataframe tbody tr th {\n",
              "        vertical-align: top;\n",
              "    }\n",
              "\n",
              "    .dataframe thead th {\n",
              "        text-align: right;\n",
              "    }\n",
              "</style>\n",
              "<table border=\"1\" class=\"dataframe\">\n",
              "  <thead>\n",
              "    <tr style=\"text-align: right;\">\n",
              "      <th></th>\n",
              "      <th>timestamp</th>\n",
              "      <th>lat</th>\n",
              "      <th>lon</th>\n",
              "      <th>point</th>\n",
              "      <th>sum</th>\n",
              "      <th>error</th>\n",
              "      <th>date</th>\n",
              "      <th>year</th>\n",
              "      <th>month</th>\n",
              "      <th>day</th>\n",
              "      <th>weekday</th>\n",
              "      <th>hour</th>\n",
              "      <th>is_weekend</th>\n",
              "      <th>is_holiday</th>\n",
              "      <th>point_new</th>\n",
              "    </tr>\n",
              "  </thead>\n",
              "  <tbody>\n",
              "    <tr>\n",
              "      <th>595</th>\n",
              "      <td>1580547600</td>\n",
              "      <td>59.932612</td>\n",
              "      <td>30.250767</td>\n",
              "      <td>0101000020E6100000C1A95B4732403E40494A4ED65FF7...</td>\n",
              "      <td>12</td>\n",
              "      <td>1.759517</td>\n",
              "      <td>2020-02-01</td>\n",
              "      <td>2020</td>\n",
              "      <td>2</td>\n",
              "      <td>1</td>\n",
              "      <td>5</td>\n",
              "      <td>9</td>\n",
              "      <td>1</td>\n",
              "      <td>1</td>\n",
              "      <td>6944</td>\n",
              "    </tr>\n",
              "    <tr>\n",
              "      <th>594</th>\n",
              "      <td>1580551200</td>\n",
              "      <td>60.034846</td>\n",
              "      <td>30.419201</td>\n",
              "      <td>0101000020E6100000B16FE6C6506B3E40504B47D37504...</td>\n",
              "      <td>6</td>\n",
              "      <td>1.754735</td>\n",
              "      <td>2020-02-01</td>\n",
              "      <td>2020</td>\n",
              "      <td>2</td>\n",
              "      <td>1</td>\n",
              "      <td>5</td>\n",
              "      <td>10</td>\n",
              "      <td>1</td>\n",
              "      <td>1</td>\n",
              "      <td>4028</td>\n",
              "    </tr>\n",
              "    <tr>\n",
              "      <th>145</th>\n",
              "      <td>1580551200</td>\n",
              "      <td>59.931487</td>\n",
              "      <td>30.360811</td>\n",
              "      <td>0101000020E61000004D98FA185E5C3E40CAE971F73AF7...</td>\n",
              "      <td>6</td>\n",
              "      <td>0.045265</td>\n",
              "      <td>2020-02-01</td>\n",
              "      <td>2020</td>\n",
              "      <td>2</td>\n",
              "      <td>1</td>\n",
              "      <td>5</td>\n",
              "      <td>10</td>\n",
              "      <td>1</td>\n",
              "      <td>1</td>\n",
              "      <td>1762</td>\n",
              "    </tr>\n",
              "    <tr>\n",
              "      <th>376</th>\n",
              "      <td>1580551200</td>\n",
              "      <td>59.893208</td>\n",
              "      <td>30.515770</td>\n",
              "      <td>0101000020E6100000C2DD138409843E4009249E9F54F2...</td>\n",
              "      <td>11</td>\n",
              "      <td>2.421402</td>\n",
              "      <td>2020-02-01</td>\n",
              "      <td>2020</td>\n",
              "      <td>2</td>\n",
              "      <td>1</td>\n",
              "      <td>5</td>\n",
              "      <td>10</td>\n",
              "      <td>1</td>\n",
              "      <td>1</td>\n",
              "      <td>579</td>\n",
              "    </tr>\n",
              "    <tr>\n",
              "      <th>551</th>\n",
              "      <td>1580554800</td>\n",
              "      <td>59.929237</td>\n",
              "      <td>30.288946</td>\n",
              "      <td>0101000020E61000006E409D56F8493E400A41C338F1F6...</td>\n",
              "      <td>25</td>\n",
              "      <td>0.192672</td>\n",
              "      <td>2020-02-01</td>\n",
              "      <td>2020</td>\n",
              "      <td>2</td>\n",
              "      <td>1</td>\n",
              "      <td>5</td>\n",
              "      <td>11</td>\n",
              "      <td>1</td>\n",
              "      <td>1</td>\n",
              "      <td>5947</td>\n",
              "    </tr>\n",
              "  </tbody>\n",
              "</table>\n",
              "</div>\n",
              "      <button class=\"colab-df-convert\" onclick=\"convertToInteractive('df-e60002ee-183e-40e2-b476-fc11ae8aa7ed')\"\n",
              "              title=\"Convert this dataframe to an interactive table.\"\n",
              "              style=\"display:none;\">\n",
              "        \n",
              "  <svg xmlns=\"http://www.w3.org/2000/svg\" height=\"24px\"viewBox=\"0 0 24 24\"\n",
              "       width=\"24px\">\n",
              "    <path d=\"M0 0h24v24H0V0z\" fill=\"none\"/>\n",
              "    <path d=\"M18.56 5.44l.94 2.06.94-2.06 2.06-.94-2.06-.94-.94-2.06-.94 2.06-2.06.94zm-11 1L8.5 8.5l.94-2.06 2.06-.94-2.06-.94L8.5 2.5l-.94 2.06-2.06.94zm10 10l.94 2.06.94-2.06 2.06-.94-2.06-.94-.94-2.06-.94 2.06-2.06.94z\"/><path d=\"M17.41 7.96l-1.37-1.37c-.4-.4-.92-.59-1.43-.59-.52 0-1.04.2-1.43.59L10.3 9.45l-7.72 7.72c-.78.78-.78 2.05 0 2.83L4 21.41c.39.39.9.59 1.41.59.51 0 1.02-.2 1.41-.59l7.78-7.78 2.81-2.81c.8-.78.8-2.07 0-2.86zM5.41 20L4 18.59l7.72-7.72 1.47 1.35L5.41 20z\"/>\n",
              "  </svg>\n",
              "      </button>\n",
              "      \n",
              "  <style>\n",
              "    .colab-df-container {\n",
              "      display:flex;\n",
              "      flex-wrap:wrap;\n",
              "      gap: 12px;\n",
              "    }\n",
              "\n",
              "    .colab-df-convert {\n",
              "      background-color: #E8F0FE;\n",
              "      border: none;\n",
              "      border-radius: 50%;\n",
              "      cursor: pointer;\n",
              "      display: none;\n",
              "      fill: #1967D2;\n",
              "      height: 32px;\n",
              "      padding: 0 0 0 0;\n",
              "      width: 32px;\n",
              "    }\n",
              "\n",
              "    .colab-df-convert:hover {\n",
              "      background-color: #E2EBFA;\n",
              "      box-shadow: 0px 1px 2px rgba(60, 64, 67, 0.3), 0px 1px 3px 1px rgba(60, 64, 67, 0.15);\n",
              "      fill: #174EA6;\n",
              "    }\n",
              "\n",
              "    [theme=dark] .colab-df-convert {\n",
              "      background-color: #3B4455;\n",
              "      fill: #D2E3FC;\n",
              "    }\n",
              "\n",
              "    [theme=dark] .colab-df-convert:hover {\n",
              "      background-color: #434B5C;\n",
              "      box-shadow: 0px 1px 3px 1px rgba(0, 0, 0, 0.15);\n",
              "      filter: drop-shadow(0px 1px 2px rgba(0, 0, 0, 0.3));\n",
              "      fill: #FFFFFF;\n",
              "    }\n",
              "  </style>\n",
              "\n",
              "      <script>\n",
              "        const buttonEl =\n",
              "          document.querySelector('#df-e60002ee-183e-40e2-b476-fc11ae8aa7ed button.colab-df-convert');\n",
              "        buttonEl.style.display =\n",
              "          google.colab.kernel.accessAllowed ? 'block' : 'none';\n",
              "\n",
              "        async function convertToInteractive(key) {\n",
              "          const element = document.querySelector('#df-e60002ee-183e-40e2-b476-fc11ae8aa7ed');\n",
              "          const dataTable =\n",
              "            await google.colab.kernel.invokeFunction('convertToInteractive',\n",
              "                                                     [key], {});\n",
              "          if (!dataTable) return;\n",
              "\n",
              "          const docLinkHtml = 'Like what you see? Visit the ' +\n",
              "            '<a target=\"_blank\" href=https://colab.research.google.com/notebooks/data_table.ipynb>data table notebook</a>'\n",
              "            + ' to learn more about interactive tables.';\n",
              "          element.innerHTML = '';\n",
              "          dataTable['output_type'] = 'display_data';\n",
              "          await google.colab.output.renderOutput(dataTable, element);\n",
              "          const docLink = document.createElement('div');\n",
              "          docLink.innerHTML = docLinkHtml;\n",
              "          element.appendChild(docLink);\n",
              "        }\n",
              "      </script>\n",
              "    </div>\n",
              "  </div>\n",
              "  "
            ]
          },
          "metadata": {},
          "execution_count": 22
        }
      ]
    },
    {
      "cell_type": "code",
      "source": [
        "# prepare train test data\n",
        "X_train = train_grouped.drop(['timestamp', 'point', 'date', 'sum'], axis=1)\n",
        "y_train = train_grouped['sum']\n",
        "\n",
        "X_valid = valid.drop(['timestamp', 'point', 'date', 'lat', 'lon', 'sum', 'error'], axis=1)\n",
        "y_valid = valid['sum'].to_numpy()"
      ],
      "metadata": {
        "id": "qEsREBa1StDY"
      },
      "execution_count": 23,
      "outputs": []
    },
    {
      "cell_type": "code",
      "source": [
        "# eval\n",
        "def metrics(prediction, ground_truth):\n",
        "    return np.mean(np.abs(prediction - ground_truth) / prediction)"
      ],
      "metadata": {
        "id": "nVm19Pyey99j"
      },
      "execution_count": 24,
      "outputs": []
    },
    {
      "cell_type": "code",
      "source": [
        "catboost = CatBoostRegressor(verbose=False, random_state=42, task_type='GPU', depth=3)\n",
        "catboost.fit(X_train, y_train)"
      ],
      "metadata": {
        "colab": {
          "base_uri": "https://localhost:8080/"
        },
        "id": "9s_Upwv5rk8A",
        "outputId": "15fce5cf-29d1-4408-c323-407a5165ff6d"
      },
      "execution_count": 25,
      "outputs": [
        {
          "output_type": "execute_result",
          "data": {
            "text/plain": [
              "<catboost.core.CatBoostRegressor at 0x7f2a9f04ef90>"
            ]
          },
          "metadata": {},
          "execution_count": 25
        }
      ]
    },
    {
      "cell_type": "code",
      "source": [
        "cat_pred = catboost.predict(X_valid)\n",
        "metrics(cat_pred, y_valid)"
      ],
      "metadata": {
        "colab": {
          "base_uri": "https://localhost:8080/"
        },
        "id": "FwLPVWVuu9Jv",
        "outputId": "d498b8f2-e4d0-4de2-c330-d091d12d0237"
      },
      "execution_count": 26,
      "outputs": [
        {
          "output_type": "execute_result",
          "data": {
            "text/plain": [
              "1.8390921387632153"
            ]
          },
          "metadata": {},
          "execution_count": 26
        }
      ]
    },
    {
      "cell_type": "code",
      "source": [
        "catboost.get_params()"
      ],
      "metadata": {
        "colab": {
          "base_uri": "https://localhost:8080/"
        },
        "id": "X-gRq4p0aOiD",
        "outputId": "cbaa2fb5-2b12-4b6a-f5a9-6cbf4b9426a1"
      },
      "execution_count": 27,
      "outputs": [
        {
          "output_type": "execute_result",
          "data": {
            "text/plain": [
              "{'depth': 3,\n",
              " 'loss_function': 'RMSE',\n",
              " 'verbose': False,\n",
              " 'task_type': 'GPU',\n",
              " 'random_state': 42}"
            ]
          },
          "metadata": {},
          "execution_count": 27
        }
      ]
    },
    {
      "cell_type": "code",
      "source": [
        "xgboost = XGBRegressor(random_state=42, tree_method='gpu_hist', subsample=0.75, n_estimators=1000)\n",
        "xgboost.fit(X_train, y_train)"
      ],
      "metadata": {
        "colab": {
          "base_uri": "https://localhost:8080/"
        },
        "id": "IjMlR6kDxFxY",
        "outputId": "cb5ca261-02a9-43f3-fb87-9a1796bb012a"
      },
      "execution_count": 28,
      "outputs": [
        {
          "output_type": "stream",
          "name": "stdout",
          "text": [
            "[18:43:15] WARNING: /workspace/src/objective/regression_obj.cu:152: reg:linear is now deprecated in favor of reg:squarederror.\n"
          ]
        },
        {
          "output_type": "execute_result",
          "data": {
            "text/plain": [
              "XGBRegressor(n_estimators=1000, random_state=42, subsample=0.75,\n",
              "             tree_method='gpu_hist')"
            ]
          },
          "metadata": {},
          "execution_count": 28
        }
      ]
    },
    {
      "cell_type": "code",
      "source": [
        "xgb_pred = xgboost.predict(X_valid)\n",
        "metrics(xgb_pred, y_valid)"
      ],
      "metadata": {
        "colab": {
          "base_uri": "https://localhost:8080/"
        },
        "id": "pqC1mmG1zRd2",
        "outputId": "30a8ab91-1a1f-4bc3-a3e1-52707245dda5"
      },
      "execution_count": 29,
      "outputs": [
        {
          "output_type": "execute_result",
          "data": {
            "text/plain": [
              "1.5215651719710797"
            ]
          },
          "metadata": {},
          "execution_count": 29
        }
      ]
    },
    {
      "cell_type": "code",
      "source": [
        "xgboost.get_params()"
      ],
      "metadata": {
        "colab": {
          "base_uri": "https://localhost:8080/"
        },
        "id": "pyhtwLA1Ss9A",
        "outputId": "69ebabd4-fc2c-4518-d89a-45de8360719f"
      },
      "execution_count": 30,
      "outputs": [
        {
          "output_type": "execute_result",
          "data": {
            "text/plain": [
              "{'base_score': 0.5,\n",
              " 'booster': 'gbtree',\n",
              " 'colsample_bylevel': 1,\n",
              " 'colsample_bynode': 1,\n",
              " 'colsample_bytree': 1,\n",
              " 'gamma': 0,\n",
              " 'importance_type': 'gain',\n",
              " 'learning_rate': 0.1,\n",
              " 'max_delta_step': 0,\n",
              " 'max_depth': 3,\n",
              " 'min_child_weight': 1,\n",
              " 'missing': None,\n",
              " 'n_estimators': 1000,\n",
              " 'n_jobs': 1,\n",
              " 'nthread': None,\n",
              " 'objective': 'reg:linear',\n",
              " 'random_state': 42,\n",
              " 'reg_alpha': 0,\n",
              " 'reg_lambda': 1,\n",
              " 'scale_pos_weight': 1,\n",
              " 'seed': None,\n",
              " 'silent': None,\n",
              " 'subsample': 0.75,\n",
              " 'verbosity': 1,\n",
              " 'tree_method': 'gpu_hist'}"
            ]
          },
          "metadata": {},
          "execution_count": 30
        }
      ]
    },
    {
      "cell_type": "code",
      "source": [
        "results = pd.DataFrame(np.array([y_valid, xgb_pred, cat_pred, valid['error']]).T, columns=['ground_truth', 'xgb', 'catboost', 'base_error'])"
      ],
      "metadata": {
        "id": "TnVLFJ9xyuge"
      },
      "execution_count": 31,
      "outputs": []
    },
    {
      "cell_type": "code",
      "source": [
        "# np.mean(np.abs(prediction - ground_truth) / prediction)\n",
        "results['xgb_error'] = np.abs(results['xgb'] - results['ground_truth']) / results['xgb']\n",
        "results['cat_error'] = np.abs(results['catboost'] - results['ground_truth']) / results['catboost']\n",
        "results.head()"
      ],
      "metadata": {
        "colab": {
          "base_uri": "https://localhost:8080/",
          "height": 206
        },
        "id": "fS6O8_FazZkt",
        "outputId": "f5a91176-b848-4dcf-83d5-f6f0b40cacea"
      },
      "execution_count": 32,
      "outputs": [
        {
          "output_type": "execute_result",
          "data": {
            "text/plain": [
              "   ground_truth        xgb  catboost  base_error  xgb_error  cat_error\n",
              "0          12.0   5.992098  5.011291    1.759517   1.002637   1.394593\n",
              "1           6.0   2.192162  2.279675    1.754735   1.737024   1.631954\n",
              "2           6.0   3.737850  3.095958    0.045265   0.605201   0.938011\n",
              "3          11.0   3.664376  3.081694    2.421402   2.001875   2.569465\n",
              "4          25.0  11.385680  7.537825    0.192672   1.195741   2.316607"
            ],
            "text/html": [
              "\n",
              "  <div id=\"df-3efcb67d-e076-4fae-b0c4-5c0928618370\">\n",
              "    <div class=\"colab-df-container\">\n",
              "      <div>\n",
              "<style scoped>\n",
              "    .dataframe tbody tr th:only-of-type {\n",
              "        vertical-align: middle;\n",
              "    }\n",
              "\n",
              "    .dataframe tbody tr th {\n",
              "        vertical-align: top;\n",
              "    }\n",
              "\n",
              "    .dataframe thead th {\n",
              "        text-align: right;\n",
              "    }\n",
              "</style>\n",
              "<table border=\"1\" class=\"dataframe\">\n",
              "  <thead>\n",
              "    <tr style=\"text-align: right;\">\n",
              "      <th></th>\n",
              "      <th>ground_truth</th>\n",
              "      <th>xgb</th>\n",
              "      <th>catboost</th>\n",
              "      <th>base_error</th>\n",
              "      <th>xgb_error</th>\n",
              "      <th>cat_error</th>\n",
              "    </tr>\n",
              "  </thead>\n",
              "  <tbody>\n",
              "    <tr>\n",
              "      <th>0</th>\n",
              "      <td>12.0</td>\n",
              "      <td>5.992098</td>\n",
              "      <td>5.011291</td>\n",
              "      <td>1.759517</td>\n",
              "      <td>1.002637</td>\n",
              "      <td>1.394593</td>\n",
              "    </tr>\n",
              "    <tr>\n",
              "      <th>1</th>\n",
              "      <td>6.0</td>\n",
              "      <td>2.192162</td>\n",
              "      <td>2.279675</td>\n",
              "      <td>1.754735</td>\n",
              "      <td>1.737024</td>\n",
              "      <td>1.631954</td>\n",
              "    </tr>\n",
              "    <tr>\n",
              "      <th>2</th>\n",
              "      <td>6.0</td>\n",
              "      <td>3.737850</td>\n",
              "      <td>3.095958</td>\n",
              "      <td>0.045265</td>\n",
              "      <td>0.605201</td>\n",
              "      <td>0.938011</td>\n",
              "    </tr>\n",
              "    <tr>\n",
              "      <th>3</th>\n",
              "      <td>11.0</td>\n",
              "      <td>3.664376</td>\n",
              "      <td>3.081694</td>\n",
              "      <td>2.421402</td>\n",
              "      <td>2.001875</td>\n",
              "      <td>2.569465</td>\n",
              "    </tr>\n",
              "    <tr>\n",
              "      <th>4</th>\n",
              "      <td>25.0</td>\n",
              "      <td>11.385680</td>\n",
              "      <td>7.537825</td>\n",
              "      <td>0.192672</td>\n",
              "      <td>1.195741</td>\n",
              "      <td>2.316607</td>\n",
              "    </tr>\n",
              "  </tbody>\n",
              "</table>\n",
              "</div>\n",
              "      <button class=\"colab-df-convert\" onclick=\"convertToInteractive('df-3efcb67d-e076-4fae-b0c4-5c0928618370')\"\n",
              "              title=\"Convert this dataframe to an interactive table.\"\n",
              "              style=\"display:none;\">\n",
              "        \n",
              "  <svg xmlns=\"http://www.w3.org/2000/svg\" height=\"24px\"viewBox=\"0 0 24 24\"\n",
              "       width=\"24px\">\n",
              "    <path d=\"M0 0h24v24H0V0z\" fill=\"none\"/>\n",
              "    <path d=\"M18.56 5.44l.94 2.06.94-2.06 2.06-.94-2.06-.94-.94-2.06-.94 2.06-2.06.94zm-11 1L8.5 8.5l.94-2.06 2.06-.94-2.06-.94L8.5 2.5l-.94 2.06-2.06.94zm10 10l.94 2.06.94-2.06 2.06-.94-2.06-.94-.94-2.06-.94 2.06-2.06.94z\"/><path d=\"M17.41 7.96l-1.37-1.37c-.4-.4-.92-.59-1.43-.59-.52 0-1.04.2-1.43.59L10.3 9.45l-7.72 7.72c-.78.78-.78 2.05 0 2.83L4 21.41c.39.39.9.59 1.41.59.51 0 1.02-.2 1.41-.59l7.78-7.78 2.81-2.81c.8-.78.8-2.07 0-2.86zM5.41 20L4 18.59l7.72-7.72 1.47 1.35L5.41 20z\"/>\n",
              "  </svg>\n",
              "      </button>\n",
              "      \n",
              "  <style>\n",
              "    .colab-df-container {\n",
              "      display:flex;\n",
              "      flex-wrap:wrap;\n",
              "      gap: 12px;\n",
              "    }\n",
              "\n",
              "    .colab-df-convert {\n",
              "      background-color: #E8F0FE;\n",
              "      border: none;\n",
              "      border-radius: 50%;\n",
              "      cursor: pointer;\n",
              "      display: none;\n",
              "      fill: #1967D2;\n",
              "      height: 32px;\n",
              "      padding: 0 0 0 0;\n",
              "      width: 32px;\n",
              "    }\n",
              "\n",
              "    .colab-df-convert:hover {\n",
              "      background-color: #E2EBFA;\n",
              "      box-shadow: 0px 1px 2px rgba(60, 64, 67, 0.3), 0px 1px 3px 1px rgba(60, 64, 67, 0.15);\n",
              "      fill: #174EA6;\n",
              "    }\n",
              "\n",
              "    [theme=dark] .colab-df-convert {\n",
              "      background-color: #3B4455;\n",
              "      fill: #D2E3FC;\n",
              "    }\n",
              "\n",
              "    [theme=dark] .colab-df-convert:hover {\n",
              "      background-color: #434B5C;\n",
              "      box-shadow: 0px 1px 3px 1px rgba(0, 0, 0, 0.15);\n",
              "      filter: drop-shadow(0px 1px 2px rgba(0, 0, 0, 0.3));\n",
              "      fill: #FFFFFF;\n",
              "    }\n",
              "  </style>\n",
              "\n",
              "      <script>\n",
              "        const buttonEl =\n",
              "          document.querySelector('#df-3efcb67d-e076-4fae-b0c4-5c0928618370 button.colab-df-convert');\n",
              "        buttonEl.style.display =\n",
              "          google.colab.kernel.accessAllowed ? 'block' : 'none';\n",
              "\n",
              "        async function convertToInteractive(key) {\n",
              "          const element = document.querySelector('#df-3efcb67d-e076-4fae-b0c4-5c0928618370');\n",
              "          const dataTable =\n",
              "            await google.colab.kernel.invokeFunction('convertToInteractive',\n",
              "                                                     [key], {});\n",
              "          if (!dataTable) return;\n",
              "\n",
              "          const docLinkHtml = 'Like what you see? Visit the ' +\n",
              "            '<a target=\"_blank\" href=https://colab.research.google.com/notebooks/data_table.ipynb>data table notebook</a>'\n",
              "            + ' to learn more about interactive tables.';\n",
              "          element.innerHTML = '';\n",
              "          dataTable['output_type'] = 'display_data';\n",
              "          await google.colab.output.renderOutput(dataTable, element);\n",
              "          const docLink = document.createElement('div');\n",
              "          docLink.innerHTML = docLinkHtml;\n",
              "          element.appendChild(docLink);\n",
              "        }\n",
              "      </script>\n",
              "    </div>\n",
              "  </div>\n",
              "  "
            ]
          },
          "metadata": {},
          "execution_count": 32
        }
      ]
    },
    {
      "cell_type": "code",
      "source": [
        "# test feature engineering\n",
        "test['date'] = test['timestamp'].map(lambda x: datetime.fromtimestamp(x).date())\n",
        "test['year'] = test['timestamp'].map(lambda x: datetime.fromtimestamp(x).year)\n",
        "test['month'] = test['timestamp'].map(lambda x: datetime.fromtimestamp(x).month)\n",
        "test['day'] = test['timestamp'].map(lambda x: datetime.fromtimestamp(x).day)\n",
        "test['weekday'] = test['timestamp'].map(lambda x: datetime.fromtimestamp(x).weekday())\n",
        "test['hour'] = test['timestamp'].map(lambda x: datetime.fromtimestamp(x).hour)\n",
        "test['is_weekend'] = test['weekday'].map(lambda x: 1 if x > 4 and x < 7 else 0)\n",
        "test['is_holiday'] = test['date'].map(is_holiday)\n",
        "# encode location\n",
        "test['point_new'] = test['point'].map(lambda x: points[x])\n",
        "\n",
        "test.sort_values('timestamp', inplace=True)\n",
        "test.head()"
      ],
      "metadata": {
        "id": "Nfssr54pHKDt",
        "colab": {
          "base_uri": "https://localhost:8080/",
          "height": 357
        },
        "outputId": "cfc10688-1375-4515-cf20-dd9d28760033"
      },
      "execution_count": 33,
      "outputs": [
        {
          "output_type": "execute_result",
          "data": {
            "text/plain": [
              "      timestamp        lat        lon  \\\n",
              "417  1580536800  59.931487  30.354073   \n",
              "641  1580536800  59.893208  30.515770   \n",
              "171  1580544000  59.921359  30.356319   \n",
              "167  1580551200  59.982083  30.199114   \n",
              "64   1580551200  60.039332  30.322632   \n",
              "\n",
              "                                                 point  sum     error  \\\n",
              "417  0101000020E61000000FD8C18EA45A3E40CAE971F73AF7...    7  1.088069   \n",
              "641  0101000020E6100000C2DD138409843E4009249E9F54F2...    8  2.754735   \n",
              "171  0101000020E6100000CFC2D4BC375B3E401FBF4913EFF5...   13  0.379735   \n",
              "167  0101000020E61000009A92A823F9323E40DDC94EE7B4FD...    6  0.254735   \n",
              "64   0101000020E61000009E01B90998523E40888919D70805...    7  5.754735   \n",
              "\n",
              "           date  year  month  day  weekday  hour  is_weekend  is_holiday  \\\n",
              "417  2020-02-01  2020      2    1        5     6           1           1   \n",
              "641  2020-02-01  2020      2    1        5     6           1           1   \n",
              "171  2020-02-01  2020      2    1        5     8           1           1   \n",
              "167  2020-02-01  2020      2    1        5    10           1           1   \n",
              "64   2020-02-01  2020      2    1        5    10           1           1   \n",
              "\n",
              "     point_new  \n",
              "417       1521  \n",
              "641        579  \n",
              "171       5197  \n",
              "167       6723  \n",
              "64        5100  "
            ],
            "text/html": [
              "\n",
              "  <div id=\"df-a0f99146-bb61-46d7-b60a-064e60bf8b67\">\n",
              "    <div class=\"colab-df-container\">\n",
              "      <div>\n",
              "<style scoped>\n",
              "    .dataframe tbody tr th:only-of-type {\n",
              "        vertical-align: middle;\n",
              "    }\n",
              "\n",
              "    .dataframe tbody tr th {\n",
              "        vertical-align: top;\n",
              "    }\n",
              "\n",
              "    .dataframe thead th {\n",
              "        text-align: right;\n",
              "    }\n",
              "</style>\n",
              "<table border=\"1\" class=\"dataframe\">\n",
              "  <thead>\n",
              "    <tr style=\"text-align: right;\">\n",
              "      <th></th>\n",
              "      <th>timestamp</th>\n",
              "      <th>lat</th>\n",
              "      <th>lon</th>\n",
              "      <th>point</th>\n",
              "      <th>sum</th>\n",
              "      <th>error</th>\n",
              "      <th>date</th>\n",
              "      <th>year</th>\n",
              "      <th>month</th>\n",
              "      <th>day</th>\n",
              "      <th>weekday</th>\n",
              "      <th>hour</th>\n",
              "      <th>is_weekend</th>\n",
              "      <th>is_holiday</th>\n",
              "      <th>point_new</th>\n",
              "    </tr>\n",
              "  </thead>\n",
              "  <tbody>\n",
              "    <tr>\n",
              "      <th>417</th>\n",
              "      <td>1580536800</td>\n",
              "      <td>59.931487</td>\n",
              "      <td>30.354073</td>\n",
              "      <td>0101000020E61000000FD8C18EA45A3E40CAE971F73AF7...</td>\n",
              "      <td>7</td>\n",
              "      <td>1.088069</td>\n",
              "      <td>2020-02-01</td>\n",
              "      <td>2020</td>\n",
              "      <td>2</td>\n",
              "      <td>1</td>\n",
              "      <td>5</td>\n",
              "      <td>6</td>\n",
              "      <td>1</td>\n",
              "      <td>1</td>\n",
              "      <td>1521</td>\n",
              "    </tr>\n",
              "    <tr>\n",
              "      <th>641</th>\n",
              "      <td>1580536800</td>\n",
              "      <td>59.893208</td>\n",
              "      <td>30.515770</td>\n",
              "      <td>0101000020E6100000C2DD138409843E4009249E9F54F2...</td>\n",
              "      <td>8</td>\n",
              "      <td>2.754735</td>\n",
              "      <td>2020-02-01</td>\n",
              "      <td>2020</td>\n",
              "      <td>2</td>\n",
              "      <td>1</td>\n",
              "      <td>5</td>\n",
              "      <td>6</td>\n",
              "      <td>1</td>\n",
              "      <td>1</td>\n",
              "      <td>579</td>\n",
              "    </tr>\n",
              "    <tr>\n",
              "      <th>171</th>\n",
              "      <td>1580544000</td>\n",
              "      <td>59.921359</td>\n",
              "      <td>30.356319</td>\n",
              "      <td>0101000020E6100000CFC2D4BC375B3E401FBF4913EFF5...</td>\n",
              "      <td>13</td>\n",
              "      <td>0.379735</td>\n",
              "      <td>2020-02-01</td>\n",
              "      <td>2020</td>\n",
              "      <td>2</td>\n",
              "      <td>1</td>\n",
              "      <td>5</td>\n",
              "      <td>8</td>\n",
              "      <td>1</td>\n",
              "      <td>1</td>\n",
              "      <td>5197</td>\n",
              "    </tr>\n",
              "    <tr>\n",
              "      <th>167</th>\n",
              "      <td>1580551200</td>\n",
              "      <td>59.982083</td>\n",
              "      <td>30.199114</td>\n",
              "      <td>0101000020E61000009A92A823F9323E40DDC94EE7B4FD...</td>\n",
              "      <td>6</td>\n",
              "      <td>0.254735</td>\n",
              "      <td>2020-02-01</td>\n",
              "      <td>2020</td>\n",
              "      <td>2</td>\n",
              "      <td>1</td>\n",
              "      <td>5</td>\n",
              "      <td>10</td>\n",
              "      <td>1</td>\n",
              "      <td>1</td>\n",
              "      <td>6723</td>\n",
              "    </tr>\n",
              "    <tr>\n",
              "      <th>64</th>\n",
              "      <td>1580551200</td>\n",
              "      <td>60.039332</td>\n",
              "      <td>30.322632</td>\n",
              "      <td>0101000020E61000009E01B90998523E40888919D70805...</td>\n",
              "      <td>7</td>\n",
              "      <td>5.754735</td>\n",
              "      <td>2020-02-01</td>\n",
              "      <td>2020</td>\n",
              "      <td>2</td>\n",
              "      <td>1</td>\n",
              "      <td>5</td>\n",
              "      <td>10</td>\n",
              "      <td>1</td>\n",
              "      <td>1</td>\n",
              "      <td>5100</td>\n",
              "    </tr>\n",
              "  </tbody>\n",
              "</table>\n",
              "</div>\n",
              "      <button class=\"colab-df-convert\" onclick=\"convertToInteractive('df-a0f99146-bb61-46d7-b60a-064e60bf8b67')\"\n",
              "              title=\"Convert this dataframe to an interactive table.\"\n",
              "              style=\"display:none;\">\n",
              "        \n",
              "  <svg xmlns=\"http://www.w3.org/2000/svg\" height=\"24px\"viewBox=\"0 0 24 24\"\n",
              "       width=\"24px\">\n",
              "    <path d=\"M0 0h24v24H0V0z\" fill=\"none\"/>\n",
              "    <path d=\"M18.56 5.44l.94 2.06.94-2.06 2.06-.94-2.06-.94-.94-2.06-.94 2.06-2.06.94zm-11 1L8.5 8.5l.94-2.06 2.06-.94-2.06-.94L8.5 2.5l-.94 2.06-2.06.94zm10 10l.94 2.06.94-2.06 2.06-.94-2.06-.94-.94-2.06-.94 2.06-2.06.94z\"/><path d=\"M17.41 7.96l-1.37-1.37c-.4-.4-.92-.59-1.43-.59-.52 0-1.04.2-1.43.59L10.3 9.45l-7.72 7.72c-.78.78-.78 2.05 0 2.83L4 21.41c.39.39.9.59 1.41.59.51 0 1.02-.2 1.41-.59l7.78-7.78 2.81-2.81c.8-.78.8-2.07 0-2.86zM5.41 20L4 18.59l7.72-7.72 1.47 1.35L5.41 20z\"/>\n",
              "  </svg>\n",
              "      </button>\n",
              "      \n",
              "  <style>\n",
              "    .colab-df-container {\n",
              "      display:flex;\n",
              "      flex-wrap:wrap;\n",
              "      gap: 12px;\n",
              "    }\n",
              "\n",
              "    .colab-df-convert {\n",
              "      background-color: #E8F0FE;\n",
              "      border: none;\n",
              "      border-radius: 50%;\n",
              "      cursor: pointer;\n",
              "      display: none;\n",
              "      fill: #1967D2;\n",
              "      height: 32px;\n",
              "      padding: 0 0 0 0;\n",
              "      width: 32px;\n",
              "    }\n",
              "\n",
              "    .colab-df-convert:hover {\n",
              "      background-color: #E2EBFA;\n",
              "      box-shadow: 0px 1px 2px rgba(60, 64, 67, 0.3), 0px 1px 3px 1px rgba(60, 64, 67, 0.15);\n",
              "      fill: #174EA6;\n",
              "    }\n",
              "\n",
              "    [theme=dark] .colab-df-convert {\n",
              "      background-color: #3B4455;\n",
              "      fill: #D2E3FC;\n",
              "    }\n",
              "\n",
              "    [theme=dark] .colab-df-convert:hover {\n",
              "      background-color: #434B5C;\n",
              "      box-shadow: 0px 1px 3px 1px rgba(0, 0, 0, 0.15);\n",
              "      filter: drop-shadow(0px 1px 2px rgba(0, 0, 0, 0.3));\n",
              "      fill: #FFFFFF;\n",
              "    }\n",
              "  </style>\n",
              "\n",
              "      <script>\n",
              "        const buttonEl =\n",
              "          document.querySelector('#df-a0f99146-bb61-46d7-b60a-064e60bf8b67 button.colab-df-convert');\n",
              "        buttonEl.style.display =\n",
              "          google.colab.kernel.accessAllowed ? 'block' : 'none';\n",
              "\n",
              "        async function convertToInteractive(key) {\n",
              "          const element = document.querySelector('#df-a0f99146-bb61-46d7-b60a-064e60bf8b67');\n",
              "          const dataTable =\n",
              "            await google.colab.kernel.invokeFunction('convertToInteractive',\n",
              "                                                     [key], {});\n",
              "          if (!dataTable) return;\n",
              "\n",
              "          const docLinkHtml = 'Like what you see? Visit the ' +\n",
              "            '<a target=\"_blank\" href=https://colab.research.google.com/notebooks/data_table.ipynb>data table notebook</a>'\n",
              "            + ' to learn more about interactive tables.';\n",
              "          element.innerHTML = '';\n",
              "          dataTable['output_type'] = 'display_data';\n",
              "          await google.colab.output.renderOutput(dataTable, element);\n",
              "          const docLink = document.createElement('div');\n",
              "          docLink.innerHTML = docLinkHtml;\n",
              "          element.appendChild(docLink);\n",
              "        }\n",
              "      </script>\n",
              "    </div>\n",
              "  </div>\n",
              "  "
            ]
          },
          "metadata": {},
          "execution_count": 33
        }
      ]
    },
    {
      "cell_type": "code",
      "source": [
        "X_test = test.drop(['timestamp', 'point', 'date', 'lat', 'lon', 'sum', 'error'], axis=1)\n",
        "y_test = test['sum'].to_numpy()"
      ],
      "metadata": {
        "id": "YwZEtKrYA4xd"
      },
      "execution_count": 34,
      "outputs": []
    },
    {
      "cell_type": "code",
      "source": [
        "cat_pred_test = catboost.predict(X_test)\n",
        "metrics(cat_pred_test, y_test)"
      ],
      "metadata": {
        "colab": {
          "base_uri": "https://localhost:8080/"
        },
        "id": "PUf1IEdjCOoz",
        "outputId": "84c48034-1027-42e1-b723-d7e13e594c4b"
      },
      "execution_count": 35,
      "outputs": [
        {
          "output_type": "execute_result",
          "data": {
            "text/plain": [
              "1.8638957504574085"
            ]
          },
          "metadata": {},
          "execution_count": 35
        }
      ]
    },
    {
      "cell_type": "code",
      "source": [
        "cat_pred_df = pd.DataFrame(cat_pred_test, columns=['sum_pred'])\n",
        "cat_pred_df['date'] = test.date\n",
        "cat_pred_df['lat'] = test.lat\n",
        "cat_pred_df['lon'] = test.lon\n",
        "cat_pred_df['timestamp'] = test.timestamp\n",
        "cat_pred_df['point_new'] = test.point_new\n",
        "cat_pred_df.head()"
      ],
      "metadata": {
        "colab": {
          "base_uri": "https://localhost:8080/",
          "height": 206
        },
        "id": "ei3e_AqirAzU",
        "outputId": "a9bd60f9-9001-442c-ff41-721bee4f553f"
      },
      "execution_count": 36,
      "outputs": [
        {
          "output_type": "execute_result",
          "data": {
            "text/plain": [
              "   sum_pred        date        lat        lon   timestamp  point_new\n",
              "0  2.033512  2020-02-26  59.934863  30.331616  1582711200       4317\n",
              "1  2.598671  2020-02-17  59.940488  30.329370  1581937200       5153\n",
              "2  3.764475  2020-02-12  59.905597  30.297929  1581523200        823\n",
              "3  7.133462  2020-02-12  59.921359  30.356319  1581512400       5197\n",
              "4  2.764488  2020-02-15  59.939363  30.315895  1581771600       1116"
            ],
            "text/html": [
              "\n",
              "  <div id=\"df-c0dece04-719c-4e48-a766-2d6f6fc7cd49\">\n",
              "    <div class=\"colab-df-container\">\n",
              "      <div>\n",
              "<style scoped>\n",
              "    .dataframe tbody tr th:only-of-type {\n",
              "        vertical-align: middle;\n",
              "    }\n",
              "\n",
              "    .dataframe tbody tr th {\n",
              "        vertical-align: top;\n",
              "    }\n",
              "\n",
              "    .dataframe thead th {\n",
              "        text-align: right;\n",
              "    }\n",
              "</style>\n",
              "<table border=\"1\" class=\"dataframe\">\n",
              "  <thead>\n",
              "    <tr style=\"text-align: right;\">\n",
              "      <th></th>\n",
              "      <th>sum_pred</th>\n",
              "      <th>date</th>\n",
              "      <th>lat</th>\n",
              "      <th>lon</th>\n",
              "      <th>timestamp</th>\n",
              "      <th>point_new</th>\n",
              "    </tr>\n",
              "  </thead>\n",
              "  <tbody>\n",
              "    <tr>\n",
              "      <th>0</th>\n",
              "      <td>2.033512</td>\n",
              "      <td>2020-02-26</td>\n",
              "      <td>59.934863</td>\n",
              "      <td>30.331616</td>\n",
              "      <td>1582711200</td>\n",
              "      <td>4317</td>\n",
              "    </tr>\n",
              "    <tr>\n",
              "      <th>1</th>\n",
              "      <td>2.598671</td>\n",
              "      <td>2020-02-17</td>\n",
              "      <td>59.940488</td>\n",
              "      <td>30.329370</td>\n",
              "      <td>1581937200</td>\n",
              "      <td>5153</td>\n",
              "    </tr>\n",
              "    <tr>\n",
              "      <th>2</th>\n",
              "      <td>3.764475</td>\n",
              "      <td>2020-02-12</td>\n",
              "      <td>59.905597</td>\n",
              "      <td>30.297929</td>\n",
              "      <td>1581523200</td>\n",
              "      <td>823</td>\n",
              "    </tr>\n",
              "    <tr>\n",
              "      <th>3</th>\n",
              "      <td>7.133462</td>\n",
              "      <td>2020-02-12</td>\n",
              "      <td>59.921359</td>\n",
              "      <td>30.356319</td>\n",
              "      <td>1581512400</td>\n",
              "      <td>5197</td>\n",
              "    </tr>\n",
              "    <tr>\n",
              "      <th>4</th>\n",
              "      <td>2.764488</td>\n",
              "      <td>2020-02-15</td>\n",
              "      <td>59.939363</td>\n",
              "      <td>30.315895</td>\n",
              "      <td>1581771600</td>\n",
              "      <td>1116</td>\n",
              "    </tr>\n",
              "  </tbody>\n",
              "</table>\n",
              "</div>\n",
              "      <button class=\"colab-df-convert\" onclick=\"convertToInteractive('df-c0dece04-719c-4e48-a766-2d6f6fc7cd49')\"\n",
              "              title=\"Convert this dataframe to an interactive table.\"\n",
              "              style=\"display:none;\">\n",
              "        \n",
              "  <svg xmlns=\"http://www.w3.org/2000/svg\" height=\"24px\"viewBox=\"0 0 24 24\"\n",
              "       width=\"24px\">\n",
              "    <path d=\"M0 0h24v24H0V0z\" fill=\"none\"/>\n",
              "    <path d=\"M18.56 5.44l.94 2.06.94-2.06 2.06-.94-2.06-.94-.94-2.06-.94 2.06-2.06.94zm-11 1L8.5 8.5l.94-2.06 2.06-.94-2.06-.94L8.5 2.5l-.94 2.06-2.06.94zm10 10l.94 2.06.94-2.06 2.06-.94-2.06-.94-.94-2.06-.94 2.06-2.06.94z\"/><path d=\"M17.41 7.96l-1.37-1.37c-.4-.4-.92-.59-1.43-.59-.52 0-1.04.2-1.43.59L10.3 9.45l-7.72 7.72c-.78.78-.78 2.05 0 2.83L4 21.41c.39.39.9.59 1.41.59.51 0 1.02-.2 1.41-.59l7.78-7.78 2.81-2.81c.8-.78.8-2.07 0-2.86zM5.41 20L4 18.59l7.72-7.72 1.47 1.35L5.41 20z\"/>\n",
              "  </svg>\n",
              "      </button>\n",
              "      \n",
              "  <style>\n",
              "    .colab-df-container {\n",
              "      display:flex;\n",
              "      flex-wrap:wrap;\n",
              "      gap: 12px;\n",
              "    }\n",
              "\n",
              "    .colab-df-convert {\n",
              "      background-color: #E8F0FE;\n",
              "      border: none;\n",
              "      border-radius: 50%;\n",
              "      cursor: pointer;\n",
              "      display: none;\n",
              "      fill: #1967D2;\n",
              "      height: 32px;\n",
              "      padding: 0 0 0 0;\n",
              "      width: 32px;\n",
              "    }\n",
              "\n",
              "    .colab-df-convert:hover {\n",
              "      background-color: #E2EBFA;\n",
              "      box-shadow: 0px 1px 2px rgba(60, 64, 67, 0.3), 0px 1px 3px 1px rgba(60, 64, 67, 0.15);\n",
              "      fill: #174EA6;\n",
              "    }\n",
              "\n",
              "    [theme=dark] .colab-df-convert {\n",
              "      background-color: #3B4455;\n",
              "      fill: #D2E3FC;\n",
              "    }\n",
              "\n",
              "    [theme=dark] .colab-df-convert:hover {\n",
              "      background-color: #434B5C;\n",
              "      box-shadow: 0px 1px 3px 1px rgba(0, 0, 0, 0.15);\n",
              "      filter: drop-shadow(0px 1px 2px rgba(0, 0, 0, 0.3));\n",
              "      fill: #FFFFFF;\n",
              "    }\n",
              "  </style>\n",
              "\n",
              "      <script>\n",
              "        const buttonEl =\n",
              "          document.querySelector('#df-c0dece04-719c-4e48-a766-2d6f6fc7cd49 button.colab-df-convert');\n",
              "        buttonEl.style.display =\n",
              "          google.colab.kernel.accessAllowed ? 'block' : 'none';\n",
              "\n",
              "        async function convertToInteractive(key) {\n",
              "          const element = document.querySelector('#df-c0dece04-719c-4e48-a766-2d6f6fc7cd49');\n",
              "          const dataTable =\n",
              "            await google.colab.kernel.invokeFunction('convertToInteractive',\n",
              "                                                     [key], {});\n",
              "          if (!dataTable) return;\n",
              "\n",
              "          const docLinkHtml = 'Like what you see? Visit the ' +\n",
              "            '<a target=\"_blank\" href=https://colab.research.google.com/notebooks/data_table.ipynb>data table notebook</a>'\n",
              "            + ' to learn more about interactive tables.';\n",
              "          element.innerHTML = '';\n",
              "          dataTable['output_type'] = 'display_data';\n",
              "          await google.colab.output.renderOutput(dataTable, element);\n",
              "          const docLink = document.createElement('div');\n",
              "          docLink.innerHTML = docLinkHtml;\n",
              "          element.appendChild(docLink);\n",
              "        }\n",
              "      </script>\n",
              "    </div>\n",
              "  </div>\n",
              "  "
            ]
          },
          "metadata": {},
          "execution_count": 36
        }
      ]
    },
    {
      "cell_type": "code",
      "source": [
        "# check filtered lat lon\n",
        "fig = px.scatter_mapbox(cat_pred_df, \n",
        "                        lat='lat', \n",
        "                        lon='lon',\n",
        "                        zoom=9,\n",
        "                        size='sum_pred',\n",
        "                        height=500,\n",
        "                        width=1000)\n",
        "fig.update_layout(mapbox_style='open-street-map')\n",
        "fig.update_layout(margin={'r':0, 't':0, 'l':0, 'b':0})\n",
        "fig.show()"
      ],
      "metadata": {
        "colab": {
          "base_uri": "https://localhost:8080/",
          "height": 517
        },
        "id": "Q-vEFo4vrEVE",
        "outputId": "b08ce274-91a5-4664-a272-1e931198ffc7"
      },
      "execution_count": 37,
      "outputs": [
        {
          "output_type": "display_data",
          "data": {
            "text/html": [
              "<html>\n",
              "<head><meta charset=\"utf-8\" /></head>\n",
              "<body>\n",
              "    <div>            <script src=\"https://cdnjs.cloudflare.com/ajax/libs/mathjax/2.7.5/MathJax.js?config=TeX-AMS-MML_SVG\"></script><script type=\"text/javascript\">if (window.MathJax) {MathJax.Hub.Config({SVG: {font: \"STIX-Web\"}});}</script>                <script type=\"text/javascript\">window.PlotlyConfig = {MathJaxConfig: 'local'};</script>\n",
              "        <script src=\"https://cdn.plot.ly/plotly-2.8.3.min.js\"></script>                <div id=\"906d50e9-43ab-4b2c-a947-fecb40a99f52\" class=\"plotly-graph-div\" style=\"height:500px; width:1000px;\"></div>            <script type=\"text/javascript\">                                    window.PLOTLYENV=window.PLOTLYENV || {};                                    if (document.getElementById(\"906d50e9-43ab-4b2c-a947-fecb40a99f52\")) {                    Plotly.newPlot(                        \"906d50e9-43ab-4b2c-a947-fecb40a99f52\",                        [{\"hovertemplate\":\"sum_pred=%{marker.size}<br>lat=%{lat}<br>lon=%{lon}<extra></extra>\",\"lat\":[59.93486250245379,59.94048754777036,59.90559688321354,59.9213585004893,59.939362615035215,59.8965868842863,59.938237644136834,60.034845742999664,60.00454565787229,59.83119125766128,59.93486250245379,59.931487017270754,59.84134728385376,59.85150021276701,59.9551082008659,59.89996592032975,59.90897500266847,59.9213585004893,59.938237644136834,59.91122689137138,59.98095971679567,59.95735695979652,59.94048754777036,59.9213585004893,59.83344842006886,59.880813503727474,59.93373737889392,59.94611163902791,59.938237644136834,59.931487017270754,60.02250461674986,60.00791370576335,59.91910729905747,59.928111188564486,59.95061022518379,59.938237644136834,59.85150021276701,59.94611163902791,59.9213585004893,59.83344842006886,59.93373737889392,59.94948563587888,59.95960556612937,59.95061022518379,59.966350469610255,59.89320750447957,59.8965868842863,59.90109218928974,59.978712559797806,59.83344842006886,59.83344842006886,59.94498689709594,59.931487017270754,60.02250461674986,59.939362615035215,59.982083238097154,59.84924427397591,59.85150021276701,59.89996592032975,60.00230010204685,59.93261221716654,59.98095971679567,59.931487017270754,60.03933228251395,60.03933228251395,59.86390514283672,59.925860445235934,59.93486250245379,59.93261221716654,59.9213585004893,60.00454565787229,59.938237644136834,59.92473501631175,59.85150021276701,59.92698583598656,59.93373737889392,59.93373737889392,59.96747448668645,59.96297818952292,59.938237644136834,59.931487017270754,59.89996592032975,59.89996592032975,59.93486250245379,59.938237644136834,59.94048754777036,59.931487017270754,59.86954221851149,59.85601163159266,59.91460443804235,59.86616008776313,59.94048754777036,59.931487017270754,59.99893148244435,59.925860445235934,59.98095971679567,59.938237644136834,59.939362615035215,59.9213585004893,59.9292365029706,59.95061022518379,59.93486250245379,59.91235277844529,59.93261221716654,59.982083238097154,59.9213585004893,59.98657694200688,59.935987587847,59.931487017270754,59.94948563587888,60.00454565787229,59.92360954921317,59.83344842006886,59.938237644136834,59.94048754777036,59.925860445235934,59.9213585004893,59.89320750447957,59.83344842006886,59.931487017270754,59.84134728385376,59.9213585004893,59.931487017270754,59.94048754777036,59.9213585004893,59.92023291886231,60.00454565787229,59.90784900103776,59.92023291886231,59.92473501631175,59.84134728385376,59.84134728385376,59.931487017270754,59.93373737889392,59.938237644136834,59.8965868842863,59.925860445235934,59.935987587847,59.94048754777036,60.00454565787229,59.938237644136834,59.93261221716654,59.91685594491078,59.94048754777036,59.931487017270754,59.94498689709594,59.89996592032975,59.94048754777036,59.92023291886231,59.928111188564486,59.93261221716654,59.93373737889392,59.931487017270754,59.931487017270754,59.928111188564486,59.966350469610255,59.852628124816725,59.94048754777036,59.938237644136834,59.83119125766128,59.931487017270754,59.978712559797806,59.97197017358298,59.83344842006886,59.928111188564486,59.83119125766128,60.00454565787229,59.982083238097154,59.925860445235934,59.93373737889392,59.95061022518379,59.9213585004893,59.9213585004893,59.94948563587888,59.94048754777036,59.931487017270754,59.9551082008659,59.969722406414654,59.9213585004893,59.87968654715584,59.928111188564486,59.91235277844529,59.92473501631175,59.94048754777036,59.83344842006886,59.92473501631175,59.84134728385376,59.928111188564486,59.9213585004893,59.852628124816725,59.966350469610255,60.02250461674986,59.89996592032975,59.83119125766128,59.8965868842863,59.9292365029706,59.98095971679567,59.978712559797806,59.92698583598656,59.93373737889392,59.89996592032975,59.89996592032975,59.83344842006886,59.93261221716654,59.93373737889392,59.93486250245379,59.85150021276701,59.9213585004893,59.86954221851149,59.9213585004893,59.94948563587888,59.93373737889392,59.9213585004893,59.93261221716654,59.94048754777036,59.93261221716654,59.931487017270754,59.938237644136834,59.966350469610255,59.94386211700508,59.86616008776313,59.94611163902791,59.93261221716654,59.89996592032975,59.86616008776313,59.93486250245379,59.93261221716654,59.939362615035215,59.931487017270754,59.87968654715584,59.9213585004893,59.93373737889392,59.969722406414654,59.93486250245379,59.9292365029706,59.95623259940636,59.90109218928974,59.9213585004893,59.931487017270754,59.90109218928974,59.97197017358298,59.938237644136834,59.94048754777036,59.938237644136834,59.928111188564486,59.90784900103776,59.931487017270754,59.93261221716654,60.0236267277979,59.966350469610255,59.93373737889392,59.89320750447957,59.931487017270754,60.00454565787229,59.86954221851149,59.89320750447957,59.9213585004893,59.95960556612937,59.93261221716654,59.938237644136834,59.93373737889392,59.938237644136834,59.94048754777036,59.94048754777036,59.94498689709594,59.92698583598656,59.9213585004893,60.01240390273974,59.98657694200688,59.86616008776313,59.93486250245379,59.98095971679567,59.95061022518379,59.93373737889392,59.938237644136834,59.931487017270754,59.93373737889392,59.98095971679567,59.94948563587888,59.925860445235934,59.94048754777036,59.931487017270754,59.83344842006886,59.982083238097154,59.938237644136834,59.94048754777036,59.89320750447957,59.95735695979652,59.95061022518379,59.93373737889392,59.89996592032975,59.89320750447957,59.94048754777036,59.91910729905747,59.938237644136834,59.935987587847,59.9292365029706,59.91910729905747,59.931487017270754,59.931487017270754,59.83344842006886,59.94048754777036,59.938237644136834,59.982083238097154,59.982083238097154,59.925860445235934,59.93261221716654,59.94948563587888,59.931487017270754,59.91910729905747,59.928111188564486,59.966350469610255,59.89996592032975,59.931487017270754,59.876305448184645,59.925860445235934,59.931487017270754,59.88757444082032,59.84134728385376,59.89996592032975,59.93373737889392,59.928111188564486,59.987700272664576,59.90784900103776,59.96859846562096,59.93711263507439,59.938237644136834,59.93261221716654,59.89320750447957,59.86616008776313,59.939362615035215,59.93373737889392,59.89996592032975,59.86616008776313,59.9292365029706,59.91685594491078,59.85826711164091,59.928111188564486,59.928111188564486,59.94611163902791,60.03372401289842,59.966350469610255,59.95735695979652,59.93261221716654,59.982083238097154,59.89996592032975,59.938237644136834,59.93261221716654,59.84924427397591,60.034845742999664,59.9292365029706,59.94048754777036,59.93373737889392,59.9213585004893,59.89996592032975,59.982083238097154,59.982083238097154,59.96859846562096,59.9213585004893,59.982083238097154,59.9292365029706,59.94048754777036,59.93486250245379,59.98657694200688,60.00454565787229,59.89320750447957,59.93373737889392,59.966350469610255,59.938237644136834,59.94048754777036,59.95061022518379,59.93373737889392,60.00454565787229,60.02250461674986,59.931487017270754,59.89996592032975,59.89996592032975,59.93373737889392,59.93486250245379,59.938237644136834,59.978712559797806,59.9551082008659,59.9292365029706,59.9213585004893,59.9213585004893,59.852628124816725,59.982083238097154,59.89996592032975,59.931487017270754,59.84134728385376,59.89996592032975,59.92023291886231,59.95735695979652,59.86616008776313,59.935987587847,59.98657694200688,59.92360954921317,59.935987587847,60.034845742999664,59.9292365029706,59.931487017270754,59.931487017270754,59.94048754777036,59.98657694200688,59.92473501631175,59.91122689137138,59.83344842006886,59.935987587847,59.938237644136834,59.938237644136834,59.89996592032975,59.931487017270754,60.00230010204685,59.938237644136834,59.92698583598656,59.84134728385376,59.95735695979652,59.931487017270754,59.91910729905747,59.89320750447957,59.93373737889392,59.92698583598656,59.96859846562096,59.92698583598656,59.89320750447957,59.92698583598656,59.95061022518379,60.03933228251395,59.9213585004893,59.93261221716654,59.9213585004893,59.9213585004893,59.9551082008659,59.89996592032975,59.83119125766128,59.93373737889392,59.92473501631175,59.94498689709594,59.93711263507439,59.852628124816725,59.8965868842863,59.93373737889392,59.91910729905747,59.87066951899336,59.93373737889392,59.931487017270754,59.86616008776313,59.931487017270754,60.02250461674986,59.95061022518379,59.93373737889392,59.98657694200688,59.9292365029706,59.98095971679567,59.931487017270754,59.84924427397591,59.91122689137138,59.92023291886231,59.86390514283672,59.92698583598656,59.93373737889392,59.89320750447957,59.93261221716654,59.928111188564486,59.83344842006886,59.9292365029706,59.8965868842863,59.9292365029706,59.93261221716654,59.84134728385376,60.034845742999664,59.93373737889392,59.938237644136834,59.925860445235934,59.89996592032975,59.85150021276701,59.9213585004893,59.84924427397591,59.960729812073794,59.92698583598656,59.9292365029706,59.94048754777036,59.938237644136834,59.94048754777036,59.93036177920573,59.93711263507439,59.94498689709594,59.93373737889392,59.93373737889392,59.931487017270754,59.94498689709594,59.93373737889392,59.938237644136834,60.034845742999664,59.93373737889392,59.931487017270754,59.93486250245379,59.938237644136834,59.9292365029706,60.02250461674986,59.89320750447957,59.93373737889392,60.00230010204685,59.85150021276701,59.96859846562096,59.938237644136834,60.00454565787229,59.925860445235934,59.938237644136834,59.83119125766128,59.93373737889392,59.966350469610255,59.931487017270754,59.931487017270754,59.982083238097154,59.89320750447957,59.95061022518379,59.925860445235934,59.931487017270754,60.034845742999664,59.90559688321354,59.94948563587888,59.939362615035215,59.931487017270754,59.89320750447957,59.931487017270754,59.939362615035215,59.9483610084185,59.95960556612937,59.9213585004893,59.89320750447957,59.92473501631175,59.85150021276701,59.93373737889392,59.83344842006886,59.94048754777036,59.935987587847,59.95061022518379,59.928111188564486,59.931487017270754,59.89320750447957,59.928111188564486,59.928111188564486,59.89320750447957,59.93373737889392,59.938237644136834,59.93261221716654,59.93373737889392,60.03933228251395,59.931487017270754,59.86616008776313,59.93036177920573,60.03933228251395,59.85150021276701,59.93373737889392,59.93486250245379,59.966350469610255,59.9292365029706,59.94498689709594,59.982083238097154,59.94161244234315,59.94498689709594,59.939362615035215,59.92698583598656,59.9292365029706,59.9213585004893,59.982083238097154,59.89996592032975,59.89996592032975,59.9213585004893,60.01240390273974,59.95061022518379,59.93486250245379,59.931487017270754,59.85150021276701,59.98095971679567,59.94948563587888,59.982083238097154,59.93261221716654,59.92473501631175,59.92023291886231,59.93373737889392,59.93261221716654,59.95061022518379,59.95061022518379,59.91910729905747,60.034845742999664,59.9213585004893,59.935987587847,59.89996592032975,59.931487017270754,59.93373737889392,59.83119125766128,59.93261221716654,59.93261221716654,59.94048754777036,59.94161244234315,59.94048754777036,60.03372401289842,59.93486250245379,59.95061022518379,59.91460443804235,59.931487017270754,59.9292365029706,59.92698583598656,59.931487017270754,59.938237644136834,59.94498689709594,59.92698583598656,59.92698583598656,60.034845742999664,59.85150021276701,59.935987587847,59.93486250245379,59.94948563587888,59.9551082008659,59.93261221716654,59.938237644136834,59.95061022518379,59.982083238097154,59.931487017270754,59.94273729875443,59.9292365029706,59.94273729875443,59.94273729875443,59.92698583598656,59.85150021276701,59.9292365029706,60.02250461674986,59.94611163902791,59.85150021276701,59.938237644136834,59.935987587847,59.95735695979652,59.931487017270754,59.9213585004893,59.8965868842863,59.94048754777036,60.034845742999664,59.92473501631175,59.982083238097154,59.89320750447957,59.92473501631175,59.931487017270754,59.931487017270754,59.95735695979652,59.931487017270754,59.92473501631175,59.89996592032975,59.90559688321354,59.9292365029706,59.94948563587888,59.83344842006886,59.876305448184645,59.931487017270754,60.00903631217126,59.98657694200688,59.9292365029706,59.8965868842863,59.99107003588408,60.00454565787229,59.85601163159266,59.83119125766128,59.978712559797806,59.92698583598656,59.93486250245379,59.92698583598656,59.93486250245379,59.84924427397591,59.93711263507439,59.93486250245379,60.034845742999664,59.93373737889392,59.92473501631175,59.9551082008659,59.95398376417426,59.94048754777036,59.93373737889392,59.98095971679567,59.931487017270754,60.034845742999664,59.9213585004893,59.91685594491078,59.982083238097154,60.00454565787229,59.96522641439151,59.93373737889392,59.938237644136834,59.93373737889392,59.935987587847,59.94048754777036,59.91122689137138,60.03933228251395,59.928111188564486,59.89996592032975,59.92698583598656,59.925860445235934,59.93711263507439,59.93373737889392,59.9213585004893],\"legendgroup\":\"\",\"lon\":[30.331615568295643,30.32936978008534,30.29792874514116,30.35631923860893,30.315895050823546,30.511278625119544,30.322632415454443,30.419201308497296,30.300174533351456,30.500049684068053,30.32936978008534,30.351827662188327,30.253012980935186,30.268733498407272,30.311403474402955,30.425938673128183,30.241784039883687,30.46860864912387,30.322632415454443,30.331615568295643,30.210343004939503,30.320386627244144,30.32936978008534,30.35631923860893,30.34958187397803,30.311403474402955,30.29343716872056,30.374285544291315,30.318140839033845,30.354073450398623,30.2260635224116,30.259750345566083,30.33835293292654,30.300174533351456,30.29119138051026,30.322632415454443,30.268733498407272,30.374285544291315,30.35631923860893,30.34958187397803,30.30691189798236,30.315895050823546,30.302420321561755,30.29119138051026,30.311403474402955,30.515770201540143,30.511278625119544,30.27547086303817,30.25525876914548,30.185639334626217,30.185639334626217,30.266487710196973,30.354073450398623,30.33835293292654,30.315895050823546,30.19911406388801,30.14521514684084,30.268733498407272,30.425938673128183,30.295682956930857,30.250767192724883,30.210343004939503,30.351827662188327,30.322632415454443,30.322632415454443,30.46636286091357,30.295682956930857,30.32936978008534,30.250767192724883,30.35631923860893,30.300174533351456,30.318140839033845,30.241784039883687,30.268733498407272,30.318140839033845,30.324878203664746,30.30691189798236,30.47534601375476,30.34733608576773,30.322632415454443,30.354073450398623,30.425938673128183,30.425938673128183,30.32936978008534,30.331615568295643,30.313649262613254,30.360810815029527,30.37877712071192,30.315895050823546,30.34733608576773,30.322632415454443,30.32936978008534,30.360810815029527,30.35631923860893,30.295682956930857,30.210343004939503,30.318140839033845,30.315895050823546,30.35631923860893,30.28894559229996,30.29119138051026,30.32936978008534,30.331615568295643,30.250767192724883,30.19911406388801,30.35631923860893,30.178901969995323,30.32712399187504,30.354073450398623,30.300174533351456,30.300174533351456,30.46860864912387,30.185639334626217,30.322632415454443,30.313649262613254,30.295682956930857,30.46860864912387,30.318140839033845,30.34958187397803,30.33610714471624,30.253012980935186,30.35631923860893,30.360810815029527,30.419201308497296,30.35631923860893,30.46636286091357,30.300174533351456,30.48432916659596,30.32936978008534,30.385514485342814,30.253012980935186,30.253012980935186,30.360810815029527,30.324878203664746,30.331615568295643,30.511278625119544,30.295682956930857,30.324878203664746,30.32936978008534,30.300174533351456,30.318140839033845,30.250767192724883,30.318140839033845,30.313649262613254,30.351827662188327,30.266487710196973,30.425938673128183,30.32936978008534,30.46636286091357,30.360810815029527,30.250767192724883,30.322632415454443,30.354073450398623,30.363056603239823,30.360810815029527,30.311403474402955,30.322632415454443,30.313649262613254,30.331615568295643,30.500049684068053,30.360810815029527,30.25525876914548,30.2260635224116,30.34958187397803,30.360810815029527,30.500049684068053,30.300174533351456,30.19911406388801,30.295682956930857,30.322632415454443,30.29119138051026,30.35631923860893,30.35631923860893,30.300174533351456,30.313649262613254,30.363056603239823,30.33835293292654,30.322632415454443,30.46860864912387,30.318140839033845,30.360810815029527,30.44615076702088,30.241784039883687,30.33835293292654,30.185639334626217,30.241784039883687,30.253012980935186,30.300174533351456,30.35631923860893,30.322632415454443,30.30915768619265,30.2260635224116,30.425938673128183,30.500049684068053,30.511278625119544,30.28894559229996,30.210343004939503,30.25525876914548,30.318140839033845,30.324878203664746,30.425938673128183,30.425938673128183,30.185639334626217,30.250767192724883,30.322632415454443,30.331615568295643,30.268733498407272,30.46860864912387,30.37877712071192,30.46860864912387,30.300174533351456,30.322632415454443,30.35631923860893,30.250767192724883,30.313649262613254,30.250767192724883,30.360810815029527,30.322632415454443,30.311403474402955,30.34059872113684,30.322632415454443,30.374285544291315,30.358565026819228,30.425938673128183,30.322632415454443,30.34284450934713,30.250767192724883,30.315895050823546,30.351827662188327,30.318140839033845,30.46860864912387,30.30691189798236,30.23280088704249,30.331615568295643,30.28894559229996,30.313649262613254,30.27547086303817,30.46860864912387,30.360810815029527,30.27547086303817,30.2260635224116,30.331615568295643,30.32936978008534,30.331615568295643,30.360810815029527,30.48432916659596,30.360810815029527,30.250767192724883,30.14296935863054,30.311403474402955,30.324878203664746,30.515770201540143,30.363056603239823,30.300174533351456,30.37877712071192,30.515770201540143,30.35631923860893,30.302420321561755,30.250767192724883,30.331615568295643,30.324878203664746,30.318140839033845,30.419201308497296,30.313649262613254,30.266487710196973,30.34284450934713,30.46860864912387,30.311403474402955,30.178901969995323,30.322632415454443,30.30915768619265,30.210343004939503,30.315895050823546,30.29343716872056,30.318140839033845,30.351827662188327,30.324878203664746,30.210343004939503,30.300174533351456,30.295682956930857,30.32936978008534,30.351827662188327,30.34958187397803,30.19911406388801,30.331615568295643,30.313649262613254,30.515770201540143,30.34284450934713,30.315895050823546,30.30691189798236,30.425938673128183,30.515770201540143,30.4102181556561,30.33835293292654,30.32936978008534,30.331615568295643,30.28894559229996,30.33835293292654,30.360810815029527,30.360810815029527,30.185639334626217,30.32936978008534,30.322632415454443,30.19911406388801,30.19911406388801,30.295682956930857,30.250767192724883,30.300174533351456,30.358565026819228,30.33835293292654,30.360810815029527,30.311403474402955,30.425938673128183,30.363056603239823,30.360810815029527,30.295682956930857,30.354073450398623,30.331615568295643,30.253012980935186,30.425938673128183,30.322632415454443,30.360810815029527,30.20135985209831,30.48432916659596,30.318140839033845,30.315895050823546,30.318140839033845,30.250767192724883,30.515770201540143,30.322632415454443,30.315895050823546,30.322632415454443,30.425938673128183,30.322632415454443,30.28894559229996,30.318140839033845,30.394497638184003,30.300174533351456,30.360810815029527,30.374285544291315,30.37877712071192,30.30915768619265,30.360810815029527,30.250767192724883,30.19911406388801,30.425938673128183,30.318140839033845,30.320386627244144,30.14521514684084,30.419201308497296,30.363056603239823,30.419201308497296,30.324878203664746,30.46860864912387,30.425938673128183,30.19911406388801,30.19911406388801,30.315895050823546,30.46860864912387,30.19911406388801,30.363056603239823,30.419201308497296,30.32936978008534,30.178901969995323,30.39225184997371,30.515770201540143,30.324878203664746,30.311403474402955,30.331615568295643,30.4102181556561,30.315895050823546,30.30915768619265,30.300174533351456,30.2260635224116,30.351827662188327,30.425938673128183,30.425938673128183,30.29343716872056,30.34284450934713,30.318140839033845,30.25525876914548,30.311403474402955,30.28894559229996,30.46860864912387,30.35631923860893,30.322632415454443,30.19911406388801,30.425938673128183,30.360810815029527,30.253012980935186,30.425938673128183,30.32936978008534,30.320386627244144,30.322632415454443,30.333861356505945,30.178901969995323,30.46860864912387,30.32712399187504,30.419201308497296,30.28894559229996,30.360810815029527,30.358565026819228,30.34059872113684,30.178901969995323,30.491066531226856,30.331615568295643,30.34958187397803,30.324878203664746,30.32936978008534,30.331615568295643,30.425938673128183,30.354073450398623,30.27322507482787,30.318140839033845,30.318140839033845,30.253012980935186,30.320386627244144,30.354073450398623,30.33835293292654,30.515770201540143,30.324878203664746,30.318140839033845,30.315895050823546,30.318140839033845,30.515770201540143,30.318140839033845,30.315895050823546,30.322632415454443,30.46860864912387,30.250767192724883,30.46860864912387,30.35631923860893,30.33835293292654,30.425938673128183,30.500049684068053,30.29343716872056,30.241784039883687,30.365302391450125,30.282208227669067,30.322632415454443,30.511278625119544,30.30691189798236,30.33835293292654,30.46411707270327,30.324878203664746,30.354073450398623,30.322632415454443,30.354073450398623,30.33835293292654,30.315895050823546,30.324878203664746,30.178901969995323,30.28894559229996,30.210343004939503,30.354073450398623,30.14521514684084,30.331615568295643,30.46636286091357,30.178901969995323,30.318140839033845,30.30691189798236,30.515770201540143,30.34958187397803,30.360810815029527,30.34958187397803,30.28894559229996,30.511278625119544,30.28894559229996,30.250767192724883,30.253012980935186,30.419201308497296,30.322632415454443,30.318140839033845,30.295682956930857,30.425938673128183,30.268733498407272,30.46860864912387,30.14521514684084,30.29119138051026,30.318140839033845,30.28894559229996,30.34059872113684,30.318140839033845,30.313649262613254,30.354073450398623,30.282208227669067,30.358565026819228,30.29343716872056,30.322632415454443,30.351827662188327,30.365302391450125,30.29343716872056,30.322632415454443,30.419201308497296,30.30691189798236,30.358565026819228,30.34284450934713,30.331615568295643,30.363056603239823,30.33835293292654,30.515770201540143,30.30691189798236,30.295682956930857,30.268733498407272,30.318140839033845,30.331615568295643,30.39225184997371,30.295682956930857,30.32936978008534,30.500049684068053,30.324878203664746,30.311403474402955,30.354073450398623,30.358565026819228,30.19911406388801,30.515770201540143,30.315895050823546,30.295682956930857,30.354073450398623,30.419201308497296,30.318140839033845,30.315895050823546,30.315895050823546,30.360810815029527,30.515770201540143,30.360810815029527,30.315895050823546,30.33610714471624,30.302420321561755,30.35631923860893,30.515770201540143,30.241784039883687,30.268733498407272,30.324878203664746,30.34958187397803,30.32936978008534,30.324878203664746,30.315895050823546,30.360810815029527,30.360810815029527,30.515770201540143,30.360810815029527,30.360810815029527,30.515770201540143,30.324878203664746,30.318140839033845,30.304666109772054,30.322632415454443,30.322632415454443,30.358565026819228,30.259750345566083,30.34509029755743,30.322632415454443,30.268733498407272,30.30915768619265,30.331615568295643,30.311403474402955,30.28894559229996,30.266487710196973,30.19911406388801,30.313649262613254,30.29343716872056,30.32712399187504,30.318140839033845,30.28894559229996,30.35631923860893,30.19911406388801,30.425938673128183,30.425938673128183,30.35631923860893,30.311403474402955,30.315895050823546,30.331615568295643,30.354073450398623,30.268733498407272,30.210343004939503,30.315895050823546,30.19911406388801,30.250767192724883,30.241784039883687,30.46636286091357,30.30915768619265,30.304666109772054,30.246275616304285,30.315895050823546,30.33835293292654,30.419201308497296,30.46860864912387,30.331615568295643,30.425938673128183,30.358565026819228,30.29343716872056,30.500049684068053,30.358565026819228,30.250767192724883,30.4102181556561,30.372039756081016,30.419201308497296,30.367548179660425,30.32936978008534,30.315895050823546,30.34733608576773,30.358565026819228,30.363056603239823,30.318140839033845,30.358565026819228,30.322632415454443,30.266487710196973,30.318140839033845,30.318140839033845,30.250767192724883,30.268733498407272,30.333861356505945,30.34284450934713,30.300174533351456,30.33835293292654,30.250767192724883,30.331615568295643,30.315895050823546,30.19911406388801,30.354073450398623,30.30691189798236,30.28894559229996,30.30691189798236,30.30691189798236,30.318140839033845,30.268733498407272,30.28894559229996,30.2260635224116,30.374285544291315,30.268733498407272,30.318140839033845,30.333861356505945,30.360810815029527,30.354073450398623,30.46860864912387,30.423692884917887,30.313649262613254,30.419201308497296,30.241784039883687,30.19911406388801,30.515770201540143,30.241784039883687,30.360810815029527,30.354073450398623,30.320386627244144,30.360810815029527,30.241784039883687,30.425938673128183,30.423692884917887,30.28894559229996,30.300174533351456,30.34958187397803,30.360810815029527,30.358565026819228,30.36979396787072,30.178901969995323,30.28894559229996,30.511278625119544,30.20585142851891,30.39225184997371,30.315895050823546,30.500049684068053,30.25525876914548,30.318140839033845,30.32936978008534,30.318140839033845,30.331615568295643,30.14521514684084,30.29119138051026,30.32936978008534,30.419201308497296,30.29343716872056,30.241784039883687,30.311403474402955,30.313649262613254,30.4102181556561,30.322632415454443,30.210343004939503,30.354073450398623,30.419201308497296,30.46860864912387,30.318140839033845,30.19911406388801,30.300174533351456,30.313649262613254,30.29343716872056,30.322632415454443,30.30691189798236,30.324878203664746,30.32936978008534,30.331615568295643,30.322632415454443,30.360810815029527,30.425938673128183,30.331615568295643,30.295682956930857,30.282208227669067,30.322632415454443,30.35631923860893],\"marker\":{\"color\":\"#636efa\",\"size\":[2.0335115885441724,2.5986710140055607,3.764475133625183,7.133462006082198,2.764488238503475,5.596850125168714,3.2372026869739443,3.1510036094364864,2.7665264294548706,7.733411438792473,2.381146302900163,4.909368387039251,3.364807793538205,2.9129448317310107,3.449036886228498,2.386001360956982,6.777742796857126,4.0798161256744265,2.2872620703197413,5.063167660402144,3.5503334066357297,3.378801243406599,6.3419161928518974,3.345270981017677,4.375412134213093,2.8503912650781444,2.85075331090826,3.3796589151937155,2.518342647854581,5.124548238054842,15.273381226424078,5.823529060833835,2.3181486439967216,3.0154967655112728,11.452235939514082,4.108871397099904,2.9808746286285555,3.174615260127723,4.230532320288603,2.56557949588165,3.2276173728501476,3.4907924324521105,8.130182058552862,2.3933122267104068,3.241149162241129,3.2308593353969286,2.315749201375695,3.038247445467505,3.1338639214278032,7.459333354468129,5.0117820364251315,2.327483195128764,2.4815734111820262,3.1112578218690743,4.567802148091133,2.9441274288255386,6.887448637027717,4.61619258929035,5.250958654563092,3.0339551020034747,2.5827074331028967,5.1588743562473525,2.881181966175646,2.4446206077629,4.026080887255503,2.9636345921518483,2.5272364728838426,7.160953807607612,2.311359165804916,2.886181582675718,4.966920592555098,6.094658749540386,4.921661222031972,1.83662133456518,2.129536598762698,2.2018961265804506,2.3612659911715497,2.9406886954140106,3.548406296845087,2.907405075358966,3.8138039304884757,1.713648528257309,6.953896554404665,3.1582666631230865,2.9096252273437955,3.700294615543271,3.2078319216790447,2.444435713373551,3.976985597667536,2.5679793818491277,3.545106294491177,5.64829321194442,3.775623359416514,2.3796267338403965,2.5122639843149415,4.761119266874758,2.732666672152064,11.35768194980723,2.4047403862679317,4.953564781039304,5.094525659834417,2.2032243231862054,2.1627430919453587,3.8472043717867024,5.1972394744472155,3.5702975157098535,6.960086470245031,15.612369987443017,4.725921147174532,4.038680504569939,3.1638593279132152,2.9168040442720127,3.1638593279132152,4.705825901371227,3.075428276162839,3.1428365934779237,1.9650203259196957,6.087863063057867,6.331756493489948,2.671979820961397,2.929299761376697,7.223938104594652,2.004111339235479,2.9748203103346356,2.2603765008335728,3.4081224769528404,3.0275978189146713,9.655197197806629,15.24265469625756,4.613700568965115,5.494455281851643,2.262919925672705,5.408751304504577,3.7497433602503776,2.100650934033311,2.2585930516733157,2.6100525494928917,2.285611298436507,3.8365198242382945,4.455516572818581,2.067708273978738,1.8875610751613436,2.2934129704710955,4.498177302395916,1.9860197018963532,2.783688738564038,2.0294428551199104,2.6713078872507054,2.1782401218790852,1.8283271380180537,6.461513204845019,2.011830338859241,2.7201346229470715,6.592879272781275,2.169928639005107,3.111434754134521,3.0797084143998887,2.8104679309665386,2.1862218175640606,3.1386313699424733,4.064538479419994,4.6574059788274695,2.4953215886461777,5.601800415821586,7.351178534553938,3.9023666729825663,4.010936017059251,5.050964501873807,6.034873620335645,2.5488199347947216,2.0273459422988367,2.94335422253522,10.957906676454456,2.2238211097265435,2.111979300729274,3.842011059867218,2.2168127576206302,2.5020392722490783,3.9017017922597006,3.728033525688602,2.9516266220168745,2.234205276821797,4.780973228096684,2.820851060604639,2.6902402677752093,6.917408391024821,3.2508768188673116,2.3504240431503263,2.2829085318399507,3.099852653626101,7.4887260911630165,2.8404993605496998,3.013233784850911,4.2432382978605006,17.70883208148183,7.485126740589521,4.058179748283408,7.3175177531941245,4.999286295015565,3.163343210479809,3.434722155746215,3.434722155746215,2.55677930793064,2.382470880583469,2.6393212582250385,3.285209360822364,8.715189994136324,4.120811783721422,6.4762200720911665,5.1427724308545635,2.8267896429106827,2.50367000814191,5.239505009621723,3.856551865606889,2.4083061702568216,3.0693627028932156,1.9584766988674005,1.9921223059764657,2.775701133951827,3.8902157993555875,2.739274002721004,3.371521046984583,2.715983149383703,7.89665148391822,2.156939390807622,2.3239378310200323,2.9559073793377024,2.1780198913411937,6.978677804646452,5.0607261414252775,2.655896113004644,14.984245463129753,4.749577662647781,4.6994994035652695,11.708890826282769,2.6633935468922942,1.8726404257810287,3.578596344106373,2.0569154859991983,4.565604997702749,5.364144003589573,2.9811770350548983,2.1022509836708565,2.0745613433733894,2.911773801534437,2.0833596859680625,2.3231101321261036,2.220026167322274,2.093792566899211,3.2506172899819745,6.609239813980267,2.543939821559107,3.922386067277003,2.56278834787976,6.907219300053285,3.0671207131514535,1.6561721144411337,1.7009648635154377,7.662287758421954,1.504991790554996,2.846630119281727,1.9160940310563461,2.846630119281727,2.175565213840528,2.908131598832952,2.6086446356445236,5.206039301508682,4.35421815061126,2.8790427817326787,6.1253093675208135,5.221013623760555,3.342798856996751,2.8209088964125755,2.77884647031955,5.314444356542154,3.869232209816701,2.6869642052903515,3.937160147483965,2.103047654155162,2.708044705823923,3.216430797605824,10.816499882792087,4.9133988752831925,5.401220820530071,1.7720050681897561,4.2031845456134675,2.004990066511553,2.8034606628213083,13.801652657775449,2.7652097365122614,3.498844719888055,2.1225097253253153,2.893840872562251,2.388825667704296,3.3972464628919994,1.6238748193024009,2.650787009409612,2.3350048412627444,2.9144275455052053,5.412725911268936,2.802375946850262,2.243494352698363,2.7017563988723765,2.9796038886073717,3.175471450748944,6.393149756028279,3.3012659755152782,1.2845961482093031,1.9068424391724221,1.646511344126921,4.924036378366864,2.6392319369137027,3.508846107264233,5.897054423976286,2.4874122605393865,1.8560515834002587,2.1578370696687017,1.962358254242318,2.173022021262696,10.537172043146384,2.4811192213261535,10.765448431345831,2.5959365252098365,2.2256177242187647,1.9793891415626064,2.340175883762484,7.285502192220008,3.513678178597516,2.5929377131858615,2.7481092418827444,2.2382386947617903,5.680569573340463,2.178495356951103,2.2766833671837645,2.205402137554998,2.6759960863635257,3.834227501181786,9.333102059174635,2.1636600066303373,4.867517376295055,4.615278675687833,5.406700148094174,6.232295015801313,3.9541076955909062,6.703684665997017,2.0699213470850424,2.0320247847173647,2.319113475145926,1.7401002918591217,5.541327217878745,5.498494530625692,6.719475205664423,2.2409733475297458,2.0983162290258974,10.726539246354093,1.958892815469028,3.7297872055023618,2.4108506492967194,1.8821094672512686,7.197447336661355,4.723548039556647,2.284659550753588,3.343432558619554,3.5379981255063626,2.1539113576081945,2.3254713799679507,2.8767148189318164,3.373023939428606,3.244355667668117,3.362281084940207,13.253026100524892,3.3117639849832017,2.911945004614438,5.505209534889616,10.721177308274207,5.457834979521124,2.1954861077802548,2.804409372875625,2.161573939532957,2.2626324912435507,4.041586010881531,2.475937317115722,12.725082581104232,2.5228597242785895,13.357042813317946,3.1266478153430057,1.9879305172863155,2.394296546491262,2.6965316502274277,14.248330175704666,7.738385694474971,3.386616376726181,3.2075733591410085,2.7792632443004663,6.380260194926677,2.0927926563297774,6.006451266819056,2.8533204754672425,3.5548615010499276,6.118378679484195,1.82677071876482,2.7953003910028116,2.6612046502572753,2.224875807006029,2.7885040488123565,2.3256388337846516,8.887381340011999,2.4909512673927026,4.432599551979038,1.9802698835279813,4.33878675995642,2.145019661834013,2.573974419285733,6.702220513492094,2.571380399242699,3.2621860415787864,6.1993219328295055,1.9548330155954687,6.719554073649661,6.198316602299045,2.165443022279433,11.011815049890757,3.6248563759360337,1.874759308471667,7.951282856020626,5.135640515872765,8.222973451726503,6.735362692573688,5.8986387314451605,2.76759592508337,8.594308246369692,3.674998144245947,4.550555032348157,9.785349028259262,2.9405436863857517,10.401346479564054,4.547573405114818,6.621522517696022,3.1786535603106927,5.066418514869966,2.229147661432208,1.8459272357262222,3.6331131876744536,6.246147792276531,4.254980540661236,1.7593176514270823,4.237604531585376,2.1841161894787007,3.2456888214106954,4.394090664163414,5.706866210452418,2.0634787460500235,3.761724923682678,5.913655185069572,2.0094430089590247,1.9552601144838633,6.195749454361604,3.7587861032431107,5.345389665914482,2.29141380860149,2.182768836437063,3.7872708612654975,3.6888293036978013,2.854966628139337,2.757463090852468,2.3088949585615666,2.2501191582476423,4.370474474102949,5.65593979288532,5.585143913695575,2.6234696039288252,5.466186772590291,3.8958082109551384,7.984812238088708,1.8501032789678362,2.615698169188761,2.1482813998835155,4.677737012961543,2.8418730496811264,9.916148441859733,3.569454124435879,1.7634293724483001,4.905061153865418,2.205708285368601,3.0806095856575126,1.977343118715524,3.082251865285059,1.8433317863587177,2.1429062526101603,2.7294125375735945,1.6163534652681761,5.1734159887607944,2.549437301344881,5.991725370308259,5.332654131757195,5.863998796618901,4.311953552082528,3.537173271496954,1.8911045543161578,6.30380387719903,1.9787592520731465,2.6467453224146453,2.0313138754988955,2.427989053220486,3.738658160549406,3.4129627219872987,2.821116970064452,3.4126807753328308,4.466769547811111,2.983862604699482,4.879864011819961,3.5535783954820204,2.1926919666930758,1.8177870148575153,5.723708667419544,2.097453015956546,2.167699998718547,5.16233343907669,1.852257866763523,2.2274185551569303,2.9442048625306256,2.453463373570287,6.230226252340287,2.6626551577310806,3.3203128547011715,3.099301327446085,6.474830870166841,5.456174765671392,5.628181360191604,3.519144685256663,9.058308663648802,1.910548701587004,5.550401399652458,2.217904062478965,2.2653083898349564,2.2508672970990915,3.3094138171157965,1.8478861135191096,2.4371640857564216,2.378710655103589,5.691317793853557,2.1955734535914075,2.2849754784402307,1.8914047534181577,2.557702472984829,2.9553491588631573,5.2538053069080775,13.43676434994535,13.43676434994535,2.5621313575266527,4.830722303227105,13.756904086300835,6.4029193928794825,7.653693246970477,2.484223689468365,3.36216653728394,2.5530262276616327,3.362528583114056,3.7945282445205635,4.0261535229972765,1.5858235865495232,2.1869716591032926,3.2693210745051857,4.361475056174086,5.18182662126641,2.1944177833471628,1.9646248683617529,2.8640137603312184,1.769747144572321,2.880633148598136,2.370049917493489,3.5734997024588466,1.895295591838149,6.28141158210714,2.411965740867018,2.87213910933464,3.033927377911496,2.947728300374038,2.1894307455428503,2.3370345519375775,2.362624861547218,2.025493065243282,2.7224057523532252,2.153604109911285,6.704094689055083,2.9665768266946912,2.3871541224522304,3.336144738078474,2.0120489250836187,1.9329988260211763,5.889066280610123,3.44488241233762,2.542981753709981,4.269943777737026,2.322537076590052,6.942550633897042,1.8607157549300979,0.8305593780331861,1.9057523162170042,6.020368985659687,6.020368985659687,2.9643889663790475,2.4309421316235245,3.80572296481013,2.932168799053798,2.8452697012650248,2.1738712442226102,10.155798363182512,1.7018358497722517,2.321185345179245,2.066450603199783,1.8423632955615545,6.162998565211481,2.7120880579190185,4.629576349272966,3.572167131269808,5.413542593704179,7.705734739639084,2.889544245415564,2.857817905680932,1.8055073049377626,2.038332141156971,3.3154781359804844,3.3309578717777555,2.2880011845133055,5.9574023740477315,1.985756203018937,1.8270054167084169,2.8298441608400395,6.020368985659687,2.2670408448644963,3.073906097356385,2.3242613367889504,2.0453701026662117,2.3259848596934063,4.904800104635925,6.432180981521597,10.400402981009066,4.581776996412955,10.400402981009066,3.632666867190281,4.629576349272966,7.4239866377635195,3.9744600094034723,2.055669162493942,2.8483377506369294,5.5137125802665,2.1989262669509486,5.873957262434843,5.953864132976221,4.387765760485436,2.678219480611588,6.2126282671500945,2.228781426788956,4.740635931410125,1.8283490373438127,2.2851896943171965,1.7268126858792385,4.499818535318482,6.632256524207506,2.1907371050480293,2.4977855976589467,2.0420408085198147,6.170030328593228,2.765263140939865,2.48607895900183,4.19867888793523,2.8267646204910903,2.6477049899729224,5.850034961264967,1.5341454916940762,2.8036177173633092,5.994519781991542,2.5117247696341707,1.7669480767961119,2.3527117823730492,2.6096875230594065,2.297544909682941,4.105751991702789,3.3213812981060755,3.0925200343536403,1.9294525321666356,2.271045097680201,2.752806251143795,2.427807426075617,3.107814817986821,2.2913089438034717,2.083251805529528,3.141498626784653,5.524104973605688,3.8646154555418093,3.3437291218024825,2.338021258309766,5.541438533763255,4.062675376383595,13.186605809939408,2.706832647845715,2.6400635898926907,12.982469610893475,3.331121564677062],\"sizemode\":\"area\",\"sizeref\":0.04427208020370457},\"mode\":\"markers\",\"name\":\"\",\"showlegend\":false,\"subplot\":\"mapbox\",\"type\":\"scattermapbox\"}],                        {\"template\":{\"data\":{\"bar\":[{\"error_x\":{\"color\":\"#2a3f5f\"},\"error_y\":{\"color\":\"#2a3f5f\"},\"marker\":{\"line\":{\"color\":\"#E5ECF6\",\"width\":0.5},\"pattern\":{\"fillmode\":\"overlay\",\"size\":10,\"solidity\":0.2}},\"type\":\"bar\"}],\"barpolar\":[{\"marker\":{\"line\":{\"color\":\"#E5ECF6\",\"width\":0.5},\"pattern\":{\"fillmode\":\"overlay\",\"size\":10,\"solidity\":0.2}},\"type\":\"barpolar\"}],\"carpet\":[{\"aaxis\":{\"endlinecolor\":\"#2a3f5f\",\"gridcolor\":\"white\",\"linecolor\":\"white\",\"minorgridcolor\":\"white\",\"startlinecolor\":\"#2a3f5f\"},\"baxis\":{\"endlinecolor\":\"#2a3f5f\",\"gridcolor\":\"white\",\"linecolor\":\"white\",\"minorgridcolor\":\"white\",\"startlinecolor\":\"#2a3f5f\"},\"type\":\"carpet\"}],\"choropleth\":[{\"colorbar\":{\"outlinewidth\":0,\"ticks\":\"\"},\"type\":\"choropleth\"}],\"contour\":[{\"colorbar\":{\"outlinewidth\":0,\"ticks\":\"\"},\"colorscale\":[[0.0,\"#0d0887\"],[0.1111111111111111,\"#46039f\"],[0.2222222222222222,\"#7201a8\"],[0.3333333333333333,\"#9c179e\"],[0.4444444444444444,\"#bd3786\"],[0.5555555555555556,\"#d8576b\"],[0.6666666666666666,\"#ed7953\"],[0.7777777777777778,\"#fb9f3a\"],[0.8888888888888888,\"#fdca26\"],[1.0,\"#f0f921\"]],\"type\":\"contour\"}],\"contourcarpet\":[{\"colorbar\":{\"outlinewidth\":0,\"ticks\":\"\"},\"type\":\"contourcarpet\"}],\"heatmap\":[{\"colorbar\":{\"outlinewidth\":0,\"ticks\":\"\"},\"colorscale\":[[0.0,\"#0d0887\"],[0.1111111111111111,\"#46039f\"],[0.2222222222222222,\"#7201a8\"],[0.3333333333333333,\"#9c179e\"],[0.4444444444444444,\"#bd3786\"],[0.5555555555555556,\"#d8576b\"],[0.6666666666666666,\"#ed7953\"],[0.7777777777777778,\"#fb9f3a\"],[0.8888888888888888,\"#fdca26\"],[1.0,\"#f0f921\"]],\"type\":\"heatmap\"}],\"heatmapgl\":[{\"colorbar\":{\"outlinewidth\":0,\"ticks\":\"\"},\"colorscale\":[[0.0,\"#0d0887\"],[0.1111111111111111,\"#46039f\"],[0.2222222222222222,\"#7201a8\"],[0.3333333333333333,\"#9c179e\"],[0.4444444444444444,\"#bd3786\"],[0.5555555555555556,\"#d8576b\"],[0.6666666666666666,\"#ed7953\"],[0.7777777777777778,\"#fb9f3a\"],[0.8888888888888888,\"#fdca26\"],[1.0,\"#f0f921\"]],\"type\":\"heatmapgl\"}],\"histogram\":[{\"marker\":{\"pattern\":{\"fillmode\":\"overlay\",\"size\":10,\"solidity\":0.2}},\"type\":\"histogram\"}],\"histogram2d\":[{\"colorbar\":{\"outlinewidth\":0,\"ticks\":\"\"},\"colorscale\":[[0.0,\"#0d0887\"],[0.1111111111111111,\"#46039f\"],[0.2222222222222222,\"#7201a8\"],[0.3333333333333333,\"#9c179e\"],[0.4444444444444444,\"#bd3786\"],[0.5555555555555556,\"#d8576b\"],[0.6666666666666666,\"#ed7953\"],[0.7777777777777778,\"#fb9f3a\"],[0.8888888888888888,\"#fdca26\"],[1.0,\"#f0f921\"]],\"type\":\"histogram2d\"}],\"histogram2dcontour\":[{\"colorbar\":{\"outlinewidth\":0,\"ticks\":\"\"},\"colorscale\":[[0.0,\"#0d0887\"],[0.1111111111111111,\"#46039f\"],[0.2222222222222222,\"#7201a8\"],[0.3333333333333333,\"#9c179e\"],[0.4444444444444444,\"#bd3786\"],[0.5555555555555556,\"#d8576b\"],[0.6666666666666666,\"#ed7953\"],[0.7777777777777778,\"#fb9f3a\"],[0.8888888888888888,\"#fdca26\"],[1.0,\"#f0f921\"]],\"type\":\"histogram2dcontour\"}],\"mesh3d\":[{\"colorbar\":{\"outlinewidth\":0,\"ticks\":\"\"},\"type\":\"mesh3d\"}],\"parcoords\":[{\"line\":{\"colorbar\":{\"outlinewidth\":0,\"ticks\":\"\"}},\"type\":\"parcoords\"}],\"pie\":[{\"automargin\":true,\"type\":\"pie\"}],\"scatter\":[{\"marker\":{\"colorbar\":{\"outlinewidth\":0,\"ticks\":\"\"}},\"type\":\"scatter\"}],\"scatter3d\":[{\"line\":{\"colorbar\":{\"outlinewidth\":0,\"ticks\":\"\"}},\"marker\":{\"colorbar\":{\"outlinewidth\":0,\"ticks\":\"\"}},\"type\":\"scatter3d\"}],\"scattercarpet\":[{\"marker\":{\"colorbar\":{\"outlinewidth\":0,\"ticks\":\"\"}},\"type\":\"scattercarpet\"}],\"scattergeo\":[{\"marker\":{\"colorbar\":{\"outlinewidth\":0,\"ticks\":\"\"}},\"type\":\"scattergeo\"}],\"scattergl\":[{\"marker\":{\"colorbar\":{\"outlinewidth\":0,\"ticks\":\"\"}},\"type\":\"scattergl\"}],\"scattermapbox\":[{\"marker\":{\"colorbar\":{\"outlinewidth\":0,\"ticks\":\"\"}},\"type\":\"scattermapbox\"}],\"scatterpolar\":[{\"marker\":{\"colorbar\":{\"outlinewidth\":0,\"ticks\":\"\"}},\"type\":\"scatterpolar\"}],\"scatterpolargl\":[{\"marker\":{\"colorbar\":{\"outlinewidth\":0,\"ticks\":\"\"}},\"type\":\"scatterpolargl\"}],\"scatterternary\":[{\"marker\":{\"colorbar\":{\"outlinewidth\":0,\"ticks\":\"\"}},\"type\":\"scatterternary\"}],\"surface\":[{\"colorbar\":{\"outlinewidth\":0,\"ticks\":\"\"},\"colorscale\":[[0.0,\"#0d0887\"],[0.1111111111111111,\"#46039f\"],[0.2222222222222222,\"#7201a8\"],[0.3333333333333333,\"#9c179e\"],[0.4444444444444444,\"#bd3786\"],[0.5555555555555556,\"#d8576b\"],[0.6666666666666666,\"#ed7953\"],[0.7777777777777778,\"#fb9f3a\"],[0.8888888888888888,\"#fdca26\"],[1.0,\"#f0f921\"]],\"type\":\"surface\"}],\"table\":[{\"cells\":{\"fill\":{\"color\":\"#EBF0F8\"},\"line\":{\"color\":\"white\"}},\"header\":{\"fill\":{\"color\":\"#C8D4E3\"},\"line\":{\"color\":\"white\"}},\"type\":\"table\"}]},\"layout\":{\"annotationdefaults\":{\"arrowcolor\":\"#2a3f5f\",\"arrowhead\":0,\"arrowwidth\":1},\"autotypenumbers\":\"strict\",\"coloraxis\":{\"colorbar\":{\"outlinewidth\":0,\"ticks\":\"\"}},\"colorscale\":{\"diverging\":[[0,\"#8e0152\"],[0.1,\"#c51b7d\"],[0.2,\"#de77ae\"],[0.3,\"#f1b6da\"],[0.4,\"#fde0ef\"],[0.5,\"#f7f7f7\"],[0.6,\"#e6f5d0\"],[0.7,\"#b8e186\"],[0.8,\"#7fbc41\"],[0.9,\"#4d9221\"],[1,\"#276419\"]],\"sequential\":[[0.0,\"#0d0887\"],[0.1111111111111111,\"#46039f\"],[0.2222222222222222,\"#7201a8\"],[0.3333333333333333,\"#9c179e\"],[0.4444444444444444,\"#bd3786\"],[0.5555555555555556,\"#d8576b\"],[0.6666666666666666,\"#ed7953\"],[0.7777777777777778,\"#fb9f3a\"],[0.8888888888888888,\"#fdca26\"],[1.0,\"#f0f921\"]],\"sequentialminus\":[[0.0,\"#0d0887\"],[0.1111111111111111,\"#46039f\"],[0.2222222222222222,\"#7201a8\"],[0.3333333333333333,\"#9c179e\"],[0.4444444444444444,\"#bd3786\"],[0.5555555555555556,\"#d8576b\"],[0.6666666666666666,\"#ed7953\"],[0.7777777777777778,\"#fb9f3a\"],[0.8888888888888888,\"#fdca26\"],[1.0,\"#f0f921\"]]},\"colorway\":[\"#636efa\",\"#EF553B\",\"#00cc96\",\"#ab63fa\",\"#FFA15A\",\"#19d3f3\",\"#FF6692\",\"#B6E880\",\"#FF97FF\",\"#FECB52\"],\"font\":{\"color\":\"#2a3f5f\"},\"geo\":{\"bgcolor\":\"white\",\"lakecolor\":\"white\",\"landcolor\":\"#E5ECF6\",\"showlakes\":true,\"showland\":true,\"subunitcolor\":\"white\"},\"hoverlabel\":{\"align\":\"left\"},\"hovermode\":\"closest\",\"mapbox\":{\"style\":\"light\"},\"paper_bgcolor\":\"white\",\"plot_bgcolor\":\"#E5ECF6\",\"polar\":{\"angularaxis\":{\"gridcolor\":\"white\",\"linecolor\":\"white\",\"ticks\":\"\"},\"bgcolor\":\"#E5ECF6\",\"radialaxis\":{\"gridcolor\":\"white\",\"linecolor\":\"white\",\"ticks\":\"\"}},\"scene\":{\"xaxis\":{\"backgroundcolor\":\"#E5ECF6\",\"gridcolor\":\"white\",\"gridwidth\":2,\"linecolor\":\"white\",\"showbackground\":true,\"ticks\":\"\",\"zerolinecolor\":\"white\"},\"yaxis\":{\"backgroundcolor\":\"#E5ECF6\",\"gridcolor\":\"white\",\"gridwidth\":2,\"linecolor\":\"white\",\"showbackground\":true,\"ticks\":\"\",\"zerolinecolor\":\"white\"},\"zaxis\":{\"backgroundcolor\":\"#E5ECF6\",\"gridcolor\":\"white\",\"gridwidth\":2,\"linecolor\":\"white\",\"showbackground\":true,\"ticks\":\"\",\"zerolinecolor\":\"white\"}},\"shapedefaults\":{\"line\":{\"color\":\"#2a3f5f\"}},\"ternary\":{\"aaxis\":{\"gridcolor\":\"white\",\"linecolor\":\"white\",\"ticks\":\"\"},\"baxis\":{\"gridcolor\":\"white\",\"linecolor\":\"white\",\"ticks\":\"\"},\"bgcolor\":\"#E5ECF6\",\"caxis\":{\"gridcolor\":\"white\",\"linecolor\":\"white\",\"ticks\":\"\"}},\"title\":{\"x\":0.05},\"xaxis\":{\"automargin\":true,\"gridcolor\":\"white\",\"linecolor\":\"white\",\"ticks\":\"\",\"title\":{\"standoff\":15},\"zerolinecolor\":\"white\",\"zerolinewidth\":2},\"yaxis\":{\"automargin\":true,\"gridcolor\":\"white\",\"linecolor\":\"white\",\"ticks\":\"\",\"title\":{\"standoff\":15},\"zerolinecolor\":\"white\",\"zerolinewidth\":2}}},\"mapbox\":{\"domain\":{\"x\":[0.0,1.0],\"y\":[0.0,1.0]},\"center\":{\"lat\":59.93102953858947,\"lon\":30.33178560654585},\"zoom\":9,\"style\":\"open-street-map\"},\"legend\":{\"tracegroupgap\":0,\"itemsizing\":\"constant\"},\"margin\":{\"t\":0,\"r\":0,\"l\":0,\"b\":0},\"height\":500,\"width\":1000},                        {\"responsive\": true}                    ).then(function(){\n",
              "                            \n",
              "var gd = document.getElementById('906d50e9-43ab-4b2c-a947-fecb40a99f52');\n",
              "var x = new MutationObserver(function (mutations, observer) {{\n",
              "        var display = window.getComputedStyle(gd).display;\n",
              "        if (!display || display === 'none') {{\n",
              "            console.log([gd, 'removed!']);\n",
              "            Plotly.purge(gd);\n",
              "            observer.disconnect();\n",
              "        }}\n",
              "}});\n",
              "\n",
              "// Listen for the removal of the full notebook cells\n",
              "var notebookContainer = gd.closest('#notebook-container');\n",
              "if (notebookContainer) {{\n",
              "    x.observe(notebookContainer, {childList: true});\n",
              "}}\n",
              "\n",
              "// Listen for the clearing of the current output cell\n",
              "var outputEl = gd.closest('.output');\n",
              "if (outputEl) {{\n",
              "    x.observe(outputEl, {childList: true});\n",
              "}}\n",
              "\n",
              "                        })                };                            </script>        </div>\n",
              "</body>\n",
              "</html>"
            ]
          },
          "metadata": {}
        }
      ]
    },
    {
      "cell_type": "code",
      "source": [
        "xgb_pred_test = xgboost.predict(X_test)\n",
        "metrics(xgb_pred_test, y_test)"
      ],
      "metadata": {
        "colab": {
          "base_uri": "https://localhost:8080/"
        },
        "id": "bD6QjA3HCV9j",
        "outputId": "a56f5d33-6727-45ac-dc8c-448fb118fef9"
      },
      "execution_count": 38,
      "outputs": [
        {
          "output_type": "execute_result",
          "data": {
            "text/plain": [
              "1.4005341699809346"
            ]
          },
          "metadata": {},
          "execution_count": 38
        }
      ]
    },
    {
      "cell_type": "code",
      "source": [
        "xgb_pred_df = pd.DataFrame(xgb_pred_test, columns=['sum_pred'])\n",
        "xgb_pred_df['date'] = test.date\n",
        "xgb_pred_df['lat'] = test.lat\n",
        "xgb_pred_df['lon'] = test.lon\n",
        "xgb_pred_df['timestamp'] = test.timestamp\n",
        "xgb_pred_df['point_new'] = test.point_new\n",
        "xgb_pred_df.head()"
      ],
      "metadata": {
        "colab": {
          "base_uri": "https://localhost:8080/",
          "height": 206
        },
        "id": "zA66RV5cwfwn",
        "outputId": "e52658a1-6441-47f4-c905-50466e211f9b"
      },
      "execution_count": 39,
      "outputs": [
        {
          "output_type": "execute_result",
          "data": {
            "text/plain": [
              "    sum_pred        date        lat        lon   timestamp  point_new\n",
              "0  11.046863  2020-02-26  59.934863  30.331616  1582711200       4317\n",
              "1   3.051846  2020-02-17  59.940488  30.329370  1581937200       5153\n",
              "2   4.608908  2020-02-12  59.905597  30.297929  1581523200        823\n",
              "3   9.367582  2020-02-12  59.921359  30.356319  1581512400       5197\n",
              "4   3.559579  2020-02-15  59.939363  30.315895  1581771600       1116"
            ],
            "text/html": [
              "\n",
              "  <div id=\"df-a6455d36-6d42-42ee-a08a-37d972bb4c15\">\n",
              "    <div class=\"colab-df-container\">\n",
              "      <div>\n",
              "<style scoped>\n",
              "    .dataframe tbody tr th:only-of-type {\n",
              "        vertical-align: middle;\n",
              "    }\n",
              "\n",
              "    .dataframe tbody tr th {\n",
              "        vertical-align: top;\n",
              "    }\n",
              "\n",
              "    .dataframe thead th {\n",
              "        text-align: right;\n",
              "    }\n",
              "</style>\n",
              "<table border=\"1\" class=\"dataframe\">\n",
              "  <thead>\n",
              "    <tr style=\"text-align: right;\">\n",
              "      <th></th>\n",
              "      <th>sum_pred</th>\n",
              "      <th>date</th>\n",
              "      <th>lat</th>\n",
              "      <th>lon</th>\n",
              "      <th>timestamp</th>\n",
              "      <th>point_new</th>\n",
              "    </tr>\n",
              "  </thead>\n",
              "  <tbody>\n",
              "    <tr>\n",
              "      <th>0</th>\n",
              "      <td>11.046863</td>\n",
              "      <td>2020-02-26</td>\n",
              "      <td>59.934863</td>\n",
              "      <td>30.331616</td>\n",
              "      <td>1582711200</td>\n",
              "      <td>4317</td>\n",
              "    </tr>\n",
              "    <tr>\n",
              "      <th>1</th>\n",
              "      <td>3.051846</td>\n",
              "      <td>2020-02-17</td>\n",
              "      <td>59.940488</td>\n",
              "      <td>30.329370</td>\n",
              "      <td>1581937200</td>\n",
              "      <td>5153</td>\n",
              "    </tr>\n",
              "    <tr>\n",
              "      <th>2</th>\n",
              "      <td>4.608908</td>\n",
              "      <td>2020-02-12</td>\n",
              "      <td>59.905597</td>\n",
              "      <td>30.297929</td>\n",
              "      <td>1581523200</td>\n",
              "      <td>823</td>\n",
              "    </tr>\n",
              "    <tr>\n",
              "      <th>3</th>\n",
              "      <td>9.367582</td>\n",
              "      <td>2020-02-12</td>\n",
              "      <td>59.921359</td>\n",
              "      <td>30.356319</td>\n",
              "      <td>1581512400</td>\n",
              "      <td>5197</td>\n",
              "    </tr>\n",
              "    <tr>\n",
              "      <th>4</th>\n",
              "      <td>3.559579</td>\n",
              "      <td>2020-02-15</td>\n",
              "      <td>59.939363</td>\n",
              "      <td>30.315895</td>\n",
              "      <td>1581771600</td>\n",
              "      <td>1116</td>\n",
              "    </tr>\n",
              "  </tbody>\n",
              "</table>\n",
              "</div>\n",
              "      <button class=\"colab-df-convert\" onclick=\"convertToInteractive('df-a6455d36-6d42-42ee-a08a-37d972bb4c15')\"\n",
              "              title=\"Convert this dataframe to an interactive table.\"\n",
              "              style=\"display:none;\">\n",
              "        \n",
              "  <svg xmlns=\"http://www.w3.org/2000/svg\" height=\"24px\"viewBox=\"0 0 24 24\"\n",
              "       width=\"24px\">\n",
              "    <path d=\"M0 0h24v24H0V0z\" fill=\"none\"/>\n",
              "    <path d=\"M18.56 5.44l.94 2.06.94-2.06 2.06-.94-2.06-.94-.94-2.06-.94 2.06-2.06.94zm-11 1L8.5 8.5l.94-2.06 2.06-.94-2.06-.94L8.5 2.5l-.94 2.06-2.06.94zm10 10l.94 2.06.94-2.06 2.06-.94-2.06-.94-.94-2.06-.94 2.06-2.06.94z\"/><path d=\"M17.41 7.96l-1.37-1.37c-.4-.4-.92-.59-1.43-.59-.52 0-1.04.2-1.43.59L10.3 9.45l-7.72 7.72c-.78.78-.78 2.05 0 2.83L4 21.41c.39.39.9.59 1.41.59.51 0 1.02-.2 1.41-.59l7.78-7.78 2.81-2.81c.8-.78.8-2.07 0-2.86zM5.41 20L4 18.59l7.72-7.72 1.47 1.35L5.41 20z\"/>\n",
              "  </svg>\n",
              "      </button>\n",
              "      \n",
              "  <style>\n",
              "    .colab-df-container {\n",
              "      display:flex;\n",
              "      flex-wrap:wrap;\n",
              "      gap: 12px;\n",
              "    }\n",
              "\n",
              "    .colab-df-convert {\n",
              "      background-color: #E8F0FE;\n",
              "      border: none;\n",
              "      border-radius: 50%;\n",
              "      cursor: pointer;\n",
              "      display: none;\n",
              "      fill: #1967D2;\n",
              "      height: 32px;\n",
              "      padding: 0 0 0 0;\n",
              "      width: 32px;\n",
              "    }\n",
              "\n",
              "    .colab-df-convert:hover {\n",
              "      background-color: #E2EBFA;\n",
              "      box-shadow: 0px 1px 2px rgba(60, 64, 67, 0.3), 0px 1px 3px 1px rgba(60, 64, 67, 0.15);\n",
              "      fill: #174EA6;\n",
              "    }\n",
              "\n",
              "    [theme=dark] .colab-df-convert {\n",
              "      background-color: #3B4455;\n",
              "      fill: #D2E3FC;\n",
              "    }\n",
              "\n",
              "    [theme=dark] .colab-df-convert:hover {\n",
              "      background-color: #434B5C;\n",
              "      box-shadow: 0px 1px 3px 1px rgba(0, 0, 0, 0.15);\n",
              "      filter: drop-shadow(0px 1px 2px rgba(0, 0, 0, 0.3));\n",
              "      fill: #FFFFFF;\n",
              "    }\n",
              "  </style>\n",
              "\n",
              "      <script>\n",
              "        const buttonEl =\n",
              "          document.querySelector('#df-a6455d36-6d42-42ee-a08a-37d972bb4c15 button.colab-df-convert');\n",
              "        buttonEl.style.display =\n",
              "          google.colab.kernel.accessAllowed ? 'block' : 'none';\n",
              "\n",
              "        async function convertToInteractive(key) {\n",
              "          const element = document.querySelector('#df-a6455d36-6d42-42ee-a08a-37d972bb4c15');\n",
              "          const dataTable =\n",
              "            await google.colab.kernel.invokeFunction('convertToInteractive',\n",
              "                                                     [key], {});\n",
              "          if (!dataTable) return;\n",
              "\n",
              "          const docLinkHtml = 'Like what you see? Visit the ' +\n",
              "            '<a target=\"_blank\" href=https://colab.research.google.com/notebooks/data_table.ipynb>data table notebook</a>'\n",
              "            + ' to learn more about interactive tables.';\n",
              "          element.innerHTML = '';\n",
              "          dataTable['output_type'] = 'display_data';\n",
              "          await google.colab.output.renderOutput(dataTable, element);\n",
              "          const docLink = document.createElement('div');\n",
              "          docLink.innerHTML = docLinkHtml;\n",
              "          element.appendChild(docLink);\n",
              "        }\n",
              "      </script>\n",
              "    </div>\n",
              "  </div>\n",
              "  "
            ]
          },
          "metadata": {},
          "execution_count": 39
        }
      ]
    },
    {
      "cell_type": "code",
      "source": [
        "# check filtered lat lon\n",
        "fig = px.scatter_mapbox(xgb_pred_df, \n",
        "                        lat='lat', \n",
        "                        lon='lon',\n",
        "                        zoom=9,\n",
        "                        size='sum_pred',\n",
        "                        height=500,\n",
        "                        width=1000)\n",
        "fig.update_layout(mapbox_style='open-street-map')\n",
        "fig.update_layout(margin={'r':0, 't':0, 'l':0, 'b':0})\n",
        "fig.show()"
      ],
      "metadata": {
        "colab": {
          "base_uri": "https://localhost:8080/",
          "height": 517
        },
        "id": "u_1YL8J4wQLY",
        "outputId": "899b0c77-f489-4bca-dcb3-677a532f128e"
      },
      "execution_count": 40,
      "outputs": [
        {
          "output_type": "display_data",
          "data": {
            "text/html": [
              "<html>\n",
              "<head><meta charset=\"utf-8\" /></head>\n",
              "<body>\n",
              "    <div>            <script src=\"https://cdnjs.cloudflare.com/ajax/libs/mathjax/2.7.5/MathJax.js?config=TeX-AMS-MML_SVG\"></script><script type=\"text/javascript\">if (window.MathJax) {MathJax.Hub.Config({SVG: {font: \"STIX-Web\"}});}</script>                <script type=\"text/javascript\">window.PlotlyConfig = {MathJaxConfig: 'local'};</script>\n",
              "        <script src=\"https://cdn.plot.ly/plotly-2.8.3.min.js\"></script>                <div id=\"fb2d5b25-04ae-4cc7-af27-6da0e28781ff\" class=\"plotly-graph-div\" style=\"height:500px; width:1000px;\"></div>            <script type=\"text/javascript\">                                    window.PLOTLYENV=window.PLOTLYENV || {};                                    if (document.getElementById(\"fb2d5b25-04ae-4cc7-af27-6da0e28781ff\")) {                    Plotly.newPlot(                        \"fb2d5b25-04ae-4cc7-af27-6da0e28781ff\",                        [{\"hovertemplate\":\"sum_pred=%{marker.size}<br>lat=%{lat}<br>lon=%{lon}<extra></extra>\",\"lat\":[59.93486250245379,59.94048754777036,59.90559688321354,59.9213585004893,59.939362615035215,59.8965868842863,59.938237644136834,60.034845742999664,60.00454565787229,59.83119125766128,59.93486250245379,59.931487017270754,59.84134728385376,59.85150021276701,59.9551082008659,59.89996592032975,59.90897500266847,59.9213585004893,59.938237644136834,59.91122689137138,59.98095971679567,59.95735695979652,59.94048754777036,59.9213585004893,59.83344842006886,59.880813503727474,59.93373737889392,59.94611163902791,59.938237644136834,59.931487017270754,60.02250461674986,60.00791370576335,59.91910729905747,59.928111188564486,59.95061022518379,59.938237644136834,59.85150021276701,59.94611163902791,59.9213585004893,59.83344842006886,59.93373737889392,59.94948563587888,59.95960556612937,59.95061022518379,59.966350469610255,59.89320750447957,59.8965868842863,59.90109218928974,59.978712559797806,59.83344842006886,59.83344842006886,59.94498689709594,59.931487017270754,60.02250461674986,59.939362615035215,59.982083238097154,59.84924427397591,59.85150021276701,59.89996592032975,60.00230010204685,59.93261221716654,59.98095971679567,59.931487017270754,60.03933228251395,60.03933228251395,59.86390514283672,59.925860445235934,59.93486250245379,59.93261221716654,59.9213585004893,60.00454565787229,59.938237644136834,59.92473501631175,59.85150021276701,59.92698583598656,59.93373737889392,59.93373737889392,59.96747448668645,59.96297818952292,59.938237644136834,59.931487017270754,59.89996592032975,59.89996592032975,59.93486250245379,59.938237644136834,59.94048754777036,59.931487017270754,59.86954221851149,59.85601163159266,59.91460443804235,59.86616008776313,59.94048754777036,59.931487017270754,59.99893148244435,59.925860445235934,59.98095971679567,59.938237644136834,59.939362615035215,59.9213585004893,59.9292365029706,59.95061022518379,59.93486250245379,59.91235277844529,59.93261221716654,59.982083238097154,59.9213585004893,59.98657694200688,59.935987587847,59.931487017270754,59.94948563587888,60.00454565787229,59.92360954921317,59.83344842006886,59.938237644136834,59.94048754777036,59.925860445235934,59.9213585004893,59.89320750447957,59.83344842006886,59.931487017270754,59.84134728385376,59.9213585004893,59.931487017270754,59.94048754777036,59.9213585004893,59.92023291886231,60.00454565787229,59.90784900103776,59.92023291886231,59.92473501631175,59.84134728385376,59.84134728385376,59.931487017270754,59.93373737889392,59.938237644136834,59.8965868842863,59.925860445235934,59.935987587847,59.94048754777036,60.00454565787229,59.938237644136834,59.93261221716654,59.91685594491078,59.94048754777036,59.931487017270754,59.94498689709594,59.89996592032975,59.94048754777036,59.92023291886231,59.928111188564486,59.93261221716654,59.93373737889392,59.931487017270754,59.931487017270754,59.928111188564486,59.966350469610255,59.852628124816725,59.94048754777036,59.938237644136834,59.83119125766128,59.931487017270754,59.978712559797806,59.97197017358298,59.83344842006886,59.928111188564486,59.83119125766128,60.00454565787229,59.982083238097154,59.925860445235934,59.93373737889392,59.95061022518379,59.9213585004893,59.9213585004893,59.94948563587888,59.94048754777036,59.931487017270754,59.9551082008659,59.969722406414654,59.9213585004893,59.87968654715584,59.928111188564486,59.91235277844529,59.92473501631175,59.94048754777036,59.83344842006886,59.92473501631175,59.84134728385376,59.928111188564486,59.9213585004893,59.852628124816725,59.966350469610255,60.02250461674986,59.89996592032975,59.83119125766128,59.8965868842863,59.9292365029706,59.98095971679567,59.978712559797806,59.92698583598656,59.93373737889392,59.89996592032975,59.89996592032975,59.83344842006886,59.93261221716654,59.93373737889392,59.93486250245379,59.85150021276701,59.9213585004893,59.86954221851149,59.9213585004893,59.94948563587888,59.93373737889392,59.9213585004893,59.93261221716654,59.94048754777036,59.93261221716654,59.931487017270754,59.938237644136834,59.966350469610255,59.94386211700508,59.86616008776313,59.94611163902791,59.93261221716654,59.89996592032975,59.86616008776313,59.93486250245379,59.93261221716654,59.939362615035215,59.931487017270754,59.87968654715584,59.9213585004893,59.93373737889392,59.969722406414654,59.93486250245379,59.9292365029706,59.95623259940636,59.90109218928974,59.9213585004893,59.931487017270754,59.90109218928974,59.97197017358298,59.938237644136834,59.94048754777036,59.938237644136834,59.928111188564486,59.90784900103776,59.931487017270754,59.93261221716654,60.0236267277979,59.966350469610255,59.93373737889392,59.89320750447957,59.931487017270754,60.00454565787229,59.86954221851149,59.89320750447957,59.9213585004893,59.95960556612937,59.93261221716654,59.938237644136834,59.93373737889392,59.938237644136834,59.94048754777036,59.94048754777036,59.94498689709594,59.92698583598656,59.9213585004893,60.01240390273974,59.98657694200688,59.86616008776313,59.93486250245379,59.98095971679567,59.95061022518379,59.93373737889392,59.938237644136834,59.931487017270754,59.93373737889392,59.98095971679567,59.94948563587888,59.925860445235934,59.94048754777036,59.931487017270754,59.83344842006886,59.982083238097154,59.938237644136834,59.94048754777036,59.89320750447957,59.95735695979652,59.95061022518379,59.93373737889392,59.89996592032975,59.89320750447957,59.94048754777036,59.91910729905747,59.938237644136834,59.935987587847,59.9292365029706,59.91910729905747,59.931487017270754,59.931487017270754,59.83344842006886,59.94048754777036,59.938237644136834,59.982083238097154,59.982083238097154,59.925860445235934,59.93261221716654,59.94948563587888,59.931487017270754,59.91910729905747,59.928111188564486,59.966350469610255,59.89996592032975,59.931487017270754,59.876305448184645,59.925860445235934,59.931487017270754,59.88757444082032,59.84134728385376,59.89996592032975,59.93373737889392,59.928111188564486,59.987700272664576,59.90784900103776,59.96859846562096,59.93711263507439,59.938237644136834,59.93261221716654,59.89320750447957,59.86616008776313,59.939362615035215,59.93373737889392,59.89996592032975,59.86616008776313,59.9292365029706,59.91685594491078,59.85826711164091,59.928111188564486,59.928111188564486,59.94611163902791,60.03372401289842,59.966350469610255,59.95735695979652,59.93261221716654,59.982083238097154,59.89996592032975,59.938237644136834,59.93261221716654,59.84924427397591,60.034845742999664,59.9292365029706,59.94048754777036,59.93373737889392,59.9213585004893,59.89996592032975,59.982083238097154,59.982083238097154,59.96859846562096,59.9213585004893,59.982083238097154,59.9292365029706,59.94048754777036,59.93486250245379,59.98657694200688,60.00454565787229,59.89320750447957,59.93373737889392,59.966350469610255,59.938237644136834,59.94048754777036,59.95061022518379,59.93373737889392,60.00454565787229,60.02250461674986,59.931487017270754,59.89996592032975,59.89996592032975,59.93373737889392,59.93486250245379,59.938237644136834,59.978712559797806,59.9551082008659,59.9292365029706,59.9213585004893,59.9213585004893,59.852628124816725,59.982083238097154,59.89996592032975,59.931487017270754,59.84134728385376,59.89996592032975,59.92023291886231,59.95735695979652,59.86616008776313,59.935987587847,59.98657694200688,59.92360954921317,59.935987587847,60.034845742999664,59.9292365029706,59.931487017270754,59.931487017270754,59.94048754777036,59.98657694200688,59.92473501631175,59.91122689137138,59.83344842006886,59.935987587847,59.938237644136834,59.938237644136834,59.89996592032975,59.931487017270754,60.00230010204685,59.938237644136834,59.92698583598656,59.84134728385376,59.95735695979652,59.931487017270754,59.91910729905747,59.89320750447957,59.93373737889392,59.92698583598656,59.96859846562096,59.92698583598656,59.89320750447957,59.92698583598656,59.95061022518379,60.03933228251395,59.9213585004893,59.93261221716654,59.9213585004893,59.9213585004893,59.9551082008659,59.89996592032975,59.83119125766128,59.93373737889392,59.92473501631175,59.94498689709594,59.93711263507439,59.852628124816725,59.8965868842863,59.93373737889392,59.91910729905747,59.87066951899336,59.93373737889392,59.931487017270754,59.86616008776313,59.931487017270754,60.02250461674986,59.95061022518379,59.93373737889392,59.98657694200688,59.9292365029706,59.98095971679567,59.931487017270754,59.84924427397591,59.91122689137138,59.92023291886231,59.86390514283672,59.92698583598656,59.93373737889392,59.89320750447957,59.93261221716654,59.928111188564486,59.83344842006886,59.9292365029706,59.8965868842863,59.9292365029706,59.93261221716654,59.84134728385376,60.034845742999664,59.93373737889392,59.938237644136834,59.925860445235934,59.89996592032975,59.85150021276701,59.9213585004893,59.84924427397591,59.960729812073794,59.92698583598656,59.9292365029706,59.94048754777036,59.938237644136834,59.94048754777036,59.93036177920573,59.93711263507439,59.94498689709594,59.93373737889392,59.93373737889392,59.931487017270754,59.94498689709594,59.93373737889392,59.938237644136834,60.034845742999664,59.93373737889392,59.931487017270754,59.93486250245379,59.938237644136834,59.9292365029706,60.02250461674986,59.89320750447957,59.93373737889392,60.00230010204685,59.85150021276701,59.96859846562096,59.938237644136834,60.00454565787229,59.925860445235934,59.938237644136834,59.83119125766128,59.93373737889392,59.966350469610255,59.931487017270754,59.931487017270754,59.982083238097154,59.89320750447957,59.95061022518379,59.925860445235934,59.931487017270754,60.034845742999664,59.90559688321354,59.94948563587888,59.939362615035215,59.931487017270754,59.89320750447957,59.931487017270754,59.939362615035215,59.9483610084185,59.95960556612937,59.9213585004893,59.89320750447957,59.92473501631175,59.85150021276701,59.93373737889392,59.83344842006886,59.94048754777036,59.935987587847,59.95061022518379,59.928111188564486,59.931487017270754,59.89320750447957,59.928111188564486,59.928111188564486,59.89320750447957,59.93373737889392,59.938237644136834,59.93261221716654,59.93373737889392,60.03933228251395,59.931487017270754,59.86616008776313,59.93036177920573,60.03933228251395,59.85150021276701,59.93373737889392,59.93486250245379,59.966350469610255,59.9292365029706,59.94498689709594,59.982083238097154,59.94161244234315,59.94498689709594,59.939362615035215,59.92698583598656,59.9292365029706,59.9213585004893,59.982083238097154,59.89996592032975,59.89996592032975,59.9213585004893,60.01240390273974,59.95061022518379,59.93486250245379,59.931487017270754,59.85150021276701,59.98095971679567,59.94948563587888,59.982083238097154,59.93261221716654,59.92473501631175,59.92023291886231,59.93373737889392,59.93261221716654,59.95061022518379,59.95061022518379,59.91910729905747,60.034845742999664,59.9213585004893,59.935987587847,59.89996592032975,59.931487017270754,59.93373737889392,59.83119125766128,59.93261221716654,59.93261221716654,59.94048754777036,59.94161244234315,59.94048754777036,60.03372401289842,59.93486250245379,59.95061022518379,59.91460443804235,59.931487017270754,59.9292365029706,59.92698583598656,59.931487017270754,59.938237644136834,59.94498689709594,59.92698583598656,59.92698583598656,60.034845742999664,59.85150021276701,59.935987587847,59.93486250245379,59.94948563587888,59.9551082008659,59.93261221716654,59.938237644136834,59.95061022518379,59.982083238097154,59.931487017270754,59.94273729875443,59.9292365029706,59.94273729875443,59.94273729875443,59.92698583598656,59.85150021276701,59.9292365029706,60.02250461674986,59.94611163902791,59.85150021276701,59.938237644136834,59.935987587847,59.95735695979652,59.931487017270754,59.9213585004893,59.8965868842863,59.94048754777036,60.034845742999664,59.92473501631175,59.982083238097154,59.89320750447957,59.92473501631175,59.931487017270754,59.931487017270754,59.95735695979652,59.931487017270754,59.92473501631175,59.89996592032975,59.90559688321354,59.9292365029706,59.94948563587888,59.83344842006886,59.876305448184645,59.931487017270754,60.00903631217126,59.98657694200688,59.9292365029706,59.8965868842863,59.99107003588408,60.00454565787229,59.85601163159266,59.83119125766128,59.978712559797806,59.92698583598656,59.93486250245379,59.92698583598656,59.93486250245379,59.84924427397591,59.93711263507439,59.93486250245379,60.034845742999664,59.93373737889392,59.92473501631175,59.9551082008659,59.95398376417426,59.94048754777036,59.93373737889392,59.98095971679567,59.931487017270754,60.034845742999664,59.9213585004893,59.91685594491078,59.982083238097154,60.00454565787229,59.96522641439151,59.93373737889392,59.938237644136834,59.93373737889392,59.935987587847,59.94048754777036,59.91122689137138,60.03933228251395,59.928111188564486,59.89996592032975,59.92698583598656,59.925860445235934,59.93711263507439,59.93373737889392,59.9213585004893],\"legendgroup\":\"\",\"lon\":[30.331615568295643,30.32936978008534,30.29792874514116,30.35631923860893,30.315895050823546,30.511278625119544,30.322632415454443,30.419201308497296,30.300174533351456,30.500049684068053,30.32936978008534,30.351827662188327,30.253012980935186,30.268733498407272,30.311403474402955,30.425938673128183,30.241784039883687,30.46860864912387,30.322632415454443,30.331615568295643,30.210343004939503,30.320386627244144,30.32936978008534,30.35631923860893,30.34958187397803,30.311403474402955,30.29343716872056,30.374285544291315,30.318140839033845,30.354073450398623,30.2260635224116,30.259750345566083,30.33835293292654,30.300174533351456,30.29119138051026,30.322632415454443,30.268733498407272,30.374285544291315,30.35631923860893,30.34958187397803,30.30691189798236,30.315895050823546,30.302420321561755,30.29119138051026,30.311403474402955,30.515770201540143,30.511278625119544,30.27547086303817,30.25525876914548,30.185639334626217,30.185639334626217,30.266487710196973,30.354073450398623,30.33835293292654,30.315895050823546,30.19911406388801,30.14521514684084,30.268733498407272,30.425938673128183,30.295682956930857,30.250767192724883,30.210343004939503,30.351827662188327,30.322632415454443,30.322632415454443,30.46636286091357,30.295682956930857,30.32936978008534,30.250767192724883,30.35631923860893,30.300174533351456,30.318140839033845,30.241784039883687,30.268733498407272,30.318140839033845,30.324878203664746,30.30691189798236,30.47534601375476,30.34733608576773,30.322632415454443,30.354073450398623,30.425938673128183,30.425938673128183,30.32936978008534,30.331615568295643,30.313649262613254,30.360810815029527,30.37877712071192,30.315895050823546,30.34733608576773,30.322632415454443,30.32936978008534,30.360810815029527,30.35631923860893,30.295682956930857,30.210343004939503,30.318140839033845,30.315895050823546,30.35631923860893,30.28894559229996,30.29119138051026,30.32936978008534,30.331615568295643,30.250767192724883,30.19911406388801,30.35631923860893,30.178901969995323,30.32712399187504,30.354073450398623,30.300174533351456,30.300174533351456,30.46860864912387,30.185639334626217,30.322632415454443,30.313649262613254,30.295682956930857,30.46860864912387,30.318140839033845,30.34958187397803,30.33610714471624,30.253012980935186,30.35631923860893,30.360810815029527,30.419201308497296,30.35631923860893,30.46636286091357,30.300174533351456,30.48432916659596,30.32936978008534,30.385514485342814,30.253012980935186,30.253012980935186,30.360810815029527,30.324878203664746,30.331615568295643,30.511278625119544,30.295682956930857,30.324878203664746,30.32936978008534,30.300174533351456,30.318140839033845,30.250767192724883,30.318140839033845,30.313649262613254,30.351827662188327,30.266487710196973,30.425938673128183,30.32936978008534,30.46636286091357,30.360810815029527,30.250767192724883,30.322632415454443,30.354073450398623,30.363056603239823,30.360810815029527,30.311403474402955,30.322632415454443,30.313649262613254,30.331615568295643,30.500049684068053,30.360810815029527,30.25525876914548,30.2260635224116,30.34958187397803,30.360810815029527,30.500049684068053,30.300174533351456,30.19911406388801,30.295682956930857,30.322632415454443,30.29119138051026,30.35631923860893,30.35631923860893,30.300174533351456,30.313649262613254,30.363056603239823,30.33835293292654,30.322632415454443,30.46860864912387,30.318140839033845,30.360810815029527,30.44615076702088,30.241784039883687,30.33835293292654,30.185639334626217,30.241784039883687,30.253012980935186,30.300174533351456,30.35631923860893,30.322632415454443,30.30915768619265,30.2260635224116,30.425938673128183,30.500049684068053,30.511278625119544,30.28894559229996,30.210343004939503,30.25525876914548,30.318140839033845,30.324878203664746,30.425938673128183,30.425938673128183,30.185639334626217,30.250767192724883,30.322632415454443,30.331615568295643,30.268733498407272,30.46860864912387,30.37877712071192,30.46860864912387,30.300174533351456,30.322632415454443,30.35631923860893,30.250767192724883,30.313649262613254,30.250767192724883,30.360810815029527,30.322632415454443,30.311403474402955,30.34059872113684,30.322632415454443,30.374285544291315,30.358565026819228,30.425938673128183,30.322632415454443,30.34284450934713,30.250767192724883,30.315895050823546,30.351827662188327,30.318140839033845,30.46860864912387,30.30691189798236,30.23280088704249,30.331615568295643,30.28894559229996,30.313649262613254,30.27547086303817,30.46860864912387,30.360810815029527,30.27547086303817,30.2260635224116,30.331615568295643,30.32936978008534,30.331615568295643,30.360810815029527,30.48432916659596,30.360810815029527,30.250767192724883,30.14296935863054,30.311403474402955,30.324878203664746,30.515770201540143,30.363056603239823,30.300174533351456,30.37877712071192,30.515770201540143,30.35631923860893,30.302420321561755,30.250767192724883,30.331615568295643,30.324878203664746,30.318140839033845,30.419201308497296,30.313649262613254,30.266487710196973,30.34284450934713,30.46860864912387,30.311403474402955,30.178901969995323,30.322632415454443,30.30915768619265,30.210343004939503,30.315895050823546,30.29343716872056,30.318140839033845,30.351827662188327,30.324878203664746,30.210343004939503,30.300174533351456,30.295682956930857,30.32936978008534,30.351827662188327,30.34958187397803,30.19911406388801,30.331615568295643,30.313649262613254,30.515770201540143,30.34284450934713,30.315895050823546,30.30691189798236,30.425938673128183,30.515770201540143,30.4102181556561,30.33835293292654,30.32936978008534,30.331615568295643,30.28894559229996,30.33835293292654,30.360810815029527,30.360810815029527,30.185639334626217,30.32936978008534,30.322632415454443,30.19911406388801,30.19911406388801,30.295682956930857,30.250767192724883,30.300174533351456,30.358565026819228,30.33835293292654,30.360810815029527,30.311403474402955,30.425938673128183,30.363056603239823,30.360810815029527,30.295682956930857,30.354073450398623,30.331615568295643,30.253012980935186,30.425938673128183,30.322632415454443,30.360810815029527,30.20135985209831,30.48432916659596,30.318140839033845,30.315895050823546,30.318140839033845,30.250767192724883,30.515770201540143,30.322632415454443,30.315895050823546,30.322632415454443,30.425938673128183,30.322632415454443,30.28894559229996,30.318140839033845,30.394497638184003,30.300174533351456,30.360810815029527,30.374285544291315,30.37877712071192,30.30915768619265,30.360810815029527,30.250767192724883,30.19911406388801,30.425938673128183,30.318140839033845,30.320386627244144,30.14521514684084,30.419201308497296,30.363056603239823,30.419201308497296,30.324878203664746,30.46860864912387,30.425938673128183,30.19911406388801,30.19911406388801,30.315895050823546,30.46860864912387,30.19911406388801,30.363056603239823,30.419201308497296,30.32936978008534,30.178901969995323,30.39225184997371,30.515770201540143,30.324878203664746,30.311403474402955,30.331615568295643,30.4102181556561,30.315895050823546,30.30915768619265,30.300174533351456,30.2260635224116,30.351827662188327,30.425938673128183,30.425938673128183,30.29343716872056,30.34284450934713,30.318140839033845,30.25525876914548,30.311403474402955,30.28894559229996,30.46860864912387,30.35631923860893,30.322632415454443,30.19911406388801,30.425938673128183,30.360810815029527,30.253012980935186,30.425938673128183,30.32936978008534,30.320386627244144,30.322632415454443,30.333861356505945,30.178901969995323,30.46860864912387,30.32712399187504,30.419201308497296,30.28894559229996,30.360810815029527,30.358565026819228,30.34059872113684,30.178901969995323,30.491066531226856,30.331615568295643,30.34958187397803,30.324878203664746,30.32936978008534,30.331615568295643,30.425938673128183,30.354073450398623,30.27322507482787,30.318140839033845,30.318140839033845,30.253012980935186,30.320386627244144,30.354073450398623,30.33835293292654,30.515770201540143,30.324878203664746,30.318140839033845,30.315895050823546,30.318140839033845,30.515770201540143,30.318140839033845,30.315895050823546,30.322632415454443,30.46860864912387,30.250767192724883,30.46860864912387,30.35631923860893,30.33835293292654,30.425938673128183,30.500049684068053,30.29343716872056,30.241784039883687,30.365302391450125,30.282208227669067,30.322632415454443,30.511278625119544,30.30691189798236,30.33835293292654,30.46411707270327,30.324878203664746,30.354073450398623,30.322632415454443,30.354073450398623,30.33835293292654,30.315895050823546,30.324878203664746,30.178901969995323,30.28894559229996,30.210343004939503,30.354073450398623,30.14521514684084,30.331615568295643,30.46636286091357,30.178901969995323,30.318140839033845,30.30691189798236,30.515770201540143,30.34958187397803,30.360810815029527,30.34958187397803,30.28894559229996,30.511278625119544,30.28894559229996,30.250767192724883,30.253012980935186,30.419201308497296,30.322632415454443,30.318140839033845,30.295682956930857,30.425938673128183,30.268733498407272,30.46860864912387,30.14521514684084,30.29119138051026,30.318140839033845,30.28894559229996,30.34059872113684,30.318140839033845,30.313649262613254,30.354073450398623,30.282208227669067,30.358565026819228,30.29343716872056,30.322632415454443,30.351827662188327,30.365302391450125,30.29343716872056,30.322632415454443,30.419201308497296,30.30691189798236,30.358565026819228,30.34284450934713,30.331615568295643,30.363056603239823,30.33835293292654,30.515770201540143,30.30691189798236,30.295682956930857,30.268733498407272,30.318140839033845,30.331615568295643,30.39225184997371,30.295682956930857,30.32936978008534,30.500049684068053,30.324878203664746,30.311403474402955,30.354073450398623,30.358565026819228,30.19911406388801,30.515770201540143,30.315895050823546,30.295682956930857,30.354073450398623,30.419201308497296,30.318140839033845,30.315895050823546,30.315895050823546,30.360810815029527,30.515770201540143,30.360810815029527,30.315895050823546,30.33610714471624,30.302420321561755,30.35631923860893,30.515770201540143,30.241784039883687,30.268733498407272,30.324878203664746,30.34958187397803,30.32936978008534,30.324878203664746,30.315895050823546,30.360810815029527,30.360810815029527,30.515770201540143,30.360810815029527,30.360810815029527,30.515770201540143,30.324878203664746,30.318140839033845,30.304666109772054,30.322632415454443,30.322632415454443,30.358565026819228,30.259750345566083,30.34509029755743,30.322632415454443,30.268733498407272,30.30915768619265,30.331615568295643,30.311403474402955,30.28894559229996,30.266487710196973,30.19911406388801,30.313649262613254,30.29343716872056,30.32712399187504,30.318140839033845,30.28894559229996,30.35631923860893,30.19911406388801,30.425938673128183,30.425938673128183,30.35631923860893,30.311403474402955,30.315895050823546,30.331615568295643,30.354073450398623,30.268733498407272,30.210343004939503,30.315895050823546,30.19911406388801,30.250767192724883,30.241784039883687,30.46636286091357,30.30915768619265,30.304666109772054,30.246275616304285,30.315895050823546,30.33835293292654,30.419201308497296,30.46860864912387,30.331615568295643,30.425938673128183,30.358565026819228,30.29343716872056,30.500049684068053,30.358565026819228,30.250767192724883,30.4102181556561,30.372039756081016,30.419201308497296,30.367548179660425,30.32936978008534,30.315895050823546,30.34733608576773,30.358565026819228,30.363056603239823,30.318140839033845,30.358565026819228,30.322632415454443,30.266487710196973,30.318140839033845,30.318140839033845,30.250767192724883,30.268733498407272,30.333861356505945,30.34284450934713,30.300174533351456,30.33835293292654,30.250767192724883,30.331615568295643,30.315895050823546,30.19911406388801,30.354073450398623,30.30691189798236,30.28894559229996,30.30691189798236,30.30691189798236,30.318140839033845,30.268733498407272,30.28894559229996,30.2260635224116,30.374285544291315,30.268733498407272,30.318140839033845,30.333861356505945,30.360810815029527,30.354073450398623,30.46860864912387,30.423692884917887,30.313649262613254,30.419201308497296,30.241784039883687,30.19911406388801,30.515770201540143,30.241784039883687,30.360810815029527,30.354073450398623,30.320386627244144,30.360810815029527,30.241784039883687,30.425938673128183,30.423692884917887,30.28894559229996,30.300174533351456,30.34958187397803,30.360810815029527,30.358565026819228,30.36979396787072,30.178901969995323,30.28894559229996,30.511278625119544,30.20585142851891,30.39225184997371,30.315895050823546,30.500049684068053,30.25525876914548,30.318140839033845,30.32936978008534,30.318140839033845,30.331615568295643,30.14521514684084,30.29119138051026,30.32936978008534,30.419201308497296,30.29343716872056,30.241784039883687,30.311403474402955,30.313649262613254,30.4102181556561,30.322632415454443,30.210343004939503,30.354073450398623,30.419201308497296,30.46860864912387,30.318140839033845,30.19911406388801,30.300174533351456,30.313649262613254,30.29343716872056,30.322632415454443,30.30691189798236,30.324878203664746,30.32936978008534,30.331615568295643,30.322632415454443,30.360810815029527,30.425938673128183,30.331615568295643,30.295682956930857,30.282208227669067,30.322632415454443,30.35631923860893],\"marker\":{\"color\":\"#636efa\",\"size\":[11.046862602233887,3.0518462657928467,4.608908176422119,9.367582321166992,3.5595786571502686,11.986363410949707,3.3289740085601807,3.7768983840942383,3.5236711502075195,4.298125267028809,2.439221143722534,11.832061767578125,3.382371425628662,3.7330920696258545,3.4715230464935303,2.913151741027832,8.209989547729492,4.0693488121032715,2.8536763191223145,11.98000431060791,2.5360372066497803,3.280930995941162,9.50565242767334,3.971977949142456,5.301693916320801,11.980856895446777,11.980856895446777,4.013518333435059,11.61396598815918,10.929094314575195,25.36581039428711,9.512004852294922,11.359999656677246,3.7025721073150635,10.378570556640625,3.217883586883545,3.9099347591400146,3.753063440322876,2.6026723384857178,2.4059720039367676,4.158252716064453,4.194612979888916,6.406116008758545,2.171164035797119,4.19108772277832,3.7505481243133545,2.4237351417541504,3.7416741847991943,4.085784912109375,3.1480698585510254,10.720860481262207,2.593271493911743,3.239562511444092,3.5708932876586914,5.037829875946045,3.722693681716919,7.89559268951416,11.57893180847168,6.226768493652344,3.3148090839385986,2.339047431945801,5.679367542266846,3.5029945373535156,11.62921142578125,3.433701276779175,3.7129478454589844,6.1044769287109375,5.543321132659912,2.3713808059692383,3.6227967739105225,6.006439208984375,7.900064945220947,3.648160696029663,2.4206466674804688,2.3043477535247803,2.426624298095703,11.669171333312988,3.8683979511260986,4.923750877380371,2.9352056980133057,3.5442357063293457,1.788324236869812,5.363326072692871,4.070395469665527,4.859241008758545,5.138499736785889,4.135293006896973,3.0620954036712646,4.021792888641357,3.4775853157043457,4.986238479614258,9.284751892089844,3.8155956268310547,2.8649792671203613,2.7348320484161377,4.144342422485352,3.449115514755249,12.439220428466797,2.175341844558716,3.703991174697876,5.895453929901123,2.776038885116577,2.369892120361328,3.8339178562164307,6.137962341308594,4.12261438369751,3.8446857929229736,29.201740264892578,4.874802589416504,3.75620436668396,3.4453349113464355,3.672184705734253,3.536472797393799,11.78602123260498,3.9870524406433105,2.719245433807373,1.9583790302276611,9.737738609313965,7.995575904846191,4.558327674865723,3.689675807952881,3.1499316692352295,2.0207386016845703,3.86269211769104,2.8861277103424072,3.8917362689971924,4.04526424407959,9.415451049804688,28.635318756103516,4.8181562423706055,6.480319499969482,2.3074772357940674,5.914190769195557,4.410447120666504,2.19736647605896,2.784374952316284,3.5889432430267334,2.463902711868286,4.504954814910889,8.181963920593262,11.29030990600586,2.0666561126708984,2.6696197986602783,4.89080286026001,1.9986867904663086,3.5056092739105225,3.4640843868255615,4.588624954223633,2.531630516052246,1.8967676162719727,3.9448819160461426,2.0786476135253906,3.215186595916748,4.923481464385986,2.5287938117980957,3.9862732887268066,3.4249589443206787,2.6491575241088867,2.2199630737304688,4.016017913818359,3.419754981994629,4.392765998840332,3.458745002746582,9.225882530212402,5.754186630249023,5.227874279022217,5.216058254241943,11.192305564880371,7.62592077255249,3.2195420265197754,2.3393073081970215,3.476292848587036,9.884100914001465,2.4784679412841797,2.0829710960388184,4.593934535980225,2.011162281036377,2.608649492263794,4.750846862792969,4.715472221374512,2.7537190914154053,2.547753095626831,11.59536361694336,2.5385663509368896,2.4092226028442383,10.675691604614258,3.7361061573028564,2.138676881790161,2.130445957183838,4.612364768981934,11.106086730957031,6.920774459838867,3.202688217163086,3.2760164737701416,30.39924430847168,11.110907554626465,4.157907485961914,1.7486103773117065,4.310586929321289,3.468083620071411,4.065066337585449,2.7762506008148193,2.4836485385894775,1.809893250465393,3.2870781421661377,3.456653356552124,4.758015155792236,10.839695930480957,7.395021438598633,5.491986274719238,3.355403423309326,3.200723886489868,6.2145161628723145,4.732028484344482,2.423905372619629,3.611300230026245,1.7212979793548584,2.0656166076660156,3.1541075706481934,4.835784912109375,3.459179639816284,4.0566205978393555,2.865732192993164,10.17469596862793,2.6256399154663086,2.7663424015045166,3.111921548843384,2.646512985229492,10.74497127532959,4.798616409301758,6.742950439453125,24.563596725463867,1.8510346412658691,2.59281849861145,22.85279083251953,3.4236884117126465,1.8447028398513794,3.4615001678466797,2.008892059326172,4.637340545654297,12.595389366149902,3.7785251140594482,2.1629815101623535,2.490230083465576,3.2017886638641357,2.1487793922424316,1.604343295097351,3.017347574234009,2.5051803588867188,2.443300724029541,4.717909336090088,3.6367104053497314,3.324646234512329,2.079958915710449,5.037142753601074,3.8852193355560303,1.6427083015441895,2.328660488128662,6.997011661529541,1.43833327293396,3.6683318614959717,2.0506622791290283,2.3795151710510254,11.39375114440918,3.7345340251922607,3.5469486713409424,8.676671981811523,3.068222761154175,3.7316973209381104,8.203060150146484,2.949802875518799,4.6710405349731445,3.2895126342773438,1.6701947450637817,8.783182144165039,3.9074666500091553,2.3718419075012207,3.846067428588867,2.0615906715393066,2.406446933746338,4.562026023864746,9.407140731811523,3.593864679336548,8.877690315246582,1.81438410282135,4.4337921142578125,2.908925771713257,3.4654877185821533,27.33099365234375,1.6543703079223633,4.519667148590088,3.016542434692383,3.1592438220977783,3.5263893604278564,3.308819055557251,1.8467743396759033,2.8866569995880127,11.530806541442871,3.7300312519073486,1.5793591737747192,3.7518229484558105,3.347557306289673,3.6340248584747314,3.7520134449005127,4.473757743835449,4.476189613342285,3.9378957748413086,1.219714879989624,2.6567885875701904,10.384899139404297,6.3728413581848145,3.055908679962158,4.51499080657959,9.510174751281738,2.213965654373169,1.790202260017395,3.0755550861358643,1.8949971199035645,2.425198793411255,9.427047729492188,2.472815752029419,9.5595064163208,2.5029306411743164,3.927576780319214,1.9750429391860962,3.2904469966888428,8.262580871582031,2.79846453666687,3.293288469314575,3.5118229389190674,3.4167494773864746,4.122550964355469,2.4293646812438965,2.2879137992858887,2.454697370529175,3.5981688499450684,3.9500234127044678,8.321284294128418,3.0793914794921875,5.31925630569458,3.261809825897217,12.608128547668457,9.866832733154297,3.2969560623168945,9.12382698059082,2.1629865169525146,2.203359365463257,3.2016875743865967,1.7478864192962646,5.713990211486816,7.264441013336182,7.630768299102783,11.324003219604492,2.2032477855682373,9.505171775817871,1.747827172279358,4.616003036499023,2.4571661949157715,2.4161133766174316,8.01132869720459,11.587618827819824,2.1170406341552734,4.0588860511779785,3.579901933670044,2.250739574432373,2.296078681945801,2.5063908100128174,3.172468900680542,2.056746006011963,2.7935984134674072,10.775879859924316,4.000466346740723,3.4537477493286133,6.190011978149414,18.301776885986328,2.9013352394104004,11.238175392150879,3.4697811603546143,1.9778742790222168,2.583545207977295,3.1531357765197754,3.203443765640259,10.853302955627441,2.5516390800476074,11.681034088134766,3.6105282306671143,2.0839521884918213,2.257167339324951,2.7373297214508057,12.32924747467041,5.947997093200684,4.092830657958984,3.752464771270752,3.6722171306610107,10.083234786987305,2.7934470176696777,6.764388561248779,3.254408121109009,3.4205615520477295,9.828487396240234,1.8146110773086548,3.291478157043457,3.4479379653930664,11.408747673034668,2.6944081783294678,3.5075929164886475,8.000152587890625,2.1926767826080322,11.41385555267334,2.445077657699585,3.9690303802490234,2.5829992294311523,2.896651029586792,9.058549880981445,2.4662439823150635,4.534422874450684,9.77307415008545,1.8967177867889404,4.976269245147705,9.77307415008545,2.2128329277038574,22.815814971923828,3.491292715072632,3.425562620162964,7.319477558135986,8.606593132019043,7.4451212882995605,7.832215785980225,3.1853392124176025,1.6967144012451172,7.64086389541626,3.5538792610168457,4.778241157531738,8.353483200073242,4.095684051513672,8.965780258178711,11.573148727416992,4.856076240539551,4.299726963043213,5.867728233337402,2.5841360092163086,2.427151679992676,3.8681886196136475,7.294249057769775,11.27772045135498,1.7256252765655518,2.8185455799102783,2.170755386352539,3.842562198638916,11.414080619812012,3.9489471912384033,2.2999770641326904,3.58040189743042,9.355428695678711,2.169501781463623,2.0721282958984375,8.2565279006958,3.628164768218994,8.796629905700684,3.1881253719329834,2.483412742614746,3.674983024597168,4.719770908355713,3.6274819374084473,2.8891329765319824,3.227548837661743,2.9628121852874756,4.006712913513184,3.487602472305298,2.8589725494384766,3.3179502487182617,7.073853492736816,4.097440719604492,7.4862446784973145,1.8075710535049438,2.939495801925659,2.9797921180725098,3.1925034523010254,3.534787893295288,8.592053413391113,4.8742804527282715,2.277006149291992,5.181881427764893,2.38348126411438,2.6506781578063965,1.8854845762252808,4.404637336730957,2.412292003631592,1.74791419506073,2.8565263748168945,4.4600934982299805,8.623955726623535,2.7025716304779053,8.181205749511719,12.582802772521973,3.1731131076812744,3.5785086154937744,4.829269886016846,1.8040404319763184,9.977396011352539,2.057673454284668,3.1353275775909424,2.529991865158081,3.2670540809631348,4.789679527282715,2.4655911922454834,3.391906261444092,3.272087574005127,4.30071496963501,3.0751571655273438,5.771761894226074,4.0254950523376465,2.2037525177001953,1.7321330308914185,3.1573567390441895,2.069389820098877,2.655776023864746,5.965019702911377,1.7720062732696533,2.4126763343811035,2.470740795135498,2.5381155014038086,6.926939964294434,2.6907269954681396,3.3155465126037598,3.035616159439087,7.03793478012085,6.381937026977539,8.663351058959961,9.854743957519531,6.284734725952148,2.527661085128784,2.981610059738159,2.986011505126953,2.295299530029297,3.6949622631073,3.661980390548706,2.4143481254577637,3.1797828674316406,2.480625629425049,6.00717306137085,2.187927007675171,2.6079978942871094,1.8587437868118286,3.3124051094055176,3.914943218231201,6.339739799499512,11.864947319030762,11.453420639038086,2.6548283100128174,4.6046319007873535,12.05345630645752,7.098272323608398,10.066004753112793,2.521421432495117,4.121517181396484,2.85949969291687,4.123321533203125,4.225977897644043,2.982300281524658,1.6388832330703735,2.96976637840271,4.191425323486328,2.959660768508911,8.609167098999023,2.482269287109375,2.4202895164489746,3.5745766162872314,1.6404451131820679,3.7092061042785645,3.118746757507324,4.634798526763916,1.9266443252563477,9.934391975402832,2.925244092941284,1.9151334762573242,3.256591558456421,3.795653820037842,2.609069585800171,2.6093649864196777,3.217763662338257,1.9853558540344238,2.6269965171813965,1.8846958875656128,9.004593849182129,3.8126301765441895,11.61340618133545,3.5369865894317627,2.1516637802124023,1.8818310499191284,8.029047012329102,4.737621784210205,2.9786524772644043,3.5712099075317383,3.50225830078125,7.94049072265625,1.8298916816711426,1.2006584405899048,2.375518798828125,9.529698371887207,3.3257813453674316,3.7975637912750244,3.5515031814575195,3.7231502532958984,3.7917404174804688,3.639192581176758,2.6051559448242188,8.880202293395996,1.7462984323501587,3.1241977214813232,3.7486989498138428,1.7308865785598755,9.698176383972168,3.6936378479003906,3.2380800247192383,3.846843719482422,3.8136658668518066,7.137937068939209,3.7076549530029297,3.060779571533203,2.001408100128174,2.190525531768799,3.891406297683716,3.243291139602661,2.2951717376708984,3.2578134536743164,2.4405720233917236,1.8960685729980469,3.5380313396453857,9.53052806854248,11.491355895996094,2.4545583724975586,11.555427551269531,3.7149240970611572,3.1848227977752686,5.635189056396484,10.108981132507324,9.308201789855957,11.616875648498535,9.018311500549316,4.627173900604248,3.2389092445373535,2.95969295501709,7.354546070098877,11.244656562805176,3.145071268081665,2.9960296154022217,2.4964067935943604,4.038146018981934,9.489123344421387,4.746445178985596,3.633204460144043,4.210180282592773,2.5108609199523926,5.131627082824707,1.679378867149353,2.5749354362487793,1.751017689704895,4.138920783996582,8.938669204711914,1.9718669652938843,2.4131507873535156,2.5424036979675293,9.734230041503906,1.6863268613815308,3.0340702533721924,4.57627010345459,3.6580283641815186,3.5974106788635254,3.1734845638275146,1.7993837594985962,3.6580283641815186,9.509095191955566,3.6438028812408447,1.9101511240005493,2.647447109222412,2.9882781505584717,3.005387306213379,4.874792575836182,4.510829448699951,3.847865343093872,2.485153913497925,2.287299871444702,3.6673898696899414,2.717327356338501,2.992921829223633,2.6955342292785645,2.6330995559692383,3.751408576965332,3.828711748123169,3.6827433109283447,3.0586700439453125,2.358006000518799,6.524597644805908,4.873446941375732,11.56295108795166,3.3123908042907715,2.871485948562622,10.562195777893066,4.237539768218994],\"sizemode\":\"area\",\"sizeref\":0.0759981107711792},\"mode\":\"markers\",\"name\":\"\",\"showlegend\":false,\"subplot\":\"mapbox\",\"type\":\"scattermapbox\"}],                        {\"template\":{\"data\":{\"bar\":[{\"error_x\":{\"color\":\"#2a3f5f\"},\"error_y\":{\"color\":\"#2a3f5f\"},\"marker\":{\"line\":{\"color\":\"#E5ECF6\",\"width\":0.5},\"pattern\":{\"fillmode\":\"overlay\",\"size\":10,\"solidity\":0.2}},\"type\":\"bar\"}],\"barpolar\":[{\"marker\":{\"line\":{\"color\":\"#E5ECF6\",\"width\":0.5},\"pattern\":{\"fillmode\":\"overlay\",\"size\":10,\"solidity\":0.2}},\"type\":\"barpolar\"}],\"carpet\":[{\"aaxis\":{\"endlinecolor\":\"#2a3f5f\",\"gridcolor\":\"white\",\"linecolor\":\"white\",\"minorgridcolor\":\"white\",\"startlinecolor\":\"#2a3f5f\"},\"baxis\":{\"endlinecolor\":\"#2a3f5f\",\"gridcolor\":\"white\",\"linecolor\":\"white\",\"minorgridcolor\":\"white\",\"startlinecolor\":\"#2a3f5f\"},\"type\":\"carpet\"}],\"choropleth\":[{\"colorbar\":{\"outlinewidth\":0,\"ticks\":\"\"},\"type\":\"choropleth\"}],\"contour\":[{\"colorbar\":{\"outlinewidth\":0,\"ticks\":\"\"},\"colorscale\":[[0.0,\"#0d0887\"],[0.1111111111111111,\"#46039f\"],[0.2222222222222222,\"#7201a8\"],[0.3333333333333333,\"#9c179e\"],[0.4444444444444444,\"#bd3786\"],[0.5555555555555556,\"#d8576b\"],[0.6666666666666666,\"#ed7953\"],[0.7777777777777778,\"#fb9f3a\"],[0.8888888888888888,\"#fdca26\"],[1.0,\"#f0f921\"]],\"type\":\"contour\"}],\"contourcarpet\":[{\"colorbar\":{\"outlinewidth\":0,\"ticks\":\"\"},\"type\":\"contourcarpet\"}],\"heatmap\":[{\"colorbar\":{\"outlinewidth\":0,\"ticks\":\"\"},\"colorscale\":[[0.0,\"#0d0887\"],[0.1111111111111111,\"#46039f\"],[0.2222222222222222,\"#7201a8\"],[0.3333333333333333,\"#9c179e\"],[0.4444444444444444,\"#bd3786\"],[0.5555555555555556,\"#d8576b\"],[0.6666666666666666,\"#ed7953\"],[0.7777777777777778,\"#fb9f3a\"],[0.8888888888888888,\"#fdca26\"],[1.0,\"#f0f921\"]],\"type\":\"heatmap\"}],\"heatmapgl\":[{\"colorbar\":{\"outlinewidth\":0,\"ticks\":\"\"},\"colorscale\":[[0.0,\"#0d0887\"],[0.1111111111111111,\"#46039f\"],[0.2222222222222222,\"#7201a8\"],[0.3333333333333333,\"#9c179e\"],[0.4444444444444444,\"#bd3786\"],[0.5555555555555556,\"#d8576b\"],[0.6666666666666666,\"#ed7953\"],[0.7777777777777778,\"#fb9f3a\"],[0.8888888888888888,\"#fdca26\"],[1.0,\"#f0f921\"]],\"type\":\"heatmapgl\"}],\"histogram\":[{\"marker\":{\"pattern\":{\"fillmode\":\"overlay\",\"size\":10,\"solidity\":0.2}},\"type\":\"histogram\"}],\"histogram2d\":[{\"colorbar\":{\"outlinewidth\":0,\"ticks\":\"\"},\"colorscale\":[[0.0,\"#0d0887\"],[0.1111111111111111,\"#46039f\"],[0.2222222222222222,\"#7201a8\"],[0.3333333333333333,\"#9c179e\"],[0.4444444444444444,\"#bd3786\"],[0.5555555555555556,\"#d8576b\"],[0.6666666666666666,\"#ed7953\"],[0.7777777777777778,\"#fb9f3a\"],[0.8888888888888888,\"#fdca26\"],[1.0,\"#f0f921\"]],\"type\":\"histogram2d\"}],\"histogram2dcontour\":[{\"colorbar\":{\"outlinewidth\":0,\"ticks\":\"\"},\"colorscale\":[[0.0,\"#0d0887\"],[0.1111111111111111,\"#46039f\"],[0.2222222222222222,\"#7201a8\"],[0.3333333333333333,\"#9c179e\"],[0.4444444444444444,\"#bd3786\"],[0.5555555555555556,\"#d8576b\"],[0.6666666666666666,\"#ed7953\"],[0.7777777777777778,\"#fb9f3a\"],[0.8888888888888888,\"#fdca26\"],[1.0,\"#f0f921\"]],\"type\":\"histogram2dcontour\"}],\"mesh3d\":[{\"colorbar\":{\"outlinewidth\":0,\"ticks\":\"\"},\"type\":\"mesh3d\"}],\"parcoords\":[{\"line\":{\"colorbar\":{\"outlinewidth\":0,\"ticks\":\"\"}},\"type\":\"parcoords\"}],\"pie\":[{\"automargin\":true,\"type\":\"pie\"}],\"scatter\":[{\"marker\":{\"colorbar\":{\"outlinewidth\":0,\"ticks\":\"\"}},\"type\":\"scatter\"}],\"scatter3d\":[{\"line\":{\"colorbar\":{\"outlinewidth\":0,\"ticks\":\"\"}},\"marker\":{\"colorbar\":{\"outlinewidth\":0,\"ticks\":\"\"}},\"type\":\"scatter3d\"}],\"scattercarpet\":[{\"marker\":{\"colorbar\":{\"outlinewidth\":0,\"ticks\":\"\"}},\"type\":\"scattercarpet\"}],\"scattergeo\":[{\"marker\":{\"colorbar\":{\"outlinewidth\":0,\"ticks\":\"\"}},\"type\":\"scattergeo\"}],\"scattergl\":[{\"marker\":{\"colorbar\":{\"outlinewidth\":0,\"ticks\":\"\"}},\"type\":\"scattergl\"}],\"scattermapbox\":[{\"marker\":{\"colorbar\":{\"outlinewidth\":0,\"ticks\":\"\"}},\"type\":\"scattermapbox\"}],\"scatterpolar\":[{\"marker\":{\"colorbar\":{\"outlinewidth\":0,\"ticks\":\"\"}},\"type\":\"scatterpolar\"}],\"scatterpolargl\":[{\"marker\":{\"colorbar\":{\"outlinewidth\":0,\"ticks\":\"\"}},\"type\":\"scatterpolargl\"}],\"scatterternary\":[{\"marker\":{\"colorbar\":{\"outlinewidth\":0,\"ticks\":\"\"}},\"type\":\"scatterternary\"}],\"surface\":[{\"colorbar\":{\"outlinewidth\":0,\"ticks\":\"\"},\"colorscale\":[[0.0,\"#0d0887\"],[0.1111111111111111,\"#46039f\"],[0.2222222222222222,\"#7201a8\"],[0.3333333333333333,\"#9c179e\"],[0.4444444444444444,\"#bd3786\"],[0.5555555555555556,\"#d8576b\"],[0.6666666666666666,\"#ed7953\"],[0.7777777777777778,\"#fb9f3a\"],[0.8888888888888888,\"#fdca26\"],[1.0,\"#f0f921\"]],\"type\":\"surface\"}],\"table\":[{\"cells\":{\"fill\":{\"color\":\"#EBF0F8\"},\"line\":{\"color\":\"white\"}},\"header\":{\"fill\":{\"color\":\"#C8D4E3\"},\"line\":{\"color\":\"white\"}},\"type\":\"table\"}]},\"layout\":{\"annotationdefaults\":{\"arrowcolor\":\"#2a3f5f\",\"arrowhead\":0,\"arrowwidth\":1},\"autotypenumbers\":\"strict\",\"coloraxis\":{\"colorbar\":{\"outlinewidth\":0,\"ticks\":\"\"}},\"colorscale\":{\"diverging\":[[0,\"#8e0152\"],[0.1,\"#c51b7d\"],[0.2,\"#de77ae\"],[0.3,\"#f1b6da\"],[0.4,\"#fde0ef\"],[0.5,\"#f7f7f7\"],[0.6,\"#e6f5d0\"],[0.7,\"#b8e186\"],[0.8,\"#7fbc41\"],[0.9,\"#4d9221\"],[1,\"#276419\"]],\"sequential\":[[0.0,\"#0d0887\"],[0.1111111111111111,\"#46039f\"],[0.2222222222222222,\"#7201a8\"],[0.3333333333333333,\"#9c179e\"],[0.4444444444444444,\"#bd3786\"],[0.5555555555555556,\"#d8576b\"],[0.6666666666666666,\"#ed7953\"],[0.7777777777777778,\"#fb9f3a\"],[0.8888888888888888,\"#fdca26\"],[1.0,\"#f0f921\"]],\"sequentialminus\":[[0.0,\"#0d0887\"],[0.1111111111111111,\"#46039f\"],[0.2222222222222222,\"#7201a8\"],[0.3333333333333333,\"#9c179e\"],[0.4444444444444444,\"#bd3786\"],[0.5555555555555556,\"#d8576b\"],[0.6666666666666666,\"#ed7953\"],[0.7777777777777778,\"#fb9f3a\"],[0.8888888888888888,\"#fdca26\"],[1.0,\"#f0f921\"]]},\"colorway\":[\"#636efa\",\"#EF553B\",\"#00cc96\",\"#ab63fa\",\"#FFA15A\",\"#19d3f3\",\"#FF6692\",\"#B6E880\",\"#FF97FF\",\"#FECB52\"],\"font\":{\"color\":\"#2a3f5f\"},\"geo\":{\"bgcolor\":\"white\",\"lakecolor\":\"white\",\"landcolor\":\"#E5ECF6\",\"showlakes\":true,\"showland\":true,\"subunitcolor\":\"white\"},\"hoverlabel\":{\"align\":\"left\"},\"hovermode\":\"closest\",\"mapbox\":{\"style\":\"light\"},\"paper_bgcolor\":\"white\",\"plot_bgcolor\":\"#E5ECF6\",\"polar\":{\"angularaxis\":{\"gridcolor\":\"white\",\"linecolor\":\"white\",\"ticks\":\"\"},\"bgcolor\":\"#E5ECF6\",\"radialaxis\":{\"gridcolor\":\"white\",\"linecolor\":\"white\",\"ticks\":\"\"}},\"scene\":{\"xaxis\":{\"backgroundcolor\":\"#E5ECF6\",\"gridcolor\":\"white\",\"gridwidth\":2,\"linecolor\":\"white\",\"showbackground\":true,\"ticks\":\"\",\"zerolinecolor\":\"white\"},\"yaxis\":{\"backgroundcolor\":\"#E5ECF6\",\"gridcolor\":\"white\",\"gridwidth\":2,\"linecolor\":\"white\",\"showbackground\":true,\"ticks\":\"\",\"zerolinecolor\":\"white\"},\"zaxis\":{\"backgroundcolor\":\"#E5ECF6\",\"gridcolor\":\"white\",\"gridwidth\":2,\"linecolor\":\"white\",\"showbackground\":true,\"ticks\":\"\",\"zerolinecolor\":\"white\"}},\"shapedefaults\":{\"line\":{\"color\":\"#2a3f5f\"}},\"ternary\":{\"aaxis\":{\"gridcolor\":\"white\",\"linecolor\":\"white\",\"ticks\":\"\"},\"baxis\":{\"gridcolor\":\"white\",\"linecolor\":\"white\",\"ticks\":\"\"},\"bgcolor\":\"#E5ECF6\",\"caxis\":{\"gridcolor\":\"white\",\"linecolor\":\"white\",\"ticks\":\"\"}},\"title\":{\"x\":0.05},\"xaxis\":{\"automargin\":true,\"gridcolor\":\"white\",\"linecolor\":\"white\",\"ticks\":\"\",\"title\":{\"standoff\":15},\"zerolinecolor\":\"white\",\"zerolinewidth\":2},\"yaxis\":{\"automargin\":true,\"gridcolor\":\"white\",\"linecolor\":\"white\",\"ticks\":\"\",\"title\":{\"standoff\":15},\"zerolinecolor\":\"white\",\"zerolinewidth\":2}}},\"mapbox\":{\"domain\":{\"x\":[0.0,1.0],\"y\":[0.0,1.0]},\"center\":{\"lat\":59.93102953858947,\"lon\":30.33178560654585},\"zoom\":9,\"style\":\"open-street-map\"},\"legend\":{\"tracegroupgap\":0,\"itemsizing\":\"constant\"},\"margin\":{\"t\":0,\"r\":0,\"l\":0,\"b\":0},\"height\":500,\"width\":1000},                        {\"responsive\": true}                    ).then(function(){\n",
              "                            \n",
              "var gd = document.getElementById('fb2d5b25-04ae-4cc7-af27-6da0e28781ff');\n",
              "var x = new MutationObserver(function (mutations, observer) {{\n",
              "        var display = window.getComputedStyle(gd).display;\n",
              "        if (!display || display === 'none') {{\n",
              "            console.log([gd, 'removed!']);\n",
              "            Plotly.purge(gd);\n",
              "            observer.disconnect();\n",
              "        }}\n",
              "}});\n",
              "\n",
              "// Listen for the removal of the full notebook cells\n",
              "var notebookContainer = gd.closest('#notebook-container');\n",
              "if (notebookContainer) {{\n",
              "    x.observe(notebookContainer, {childList: true});\n",
              "}}\n",
              "\n",
              "// Listen for the clearing of the current output cell\n",
              "var outputEl = gd.closest('.output');\n",
              "if (outputEl) {{\n",
              "    x.observe(outputEl, {childList: true});\n",
              "}}\n",
              "\n",
              "                        })                };                            </script>        </div>\n",
              "</body>\n",
              "</html>"
            ]
          },
          "metadata": {}
        }
      ]
    },
    {
      "cell_type": "code",
      "source": [
        "test_group = test.groupby(['point_new', 'date'], as_index=False)['sum'].sum()\n",
        "# find the popular and unpopular points\n",
        "test_group_pop = test_group.groupby(['point_new'])['sum'].sum()\n",
        "print(test_group_pop[test_group_pop == test_group_pop.max()].head())\n",
        "print(test_group_pop[(test_group_pop >= test_group_pop.min()) & (test_group_pop <= 50)].sort_values(ascending=False).head())"
      ],
      "metadata": {
        "colab": {
          "base_uri": "https://localhost:8080/"
        },
        "id": "A_hDN49MAx16",
        "outputId": "22b7562a-47f3-4007-9803-85c088e13da0"
      },
      "execution_count": 151,
      "outputs": [
        {
          "output_type": "stream",
          "name": "stdout",
          "text": [
            "point_new\n",
            "1521    308\n",
            "Name: sum, dtype: int64\n",
            "point_new\n",
            "5100    48\n",
            "5941    48\n",
            "3012    45\n",
            "1759    44\n",
            "2228    43\n",
            "Name: sum, dtype: int64\n"
          ]
        }
      ]
    },
    {
      "cell_type": "code",
      "source": [
        "test_1521 = test_group[test_group.point_new == 1521]\n",
        "test_5100 = test_group[test_group.point_new == 5100]"
      ],
      "metadata": {
        "id": "swTiCWpILN4N"
      },
      "execution_count": 152,
      "outputs": []
    },
    {
      "cell_type": "code",
      "source": [
        "xgb_pred_group = xgb_pred_df.groupby(['point_new', 'date'], as_index=False)['sum_pred'].sum()\n",
        "xgb_pred_1521 = xgb_pred_group[xgb_pred_group.point_new == 1521]\n",
        "xgb_pred_5100 = xgb_pred_group[xgb_pred_group.point_new == 5100]"
      ],
      "metadata": {
        "id": "drgs2D2kUcBw"
      },
      "execution_count": 153,
      "outputs": []
    },
    {
      "cell_type": "code",
      "source": [
        "xgb_pred_5100.head()"
      ],
      "metadata": {
        "colab": {
          "base_uri": "https://localhost:8080/",
          "height": 206
        },
        "id": "ECYGFBbqXF1h",
        "outputId": "717b3a6d-c746-4b5e-df04-fafa6d0ce201"
      },
      "execution_count": 154,
      "outputs": [
        {
          "output_type": "execute_result",
          "data": {
            "text/plain": [
              "     point_new        date   sum_pred\n",
              "369       5100  2020-02-01   3.433701\n",
              "370       5100  2020-02-08  18.551693\n",
              "371       5100  2020-02-09   2.358006\n",
              "372       5100  2020-02-11   7.832216\n",
              "373       5100  2020-02-24  11.629211"
            ],
            "text/html": [
              "\n",
              "  <div id=\"df-ee4a5254-0c28-4ce9-a994-eda2c3915238\">\n",
              "    <div class=\"colab-df-container\">\n",
              "      <div>\n",
              "<style scoped>\n",
              "    .dataframe tbody tr th:only-of-type {\n",
              "        vertical-align: middle;\n",
              "    }\n",
              "\n",
              "    .dataframe tbody tr th {\n",
              "        vertical-align: top;\n",
              "    }\n",
              "\n",
              "    .dataframe thead th {\n",
              "        text-align: right;\n",
              "    }\n",
              "</style>\n",
              "<table border=\"1\" class=\"dataframe\">\n",
              "  <thead>\n",
              "    <tr style=\"text-align: right;\">\n",
              "      <th></th>\n",
              "      <th>point_new</th>\n",
              "      <th>date</th>\n",
              "      <th>sum_pred</th>\n",
              "    </tr>\n",
              "  </thead>\n",
              "  <tbody>\n",
              "    <tr>\n",
              "      <th>369</th>\n",
              "      <td>5100</td>\n",
              "      <td>2020-02-01</td>\n",
              "      <td>3.433701</td>\n",
              "    </tr>\n",
              "    <tr>\n",
              "      <th>370</th>\n",
              "      <td>5100</td>\n",
              "      <td>2020-02-08</td>\n",
              "      <td>18.551693</td>\n",
              "    </tr>\n",
              "    <tr>\n",
              "      <th>371</th>\n",
              "      <td>5100</td>\n",
              "      <td>2020-02-09</td>\n",
              "      <td>2.358006</td>\n",
              "    </tr>\n",
              "    <tr>\n",
              "      <th>372</th>\n",
              "      <td>5100</td>\n",
              "      <td>2020-02-11</td>\n",
              "      <td>7.832216</td>\n",
              "    </tr>\n",
              "    <tr>\n",
              "      <th>373</th>\n",
              "      <td>5100</td>\n",
              "      <td>2020-02-24</td>\n",
              "      <td>11.629211</td>\n",
              "    </tr>\n",
              "  </tbody>\n",
              "</table>\n",
              "</div>\n",
              "      <button class=\"colab-df-convert\" onclick=\"convertToInteractive('df-ee4a5254-0c28-4ce9-a994-eda2c3915238')\"\n",
              "              title=\"Convert this dataframe to an interactive table.\"\n",
              "              style=\"display:none;\">\n",
              "        \n",
              "  <svg xmlns=\"http://www.w3.org/2000/svg\" height=\"24px\"viewBox=\"0 0 24 24\"\n",
              "       width=\"24px\">\n",
              "    <path d=\"M0 0h24v24H0V0z\" fill=\"none\"/>\n",
              "    <path d=\"M18.56 5.44l.94 2.06.94-2.06 2.06-.94-2.06-.94-.94-2.06-.94 2.06-2.06.94zm-11 1L8.5 8.5l.94-2.06 2.06-.94-2.06-.94L8.5 2.5l-.94 2.06-2.06.94zm10 10l.94 2.06.94-2.06 2.06-.94-2.06-.94-.94-2.06-.94 2.06-2.06.94z\"/><path d=\"M17.41 7.96l-1.37-1.37c-.4-.4-.92-.59-1.43-.59-.52 0-1.04.2-1.43.59L10.3 9.45l-7.72 7.72c-.78.78-.78 2.05 0 2.83L4 21.41c.39.39.9.59 1.41.59.51 0 1.02-.2 1.41-.59l7.78-7.78 2.81-2.81c.8-.78.8-2.07 0-2.86zM5.41 20L4 18.59l7.72-7.72 1.47 1.35L5.41 20z\"/>\n",
              "  </svg>\n",
              "      </button>\n",
              "      \n",
              "  <style>\n",
              "    .colab-df-container {\n",
              "      display:flex;\n",
              "      flex-wrap:wrap;\n",
              "      gap: 12px;\n",
              "    }\n",
              "\n",
              "    .colab-df-convert {\n",
              "      background-color: #E8F0FE;\n",
              "      border: none;\n",
              "      border-radius: 50%;\n",
              "      cursor: pointer;\n",
              "      display: none;\n",
              "      fill: #1967D2;\n",
              "      height: 32px;\n",
              "      padding: 0 0 0 0;\n",
              "      width: 32px;\n",
              "    }\n",
              "\n",
              "    .colab-df-convert:hover {\n",
              "      background-color: #E2EBFA;\n",
              "      box-shadow: 0px 1px 2px rgba(60, 64, 67, 0.3), 0px 1px 3px 1px rgba(60, 64, 67, 0.15);\n",
              "      fill: #174EA6;\n",
              "    }\n",
              "\n",
              "    [theme=dark] .colab-df-convert {\n",
              "      background-color: #3B4455;\n",
              "      fill: #D2E3FC;\n",
              "    }\n",
              "\n",
              "    [theme=dark] .colab-df-convert:hover {\n",
              "      background-color: #434B5C;\n",
              "      box-shadow: 0px 1px 3px 1px rgba(0, 0, 0, 0.15);\n",
              "      filter: drop-shadow(0px 1px 2px rgba(0, 0, 0, 0.3));\n",
              "      fill: #FFFFFF;\n",
              "    }\n",
              "  </style>\n",
              "\n",
              "      <script>\n",
              "        const buttonEl =\n",
              "          document.querySelector('#df-ee4a5254-0c28-4ce9-a994-eda2c3915238 button.colab-df-convert');\n",
              "        buttonEl.style.display =\n",
              "          google.colab.kernel.accessAllowed ? 'block' : 'none';\n",
              "\n",
              "        async function convertToInteractive(key) {\n",
              "          const element = document.querySelector('#df-ee4a5254-0c28-4ce9-a994-eda2c3915238');\n",
              "          const dataTable =\n",
              "            await google.colab.kernel.invokeFunction('convertToInteractive',\n",
              "                                                     [key], {});\n",
              "          if (!dataTable) return;\n",
              "\n",
              "          const docLinkHtml = 'Like what you see? Visit the ' +\n",
              "            '<a target=\"_blank\" href=https://colab.research.google.com/notebooks/data_table.ipynb>data table notebook</a>'\n",
              "            + ' to learn more about interactive tables.';\n",
              "          element.innerHTML = '';\n",
              "          dataTable['output_type'] = 'display_data';\n",
              "          await google.colab.output.renderOutput(dataTable, element);\n",
              "          const docLink = document.createElement('div');\n",
              "          docLink.innerHTML = docLinkHtml;\n",
              "          element.appendChild(docLink);\n",
              "        }\n",
              "      </script>\n",
              "    </div>\n",
              "  </div>\n",
              "  "
            ]
          },
          "metadata": {},
          "execution_count": 154
        }
      ]
    },
    {
      "cell_type": "code",
      "source": [
        "fig, ax = plt.subplots(figsize=(10,5))\n",
        "ax.plot(test_1521['date'], test_1521['sum'], label='test')\n",
        "ax.plot(xgb_pred_1521['date'], xgb_pred_1521['sum_pred'], label='prediction')\n",
        "ax.legend()\n",
        "plt.title('Predicted vs ground truth in popular point')\n",
        "plt.xticks(rotation=40)\n",
        "plt.show()"
      ],
      "metadata": {
        "colab": {
          "base_uri": "https://localhost:8080/",
          "height": 371
        },
        "id": "L73QOffgUhUP",
        "outputId": "00a0d6e8-eedc-4ea3-d1b9-e7b779ee4319"
      },
      "execution_count": 155,
      "outputs": [
        {
          "output_type": "display_data",
          "data": {
            "text/plain": [
              "<Figure size 720x360 with 1 Axes>"
            ],
            "image/png": "[encoded data removed]"
          },
          "metadata": {
            "needs_background": "light"
          }
        }
      ]
    },
    {
      "cell_type": "code",
      "source": [
        "plt.figure(figsize=(10, 5))\n",
        "plt.plot(test_5100['date'], test_5100['sum'], label='test')\n",
        "plt.plot(xgb_pred_5100['date'], xgb_pred_5100['sum_pred'], label='prediction')\n",
        "plt.legend()\n",
        "plt.title('Predicted vs ground truth in not so popular point')\n",
        "plt.xticks(rotation=45)\n",
        "plt.show()"
      ],
      "metadata": {
        "colab": {
          "base_uri": "https://localhost:8080/",
          "height": 374
        },
        "id": "UOpcjIxYF0Tv",
        "outputId": "fcb6e4dc-dcec-4666-f984-5172283428db"
      },
      "execution_count": 157,
      "outputs": [
        {
          "output_type": "display_data",
          "data": {
            "text/plain": [
              "<Figure size 720x360 with 1 Axes>"
            ],
            "image/png": "[encoded data removed]"
          },
          "metadata": {
            "needs_background": "light"
          }
        }
      ]
    },
    {
      "cell_type": "markdown",
      "source": [
        "### Data Analysis"
      ],
      "metadata": {
        "id": "_gCTrTZoF-Tv"
      }
    },
    {
      "cell_type": "code",
      "source": [
        "# import libraries\n",
        "import pandas as pd\n",
        "import numpy as np\n",
        "import matplotlib.pyplot as plt\n",
        "import seaborn as sns\n",
        "import plotly.express as px\n",
        "from datetime import datetime\n",
        "import gc\n",
        "from tqdm import tqdm\n",
        "from scipy import stats"
      ],
      "metadata": {
        "id": "7aMHP0NuHrBV"
      },
      "execution_count": null,
      "outputs": []
    },
    {
      "cell_type": "code",
      "source": [
        "from google.colab import drive\n",
        "drive.mount('/content/drive')"
      ],
      "metadata": {
        "colab": {
          "base_uri": "https://localhost:8080/"
        },
        "id": "HKz5d6J9F_2p",
        "outputId": "b164c87e-a3aa-4fe4-a6c5-d9a6e30e7763"
      },
      "execution_count": null,
      "outputs": [
        {
          "output_type": "stream",
          "name": "stdout",
          "text": [
            "Mounted at /content/drive\n"
          ]
        }
      ]
    },
    {
      "cell_type": "code",
      "source": [
        "train = pd.read_csv('/content/drive/MyDrive/Colab Notebooks/ML for Industrial Data/First Task/train_data.csv')\n",
        "valid = pd.read_csv('/content/drive/MyDrive/Colab Notebooks/ML for Industrial Data/First Task/valid.csv')\n",
        "test = pd.read_csv('/content/drive/MyDrive/Colab Notebooks/ML for Industrial Data/First Task/test.csv')"
      ],
      "metadata": {
        "id": "mNpTTjIIG8AS"
      },
      "execution_count": null,
      "outputs": []
    },
    {
      "cell_type": "code",
      "source": [
        "import holidays\n",
        "ru_holidays = holidays.Russia(years=[2019, 2020])\n",
        "def is_holiday(date):\n",
        "    weekday = date.weekday()\n",
        "    if date in ru_holidays or weekday == 5 or weekday == 6:\n",
        "        return 1\n",
        "    else:\n",
        "        return 0"
      ],
      "metadata": {
        "id": "fZZ2D2_zQXyJ"
      },
      "execution_count": null,
      "outputs": []
    },
    {
      "cell_type": "code",
      "source": [
        "train['is_holiday'] = train['date'].map(is_holiday)\n",
        "train['date'] = train['timestamp'].map(lambda x: datetime.fromtimestamp(x).date())\n",
        "train['year'] = train['timestamp'].map(lambda x: datetime.fromtimestamp(x).year)\n",
        "train['month'] = train['timestamp'].map(lambda x: datetime.fromtimestamp(x).month)\n",
        "train['day'] = train['timestamp'].map(lambda x: datetime.fromtimestamp(x).day)\n",
        "train['weekday'] = train['timestamp'].map(lambda x: datetime.fromtimestamp(x).weekday())\n",
        "train['hour'] = train['timestamp'].map(lambda x: datetime.fromtimestamp(x).hour)\n",
        "train['is_weekend'] = train['weekday'].map(lambda x: 1 if x > 4 and x < 7 else 0)"
      ],
      "metadata": {
        "id": "bpCCMzs5PuYT"
      },
      "execution_count": null,
      "outputs": []
    },
    {
      "cell_type": "markdown",
      "source": [
        "#### Peak hour?"
      ],
      "metadata": {
        "id": "gxpQYLe1tNQz"
      }
    },
    {
      "cell_type": "code",
      "source": [
        "train.groupby('hour')['likescount'].mean().plot()"
      ],
      "metadata": {
        "colab": {
          "base_uri": "https://localhost:8080/",
          "height": 296
        },
        "id": "uX8gebvAcxHK",
        "outputId": "8e7ca41f-9725-488f-c1df-e71f4999303d"
      },
      "execution_count": null,
      "outputs": [
        {
          "output_type": "execute_result",
          "data": {
            "text/plain": [
              "<matplotlib.axes._subplots.AxesSubplot at 0x7f1fcdd96c50>"
            ]
          },
          "metadata": {},
          "execution_count": 42
        },
        {
          "output_type": "display_data",
          "data": {
            "text/plain": [
              "<Figure size 432x288 with 1 Axes>"
            ],
            "image/png": "[encoded data removed]"
          },
          "metadata": {
            "needs_background": "light"
          }
        }
      ]
    },
    {
      "cell_type": "code",
      "source": [
        "train.groupby('hour')['likescount'].sum().plot()"
      ],
      "metadata": {
        "colab": {
          "base_uri": "https://localhost:8080/",
          "height": 307
        },
        "id": "1paXwEQMc1OM",
        "outputId": "993ef61d-a1d4-4a1f-ed68-4cc659399db0"
      },
      "execution_count": null,
      "outputs": [
        {
          "output_type": "execute_result",
          "data": {
            "text/plain": [
              "<matplotlib.axes._subplots.AxesSubplot at 0x7f1fcdd54350>"
            ]
          },
          "metadata": {},
          "execution_count": 43
        },
        {
          "output_type": "display_data",
          "data": {
            "text/plain": [
              "<Figure size 432x288 with 1 Axes>"
            ],
            "image/png": "[encoded data removed]"
          },
          "metadata": {
            "needs_background": "light"
          }
        }
      ]
    },
    {
      "cell_type": "markdown",
      "source": [
        "Considering the amount of likes given in each hour, according to this dataset it seems that the afternoon ( 14-17) is the best time to post and reach more people"
      ],
      "metadata": {
        "id": "2TBjsRyYzeXu"
      }
    },
    {
      "cell_type": "markdown",
      "source": [
        "#### Days vs likes_count"
      ],
      "metadata": {
        "id": "pSQWxcQotQMQ"
      }
    },
    {
      "cell_type": "code",
      "source": [
        "train.groupby('day')['likescount'].mean().plot()"
      ],
      "metadata": {
        "colab": {
          "base_uri": "https://localhost:8080/",
          "height": 296
        },
        "id": "9vMuv73_Z43m",
        "outputId": "0992e049-b94c-462f-a824-840722173b43"
      },
      "execution_count": null,
      "outputs": [
        {
          "output_type": "execute_result",
          "data": {
            "text/plain": [
              "<matplotlib.axes._subplots.AxesSubplot at 0x7f1fce477d50>"
            ]
          },
          "metadata": {},
          "execution_count": 37
        },
        {
          "output_type": "display_data",
          "data": {
            "text/plain": [
              "<Figure size 432x288 with 1 Axes>"
            ],
            "image/png": "[encoded data removed]"
          },
          "metadata": {
            "needs_background": "light"
          }
        }
      ]
    },
    {
      "cell_type": "code",
      "source": [
        "train.groupby('day')['likescount'].sum().plot()"
      ],
      "metadata": {
        "colab": {
          "base_uri": "https://localhost:8080/",
          "height": 307
        },
        "id": "hR-rIx74bWQ7",
        "outputId": "1525c195-f3b5-4056-bc4d-c56f498e8bba"
      },
      "execution_count": null,
      "outputs": [
        {
          "output_type": "execute_result",
          "data": {
            "text/plain": [
              "<matplotlib.axes._subplots.AxesSubplot at 0x7f1fce39d710>"
            ]
          },
          "metadata": {},
          "execution_count": 38
        },
        {
          "output_type": "display_data",
          "data": {
            "text/plain": [
              "<Figure size 432x288 with 1 Axes>"
            ],
            "image/png": "[encoded data removed]"
          },
          "metadata": {
            "needs_background": "light"
          }
        }
      ]
    },
    {
      "cell_type": "markdown",
      "source": [
        "The end of the month has more likes_count, it could be because we have The Christmas and the end of the year holidays so the mean and sum of the likes_count over the whole months is baised according to that"
      ],
      "metadata": {
        "id": "7q9AXySR0K_X"
      }
    },
    {
      "cell_type": "markdown",
      "source": [
        "#### Month vs likes_count?"
      ],
      "metadata": {
        "id": "IsvONAJ3tUO5"
      }
    },
    {
      "cell_type": "code",
      "source": [
        "train.groupby('month')['likescount'].mean().plot()"
      ],
      "metadata": {
        "colab": {
          "base_uri": "https://localhost:8080/",
          "height": 296
        },
        "id": "KrBZtmQ9cEcM",
        "outputId": "94a482d5-cd39-4f8a-ac5c-1a157411d391"
      },
      "execution_count": null,
      "outputs": [
        {
          "output_type": "execute_result",
          "data": {
            "text/plain": [
              "<matplotlib.axes._subplots.AxesSubplot at 0x7f1fcdea1a90>"
            ]
          },
          "metadata": {},
          "execution_count": 40
        },
        {
          "output_type": "display_data",
          "data": {
            "text/plain": [
              "<Figure size 432x288 with 1 Axes>"
            ],
            "image/png": "[encoded data removed]"
          },
          "metadata": {
            "needs_background": "light"
          }
        }
      ]
    },
    {
      "cell_type": "code",
      "source": [
        "train.groupby('month')['likescount'].sum().plot()"
      ],
      "metadata": {
        "colab": {
          "base_uri": "https://localhost:8080/",
          "height": 307
        },
        "id": "cTNhwmkCcLA7",
        "outputId": "82a15ca7-fa2d-48e5-9892-3d12d3006967"
      },
      "execution_count": null,
      "outputs": [
        {
          "output_type": "execute_result",
          "data": {
            "text/plain": [
              "<matplotlib.axes._subplots.AxesSubplot at 0x7f1fcde26a10>"
            ]
          },
          "metadata": {},
          "execution_count": 41
        },
        {
          "output_type": "display_data",
          "data": {
            "text/plain": [
              "<Figure size 432x288 with 1 Axes>"
            ],
            "image/png": "[encoded data removed]"
          },
          "metadata": {
            "needs_background": "light"
          }
        }
      ]
    },
    {
      "cell_type": "markdown",
      "source": [
        "The first month has the most likes_count, the begining of the new year and the new year break could be the reason."
      ],
      "metadata": {
        "id": "h1yU30qj1BBm"
      }
    },
    {
      "cell_type": "markdown",
      "source": [
        "Do holidays effect how people engage in social media ?"
      ],
      "metadata": {
        "id": "B--sNPB6tZJY"
      }
    },
    {
      "cell_type": "code",
      "source": [
        "holiday_effect = train.groupby('is_holiday')['likescount'].sum()\n",
        "holiday_effect"
      ],
      "metadata": {
        "colab": {
          "base_uri": "https://localhost:8080/"
        },
        "id": "Nl302eHXcmM9",
        "outputId": "45253dab-74c6-45d0-d143-d26faa7fd18f"
      },
      "execution_count": null,
      "outputs": [
        {
          "output_type": "execute_result",
          "data": {
            "text/plain": [
              "is_holiday\n",
              "0    615908314\n",
              "1    299234411\n",
              "Name: likescount, dtype: int64"
            ]
          },
          "metadata": {},
          "execution_count": 89
        }
      ]
    },
    {
      "cell_type": "code",
      "source": [
        "import matplotlib.pyplot as plt\n",
        "\n",
        "labels = 'Not Holiday', 'Holiday'\n",
        "sizes = holiday_effect.values\n",
        "\n",
        "fig1, ax1 = plt.subplots()\n",
        "ax1.pie(sizes, labels=labels, autopct='%1.1f%%', startangle=90)\n",
        "ax1.axis('equal')  # Equal aspect ratio ensures that pie is drawn as a circle.\n",
        "\n",
        "plt.show()"
      ],
      "metadata": {
        "colab": {
          "base_uri": "https://localhost:8080/",
          "height": 248
        },
        "id": "4brWxGjZdCkU",
        "outputId": "4cbbc556-a351-4fb0-d79b-f9b194fd6b3a"
      },
      "execution_count": null,
      "outputs": [
        {
          "output_type": "display_data",
          "data": {
            "text/plain": [
              "<Figure size 432x288 with 1 Axes>"
            ],
            "image/png": "[encoded data removed]"
          },
          "metadata": {}
        }
      ]
    },
    {
      "cell_type": "markdown",
      "source": [
        "It seems that ~33% of the likes were on holidays and it can be considered a big precentages relatively comparing the count of ordinary and holiday days"
      ],
      "metadata": {
        "id": "MoALOgfUykx2"
      }
    },
    {
      "cell_type": "code",
      "source": [
        "holiday_effect_mean = train.groupby('is_holiday')['likescount'].mean()\n",
        "holiday_effect_mean"
      ],
      "metadata": {
        "colab": {
          "base_uri": "https://localhost:8080/"
        },
        "id": "MuZBK9ZTs1wp",
        "outputId": "6a29bec9-40ac-48ce-fa7e-35915ef2c538"
      },
      "execution_count": null,
      "outputs": [
        {
          "output_type": "execute_result",
          "data": {
            "text/plain": [
              "is_holiday\n",
              "0    112.546636\n",
              "1     97.979411\n",
              "Name: likescount, dtype: float64"
            ]
          },
          "metadata": {},
          "execution_count": 92
        }
      ]
    },
    {
      "cell_type": "code",
      "source": [
        "labels = 'Not Holiday', 'Holiday'\n",
        "sizes = holiday_effect_mean.values\n",
        "\n",
        "fig1, ax1 = plt.subplots()\n",
        "ax1.pie(sizes, labels=labels, autopct='%1.1f%%', startangle=90)\n",
        "ax1.axis('equal')  # Equal aspect ratio ensures that pie is drawn as a circle.\n",
        "\n",
        "plt.show()"
      ],
      "metadata": {
        "colab": {
          "base_uri": "https://localhost:8080/",
          "height": 248
        },
        "id": "Ex1oY_J3s3oH",
        "outputId": "74790a9e-1af5-49c0-95c7-e057ad210aed"
      },
      "execution_count": null,
      "outputs": [
        {
          "output_type": "display_data",
          "data": {
            "text/plain": [
              "<Figure size 432x288 with 1 Axes>"
            ],
            "image/png": "[encoded data removed]"
          },
          "metadata": {}
        }
      ]
    },
    {
      "cell_type": "markdown",
      "source": [
        "Do weekends effect how people engage in social media ?"
      ],
      "metadata": {
        "id": "D-pFy4TuuyQX"
      }
    },
    {
      "cell_type": "code",
      "source": [
        "weekend_effect = train.groupby('is_weekend')['likescount'].sum()\n",
        "weekend_effect"
      ],
      "metadata": {
        "colab": {
          "base_uri": "https://localhost:8080/"
        },
        "id": "P9rNTO7DhRmW",
        "outputId": "5f9b71b8-a8f9-4ad2-9198-b9c0de49aed4"
      },
      "execution_count": null,
      "outputs": [
        {
          "output_type": "execute_result",
          "data": {
            "text/plain": [
              "is_weekend\n",
              "0    656137618\n",
              "1    259005107\n",
              "Name: likescount, dtype: int64"
            ]
          },
          "metadata": {},
          "execution_count": 87
        }
      ]
    },
    {
      "cell_type": "code",
      "source": [
        "labels = 'Not Weekend', 'Weekend'\n",
        "sizes = weekend_effect.values\n",
        "\n",
        "fig1, ax1 = plt.subplots()\n",
        "ax1.pie(sizes, labels=labels, autopct='%1.1f%%', startangle=90)\n",
        "ax1.axis('equal')  # Equal aspect ratio ensures that pie is drawn as a circle.\n",
        "\n",
        "plt.show()"
      ],
      "metadata": {
        "colab": {
          "base_uri": "https://localhost:8080/",
          "height": 248
        },
        "id": "3z6l7BRapN7s",
        "outputId": "266f25e1-a7ce-4378-a72e-085e662621db"
      },
      "execution_count": null,
      "outputs": [
        {
          "output_type": "display_data",
          "data": {
            "text/plain": [
              "<Figure size 432x288 with 1 Axes>"
            ],
            "image/png": "[encoded data removed]"
          },
          "metadata": {}
        }
      ]
    },
    {
      "cell_type": "code",
      "source": [
        "weekend_effect_mean = train.groupby('is_weekend')['likescount'].mean()\n",
        "weekend_effect_mean"
      ],
      "metadata": {
        "colab": {
          "base_uri": "https://localhost:8080/"
        },
        "id": "-5Jl5RAxpXE5",
        "outputId": "69fe379a-6a9e-45cd-d56f-8335e037cc1b"
      },
      "execution_count": null,
      "outputs": [
        {
          "output_type": "execute_result",
          "data": {
            "text/plain": [
              "is_weekend\n",
              "0    111.374959\n",
              "1     98.283826\n",
              "Name: likescount, dtype: float64"
            ]
          },
          "metadata": {},
          "execution_count": 94
        }
      ]
    },
    {
      "cell_type": "code",
      "source": [
        "labels = 'Not Weekend', 'Weekend'\n",
        "sizes = weekend_effect_mean.values\n",
        "\n",
        "fig1, ax1 = plt.subplots()\n",
        "ax1.pie(sizes, labels=labels, autopct='%1.1f%%', startangle=90)\n",
        "ax1.axis('equal')  # Equal aspect ratio ensures that pie is drawn as a circle.\n",
        "\n",
        "plt.show()"
      ],
      "metadata": {
        "colab": {
          "base_uri": "https://localhost:8080/",
          "height": 248
        },
        "id": "adpLl4GotEO6",
        "outputId": "c09b64f0-100a-4d1b-a983-7293bc73ec32"
      },
      "execution_count": null,
      "outputs": [
        {
          "output_type": "display_data",
          "data": {
            "text/plain": [
              "<Figure size 432x288 with 1 Axes>"
            ],
            "image/png": "[encoded data removed]"
          },
          "metadata": {}
        }
      ]
    }
  ]
}