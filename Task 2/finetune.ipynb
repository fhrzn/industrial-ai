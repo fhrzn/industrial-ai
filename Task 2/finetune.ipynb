{
 "cells": [
  {
   "cell_type": "code",
   "execution_count": 1,
   "metadata": {},
   "outputs": [],
   "source": [
    "import pandas as pd\n",
    "from core.dataset import IMDBDataset\n",
    "from core import models, training\n",
    "from sklearn.model_selection import train_test_split\n",
    "from torch.utils.data import DataLoader\n",
    "import matplotlib.pyplot as plt\n",
    "import torch\n",
    "from omegaconf import OmegaConf"
   ]
  },
  {
   "cell_type": "code",
   "execution_count": 2,
   "metadata": {},
   "outputs": [],
   "source": [
    "device = torch.device('cuda' if torch.cuda.is_available() else 'cpu')\n",
    "config = OmegaConf.load('./config/config.yaml')"
   ]
  },
  {
   "cell_type": "code",
   "execution_count": 3,
   "metadata": {},
   "outputs": [
    {
     "name": "stdout",
     "output_type": "stream",
     "text": [
      "6349 2117 2823\n"
     ]
    }
   ],
   "source": [
    "df = pd.read_csv(config['dataset_path'])\n",
    "df = df.drop_duplicates(['title', 'simple_desc'],)\n",
    "\n",
    "# make train test split\n",
    "train, test = train_test_split(df, test_size=0.25, random_state=42, stratify=df.genre)\n",
    "# make validation split\n",
    "train, val = train_test_split(train, test_size=0.25, random_state=42, stratify=train.genre)\n",
    "print(len(train), len(val), len(test))"
   ]
  },
  {
   "cell_type": "code",
   "execution_count": 4,
   "metadata": {},
   "outputs": [
    {
     "data": {
      "text/plain": [
       "{'title': 'They Rode Good Horses',\n",
       " 'simple_desc': \"The Birth of the American Cowboy. Two young boys are stranded and alone in the bleak 1840's wilderness of the Wind River Mountains with nothing but their friendship, determination to survive and two good horses.\",\n",
       " 'genre': 'Western',\n",
       " 'img_local_path': './datasets/ml-industry/task2/images/Western/They Rode Good Horses.jpg',\n",
       " 'Action': 0,\n",
       " 'Adventure': 0,\n",
       " 'Animation': 0,\n",
       " 'Biography': 0,\n",
       " 'Comedy': 0,\n",
       " 'Crime': 0,\n",
       " 'Documentary': 0,\n",
       " 'Drama': 0,\n",
       " 'Family': 0,\n",
       " 'Fantasy': 0,\n",
       " 'Film Noir': 0,\n",
       " 'History': 0,\n",
       " 'Horror': 0,\n",
       " 'Music': 0,\n",
       " 'Musical': 0,\n",
       " 'Mystery': 0,\n",
       " 'Romance': 0,\n",
       " 'Sci-Fi': 0,\n",
       " 'Short Film': 0,\n",
       " 'Sport': 0,\n",
       " 'Superhero': 0,\n",
       " 'Thriller': 0,\n",
       " 'War': 0,\n",
       " 'Western': 1}"
      ]
     },
     "execution_count": 4,
     "metadata": {},
     "output_type": "execute_result"
    }
   ],
   "source": [
    "train = train.to_dict(orient='records')\n",
    "test = test.to_dict(orient='records')\n",
    "val = val.to_dict(orient='records')\n",
    "\n",
    "train[0]"
   ]
  },
  {
   "cell_type": "code",
   "execution_count": 5,
   "metadata": {},
   "outputs": [],
   "source": [
    "# title dataset\n",
    "title_trainset = IMDBDataset(train, type='title')\n",
    "title_validset = IMDBDataset(val, type='title')\n",
    "title_testset = IMDBDataset(test, type='title')\n",
    "\n",
    "# description dataset\n",
    "desc_trainset = IMDBDataset(train, type='description')\n",
    "desc_validset = IMDBDataset(val, type='description')\n",
    "desc_testset = IMDBDataset(test, type='description')\n",
    "\n",
    "# image dataset\n",
    "img_trainset = IMDBDataset(train, type='image')\n",
    "img_validset = IMDBDataset(val, type='image')\n",
    "img_testset = IMDBDataset(test, type='image')"
   ]
  },
  {
   "cell_type": "code",
   "execution_count": 6,
   "metadata": {},
   "outputs": [],
   "source": [
    "# get label dictionary\n",
    "label2id = title_trainset.label2id\n",
    "id2label = title_trainset.id2label"
   ]
  },
  {
   "cell_type": "markdown",
   "metadata": {},
   "source": [
    "## Multimodal with Late Fusion\n"
   ]
  },
  {
   "cell_type": "markdown",
   "metadata": {},
   "source": [
    "#### Text Model (Title)"
   ]
  },
  {
   "cell_type": "code",
   "execution_count": 7,
   "metadata": {},
   "outputs": [
    {
     "name": "stderr",
     "output_type": "stream",
     "text": [
      "Some weights of the model checkpoint at bert-base-uncased were not used when initializing BertForSequenceClassification: ['cls.seq_relationship.weight', 'cls.predictions.transform.LayerNorm.weight', 'cls.predictions.transform.dense.bias', 'cls.predictions.bias', 'cls.predictions.transform.dense.weight', 'cls.predictions.decoder.weight', 'cls.seq_relationship.bias', 'cls.predictions.transform.LayerNorm.bias']\n",
      "- This IS expected if you are initializing BertForSequenceClassification from the checkpoint of a model trained on another task or with another architecture (e.g. initializing a BertForSequenceClassification model from a BertForPreTraining model).\n",
      "- This IS NOT expected if you are initializing BertForSequenceClassification from the checkpoint of a model that you expect to be exactly identical (initializing a BertForSequenceClassification model from a BertForSequenceClassification model).\n",
      "Some weights of BertForSequenceClassification were not initialized from the model checkpoint at bert-base-uncased and are newly initialized: ['classifier.bias', 'classifier.weight']\n",
      "You should probably TRAIN this model on a down-stream task to be able to use it for predictions and inference.\n"
     ]
    }
   ],
   "source": [
    "title_bert_tokenizer, title_bert_model = models.get_bert_model(config['text_model_ckpt'], label2id=label2id, id2label=id2label)\n",
    "title_bert_model = title_bert_model#.to(device)"
   ]
  },
  {
   "cell_type": "code",
   "execution_count": 8,
   "metadata": {},
   "outputs": [],
   "source": [
    "# set tokenizer\n",
    "title_trainset.set_tokenizer(title_bert_tokenizer)\n",
    "title_validset.set_tokenizer(title_bert_tokenizer)\n",
    "title_testset.set_tokenizer(title_bert_tokenizer)"
   ]
  },
  {
   "cell_type": "code",
   "execution_count": 9,
   "metadata": {},
   "outputs": [],
   "source": [
    "# dataloader\n",
    "title_train_loader = DataLoader(title_trainset, batch_size=config['batch_size'])\n",
    "title_valid_loader = DataLoader(title_validset, batch_size=config['batch_size'])\n",
    "title_test_loader = DataLoader(title_testset, batch_size=config['batch_size'])"
   ]
  },
  {
   "cell_type": "code",
   "execution_count": 10,
   "metadata": {},
   "outputs": [
    {
     "data": {
      "text/plain": [
       "SequenceClassifierOutput(loss=tensor(0.6889, grad_fn=<BinaryCrossEntropyWithLogitsBackward0>), logits=tensor([[ 2.6845e-02, -7.1120e-02,  2.8396e-01,  1.6569e-01, -1.6389e-01,\n",
       "          1.1107e-01, -3.8786e-01, -3.2737e-01,  2.8821e-03,  2.1767e-01,\n",
       "          9.2506e-02, -6.4739e-02, -3.8056e-01,  1.9024e-01,  2.0301e-01,\n",
       "         -5.7529e-02,  2.4740e-01,  5.9080e-02, -8.0943e-02, -5.8867e-01,\n",
       "         -7.2026e-02, -5.1621e-02, -4.2886e-01,  3.9723e-01],\n",
       "        [ 6.2134e-02, -6.9676e-02,  3.9724e-01,  2.5927e-01, -3.9059e-02,\n",
       "         -3.4112e-02, -4.2083e-01, -2.8844e-01,  3.3558e-02,  2.3532e-01,\n",
       "          1.2541e-01, -5.7245e-02, -3.1408e-01,  2.2613e-01,  2.6800e-01,\n",
       "         -1.9972e-02,  2.2119e-01, -1.2280e-02, -6.1951e-02, -6.3328e-01,\n",
       "         -1.3159e-01, -1.2045e-01, -3.8325e-01,  5.2744e-01],\n",
       "        [-7.1641e-02, -7.7957e-02,  6.4193e-01,  3.6660e-02, -2.2491e-02,\n",
       "          2.0866e-01, -9.6747e-02, -4.3537e-01,  2.5131e-01,  7.4340e-02,\n",
       "         -5.3770e-02, -1.1945e-01, -7.0270e-01,  1.8326e-01,  3.5447e-01,\n",
       "         -8.9476e-02,  1.6706e-01, -7.9265e-02,  4.3016e-02, -7.9508e-01,\n",
       "         -7.6955e-03,  1.6094e-01, -6.5712e-01,  5.6471e-01],\n",
       "        [ 6.0953e-02, -1.7730e-02,  3.2245e-01,  6.3913e-02, -1.4722e-01,\n",
       "          3.5538e-02, -2.6979e-01, -3.4304e-01, -7.1216e-02,  1.3813e-01,\n",
       "          1.6465e-01, -1.4607e-01, -4.0849e-01,  2.3089e-01,  2.4850e-01,\n",
       "         -6.2657e-02,  1.8148e-01, -1.6864e-02, -2.9901e-02, -4.0045e-01,\n",
       "         -3.2931e-02, -7.2677e-02, -5.0467e-01,  4.0049e-01],\n",
       "        [ 2.1468e-02, -8.0438e-02,  4.7407e-01,  1.4149e-01, -1.3258e-01,\n",
       "          7.7491e-02, -3.5634e-01, -3.7637e-01,  1.1729e-01,  1.1169e-01,\n",
       "          1.1865e-01, -6.5188e-02, -4.6575e-01,  1.5809e-01,  1.9813e-01,\n",
       "         -1.1711e-01,  1.9401e-01, -7.9113e-02, -4.5818e-02, -5.8542e-01,\n",
       "         -1.4882e-02,  2.2214e-02, -6.0342e-01,  4.4169e-01],\n",
       "        [ 1.6527e-01,  4.5168e-02,  1.8930e-01,  1.1848e-01, -9.2061e-02,\n",
       "          7.4749e-04, -3.0564e-01, -3.0493e-01, -1.1822e-01,  1.5789e-01,\n",
       "          2.2849e-01, -9.1243e-02, -2.9978e-01,  3.2430e-01,  2.3790e-01,\n",
       "          1.5683e-02,  1.2025e-01,  2.9530e-02, -6.4554e-02, -2.8430e-01,\n",
       "          5.7984e-03, -7.3493e-02, -3.9444e-01,  2.9755e-01],\n",
       "        [-2.0460e-03, -5.5065e-02,  2.8607e-01,  1.6070e-01, -1.3436e-01,\n",
       "          2.5513e-02, -4.1262e-01, -3.6270e-01,  5.3862e-02,  1.1136e-01,\n",
       "          1.7077e-01, -1.1805e-01, -3.6968e-01,  2.1499e-01,  1.8283e-01,\n",
       "         -1.2369e-01,  1.8139e-01, -8.1747e-02, -6.3705e-02, -4.4920e-01,\n",
       "         -4.1094e-02,  3.4337e-03, -4.8375e-01,  3.2428e-01],\n",
       "        [-1.2514e-02, -7.8358e-02,  6.1976e-01,  2.8564e-02, -7.4304e-02,\n",
       "          2.2160e-01, -2.0979e-01, -4.1387e-01,  2.1729e-01,  1.2424e-01,\n",
       "         -1.8136e-02, -9.8681e-02, -6.6033e-01,  2.2327e-01,  3.1799e-01,\n",
       "         -1.2507e-01,  2.7868e-01, -5.5445e-02,  4.1193e-02, -7.5127e-01,\n",
       "          8.9032e-02,  7.9257e-02, -7.2598e-01,  4.8935e-01],\n",
       "        [ 1.1316e-01, -5.3181e-02,  6.4964e-01,  5.7859e-02,  7.3619e-02,\n",
       "          1.6306e-01, -4.6697e-02, -2.4784e-01,  2.7189e-01,  7.1909e-02,\n",
       "         -6.1752e-02, -4.6401e-02, -5.7833e-01,  2.2640e-01,  2.8090e-01,\n",
       "         -1.5911e-01,  1.7447e-01,  8.2014e-02,  2.3000e-02, -7.7768e-01,\n",
       "         -1.6901e-02,  2.5624e-02, -6.2026e-01,  5.7750e-01],\n",
       "        [ 5.3690e-03, -9.8182e-02,  4.9633e-01,  1.3595e-01, -6.5869e-02,\n",
       "          5.8464e-02, -2.6647e-01, -3.7626e-01,  2.1577e-01,  8.9415e-02,\n",
       "          9.9902e-02, -1.3695e-01, -5.0920e-01,  2.0964e-01,  3.0339e-01,\n",
       "         -6.9889e-02,  2.6218e-01, -5.8759e-02,  3.8214e-03, -5.9636e-01,\n",
       "          5.7575e-02,  5.4097e-02, -5.7325e-01,  4.6789e-01],\n",
       "        [ 5.6831e-02, -2.2582e-02,  3.8584e-01,  1.1101e-01, -1.1557e-01,\n",
       "          1.2665e-01, -2.9209e-01, -4.1055e-01,  2.0263e-01,  1.7119e-01,\n",
       "          4.4817e-02, -3.1160e-02, -4.3062e-01,  1.2552e-01,  2.7686e-01,\n",
       "         -1.8709e-01,  1.6184e-01, -6.4815e-02, -8.1100e-02, -5.4311e-01,\n",
       "         -7.1279e-02,  2.1580e-02, -5.3994e-01,  4.7172e-01],\n",
       "        [ 6.4931e-02, -4.8133e-02,  3.1443e-01,  1.5260e-01, -9.5709e-02,\n",
       "          7.1390e-02, -2.5299e-01, -3.6423e-01, -5.6609e-02,  1.0578e-01,\n",
       "          1.3372e-01, -1.4138e-01, -4.0359e-01,  3.0706e-01,  2.7843e-01,\n",
       "         -2.2026e-02,  1.8604e-01,  1.9603e-02, -5.6073e-02, -4.1492e-01,\n",
       "          4.3417e-03, -9.6183e-02, -4.3705e-01,  4.1956e-01],\n",
       "        [ 3.6723e-02, -4.6810e-02,  4.2324e-01,  3.5765e-02, -1.1573e-01,\n",
       "          2.4546e-01, -2.4217e-01, -4.5500e-01,  1.5010e-01,  1.6838e-01,\n",
       "          1.9556e-02, -9.2951e-02, -5.5954e-01,  1.7400e-01,  2.6378e-01,\n",
       "         -1.2456e-01,  2.0616e-01, -1.0310e-01, -5.5162e-02, -6.7029e-01,\n",
       "         -4.2182e-02,  6.2893e-02, -6.7468e-01,  4.6435e-01],\n",
       "        [-1.8519e-02, -1.4444e-02,  4.5141e-01,  1.0993e-01, -8.4458e-02,\n",
       "          1.0583e-01, -2.8397e-01, -3.6994e-01,  1.0447e-01,  9.5944e-02,\n",
       "          3.5931e-02, -1.4796e-01, -5.4467e-01,  2.0507e-01,  2.7110e-01,\n",
       "         -1.1178e-01,  1.8299e-01, -1.0403e-01, -5.4937e-02, -6.5711e-01,\n",
       "         -6.3243e-02,  4.2051e-02, -5.5677e-01,  5.0296e-01],\n",
       "        [ 7.0974e-02, -4.8422e-02,  1.9856e-01,  1.0251e-01, -1.1356e-01,\n",
       "          2.5522e-02, -2.6397e-01, -3.3066e-01,  3.7211e-04,  1.1319e-01,\n",
       "          1.2855e-01, -1.0386e-01, -3.5292e-01,  3.6726e-01,  2.0155e-01,\n",
       "         -4.6841e-03,  1.4469e-01,  1.0466e-02, -7.8376e-02, -3.4211e-01,\n",
       "          1.2150e-02, -1.0793e-01, -4.2607e-01,  3.9658e-01],\n",
       "        [ 2.3712e-02, -5.3647e-02,  8.1831e-01, -5.0052e-02, -8.4505e-02,\n",
       "          3.2334e-01, -1.1572e-01, -3.9020e-01,  3.5638e-01,  7.8032e-02,\n",
       "         -1.0102e-01, -4.0434e-02, -6.4536e-01,  2.3830e-01,  3.0669e-01,\n",
       "         -3.1530e-02,  1.9394e-01,  1.2851e-02,  6.7268e-02, -9.1395e-01,\n",
       "         -3.5744e-04,  1.4113e-01, -7.5116e-01,  5.7147e-01]],\n",
       "       grad_fn=<AddmmBackward0>), hidden_states=None, attentions=None)"
      ]
     },
     "execution_count": 10,
     "metadata": {},
     "output_type": "execute_result"
    }
   ],
   "source": [
    "title_bert_model(**next(iter(title_train_loader)))"
   ]
  },
  {
   "cell_type": "markdown",
   "metadata": {},
   "source": [
    "##### Modelling"
   ]
  },
  {
   "cell_type": "code",
   "execution_count": null,
   "metadata": {},
   "outputs": [],
   "source": [
    "model_name = 'title_bert'\n",
    "model, history = training.train(title_bert_model, model_name, title_train_loader,\n",
    "                                title_valid_loader, config=config, device=device)"
   ]
  },
  {
   "cell_type": "markdown",
   "metadata": {},
   "source": [
    "#### Text Model (Description)"
   ]
  },
  {
   "cell_type": "code",
   "execution_count": null,
   "metadata": {},
   "outputs": [],
   "source": [
    "desc_bert_tokenizer, desc_bert_model = models.get_bert_model(config['text_model_ckpt'])\n",
    "desc_bert_model = desc_bert_model.to(device)"
   ]
  },
  {
   "cell_type": "code",
   "execution_count": null,
   "metadata": {},
   "outputs": [],
   "source": [
    "# set tokenizer\n",
    "desc_trainset.set_tokenizer(desc_bert_tokenizer)\n",
    "desc_validset.set_tokenizer(desc_bert_tokenizer)\n",
    "desc_testset.set_tokenizer(desc_bert_tokenizer)"
   ]
  },
  {
   "cell_type": "code",
   "execution_count": null,
   "metadata": {},
   "outputs": [],
   "source": [
    "# dataloader\n",
    "desc_train_loader = DataLoader(desc_trainset, batch_size=config['batch_size'])\n",
    "desc_valid_loader = DataLoader(desc_validset, batch_size=config['batch_size'])\n",
    "desc_test_loader = DataLoader(desc_testset, batch_size=config['batch_size'])"
   ]
  },
  {
   "cell_type": "markdown",
   "metadata": {},
   "source": [
    "##### Modelling"
   ]
  },
  {
   "cell_type": "code",
   "execution_count": null,
   "metadata": {},
   "outputs": [],
   "source": [
    "model_name = 'desc_bert'\n",
    "model, history = training.train(desc_bert_model, model_name, desc_train_loader,\n",
    "                                desc_valid_loader, config=config, device=device)"
   ]
  }
 ],
 "metadata": {
  "kernelspec": {
   "display_name": "Python 3.8.8 64-bit",
   "language": "python",
   "name": "python3"
  },
  "language_info": {
   "codemirror_mode": {
    "name": "ipython",
    "version": 3
   },
   "file_extension": ".py",
   "mimetype": "text/x-python",
   "name": "python",
   "nbconvert_exporter": "python",
   "pygments_lexer": "ipython3",
   "version": "3.8.8"
  },
  "orig_nbformat": 4,
  "vscode": {
   "interpreter": {
    "hash": "d8564a27cb82d73423f8ef7649afe412fe88be26d8d7a10840ebe1fcfca8dcfa"
   }
  }
 },
 "nbformat": 4,
 "nbformat_minor": 2
}
